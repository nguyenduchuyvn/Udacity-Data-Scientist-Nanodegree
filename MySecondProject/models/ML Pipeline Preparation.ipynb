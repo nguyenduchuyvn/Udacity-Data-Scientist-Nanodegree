{
 "cells": [
  {
   "cell_type": "markdown",
   "metadata": {},
   "source": [
    "# ML Pipeline Preparation\n",
    "Follow the instructions below to help you create your ML pipeline.\n",
    "### 1. Import libraries and load data from database.\n",
    "- Import Python libraries\n",
    "- Load dataset from database with [`read_sql_table`](https://pandas.pydata.org/pandas-docs/stable/generated/pandas.read_sql_table.html)\n",
    "- Define feature and target variables X and Y"
   ]
  },
  {
   "cell_type": "code",
   "execution_count": 88,
   "metadata": {},
   "outputs": [
    {
     "name": "stdout",
     "output_type": "stream",
     "text": [
      "[nltk_data] Downloading package punkt to /root/nltk_data...\n",
      "[nltk_data]   Package punkt is already up-to-date!\n",
      "[nltk_data] Downloading package wordnet to /root/nltk_data...\n",
      "[nltk_data]   Package wordnet is already up-to-date!\n",
      "[nltk_data] Downloading package averaged_perceptron_tagger to\n",
      "[nltk_data]     /root/nltk_data...\n",
      "[nltk_data]   Package averaged_perceptron_tagger is already up-to-\n",
      "[nltk_data]       date!\n"
     ]
    },
    {
     "data": {
      "text/plain": [
       "True"
      ]
     },
     "execution_count": 88,
     "metadata": {},
     "output_type": "execute_result"
    }
   ],
   "source": [
    "# import libraries\n",
    "import sqlalchemy\n",
    "import pandas as pd\n",
    "from nltk.tokenize import word_tokenize\n",
    "from nltk.stem import WordNetLemmatizer\n",
    "from sklearn.model_selection import train_test_split\n",
    "import re\n",
    "from sklearn.pipeline import Pipeline, FeatureUnion\n",
    "from sklearn.model_selection import GridSearchCV\n",
    "from sklearn.base import BaseEstimator, TransformerMixin\n",
    "from sklearn.pipeline import Pipeline\n",
    "import nltk\n",
    "nltk.download(['punkt', 'wordnet','averaged_perceptron_tagger'])"
   ]
  },
  {
   "cell_type": "code",
   "execution_count": 89,
   "metadata": {},
   "outputs": [],
   "source": [
    "# load data from database\n",
    "engine = sqlalchemy.create_engine('sqlite:///InsertDatabaseName.db')\n",
    "df = pd.read_sql_table('InsertTableName', engine)\n",
    "X = df.message\n",
    "Y = df.drop(columns = [\"id\",\"message\", \"genre\", \"original\"])"
   ]
  },
  {
   "cell_type": "code",
   "execution_count": 90,
   "metadata": {},
   "outputs": [
    {
     "data": {
      "text/plain": [
       "Index(['related', 'request', 'offer', 'aid_related', 'medical_help',\n",
       "       'medical_products', 'search_and_rescue', 'security', 'military',\n",
       "       'child_alone', 'water', 'food', 'shelter', 'clothing', 'money',\n",
       "       'missing_people', 'refugees', 'death', 'other_aid',\n",
       "       'infrastructure_related', 'transport', 'buildings', 'electricity',\n",
       "       'tools', 'hospitals', 'shops', 'aid_centers', 'other_infrastructure',\n",
       "       'weather_related', 'floods', 'storm', 'fire', 'earthquake', 'cold',\n",
       "       'other_weather', 'direct_report'],\n",
       "      dtype='object')"
      ]
     },
     "execution_count": 90,
     "metadata": {},
     "output_type": "execute_result"
    }
   ],
   "source": [
    "Y.columns"
   ]
  },
  {
   "cell_type": "markdown",
   "metadata": {},
   "source": [
    "### 2. Write a tokenization function to process your text data"
   ]
  },
  {
   "cell_type": "code",
   "execution_count": 91,
   "metadata": {},
   "outputs": [],
   "source": [
    "def tokenize(text):\n",
    "    # Remove punctuation characters\n",
    "    text = re.sub(r\"[^a-zA-Z0-9]\", \" \", text) \n",
    "    tokens = word_tokenize(text)\n",
    "    lemmatizer = WordNetLemmatizer()\n",
    "\n",
    "    clean_tokens = []\n",
    "    for tok in tokens:\n",
    "        clean_tok = lemmatizer.lemmatize(tok).lower().strip()\n",
    "        clean_tokens.append(clean_tok)\n",
    "\n",
    "    return clean_tokens\n"
   ]
  },
  {
   "cell_type": "code",
   "execution_count": 92,
   "metadata": {},
   "outputs": [],
   "source": [
    "# perform train test split\n",
    "X_train, X_test, y_train, y_test = train_test_split(X, Y, test_size=0.33, random_state=42)"
   ]
  },
  {
   "cell_type": "code",
   "execution_count": 93,
   "metadata": {},
   "outputs": [
    {
     "data": {
      "text/plain": [
       "MultiOutputClassifier(estimator=RandomForestClassifier(bootstrap=True, class_weight=None, criterion='gini',\n",
       "            max_depth=None, max_features='auto', max_leaf_nodes=None,\n",
       "            min_impurity_decrease=0.0, min_impurity_split=None,\n",
       "            min_samples_leaf=1, min_samples_split=2,\n",
       "            min_weight_fraction_leaf=0.0, n_estimators=10, n_jobs=1,\n",
       "            oob_score=False, random_state=None, verbose=0,\n",
       "            warm_start=False),\n",
       "           n_jobs=1)"
      ]
     },
     "execution_count": 93,
     "metadata": {},
     "output_type": "execute_result"
    }
   ],
   "source": [
    "from sklearn.feature_extraction.text import CountVectorizer, TfidfTransformer\n",
    "from sklearn.ensemble import RandomForestClassifier\n",
    "from sklearn.neighbors import KNeighborsClassifier\n",
    "from sklearn.multioutput import MultiOutputClassifier\n",
    "# Instantiate transformers and classifier\n",
    "vect = CountVectorizer(tokenizer=tokenize)\n",
    "tfidf = TfidfTransformer()\n",
    "# clf = MultiOutputClassifier(KNeighborsClassifier())\n",
    "clf = MultiOutputClassifier( RandomForestClassifier())\n",
    "# clf =\n",
    "\n",
    "# Fit and/or transform each to the training data\n",
    "# Hint: you can use the fit_transform method\n",
    "X_train_counts = vect.fit_transform(X_train)\n",
    "X_train_tfidf = tfidf.fit_transform(X_train_counts)\n",
    "\n",
    "\n",
    "# Fit or train the classifier\n",
    "clf.fit(X_train_tfidf, y_train)"
   ]
  },
  {
   "cell_type": "code",
   "execution_count": 94,
   "metadata": {},
   "outputs": [],
   "source": [
    "# Transform test data\n",
    "X_test_counts = vect.transform(X_test)\n",
    "X_test_tfidf = tfidf.transform(X_test_counts)\n",
    "\n",
    "# Predict test labels\n",
    "y_pred = clf.predict(X_test_tfidf)"
   ]
  },
  {
   "cell_type": "code",
   "execution_count": 95,
   "metadata": {},
   "outputs": [
    {
     "name": "stdout",
     "output_type": "stream",
     "text": [
      "['related' 'request' 'offer' 'aid_related' 'medical_help'\n",
      " 'medical_products' 'search_and_rescue' 'security' 'military' 'child_alone'\n",
      " 'water' 'food' 'shelter' 'clothing' 'money' 'missing_people' 'refugees'\n",
      " 'death' 'other_aid' 'infrastructure_related' 'transport' 'buildings'\n",
      " 'electricity' 'tools' 'hospitals' 'shops' 'aid_centers'\n",
      " 'other_infrastructure' 'weather_related' 'floods' 'storm' 'fire'\n",
      " 'earthquake' 'cold' 'other_weather' 'direct_report']\n"
     ]
    }
   ],
   "source": [
    "target_names = Y.columns.values\n",
    "print(target_names)"
   ]
  },
  {
   "cell_type": "code",
   "execution_count": 96,
   "metadata": {},
   "outputs": [
    {
     "data": {
      "text/plain": [
       "'multiclass-multioutput'"
      ]
     },
     "execution_count": 96,
     "metadata": {},
     "output_type": "execute_result"
    }
   ],
   "source": [
    "from sklearn.utils.multiclass import type_of_target\n",
    "type_of_target(y_test)\n",
    "type_of_target(y_pred)"
   ]
  },
  {
   "cell_type": "code",
   "execution_count": 97,
   "metadata": {},
   "outputs": [
    {
     "name": "stdout",
     "output_type": "stream",
     "text": [
      "related              precision    recall  f1-score   support\n",
      "\n",
      "          0       0.62      0.36      0.46      2004\n",
      "          1       0.82      0.93      0.87      6567\n",
      "          2       0.82      0.13      0.23        68\n",
      "\n",
      "avg / total       0.78      0.79      0.77      8639\n",
      "\n",
      "request              precision    recall  f1-score   support\n",
      "\n",
      "          0       0.89      0.98      0.93      7177\n",
      "          1       0.83      0.38      0.52      1462\n",
      "\n",
      "avg / total       0.88      0.88      0.86      8639\n",
      "\n",
      "offer              precision    recall  f1-score   support\n",
      "\n",
      "          0       1.00      1.00      1.00      8598\n",
      "          1       0.00      0.00      0.00        41\n",
      "\n",
      "avg / total       0.99      1.00      0.99      8639\n",
      "\n",
      "aid_related              precision    recall  f1-score   support\n",
      "\n",
      "          0       0.74      0.88      0.80      5070\n",
      "          1       0.76      0.55      0.64      3569\n",
      "\n",
      "avg / total       0.75      0.74      0.73      8639\n",
      "\n",
      "medical_help              precision    recall  f1-score   support\n",
      "\n",
      "          0       0.92      1.00      0.96      7945\n",
      "          1       0.65      0.07      0.13       694\n",
      "\n",
      "avg / total       0.90      0.92      0.89      8639\n",
      "\n",
      "medical_products              precision    recall  f1-score   support\n",
      "\n",
      "          0       0.96      1.00      0.98      8221\n",
      "          1       0.70      0.11      0.19       418\n",
      "\n",
      "avg / total       0.94      0.95      0.94      8639\n",
      "\n",
      "search_and_rescue              precision    recall  f1-score   support\n",
      "\n",
      "          0       0.97      1.00      0.99      8394\n",
      "          1       0.40      0.01      0.02       245\n",
      "\n",
      "avg / total       0.96      0.97      0.96      8639\n",
      "\n",
      "security              precision    recall  f1-score   support\n",
      "\n",
      "          0       0.98      1.00      0.99      8482\n",
      "          1       0.00      0.00      0.00       157\n",
      "\n",
      "avg / total       0.96      0.98      0.97      8639\n",
      "\n",
      "military              precision    recall  f1-score   support\n",
      "\n",
      "          0       0.97      1.00      0.98      8375\n",
      "          1       0.53      0.08      0.13       264\n",
      "\n",
      "avg / total       0.96      0.97      0.96      8639\n",
      "\n",
      "child_alone              precision    recall  f1-score   support\n",
      "\n",
      "          0       1.00      1.00      1.00      8639\n",
      "\n",
      "avg / total       1.00      1.00      1.00      8639\n",
      "\n",
      "water              precision    recall  f1-score   support\n",
      "\n",
      "          0       0.95      1.00      0.97      8084\n",
      "          1       0.88      0.22      0.35       555\n",
      "\n",
      "avg / total       0.94      0.95      0.93      8639\n",
      "\n",
      "food              precision    recall  f1-score   support\n",
      "\n",
      "          0       0.93      0.99      0.96      7701\n",
      "          1       0.82      0.34      0.48       938\n",
      "\n",
      "avg / total       0.91      0.92      0.91      8639\n",
      "\n",
      "shelter              precision    recall  f1-score   support\n",
      "\n",
      "          0       0.93      0.99      0.96      7870\n",
      "          1       0.83      0.25      0.39       769\n",
      "\n",
      "avg / total       0.92      0.93      0.91      8639\n",
      "\n",
      "clothing              precision    recall  f1-score   support\n",
      "\n",
      "          0       0.99      1.00      0.99      8519\n",
      "          1       0.39      0.06      0.10       120\n",
      "\n",
      "avg / total       0.98      0.99      0.98      8639\n",
      "\n",
      "money              precision    recall  f1-score   support\n",
      "\n",
      "          0       0.98      1.00      0.99      8457\n",
      "          1       0.52      0.07      0.12       182\n",
      "\n",
      "avg / total       0.97      0.98      0.97      8639\n",
      "\n",
      "missing_people              precision    recall  f1-score   support\n",
      "\n",
      "          0       0.99      1.00      0.99      8547\n",
      "          1       1.00      0.01      0.02        92\n",
      "\n",
      "avg / total       0.99      0.99      0.98      8639\n",
      "\n",
      "refugees              precision    recall  f1-score   support\n",
      "\n",
      "          0       0.97      1.00      0.98      8323\n",
      "          1       0.79      0.07      0.13       316\n",
      "\n",
      "avg / total       0.96      0.97      0.95      8639\n",
      "\n",
      "death              precision    recall  f1-score   support\n",
      "\n",
      "          0       0.96      1.00      0.98      8238\n",
      "          1       0.83      0.09      0.17       401\n",
      "\n",
      "avg / total       0.95      0.96      0.94      8639\n",
      "\n",
      "other_aid              precision    recall  f1-score   support\n",
      "\n",
      "          0       0.87      1.00      0.93      7498\n",
      "          1       0.55      0.03      0.06      1141\n",
      "\n",
      "avg / total       0.83      0.87      0.81      8639\n",
      "\n",
      "infrastructure_related              precision    recall  f1-score   support\n",
      "\n",
      "          0       0.93      1.00      0.96      8046\n",
      "          1       0.67      0.01      0.01       593\n",
      "\n",
      "avg / total       0.91      0.93      0.90      8639\n",
      "\n",
      "transport              precision    recall  f1-score   support\n",
      "\n",
      "          0       0.96      1.00      0.98      8260\n",
      "          1       0.64      0.07      0.12       379\n",
      "\n",
      "avg / total       0.94      0.96      0.94      8639\n",
      "\n",
      "buildings              precision    recall  f1-score   support\n",
      "\n",
      "          0       0.95      1.00      0.97      8168\n",
      "          1       0.69      0.06      0.11       471\n",
      "\n",
      "avg / total       0.93      0.95      0.93      8639\n",
      "\n",
      "electricity              precision    recall  f1-score   support\n",
      "\n",
      "          0       0.98      1.00      0.99      8466\n",
      "          1       0.60      0.05      0.10       173\n",
      "\n",
      "avg / total       0.97      0.98      0.97      8639\n",
      "\n",
      "tools              precision    recall  f1-score   support\n",
      "\n",
      "          0       0.99      1.00      1.00      8589\n",
      "          1       0.00      0.00      0.00        50\n",
      "\n",
      "avg / total       0.99      0.99      0.99      8639\n",
      "\n",
      "hospitals              precision    recall  f1-score   support\n",
      "\n",
      "          0       0.99      1.00      0.99      8539\n",
      "          1       0.00      0.00      0.00       100\n",
      "\n",
      "avg / total       0.98      0.99      0.98      8639\n",
      "\n",
      "shops              precision    recall  f1-score   support\n",
      "\n",
      "          0       0.99      1.00      1.00      8585\n",
      "          1       0.00      0.00      0.00        54\n",
      "\n",
      "avg / total       0.99      0.99      0.99      8639\n",
      "\n",
      "aid_centers              precision    recall  f1-score   support\n",
      "\n",
      "          0       0.99      1.00      0.99      8530\n",
      "          1       0.00      0.00      0.00       109\n",
      "\n",
      "avg / total       0.97      0.99      0.98      8639\n",
      "\n",
      "other_infrastructure              precision    recall  f1-score   support\n",
      "\n",
      "          0       0.95      1.00      0.98      8249\n",
      "          1       0.33      0.00      0.01       390\n",
      "\n",
      "avg / total       0.93      0.95      0.93      8639\n",
      "\n",
      "weather_related              precision    recall  f1-score   support\n",
      "\n",
      "          0       0.86      0.96      0.90      6275\n",
      "          1       0.83      0.58      0.68      2364\n",
      "\n",
      "avg / total       0.85      0.85      0.84      8639\n",
      "\n",
      "floods              precision    recall  f1-score   support\n",
      "\n",
      "          0       0.94      1.00      0.97      7968\n",
      "          1       0.90      0.30      0.45       671\n",
      "\n",
      "avg / total       0.94      0.94      0.93      8639\n",
      "\n",
      "storm              precision    recall  f1-score   support\n",
      "\n",
      "          0       0.94      0.99      0.96      7833\n",
      "          1       0.75      0.34      0.47       806\n",
      "\n",
      "avg / total       0.92      0.93      0.92      8639\n",
      "\n",
      "fire              precision    recall  f1-score   support\n",
      "\n",
      "          0       0.99      1.00      0.99      8548\n",
      "          1       0.50      0.01      0.02        91\n",
      "\n",
      "avg / total       0.98      0.99      0.98      8639\n",
      "\n",
      "earthquake              precision    recall  f1-score   support\n",
      "\n",
      "          0       0.97      0.99      0.98      7865\n",
      "          1       0.86      0.66      0.75       774\n",
      "\n",
      "avg / total       0.96      0.96      0.96      8639\n",
      "\n",
      "cold              precision    recall  f1-score   support\n",
      "\n",
      "          0       0.98      1.00      0.99      8468\n",
      "          1       0.73      0.20      0.32       171\n",
      "\n",
      "avg / total       0.98      0.98      0.98      8639\n",
      "\n",
      "other_weather              precision    recall  f1-score   support\n",
      "\n",
      "          0       0.95      1.00      0.97      8183\n",
      "          1       0.54      0.03      0.06       456\n",
      "\n",
      "avg / total       0.93      0.95      0.92      8639\n",
      "\n",
      "direct_report              precision    recall  f1-score   support\n",
      "\n",
      "          0       0.86      0.98      0.92      6982\n",
      "          1       0.80      0.31      0.45      1657\n",
      "\n",
      "avg / total       0.85      0.85      0.83      8639\n",
      "\n"
     ]
    },
    {
     "name": "stderr",
     "output_type": "stream",
     "text": [
      "/opt/conda/lib/python3.6/site-packages/sklearn/metrics/classification.py:1135: UndefinedMetricWarning: Precision and F-score are ill-defined and being set to 0.0 in labels with no predicted samples.\n",
      "  'precision', 'predicted', average, warn_for)\n"
     ]
    }
   ],
   "source": [
    "import numpy as np\n",
    "from sklearn.metrics import classification_report\n",
    "\n",
    "for idex,column in enumerate(Y.columns.values):\n",
    "    print(column, classification_report(y_test.values[:,idex],y_pred[:,idex]))\n"
   ]
  },
  {
   "cell_type": "markdown",
   "metadata": {},
   "source": [
    "### 3. Build a machine learning pipeline\n",
    "This machine pipeline should take in the `message` column as input and output classification results on the other 36 categories in the dataset. You may find the [MultiOutputClassifier](http://scikit-learn.org/stable/modules/generated/sklearn.multioutput.MultiOutputClassifier.html) helpful for predicting multiple target variables."
   ]
  },
  {
   "cell_type": "code",
   "execution_count": 98,
   "metadata": {},
   "outputs": [],
   "source": [
    "pipeline = Pipeline([         \n",
    "            ('vect', CountVectorizer(tokenizer=tokenize)),\n",
    "            ('tfidf', TfidfTransformer()),\n",
    "            ('clf', MultiOutputClassifier(RandomForestClassifier()))\n",
    "])"
   ]
  },
  {
   "cell_type": "markdown",
   "metadata": {},
   "source": [
    "### 4. Train pipeline\n",
    "- Split data into train and test sets\n",
    "- Train pipeline"
   ]
  },
  {
   "cell_type": "code",
   "execution_count": 99,
   "metadata": {},
   "outputs": [],
   "source": [
    "# perform train test split\n",
    "X_train, X_test, y_train, y_test = train_test_split(X, Y, test_size=0.33, random_state=42)"
   ]
  },
  {
   "cell_type": "code",
   "execution_count": 100,
   "metadata": {},
   "outputs": [
    {
     "data": {
      "text/plain": [
       "Pipeline(memory=None,\n",
       "     steps=[('vect', CountVectorizer(analyzer='word', binary=False, decode_error='strict',\n",
       "        dtype=<class 'numpy.int64'>, encoding='utf-8', input='content',\n",
       "        lowercase=True, max_df=1.0, max_features=None, min_df=1,\n",
       "        ngram_range=(1, 1), preprocessor=None, stop_words=None,\n",
       "        strip...oob_score=False, random_state=None, verbose=0,\n",
       "            warm_start=False),\n",
       "           n_jobs=1))])"
      ]
     },
     "execution_count": 100,
     "metadata": {},
     "output_type": "execute_result"
    }
   ],
   "source": [
    "pipeline.fit(X_train, y_train)"
   ]
  },
  {
   "cell_type": "markdown",
   "metadata": {},
   "source": [
    "### 5. Test your model\n",
    "Report the f1 score, precision and recall for each output category of the dataset. You can do this by iterating through the columns and calling sklearn's `classification_report` on each."
   ]
  },
  {
   "cell_type": "code",
   "execution_count": 101,
   "metadata": {},
   "outputs": [
    {
     "name": "stdout",
     "output_type": "stream",
     "text": [
      "related              precision    recall  f1-score   support\n",
      "\n",
      "          0       0.64      0.38      0.48      2004\n",
      "          1       0.83      0.93      0.88      6567\n",
      "          2       0.75      0.22      0.34        68\n",
      "\n",
      "avg / total       0.78      0.80      0.78      8639\n",
      "\n",
      "request              precision    recall  f1-score   support\n",
      "\n",
      "          0       0.89      0.98      0.93      7177\n",
      "          1       0.83      0.37      0.52      1462\n",
      "\n",
      "avg / total       0.88      0.88      0.86      8639\n",
      "\n",
      "offer              precision    recall  f1-score   support\n",
      "\n",
      "          0       1.00      1.00      1.00      8598\n",
      "          1       0.00      0.00      0.00        41\n",
      "\n",
      "avg / total       0.99      1.00      0.99      8639\n",
      "\n",
      "aid_related              precision    recall  f1-score   support\n",
      "\n",
      "          0       0.73      0.87      0.79      5070\n",
      "          1       0.75      0.53      0.62      3569\n",
      "\n",
      "avg / total       0.73      0.73      0.72      8639\n",
      "\n",
      "medical_help              precision    recall  f1-score   support\n",
      "\n",
      "          0       0.92      1.00      0.96      7945\n",
      "          1       0.54      0.06      0.11       694\n",
      "\n",
      "avg / total       0.89      0.92      0.89      8639\n",
      "\n",
      "medical_products              precision    recall  f1-score   support\n",
      "\n",
      "          0       0.95      1.00      0.98      8221\n",
      "          1       0.60      0.07      0.13       418\n",
      "\n",
      "avg / total       0.94      0.95      0.93      8639\n",
      "\n",
      "search_and_rescue              precision    recall  f1-score   support\n",
      "\n",
      "          0       0.97      1.00      0.99      8394\n",
      "          1       0.62      0.09      0.16       245\n",
      "\n",
      "avg / total       0.96      0.97      0.96      8639\n",
      "\n",
      "security              precision    recall  f1-score   support\n",
      "\n",
      "          0       0.98      1.00      0.99      8482\n",
      "          1       0.40      0.01      0.02       157\n",
      "\n",
      "avg / total       0.97      0.98      0.97      8639\n",
      "\n",
      "military              precision    recall  f1-score   support\n",
      "\n",
      "          0       0.97      1.00      0.98      8375\n",
      "          1       0.60      0.10      0.17       264\n",
      "\n",
      "avg / total       0.96      0.97      0.96      8639\n",
      "\n",
      "child_alone              precision    recall  f1-score   support\n",
      "\n",
      "          0       1.00      1.00      1.00      8639\n",
      "\n",
      "avg / total       1.00      1.00      1.00      8639\n",
      "\n",
      "water              precision    recall  f1-score   support\n",
      "\n",
      "          0       0.95      1.00      0.97      8084\n",
      "          1       0.80      0.28      0.42       555\n",
      "\n",
      "avg / total       0.94      0.95      0.94      8639\n",
      "\n",
      "food              precision    recall  f1-score   support\n",
      "\n",
      "          0       0.94      0.99      0.96      7701\n",
      "          1       0.85      0.44      0.58       938\n",
      "\n",
      "avg / total       0.93      0.93      0.92      8639\n",
      "\n",
      "shelter              precision    recall  f1-score   support\n",
      "\n",
      "          0       0.92      1.00      0.96      7870\n",
      "          1       0.83      0.16      0.27       769\n",
      "\n",
      "avg / total       0.92      0.92      0.90      8639\n",
      "\n",
      "clothing              precision    recall  f1-score   support\n",
      "\n",
      "          0       0.99      1.00      0.99      8519\n",
      "          1       0.50      0.12      0.20       120\n",
      "\n",
      "avg / total       0.98      0.99      0.98      8639\n",
      "\n",
      "money              precision    recall  f1-score   support\n",
      "\n",
      "          0       0.98      1.00      0.99      8457\n",
      "          1       0.60      0.03      0.06       182\n",
      "\n",
      "avg / total       0.97      0.98      0.97      8639\n",
      "\n",
      "missing_people              precision    recall  f1-score   support\n",
      "\n",
      "          0       0.99      1.00      0.99      8547\n",
      "          1       0.71      0.05      0.10        92\n",
      "\n",
      "avg / total       0.99      0.99      0.99      8639\n",
      "\n",
      "refugees              precision    recall  f1-score   support\n",
      "\n",
      "          0       0.96      1.00      0.98      8323\n",
      "          1       0.75      0.02      0.04       316\n",
      "\n",
      "avg / total       0.96      0.96      0.95      8639\n",
      "\n",
      "death              precision    recall  f1-score   support\n",
      "\n",
      "          0       0.96      1.00      0.98      8238\n",
      "          1       0.79      0.17      0.28       401\n",
      "\n",
      "avg / total       0.95      0.96      0.95      8639\n",
      "\n",
      "other_aid              precision    recall  f1-score   support\n",
      "\n",
      "          0       0.87      0.99      0.93      7498\n",
      "          1       0.44      0.03      0.05      1141\n",
      "\n",
      "avg / total       0.81      0.87      0.81      8639\n",
      "\n",
      "infrastructure_related              precision    recall  f1-score   support\n",
      "\n",
      "          0       0.93      1.00      0.96      8046\n",
      "          1       1.00      0.00      0.00       593\n",
      "\n",
      "avg / total       0.94      0.93      0.90      8639\n",
      "\n",
      "transport              precision    recall  f1-score   support\n",
      "\n",
      "          0       0.96      1.00      0.98      8260\n",
      "          1       0.75      0.06      0.12       379\n",
      "\n",
      "avg / total       0.95      0.96      0.94      8639\n",
      "\n",
      "buildings              precision    recall  f1-score   support\n",
      "\n",
      "          0       0.95      1.00      0.97      8168\n",
      "          1       0.73      0.08      0.14       471\n",
      "\n",
      "avg / total       0.94      0.95      0.93      8639\n",
      "\n",
      "electricity              precision    recall  f1-score   support\n",
      "\n",
      "          0       0.98      1.00      0.99      8466\n",
      "          1       0.67      0.06      0.11       173\n",
      "\n",
      "avg / total       0.97      0.98      0.97      8639\n",
      "\n",
      "tools              precision    recall  f1-score   support\n",
      "\n",
      "          0       0.99      1.00      1.00      8589\n",
      "          1       0.00      0.00      0.00        50\n",
      "\n",
      "avg / total       0.99      0.99      0.99      8639\n",
      "\n",
      "hospitals              precision    recall  f1-score   support\n",
      "\n",
      "          0       0.99      1.00      0.99      8539\n",
      "          1       0.00      0.00      0.00       100\n",
      "\n",
      "avg / total       0.98      0.99      0.98      8639\n",
      "\n",
      "shops              precision    recall  f1-score   support\n",
      "\n",
      "          0       0.99      1.00      1.00      8585\n",
      "          1       0.00      0.00      0.00        54\n",
      "\n",
      "avg / total       0.99      0.99      0.99      8639\n",
      "\n",
      "aid_centers              precision    recall  f1-score   support\n",
      "\n",
      "          0       0.99      1.00      0.99      8530\n",
      "          1       0.00      0.00      0.00       109\n",
      "\n",
      "avg / total       0.97      0.99      0.98      8639\n",
      "\n",
      "other_infrastructure              precision    recall  f1-score   support\n",
      "\n",
      "          0       0.96      1.00      0.98      8249\n",
      "          1       0.40      0.01      0.01       390\n",
      "\n",
      "avg / total       0.93      0.95      0.93      8639\n",
      "\n",
      "weather_related              precision    recall  f1-score   support\n",
      "\n",
      "          0       0.85      0.96      0.90      6275\n",
      "          1       0.83      0.56      0.67      2364\n",
      "\n",
      "avg / total       0.85      0.85      0.84      8639\n",
      "\n",
      "floods              precision    recall  f1-score   support\n",
      "\n",
      "          0       0.94      1.00      0.97      7968\n",
      "          1       0.87      0.22      0.35       671\n",
      "\n",
      "avg / total       0.93      0.94      0.92      8639\n",
      "\n",
      "storm              precision    recall  f1-score   support\n",
      "\n",
      "          0       0.93      0.99      0.96      7833\n",
      "          1       0.77      0.30      0.43       806\n",
      "\n",
      "avg / total       0.92      0.93      0.91      8639\n",
      "\n",
      "fire              precision    recall  f1-score   support\n",
      "\n",
      "          0       0.99      1.00      0.99      8548\n",
      "          1       0.50      0.01      0.02        91\n",
      "\n",
      "avg / total       0.98      0.99      0.98      8639\n",
      "\n",
      "earthquake              precision    recall  f1-score   support\n",
      "\n",
      "          0       0.96      0.99      0.97      7865\n",
      "          1       0.85      0.59      0.69       774\n",
      "\n",
      "avg / total       0.95      0.95      0.95      8639\n",
      "\n",
      "cold              precision    recall  f1-score   support\n",
      "\n",
      "          0       0.98      1.00      0.99      8468\n",
      "          1       0.81      0.13      0.22       171\n",
      "\n",
      "avg / total       0.98      0.98      0.98      8639\n",
      "\n",
      "other_weather              precision    recall  f1-score   support\n",
      "\n",
      "          0       0.95      1.00      0.97      8183\n",
      "          1       0.50      0.03      0.05       456\n",
      "\n",
      "avg / total       0.92      0.95      0.92      8639\n",
      "\n",
      "direct_report              precision    recall  f1-score   support\n",
      "\n",
      "          0       0.86      0.98      0.91      6982\n",
      "          1       0.79      0.30      0.44      1657\n",
      "\n",
      "avg / total       0.84      0.85      0.82      8639\n",
      "\n"
     ]
    },
    {
     "name": "stderr",
     "output_type": "stream",
     "text": [
      "/opt/conda/lib/python3.6/site-packages/sklearn/metrics/classification.py:1135: UndefinedMetricWarning: Precision and F-score are ill-defined and being set to 0.0 in labels with no predicted samples.\n",
      "  'precision', 'predicted', average, warn_for)\n"
     ]
    }
   ],
   "source": [
    "import numpy as np\n",
    "from sklearn.metrics import classification_report\n",
    "\n",
    "y_pred = pipeline.predict(X_test)\n",
    "\n",
    "for idex,column in enumerate(Y.columns.values):\n",
    "    print(column, classification_report(y_test.values[:,idex],y_pred[:,idex]))"
   ]
  },
  {
   "cell_type": "code",
   "execution_count": 102,
   "metadata": {},
   "outputs": [
    {
     "data": {
      "text/plain": [
       "related                   0.801713\n",
       "request                   0.881468\n",
       "offer                     0.995254\n",
       "aid_related               0.731682\n",
       "medical_help              0.920477\n",
       "medical_products          0.952772\n",
       "search_and_rescue         0.972682\n",
       "security                  0.981711\n",
       "military                  0.970483\n",
       "child_alone               1.000000\n",
       "water                     0.949415\n",
       "food                      0.930779\n",
       "shelter                   0.922213\n",
       "clothing                  0.986110\n",
       "money                     0.979164\n",
       "missing_people            0.989698\n",
       "refugees                  0.963885\n",
       "death                     0.959370\n",
       "other_aid                 0.866998\n",
       "infrastructure_related    0.931474\n",
       "transport                 0.957981\n",
       "buildings                 0.948142\n",
       "electricity               0.980553\n",
       "tools                     0.994212\n",
       "hospitals                 0.988425\n",
       "shops                     0.993749\n",
       "aid_centers               0.987383\n",
       "other_infrastructure      0.954740\n",
       "weather_related           0.848362\n",
       "floods                    0.936914\n",
       "storm                     0.926496\n",
       "fire                      0.989466\n",
       "earthquake                0.953351\n",
       "cold                      0.982174\n",
       "other_weather             0.947216\n",
       "direct_report             0.851372\n",
       "dtype: float64"
      ]
     },
     "execution_count": 102,
     "metadata": {},
     "output_type": "execute_result"
    }
   ],
   "source": [
    "accuracy = (y_pred == y_test).mean()\n",
    "accuracy"
   ]
  },
  {
   "cell_type": "markdown",
   "metadata": {},
   "source": [
    "### 6. Improve your model\n",
    "Use grid search to find better parameters. "
   ]
  },
  {
   "cell_type": "code",
   "execution_count": 103,
   "metadata": {},
   "outputs": [
    {
     "data": {
      "text/plain": [
       "GridSearchCV(cv=None, error_score='raise',\n",
       "       estimator=Pipeline(memory=None,\n",
       "     steps=[('vect', CountVectorizer(analyzer='word', binary=False, decode_error='strict',\n",
       "        dtype=<class 'numpy.int64'>, encoding='utf-8', input='content',\n",
       "        lowercase=True, max_df=1.0, max_features=None, min_df=1,\n",
       "        ngram_range=(1, 1), preprocessor=None, stop_words=None,\n",
       "        strip...oob_score=False, random_state=None, verbose=0,\n",
       "            warm_start=False),\n",
       "           n_jobs=1))]),\n",
       "       fit_params=None, iid=True, n_jobs=1,\n",
       "       param_grid={'clf__estimator__n_estimators': [20, 50]},\n",
       "       pre_dispatch='2*n_jobs', refit=True, return_train_score='warn',\n",
       "       scoring=None, verbose=0)"
      ]
     },
     "execution_count": 103,
     "metadata": {},
     "output_type": "execute_result"
    }
   ],
   "source": [
    "parameters = {\n",
    "#     'vect__ngram_range': ((1, 1), (1, 2)),\n",
    "    'clf__estimator__n_estimators': [20, 50],\n",
    "#     'clf__estimator__min_samples_split': [2, 3]\n",
    "}\n",
    "\n",
    "cv = GridSearchCV(pipeline, param_grid=parameters)\n",
    "cv.fit(X_train, y_train)"
   ]
  },
  {
   "cell_type": "code",
   "execution_count": 104,
   "metadata": {},
   "outputs": [
    {
     "name": "stderr",
     "output_type": "stream",
     "text": [
      "/opt/conda/lib/python3.6/site-packages/sklearn/model_selection/_search.py:761: DeprecationWarning: The grid_scores_ attribute was deprecated in version 0.18 in favor of the more elaborate cv_results_ attribute. The grid_scores_ attribute will not be available from 0.20\n",
      "  DeprecationWarning)\n"
     ]
    },
    {
     "data": {
      "text/plain": [
       "[mean: 0.22819, std: 0.00601, params: {'clf__estimator__n_estimators': 20},\n",
       " mean: 0.23617, std: 0.00306, params: {'clf__estimator__n_estimators': 50}]"
      ]
     },
     "execution_count": 104,
     "metadata": {},
     "output_type": "execute_result"
    }
   ],
   "source": [
    "cv.grid_scores_"
   ]
  },
  {
   "cell_type": "code",
   "execution_count": 107,
   "metadata": {},
   "outputs": [
    {
     "name": "stderr",
     "output_type": "stream",
     "text": [
      "/opt/conda/lib/python3.6/site-packages/sklearn/utils/deprecation.py:122: FutureWarning: You are accessing a training score ('split0_train_score'), which will not be available by default any more in 0.21. If you need training scores, please set return_train_score=True\n",
      "  warnings.warn(*warn_args, **warn_kwargs)\n",
      "/opt/conda/lib/python3.6/site-packages/sklearn/utils/deprecation.py:122: FutureWarning: You are accessing a training score ('split1_train_score'), which will not be available by default any more in 0.21. If you need training scores, please set return_train_score=True\n",
      "  warnings.warn(*warn_args, **warn_kwargs)\n",
      "/opt/conda/lib/python3.6/site-packages/sklearn/utils/deprecation.py:122: FutureWarning: You are accessing a training score ('split2_train_score'), which will not be available by default any more in 0.21. If you need training scores, please set return_train_score=True\n",
      "  warnings.warn(*warn_args, **warn_kwargs)\n",
      "/opt/conda/lib/python3.6/site-packages/sklearn/utils/deprecation.py:122: FutureWarning: You are accessing a training score ('mean_train_score'), which will not be available by default any more in 0.21. If you need training scores, please set return_train_score=True\n",
      "  warnings.warn(*warn_args, **warn_kwargs)\n",
      "/opt/conda/lib/python3.6/site-packages/sklearn/utils/deprecation.py:122: FutureWarning: You are accessing a training score ('std_train_score'), which will not be available by default any more in 0.21. If you need training scores, please set return_train_score=True\n",
      "  warnings.warn(*warn_args, **warn_kwargs)\n"
     ]
    },
    {
     "data": {
      "text/plain": [
       "{'mean_fit_time': array([  54.10484139,  129.32314825]),\n",
       " 'std_fit_time': array([ 1.09324376,  0.90310958]),\n",
       " 'mean_score_time': array([ 4.70520314,  8.16383251]),\n",
       " 'std_score_time': array([ 0.07009158,  0.17862018]),\n",
       " 'param_clf__estimator__n_estimators': masked_array(data = [20 50],\n",
       "              mask = [False False],\n",
       "        fill_value = ?),\n",
       " 'params': [{'clf__estimator__n_estimators': 20},\n",
       "  {'clf__estimator__n_estimators': 50}],\n",
       " 'split0_test_score': array([ 0.22083476,  0.23195347]),\n",
       " 'split1_test_score': array([ 0.22819022,  0.2374273 ]),\n",
       " 'split2_test_score': array([ 0.23554567,  0.23913787]),\n",
       " 'mean_test_score': array([ 0.22819022,  0.23617288]),\n",
       " 'std_test_score': array([ 0.00600571,  0.00306421]),\n",
       " 'rank_test_score': array([2, 1], dtype=int32),\n",
       " 'split0_train_score': array([ 0.91421485,  0.9868286 ]),\n",
       " 'split1_train_score': array([ 0.91507013,  0.98546014]),\n",
       " 'split2_train_score': array([ 0.91515566,  0.9844338 ]),\n",
       " 'mean_train_score': array([ 0.91481355,  0.98557418]),\n",
       " 'std_train_score': array([ 0.00042478,  0.00098099])}"
      ]
     },
     "execution_count": 107,
     "metadata": {},
     "output_type": "execute_result"
    }
   ],
   "source": [
    "cv.cv_results_"
   ]
  },
  {
   "cell_type": "markdown",
   "metadata": {},
   "source": [
    "### 7. Test your model\n",
    "Show the accuracy, precision, and recall of the tuned model.  \n",
    "\n",
    "Since this project focuses on code quality, process, and  pipelines, there is no minimum performance metric needed to pass. However, make sure to fine tune your models for accuracy, precision and recall to make your project stand out - especially for your portfolio!"
   ]
  },
  {
   "cell_type": "code",
   "execution_count": 105,
   "metadata": {},
   "outputs": [
    {
     "data": {
      "text/plain": [
       "related                   0.808890\n",
       "request                   0.889455\n",
       "offer                     0.995254\n",
       "aid_related               0.766524\n",
       "medical_help              0.921403\n",
       "medical_products          0.953583\n",
       "search_and_rescue         0.972451\n",
       "security                  0.981711\n",
       "military                  0.970251\n",
       "child_alone               1.000000\n",
       "water                     0.949878\n",
       "food                      0.926149\n",
       "shelter                   0.925454\n",
       "clothing                  0.986920\n",
       "money                     0.979396\n",
       "missing_people            0.989698\n",
       "refugees                  0.963653\n",
       "death                     0.956708\n",
       "other_aid                 0.868735\n",
       "infrastructure_related    0.931358\n",
       "transport                 0.959255\n",
       "buildings                 0.948721\n",
       "electricity               0.980669\n",
       "tools                     0.994212\n",
       "hospitals                 0.988425\n",
       "shops                     0.993749\n",
       "aid_centers               0.987267\n",
       "other_infrastructure      0.954740\n",
       "weather_related           0.869661\n",
       "floods                    0.949531\n",
       "storm                     0.936567\n",
       "fire                      0.989582\n",
       "earthquake                0.966663\n",
       "cold                      0.981364\n",
       "other_weather             0.948026\n",
       "direct_report             0.863642\n",
       "dtype: float64"
      ]
     },
     "execution_count": 105,
     "metadata": {},
     "output_type": "execute_result"
    }
   ],
   "source": [
    "y_pred =cv.predict(X_test)\n",
    "accuracy = (y_pred == y_test).mean()\n",
    "accuracy"
   ]
  },
  {
   "cell_type": "markdown",
   "metadata": {},
   "source": [
    "### 8. Try improving your model further. Here are a few ideas:\n",
    "* try other machine learning algorithms\n",
    "* add other features besides the TF-IDF"
   ]
  },
  {
   "cell_type": "code",
   "execution_count": 109,
   "metadata": {},
   "outputs": [
    {
     "data": {
      "text/plain": [
       "related                   0.774742\n",
       "request                   0.854034\n",
       "offer                     0.995254\n",
       "aid_related               0.655979\n",
       "medical_help              0.915847\n",
       "medical_products          0.953467\n",
       "search_and_rescue         0.971409\n",
       "security                  0.981595\n",
       "military                  0.969672\n",
       "child_alone               1.000000\n",
       "water                     0.936104\n",
       "food                      0.889108\n",
       "shelter                   0.905776\n",
       "clothing                  0.986225\n",
       "money                     0.978470\n",
       "missing_people            0.989351\n",
       "refugees                  0.962727\n",
       "death                     0.954624\n",
       "other_aid                 0.850214\n",
       "infrastructure_related    0.928464\n",
       "transport                 0.955319\n",
       "buildings                 0.943396\n",
       "electricity               0.980090\n",
       "tools                     0.994212\n",
       "hospitals                 0.988309\n",
       "shops                     0.993749\n",
       "aid_centers               0.987036\n",
       "other_infrastructure      0.953467\n",
       "weather_related           0.768260\n",
       "floods                    0.922792\n",
       "storm                     0.911217\n",
       "fire                      0.989351\n",
       "earthquake                0.928117\n",
       "cold                      0.980438\n",
       "other_weather             0.944785\n",
       "direct_report             0.823475\n",
       "dtype: float64"
      ]
     },
     "execution_count": 109,
     "metadata": {},
     "output_type": "execute_result"
    }
   ],
   "source": [
    "class TextLengthExtractor(BaseEstimator, TransformerMixin):\n",
    "\n",
    "    def count_length(self, text):\n",
    "        tokens = word_tokenize(text)\n",
    "        return len(tokens)\n",
    "\n",
    "    def fit(self, x, y=None):\n",
    "        return self\n",
    "\n",
    "    def transform(self, X):\n",
    "        X_tagged = pd.Series(X).apply(self.count_length)\n",
    "        return pd.DataFrame(X_tagged)\n",
    "    \n",
    "pipeline = Pipeline([\n",
    "    ('features', FeatureUnion([\n",
    "\n",
    "        ('text_pipeline', Pipeline([\n",
    "            ('vect', CountVectorizer(tokenizer=tokenize)),\n",
    "            ('tfidf', TfidfTransformer())\n",
    "        ])),\n",
    "\n",
    "        ('count_length', TextLengthExtractor())\n",
    "    ])),\n",
    "\n",
    "    ('clf', MultiOutputClassifier(KNeighborsClassifier()))\n",
    "])\n",
    "\n",
    "pipeline.fit(X_train, y_train)\n",
    "\n",
    "y_pred = pipeline.predict(X_test)\n",
    "\n",
    "accuracy = (y_pred == y_test).mean()\n",
    "accuracy"
   ]
  },
  {
   "cell_type": "markdown",
   "metadata": {},
   "source": [
    "### 9. Export your model as a pickle file"
   ]
  },
  {
   "cell_type": "code",
   "execution_count": 110,
   "metadata": {},
   "outputs": [],
   "source": [
    "import pickle\n",
    "# Exports the final model as a pickle file\n",
    "pickle.dump(cv.best_estimator_, open(\"classifier.pkl\", 'wb'))"
   ]
  },
  {
   "cell_type": "markdown",
   "metadata": {},
   "source": [
    "### 10. Use this notebook to complete `train.py`\n",
    "Use the template file attached in the Resources folder to write a script that runs the steps above to create a database and export a model based on a new dataset specified by the user."
   ]
  },
  {
   "cell_type": "code",
   "execution_count": null,
   "metadata": {},
   "outputs": [],
   "source": []
  }
 ],
 "metadata": {
  "kernelspec": {
   "display_name": "Python 3",
   "language": "python",
   "name": "python3"
  },
  "language_info": {
   "codemirror_mode": {
    "name": "ipython",
    "version": 3
   },
   "file_extension": ".py",
   "mimetype": "text/x-python",
   "name": "python",
   "nbconvert_exporter": "python",
   "pygments_lexer": "ipython3",
   "version": "3.6.3"
  }
 },
 "nbformat": 4,
 "nbformat_minor": 2
}
