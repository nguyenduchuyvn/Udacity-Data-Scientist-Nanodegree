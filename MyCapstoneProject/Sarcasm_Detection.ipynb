{
  "cells": [
    {
      "cell_type": "markdown",
      "metadata": {
        "id": "IYmZQYIHzHle"
      },
      "source": [
        "# Identify sarcastic sentences with machine learning techniques"
      ]
    },
    {
      "cell_type": "markdown",
      "metadata": {
        "id": "Jb9DLaZ3j0Yy"
      },
      "source": [
        "## Project Overview\n",
        "This project can be used as a complete guide to EDA and machine learning technique for sentence classification tasks accompanied with advice for practioners. It will cover:\n",
        "\n",
        "* Exploratory Data Analysis .\n",
        "* Tokenizing and preprocessing from text data\n",
        "* Loading pretrained Bert and creating a deep learning model for fine-tuning\n",
        "* Building and training model with PyTorch on HuggingFace framework\n",
        "* Advice for practitioners\n",
        "\n",
        "\n",
        "## Problem statement\n",
        "\n",
        "Sarcasm detection is a narrow field of study in NLP, whose goal is to determine if a sentence is satirical or non-sarcastic. Sarcasm is a kind of phenomenon that is common in social networks, newspapers and it has a specific effect on listeners, such as teasing some events, breaking their expectations mood. Thus, properly understanding irony often requires a deep understanding of multiple sources of information, including how it is stated, the context of the conversation, and often some real-world events.\n",
        "\n",
        "In this project, we aim to answer the question whether we identify sarcastic sentences automatically using ML/DL technique ? How do these techniques apply in this case and their performance?\n",
        "\n",
        "## Dataset\n",
        "In this dataset, each record consists of three attributes:\n",
        "\n",
        "* is_sarcastic: 1 if the record is sarcastic otherwise 0\n",
        "\n",
        "* headline: the headline of the news article\n",
        "\n",
        "* article_link: link to the original news article. Useful in collecting supplementary data\n",
        "\n",
        "This dataset could be founded  in the Kaggle Dataset [news-headlines-dataset-for-sarcasm-detection](https://www.kaggle.com/rmisra/news-headlines-dataset-for-sarcasm-detection)\n",
        "\n",
        "## Metrics \n",
        "In this project, we use performance metrics as precision, recall, and F1-Score. A binary classifier can be viewed as classifying instances as positive or negative:\n",
        "* Positive: The instance is classified as a member of the class the classifier is trying to identify. For example, a classifier looking for cat photos would classify photos with cats as positive (when correct).\n",
        "\n",
        "* Negative: The instance is classified as not being a member of the class we are trying to identify. For example, a classifier looking for cat photos should classify photos with dogs (and no cats) as negative.\n",
        "\n",
        "The basis of precision, recall, and F1-Score comes from the concepts of True Positive, True Negative, False Positive, and False Negative\n",
        "\n",
        "* Precision is a measure of how many of the positive predictions made are correc\n",
        "\n",
        "* Recall is a measure of how many of the positive cases the classifier correctly predicted, over all the positive cases in the data. It is sometimes also referred to as Sensitivity.\n",
        "\n",
        "\n",
        "* F1-Score is a measure combining both precision and recall. It is generally described as the harmonic mean of the two. Harmonic mean is just another way to calculate an “average” of values, generally described as more suitable for ratios (such as precision and recall) than the traditional arithmetic mean.\n",
        "\n",
        "$F1_{Score} = 2*(Precision * Recall) / (Precision + Recall)$\n",
        "\n"
      ]
    },
    {
      "cell_type": "markdown",
      "metadata": {
        "id": "TqE8hbgdkXNi"
      },
      "source": [
        "### Importing libraries"
      ]
    },
    {
      "cell_type": "code",
      "execution_count": null,
      "metadata": {
        "id": "QQMQMRqUkWla"
      },
      "outputs": [],
      "source": [
        "import numpy as np\n",
        "import pandas as pd\n",
        "import matplotlib.pyplot as plt\n",
        "import seaborn as sns\n",
        "import plotly as py\n",
        "import plotly.express as px\n",
        "from wordcloud import WordCloud\n",
        "import re\n",
        "import nltk\n",
        "\n",
        "from nltk.tokenize import word_tokenize\n",
        "from nltk.stem import WordNetLemmatizer\n",
        "from sklearn.feature_extraction.text import CountVectorizer, TfidfTransformer\n",
        "from sklearn.ensemble import RandomForestClassifier\n",
        "from sklearn.neighbors import KNeighborsClassifier\n",
        "import numpy as np\n",
        "from sklearn.metrics import classification_report\n",
        "from sklearn.model_selection import train_test_split"
      ]
    },
    {
      "cell_type": "markdown",
      "metadata": {
        "id": "cBMWj3sEkQ5s"
      },
      "source": [
        "### Reading the data\n",
        "The following code snippet could be used to read the data"
      ]
    },
    {
      "cell_type": "code",
      "execution_count": null,
      "metadata": {
        "colab": {
          "base_uri": "https://localhost:8080/",
          "height": 337
        },
        "id": "0-TvK8W1jtgw",
        "outputId": "db21ebc1-dc0b-4260-9a80-f899dfdc99e6"
      },
      "outputs": [
        {
          "data": {
            "text/html": [
              "\n",
              "  <div id=\"df-8065b60a-8702-4b15-a7aa-10a83587554e\">\n",
              "    <div class=\"colab-df-container\">\n",
              "      <div>\n",
              "<style scoped>\n",
              "    .dataframe tbody tr th:only-of-type {\n",
              "        vertical-align: middle;\n",
              "    }\n",
              "\n",
              "    .dataframe tbody tr th {\n",
              "        vertical-align: top;\n",
              "    }\n",
              "\n",
              "    .dataframe thead th {\n",
              "        text-align: right;\n",
              "    }\n",
              "</style>\n",
              "<table border=\"1\" class=\"dataframe\">\n",
              "  <thead>\n",
              "    <tr style=\"text-align: right;\">\n",
              "      <th></th>\n",
              "      <th>is_sarcastic</th>\n",
              "      <th>headline</th>\n",
              "      <th>article_link</th>\n",
              "    </tr>\n",
              "  </thead>\n",
              "  <tbody>\n",
              "    <tr>\n",
              "      <th>0</th>\n",
              "      <td>1</td>\n",
              "      <td>thirtysomething scientists unveil doomsday clo...</td>\n",
              "      <td>https://www.theonion.com/thirtysomething-scien...</td>\n",
              "    </tr>\n",
              "    <tr>\n",
              "      <th>1</th>\n",
              "      <td>0</td>\n",
              "      <td>dem rep. totally nails why congress is falling...</td>\n",
              "      <td>https://www.huffingtonpost.com/entry/donna-edw...</td>\n",
              "    </tr>\n",
              "    <tr>\n",
              "      <th>2</th>\n",
              "      <td>0</td>\n",
              "      <td>eat your veggies: 9 deliciously different recipes</td>\n",
              "      <td>https://www.huffingtonpost.com/entry/eat-your-...</td>\n",
              "    </tr>\n",
              "    <tr>\n",
              "      <th>3</th>\n",
              "      <td>1</td>\n",
              "      <td>inclement weather prevents liar from getting t...</td>\n",
              "      <td>https://local.theonion.com/inclement-weather-p...</td>\n",
              "    </tr>\n",
              "    <tr>\n",
              "      <th>4</th>\n",
              "      <td>1</td>\n",
              "      <td>mother comes pretty close to using word 'strea...</td>\n",
              "      <td>https://www.theonion.com/mother-comes-pretty-c...</td>\n",
              "    </tr>\n",
              "  </tbody>\n",
              "</table>\n",
              "</div>\n",
              "      <button class=\"colab-df-convert\" onclick=\"convertToInteractive('df-8065b60a-8702-4b15-a7aa-10a83587554e')\"\n",
              "              title=\"Convert this dataframe to an interactive table.\"\n",
              "              style=\"display:none;\">\n",
              "        \n",
              "  <svg xmlns=\"http://www.w3.org/2000/svg\" height=\"24px\"viewBox=\"0 0 24 24\"\n",
              "       width=\"24px\">\n",
              "    <path d=\"M0 0h24v24H0V0z\" fill=\"none\"/>\n",
              "    <path d=\"M18.56 5.44l.94 2.06.94-2.06 2.06-.94-2.06-.94-.94-2.06-.94 2.06-2.06.94zm-11 1L8.5 8.5l.94-2.06 2.06-.94-2.06-.94L8.5 2.5l-.94 2.06-2.06.94zm10 10l.94 2.06.94-2.06 2.06-.94-2.06-.94-.94-2.06-.94 2.06-2.06.94z\"/><path d=\"M17.41 7.96l-1.37-1.37c-.4-.4-.92-.59-1.43-.59-.52 0-1.04.2-1.43.59L10.3 9.45l-7.72 7.72c-.78.78-.78 2.05 0 2.83L4 21.41c.39.39.9.59 1.41.59.51 0 1.02-.2 1.41-.59l7.78-7.78 2.81-2.81c.8-.78.8-2.07 0-2.86zM5.41 20L4 18.59l7.72-7.72 1.47 1.35L5.41 20z\"/>\n",
              "  </svg>\n",
              "      </button>\n",
              "      \n",
              "  <style>\n",
              "    .colab-df-container {\n",
              "      display:flex;\n",
              "      flex-wrap:wrap;\n",
              "      gap: 12px;\n",
              "    }\n",
              "\n",
              "    .colab-df-convert {\n",
              "      background-color: #E8F0FE;\n",
              "      border: none;\n",
              "      border-radius: 50%;\n",
              "      cursor: pointer;\n",
              "      display: none;\n",
              "      fill: #1967D2;\n",
              "      height: 32px;\n",
              "      padding: 0 0 0 0;\n",
              "      width: 32px;\n",
              "    }\n",
              "\n",
              "    .colab-df-convert:hover {\n",
              "      background-color: #E2EBFA;\n",
              "      box-shadow: 0px 1px 2px rgba(60, 64, 67, 0.3), 0px 1px 3px 1px rgba(60, 64, 67, 0.15);\n",
              "      fill: #174EA6;\n",
              "    }\n",
              "\n",
              "    [theme=dark] .colab-df-convert {\n",
              "      background-color: #3B4455;\n",
              "      fill: #D2E3FC;\n",
              "    }\n",
              "\n",
              "    [theme=dark] .colab-df-convert:hover {\n",
              "      background-color: #434B5C;\n",
              "      box-shadow: 0px 1px 3px 1px rgba(0, 0, 0, 0.15);\n",
              "      filter: drop-shadow(0px 1px 2px rgba(0, 0, 0, 0.3));\n",
              "      fill: #FFFFFF;\n",
              "    }\n",
              "  </style>\n",
              "\n",
              "      <script>\n",
              "        const buttonEl =\n",
              "          document.querySelector('#df-8065b60a-8702-4b15-a7aa-10a83587554e button.colab-df-convert');\n",
              "        buttonEl.style.display =\n",
              "          google.colab.kernel.accessAllowed ? 'block' : 'none';\n",
              "\n",
              "        async function convertToInteractive(key) {\n",
              "          const element = document.querySelector('#df-8065b60a-8702-4b15-a7aa-10a83587554e');\n",
              "          const dataTable =\n",
              "            await google.colab.kernel.invokeFunction('convertToInteractive',\n",
              "                                                     [key], {});\n",
              "          if (!dataTable) return;\n",
              "\n",
              "          const docLinkHtml = 'Like what you see? Visit the ' +\n",
              "            '<a target=\"_blank\" href=https://colab.research.google.com/notebooks/data_table.ipynb>data table notebook</a>'\n",
              "            + ' to learn more about interactive tables.';\n",
              "          element.innerHTML = '';\n",
              "          dataTable['output_type'] = 'display_data';\n",
              "          await google.colab.output.renderOutput(dataTable, element);\n",
              "          const docLink = document.createElement('div');\n",
              "          docLink.innerHTML = docLinkHtml;\n",
              "          element.appendChild(docLink);\n",
              "        }\n",
              "      </script>\n",
              "    </div>\n",
              "  </div>\n",
              "  "
            ],
            "text/plain": [
              "   is_sarcastic                                           headline  \\\n",
              "0             1  thirtysomething scientists unveil doomsday clo...   \n",
              "1             0  dem rep. totally nails why congress is falling...   \n",
              "2             0  eat your veggies: 9 deliciously different recipes   \n",
              "3             1  inclement weather prevents liar from getting t...   \n",
              "4             1  mother comes pretty close to using word 'strea...   \n",
              "\n",
              "                                        article_link  \n",
              "0  https://www.theonion.com/thirtysomething-scien...  \n",
              "1  https://www.huffingtonpost.com/entry/donna-edw...  \n",
              "2  https://www.huffingtonpost.com/entry/eat-your-...  \n",
              "3  https://local.theonion.com/inclement-weather-p...  \n",
              "4  https://www.theonion.com/mother-comes-pretty-c...  "
            ]
          },
          "execution_count": 3,
          "metadata": {},
          "output_type": "execute_result"
        }
      ],
      "source": [
        "df = pd.read_json(\"./Sarcasm_Headlines_Dataset_v2.json\", lines=True)\n",
        "df.head()"
      ]
    },
    {
      "cell_type": "code",
      "execution_count": null,
      "metadata": {
        "colab": {
          "base_uri": "https://localhost:8080/"
        },
        "id": "9kccRmw9lC1G",
        "outputId": "f0700518-badb-4c98-fe11-4a87e3df2eef"
      },
      "outputs": [
        {
          "name": "stdout",
          "output_type": "stream",
          "text": [
            "<class 'pandas.core.frame.DataFrame'>\n",
            "RangeIndex: 28619 entries, 0 to 28618\n",
            "Data columns (total 3 columns):\n",
            " #   Column        Non-Null Count  Dtype \n",
            "---  ------        --------------  ----- \n",
            " 0   is_sarcastic  28619 non-null  int64 \n",
            " 1   headline      28619 non-null  object\n",
            " 2   article_link  28619 non-null  object\n",
            "dtypes: int64(1), object(2)\n",
            "memory usage: 670.9+ KB\n"
          ]
        }
      ],
      "source": [
        "df.info()"
      ]
    },
    {
      "cell_type": "code",
      "execution_count": null,
      "metadata": {
        "id": "78USOOg4r8U6"
      },
      "outputs": [],
      "source": [
        "# Let's use regex on the \"article_link\" column to get the source data.\n",
        "df[\"source\"] = df[\"article_link\"].apply(lambda string: re.findall('[a-zA-Z]+', string)[2] )\n",
        "df = df.drop(['article_link'],axis = 1)\n"
      ]
    },
    {
      "cell_type": "code",
      "execution_count": null,
      "metadata": {
        "colab": {
          "base_uri": "https://localhost:8080/",
          "height": 206
        },
        "id": "q7DLe8OxsZAR",
        "outputId": "cab5f8c5-8920-41b5-aa87-767625897726"
      },
      "outputs": [
        {
          "data": {
            "text/html": [
              "\n",
              "  <div id=\"df-1e55c0ae-642c-4ca2-95c3-b616d7695682\">\n",
              "    <div class=\"colab-df-container\">\n",
              "      <div>\n",
              "<style scoped>\n",
              "    .dataframe tbody tr th:only-of-type {\n",
              "        vertical-align: middle;\n",
              "    }\n",
              "\n",
              "    .dataframe tbody tr th {\n",
              "        vertical-align: top;\n",
              "    }\n",
              "\n",
              "    .dataframe thead th {\n",
              "        text-align: right;\n",
              "    }\n",
              "</style>\n",
              "<table border=\"1\" class=\"dataframe\">\n",
              "  <thead>\n",
              "    <tr style=\"text-align: right;\">\n",
              "      <th></th>\n",
              "      <th>is_sarcastic</th>\n",
              "      <th>headline</th>\n",
              "      <th>source</th>\n",
              "    </tr>\n",
              "  </thead>\n",
              "  <tbody>\n",
              "    <tr>\n",
              "      <th>0</th>\n",
              "      <td>1</td>\n",
              "      <td>thirtysomething scientists unveil doomsday clo...</td>\n",
              "      <td>theonion</td>\n",
              "    </tr>\n",
              "    <tr>\n",
              "      <th>1</th>\n",
              "      <td>0</td>\n",
              "      <td>dem rep. totally nails why congress is falling...</td>\n",
              "      <td>huffingtonpost</td>\n",
              "    </tr>\n",
              "    <tr>\n",
              "      <th>2</th>\n",
              "      <td>0</td>\n",
              "      <td>eat your veggies: 9 deliciously different recipes</td>\n",
              "      <td>huffingtonpost</td>\n",
              "    </tr>\n",
              "    <tr>\n",
              "      <th>3</th>\n",
              "      <td>1</td>\n",
              "      <td>inclement weather prevents liar from getting t...</td>\n",
              "      <td>theonion</td>\n",
              "    </tr>\n",
              "    <tr>\n",
              "      <th>4</th>\n",
              "      <td>1</td>\n",
              "      <td>mother comes pretty close to using word 'strea...</td>\n",
              "      <td>theonion</td>\n",
              "    </tr>\n",
              "  </tbody>\n",
              "</table>\n",
              "</div>\n",
              "      <button class=\"colab-df-convert\" onclick=\"convertToInteractive('df-1e55c0ae-642c-4ca2-95c3-b616d7695682')\"\n",
              "              title=\"Convert this dataframe to an interactive table.\"\n",
              "              style=\"display:none;\">\n",
              "        \n",
              "  <svg xmlns=\"http://www.w3.org/2000/svg\" height=\"24px\"viewBox=\"0 0 24 24\"\n",
              "       width=\"24px\">\n",
              "    <path d=\"M0 0h24v24H0V0z\" fill=\"none\"/>\n",
              "    <path d=\"M18.56 5.44l.94 2.06.94-2.06 2.06-.94-2.06-.94-.94-2.06-.94 2.06-2.06.94zm-11 1L8.5 8.5l.94-2.06 2.06-.94-2.06-.94L8.5 2.5l-.94 2.06-2.06.94zm10 10l.94 2.06.94-2.06 2.06-.94-2.06-.94-.94-2.06-.94 2.06-2.06.94z\"/><path d=\"M17.41 7.96l-1.37-1.37c-.4-.4-.92-.59-1.43-.59-.52 0-1.04.2-1.43.59L10.3 9.45l-7.72 7.72c-.78.78-.78 2.05 0 2.83L4 21.41c.39.39.9.59 1.41.59.51 0 1.02-.2 1.41-.59l7.78-7.78 2.81-2.81c.8-.78.8-2.07 0-2.86zM5.41 20L4 18.59l7.72-7.72 1.47 1.35L5.41 20z\"/>\n",
              "  </svg>\n",
              "      </button>\n",
              "      \n",
              "  <style>\n",
              "    .colab-df-container {\n",
              "      display:flex;\n",
              "      flex-wrap:wrap;\n",
              "      gap: 12px;\n",
              "    }\n",
              "\n",
              "    .colab-df-convert {\n",
              "      background-color: #E8F0FE;\n",
              "      border: none;\n",
              "      border-radius: 50%;\n",
              "      cursor: pointer;\n",
              "      display: none;\n",
              "      fill: #1967D2;\n",
              "      height: 32px;\n",
              "      padding: 0 0 0 0;\n",
              "      width: 32px;\n",
              "    }\n",
              "\n",
              "    .colab-df-convert:hover {\n",
              "      background-color: #E2EBFA;\n",
              "      box-shadow: 0px 1px 2px rgba(60, 64, 67, 0.3), 0px 1px 3px 1px rgba(60, 64, 67, 0.15);\n",
              "      fill: #174EA6;\n",
              "    }\n",
              "\n",
              "    [theme=dark] .colab-df-convert {\n",
              "      background-color: #3B4455;\n",
              "      fill: #D2E3FC;\n",
              "    }\n",
              "\n",
              "    [theme=dark] .colab-df-convert:hover {\n",
              "      background-color: #434B5C;\n",
              "      box-shadow: 0px 1px 3px 1px rgba(0, 0, 0, 0.15);\n",
              "      filter: drop-shadow(0px 1px 2px rgba(0, 0, 0, 0.3));\n",
              "      fill: #FFFFFF;\n",
              "    }\n",
              "  </style>\n",
              "\n",
              "      <script>\n",
              "        const buttonEl =\n",
              "          document.querySelector('#df-1e55c0ae-642c-4ca2-95c3-b616d7695682 button.colab-df-convert');\n",
              "        buttonEl.style.display =\n",
              "          google.colab.kernel.accessAllowed ? 'block' : 'none';\n",
              "\n",
              "        async function convertToInteractive(key) {\n",
              "          const element = document.querySelector('#df-1e55c0ae-642c-4ca2-95c3-b616d7695682');\n",
              "          const dataTable =\n",
              "            await google.colab.kernel.invokeFunction('convertToInteractive',\n",
              "                                                     [key], {});\n",
              "          if (!dataTable) return;\n",
              "\n",
              "          const docLinkHtml = 'Like what you see? Visit the ' +\n",
              "            '<a target=\"_blank\" href=https://colab.research.google.com/notebooks/data_table.ipynb>data table notebook</a>'\n",
              "            + ' to learn more about interactive tables.';\n",
              "          element.innerHTML = '';\n",
              "          dataTable['output_type'] = 'display_data';\n",
              "          await google.colab.output.renderOutput(dataTable, element);\n",
              "          const docLink = document.createElement('div');\n",
              "          docLink.innerHTML = docLinkHtml;\n",
              "          element.appendChild(docLink);\n",
              "        }\n",
              "      </script>\n",
              "    </div>\n",
              "  </div>\n",
              "  "
            ],
            "text/plain": [
              "   is_sarcastic                                           headline  \\\n",
              "0             1  thirtysomething scientists unveil doomsday clo...   \n",
              "1             0  dem rep. totally nails why congress is falling...   \n",
              "2             0  eat your veggies: 9 deliciously different recipes   \n",
              "3             1  inclement weather prevents liar from getting t...   \n",
              "4             1  mother comes pretty close to using word 'strea...   \n",
              "\n",
              "           source  \n",
              "0        theonion  \n",
              "1  huffingtonpost  \n",
              "2  huffingtonpost  \n",
              "3        theonion  \n",
              "4        theonion  "
            ]
          },
          "execution_count": 6,
          "metadata": {},
          "output_type": "execute_result"
        }
      ],
      "source": [
        "df.head()"
      ]
    },
    {
      "cell_type": "markdown",
      "metadata": {
        "id": "0lTYw2jntnbx"
      },
      "source": [
        "## Preprocessing data\n",
        "\n",
        "Let's clean the headline"
      ]
    },
    {
      "cell_type": "code",
      "execution_count": null,
      "metadata": {
        "id": "86EFb4LKtmlt"
      },
      "outputs": [],
      "source": [
        "df['headline'] = df['headline'].str.lower()\n",
        "df['headline'] = df['headline'].apply(lambda x: re.sub('[^a-zA-Z\\s]+|X{2,}', '', x))\n",
        "\n",
        "# [@\\^&\\*\\$] matches on the characters, you want to replace\n",
        "#\\S+matches on hash tags\n",
        "# \\S+[a-z0-9]\\.(com|net|org) matches on domain names\n",
        "\n",
        "df['headline'] = df['headline'].apply(lambda x: re.sub(\"[@\\^&\\*\\$]|#\\S+|\\S+[a-z0-9]\\.(com|net|org)\",\" \",x))\n"
      ]
    },
    {
      "cell_type": "markdown",
      "metadata": {
        "id": "ukGPErIDyZae"
      },
      "source": [
        "Let's expanding contractions \n",
        "by using the contractions_dict, credit to [DEVANSHI PATEL ](https://https://www.kaggle.com/devanshiipatel/eda-and-sentiment-analysis)"
      ]
    },
    {
      "cell_type": "code",
      "execution_count": null,
      "metadata": {
        "id": "79jvPjYSxAa7"
      },
      "outputs": [],
      "source": [
        "# Dictionary of English Contractions\n",
        "contractions_dict = { \"ain't\": \"are not\",\"'s\":\" is\",\"aren't\": \"are not\",\n",
        "                     \"can't\": \"cannot\",\"can't've\": \"cannot have\",\n",
        "                     \"'cause\": \"because\",\"could've\": \"could have\",\"couldn't\": \"could not\",\n",
        "                     \"couldn't've\": \"could not have\", \"didn't\": \"did not\",\"doesn't\": \"does not\",\n",
        "                     \"don't\": \"do not\",\"hadn't\": \"had not\",\"hadn't've\": \"had not have\",\n",
        "                     \"hasn't\": \"has not\",\"haven't\": \"have not\",\"he'd\": \"he would\",\n",
        "                     \"he'd've\": \"he would have\",\"he'll\": \"he will\", \"he'll've\": \"he will have\",\n",
        "                     \"how'd\": \"how did\",\"how'd'y\": \"how do you\",\"how'll\": \"how will\",\n",
        "                     \"I'd\": \"I would\", \"I'd've\": \"I would have\",\"I'll\": \"I will\",\n",
        "                     \"I'll've\": \"I will have\",\"I'm\": \"I am\",\"I've\": \"I have\", \"isn't\": \"is not\",\n",
        "                     \"it'd\": \"it would\",\"it'd've\": \"it would have\",\"it'll\": \"it will\",\n",
        "                     \"it'll've\": \"it will have\", \"let's\": \"let us\",\"ma'am\": \"madam\",\n",
        "                     \"mayn't\": \"may not\",\"might've\": \"might have\",\"mightn't\": \"might not\", \n",
        "                     \"mightn't've\": \"might not have\",\"must've\": \"must have\",\"mustn't\": \"must not\",\n",
        "                     \"mustn't've\": \"must not have\", \"needn't\": \"need not\",\n",
        "                     \"needn't've\": \"need not have\",\"o'clock\": \"of the clock\",\"oughtn't\": \"ought not\",\n",
        "                     \"oughtn't've\": \"ought not have\",\"shan't\": \"shall not\",\"sha'n't\": \"shall not\",\n",
        "                     \"shan't've\": \"shall not have\",\"she'd\": \"she would\",\"she'd've\": \"she would have\",\n",
        "                     \"she'll\": \"she will\", \"she'll've\": \"she will have\",\"should've\": \"should have\",\n",
        "                     \"shouldn't\": \"should not\", \"shouldn't've\": \"should not have\",\"so've\": \"so have\",\n",
        "                     \"that'd\": \"that would\",\"that'd've\": \"that would have\", \"there'd\": \"there would\",\n",
        "                     \"there'd've\": \"there would have\", \"they'd\": \"they would\",\n",
        "                     \"they'd've\": \"they would have\",\"they'll\": \"they will\",\n",
        "                     \"they'll've\": \"they will have\", \"they're\": \"they are\",\"they've\": \"they have\",\n",
        "                     \"to've\": \"to have\",\"wasn't\": \"was not\",\"we'd\": \"we would\",\n",
        "                     \"we'd've\": \"we would have\",\"we'll\": \"we will\",\"we'll've\": \"we will have\",\n",
        "                     \"we're\": \"we are\",\"we've\": \"we have\", \"weren't\": \"were not\",\"what'll\": \"what will\",\n",
        "                     \"what'll've\": \"what will have\",\"what're\": \"what are\", \"what've\": \"what have\",\n",
        "                     \"when've\": \"when have\",\"where'd\": \"where did\", \"where've\": \"where have\",\n",
        "                     \"who'll\": \"who will\",\"who'll've\": \"who will have\",\"who've\": \"who have\",\n",
        "                     \"why've\": \"why have\",\"will've\": \"will have\",\"won't\": \"will not\",\n",
        "                     \"won't've\": \"will not have\", \"would've\": \"would have\",\"wouldn't\": \"would not\",\n",
        "                     \"wouldn't've\": \"would not have\",\"y'all\": \"you all\", \"y'all'd\": \"you all would\",\n",
        "                     \"y'all'd've\": \"you all would have\",\"y'all're\": \"you all are\",\n",
        "                     \"y'all've\": \"you all have\", \"you'd\": \"you would\",\"you'd've\": \"you would have\",\n",
        "                     \"you'll\": \"you will\",\"you'll've\": \"you will have\", \"you're\": \"you are\",\n",
        "                     \"you've\": \"you have\"}\n",
        "\n",
        "# Regular expression for finding contractions\n",
        "contractions_re=re.compile('(%s)' % '|'.join(contractions_dict.keys()))\n",
        "\n",
        "# Function for expanding contractions\n",
        "def expand_contractions(text,contractions_dict=contractions_dict):\n",
        "    def replace(match):\n",
        "        return contractions_dict[match.group(0)]\n",
        "    return contractions_re.sub(replace, text)\n",
        "\n",
        "# Expanding Contractions in the title, text\n",
        "df['headline'] = df['headline'].apply(lambda x:expand_contractions(x))"
      ]
    },
    {
      "cell_type": "code",
      "execution_count": null,
      "metadata": {
        "id": "XrNhrLYH7NKV"
      },
      "outputs": [],
      "source": [
        "df['CharCount'] = df['headline'].apply(lambda x: len(x))\n",
        "df['WordCount'] = df['headline'].apply(lambda x: len(x.split()))"
      ]
    },
    {
      "cell_type": "code",
      "execution_count": null,
      "metadata": {
        "colab": {
          "base_uri": "https://localhost:8080/",
          "height": 459
        },
        "id": "10dLVokRlDXt",
        "outputId": "f50f4397-84da-4552-cb83-e47e1b6cd731"
      },
      "outputs": [
        {
          "data": {
            "text/html": [
              "\n",
              "  <div id=\"df-44d39c9e-0910-4386-86fc-879ea40df04a\">\n",
              "    <div class=\"colab-df-container\">\n",
              "      <div>\n",
              "<style scoped>\n",
              "    .dataframe tbody tr th:only-of-type {\n",
              "        vertical-align: middle;\n",
              "    }\n",
              "\n",
              "    .dataframe tbody tr th {\n",
              "        vertical-align: top;\n",
              "    }\n",
              "\n",
              "    .dataframe thead th {\n",
              "        text-align: right;\n",
              "    }\n",
              "</style>\n",
              "<table border=\"1\" class=\"dataframe\">\n",
              "  <thead>\n",
              "    <tr style=\"text-align: right;\">\n",
              "      <th></th>\n",
              "      <th>is_sarcastic</th>\n",
              "      <th>headline</th>\n",
              "      <th>source</th>\n",
              "      <th>CharCount</th>\n",
              "      <th>WordCount</th>\n",
              "    </tr>\n",
              "  </thead>\n",
              "  <tbody>\n",
              "    <tr>\n",
              "      <th>0</th>\n",
              "      <td>1</td>\n",
              "      <td>thirtysomething scientists unveil doomsday clo...</td>\n",
              "      <td>theonion</td>\n",
              "      <td>61</td>\n",
              "      <td>8</td>\n",
              "    </tr>\n",
              "    <tr>\n",
              "      <th>1</th>\n",
              "      <td>0</td>\n",
              "      <td>dem rep totally nails why congress is falling ...</td>\n",
              "      <td>huffingtonpost</td>\n",
              "      <td>77</td>\n",
              "      <td>13</td>\n",
              "    </tr>\n",
              "    <tr>\n",
              "      <th>2</th>\n",
              "      <td>0</td>\n",
              "      <td>eat your veggies  deliciously different recipes</td>\n",
              "      <td>huffingtonpost</td>\n",
              "      <td>47</td>\n",
              "      <td>6</td>\n",
              "    </tr>\n",
              "    <tr>\n",
              "      <th>3</th>\n",
              "      <td>1</td>\n",
              "      <td>inclement weather prevents liar from getting t...</td>\n",
              "      <td>theonion</td>\n",
              "      <td>52</td>\n",
              "      <td>8</td>\n",
              "    </tr>\n",
              "    <tr>\n",
              "      <th>4</th>\n",
              "      <td>1</td>\n",
              "      <td>mother comes pretty close to using word stream...</td>\n",
              "      <td>theonion</td>\n",
              "      <td>59</td>\n",
              "      <td>9</td>\n",
              "    </tr>\n",
              "    <tr>\n",
              "      <th>5</th>\n",
              "      <td>0</td>\n",
              "      <td>my white inheritance</td>\n",
              "      <td>huffingtonpost</td>\n",
              "      <td>20</td>\n",
              "      <td>3</td>\n",
              "    </tr>\n",
              "    <tr>\n",
              "      <th>6</th>\n",
              "      <td>0</td>\n",
              "      <td>ways to file your taxes with less stress</td>\n",
              "      <td>huffingtonpost</td>\n",
              "      <td>41</td>\n",
              "      <td>8</td>\n",
              "    </tr>\n",
              "    <tr>\n",
              "      <th>7</th>\n",
              "      <td>1</td>\n",
              "      <td>richard bransons globalwarming donation nearly...</td>\n",
              "      <td>theonion</td>\n",
              "      <td>86</td>\n",
              "      <td>13</td>\n",
              "    </tr>\n",
              "    <tr>\n",
              "      <th>8</th>\n",
              "      <td>1</td>\n",
              "      <td>shadow government getting too large to meet in...</td>\n",
              "      <td>theonion</td>\n",
              "      <td>73</td>\n",
              "      <td>12</td>\n",
              "    </tr>\n",
              "    <tr>\n",
              "      <th>9</th>\n",
              "      <td>0</td>\n",
              "      <td>lots of parents know this scenario</td>\n",
              "      <td>huffingtonpost</td>\n",
              "      <td>34</td>\n",
              "      <td>6</td>\n",
              "    </tr>\n",
              "  </tbody>\n",
              "</table>\n",
              "</div>\n",
              "      <button class=\"colab-df-convert\" onclick=\"convertToInteractive('df-44d39c9e-0910-4386-86fc-879ea40df04a')\"\n",
              "              title=\"Convert this dataframe to an interactive table.\"\n",
              "              style=\"display:none;\">\n",
              "        \n",
              "  <svg xmlns=\"http://www.w3.org/2000/svg\" height=\"24px\"viewBox=\"0 0 24 24\"\n",
              "       width=\"24px\">\n",
              "    <path d=\"M0 0h24v24H0V0z\" fill=\"none\"/>\n",
              "    <path d=\"M18.56 5.44l.94 2.06.94-2.06 2.06-.94-2.06-.94-.94-2.06-.94 2.06-2.06.94zm-11 1L8.5 8.5l.94-2.06 2.06-.94-2.06-.94L8.5 2.5l-.94 2.06-2.06.94zm10 10l.94 2.06.94-2.06 2.06-.94-2.06-.94-.94-2.06-.94 2.06-2.06.94z\"/><path d=\"M17.41 7.96l-1.37-1.37c-.4-.4-.92-.59-1.43-.59-.52 0-1.04.2-1.43.59L10.3 9.45l-7.72 7.72c-.78.78-.78 2.05 0 2.83L4 21.41c.39.39.9.59 1.41.59.51 0 1.02-.2 1.41-.59l7.78-7.78 2.81-2.81c.8-.78.8-2.07 0-2.86zM5.41 20L4 18.59l7.72-7.72 1.47 1.35L5.41 20z\"/>\n",
              "  </svg>\n",
              "      </button>\n",
              "      \n",
              "  <style>\n",
              "    .colab-df-container {\n",
              "      display:flex;\n",
              "      flex-wrap:wrap;\n",
              "      gap: 12px;\n",
              "    }\n",
              "\n",
              "    .colab-df-convert {\n",
              "      background-color: #E8F0FE;\n",
              "      border: none;\n",
              "      border-radius: 50%;\n",
              "      cursor: pointer;\n",
              "      display: none;\n",
              "      fill: #1967D2;\n",
              "      height: 32px;\n",
              "      padding: 0 0 0 0;\n",
              "      width: 32px;\n",
              "    }\n",
              "\n",
              "    .colab-df-convert:hover {\n",
              "      background-color: #E2EBFA;\n",
              "      box-shadow: 0px 1px 2px rgba(60, 64, 67, 0.3), 0px 1px 3px 1px rgba(60, 64, 67, 0.15);\n",
              "      fill: #174EA6;\n",
              "    }\n",
              "\n",
              "    [theme=dark] .colab-df-convert {\n",
              "      background-color: #3B4455;\n",
              "      fill: #D2E3FC;\n",
              "    }\n",
              "\n",
              "    [theme=dark] .colab-df-convert:hover {\n",
              "      background-color: #434B5C;\n",
              "      box-shadow: 0px 1px 3px 1px rgba(0, 0, 0, 0.15);\n",
              "      filter: drop-shadow(0px 1px 2px rgba(0, 0, 0, 0.3));\n",
              "      fill: #FFFFFF;\n",
              "    }\n",
              "  </style>\n",
              "\n",
              "      <script>\n",
              "        const buttonEl =\n",
              "          document.querySelector('#df-44d39c9e-0910-4386-86fc-879ea40df04a button.colab-df-convert');\n",
              "        buttonEl.style.display =\n",
              "          google.colab.kernel.accessAllowed ? 'block' : 'none';\n",
              "\n",
              "        async function convertToInteractive(key) {\n",
              "          const element = document.querySelector('#df-44d39c9e-0910-4386-86fc-879ea40df04a');\n",
              "          const dataTable =\n",
              "            await google.colab.kernel.invokeFunction('convertToInteractive',\n",
              "                                                     [key], {});\n",
              "          if (!dataTable) return;\n",
              "\n",
              "          const docLinkHtml = 'Like what you see? Visit the ' +\n",
              "            '<a target=\"_blank\" href=https://colab.research.google.com/notebooks/data_table.ipynb>data table notebook</a>'\n",
              "            + ' to learn more about interactive tables.';\n",
              "          element.innerHTML = '';\n",
              "          dataTable['output_type'] = 'display_data';\n",
              "          await google.colab.output.renderOutput(dataTable, element);\n",
              "          const docLink = document.createElement('div');\n",
              "          docLink.innerHTML = docLinkHtml;\n",
              "          element.appendChild(docLink);\n",
              "        }\n",
              "      </script>\n",
              "    </div>\n",
              "  </div>\n",
              "  "
            ],
            "text/plain": [
              "   is_sarcastic                                           headline  \\\n",
              "0             1  thirtysomething scientists unveil doomsday clo...   \n",
              "1             0  dem rep totally nails why congress is falling ...   \n",
              "2             0    eat your veggies  deliciously different recipes   \n",
              "3             1  inclement weather prevents liar from getting t...   \n",
              "4             1  mother comes pretty close to using word stream...   \n",
              "5             0                               my white inheritance   \n",
              "6             0           ways to file your taxes with less stress   \n",
              "7             1  richard bransons globalwarming donation nearly...   \n",
              "8             1  shadow government getting too large to meet in...   \n",
              "9             0                 lots of parents know this scenario   \n",
              "\n",
              "           source  CharCount  WordCount  \n",
              "0        theonion         61          8  \n",
              "1  huffingtonpost         77         13  \n",
              "2  huffingtonpost         47          6  \n",
              "3        theonion         52          8  \n",
              "4        theonion         59          9  \n",
              "5  huffingtonpost         20          3  \n",
              "6  huffingtonpost         41          8  \n",
              "7        theonion         86         13  \n",
              "8        theonion         73         12  \n",
              "9  huffingtonpost         34          6  "
            ]
          },
          "execution_count": 10,
          "metadata": {},
          "output_type": "execute_result"
        }
      ],
      "source": [
        "df.head(10)"
      ]
    },
    {
      "cell_type": "code",
      "execution_count": null,
      "metadata": {
        "colab": {
          "base_uri": "https://localhost:8080/"
        },
        "id": "LyxmBn0RftQI",
        "outputId": "36549ae2-9e43-4262-e7fb-2a0a5be8099c"
      },
      "outputs": [
        {
          "data": {
            "text/plain": [
              "huffingtonpost    14985\n",
              "theonion          13634\n",
              "Name: source, dtype: int64"
            ]
          },
          "execution_count": 11,
          "metadata": {},
          "output_type": "execute_result"
        }
      ],
      "source": [
        "df[\"source\"].value_counts()"
      ]
    },
    {
      "cell_type": "code",
      "execution_count": null,
      "metadata": {
        "colab": {
          "base_uri": "https://localhost:8080/"
        },
        "id": "KL68wRjXfyCi",
        "outputId": "55479620-c4e3-4681-91e1-a8e202c7aaff"
      },
      "outputs": [
        {
          "data": {
            "text/plain": [
              "0    14985\n",
              "1    13634\n",
              "Name: is_sarcastic, dtype: int64"
            ]
          },
          "execution_count": 12,
          "metadata": {},
          "output_type": "execute_result"
        }
      ],
      "source": [
        "df[\"is_sarcastic\"].value_counts()"
      ]
    },
    {
      "cell_type": "markdown",
      "metadata": {
        "id": "Q6xfhje1r_ZH"
      },
      "source": [
        "## Visualization"
      ]
    },
    {
      "cell_type": "markdown",
      "metadata": {
        "id": "Rp-TT9ZV7bVT"
      },
      "source": [
        "### Length of sentence Distribution\n"
      ]
    },
    {
      "cell_type": "code",
      "execution_count": null,
      "metadata": {
        "colab": {
          "base_uri": "https://localhost:8080/",
          "height": 535
        },
        "id": "3x8txS0cgZR6",
        "outputId": "0eb60845-2312-4ab2-f5a4-0c42593513b0"
      },
      "outputs": [
        {
          "data": {
            "text/plain": [
              "<matplotlib.axes._subplots.AxesSubplot at 0x7f39d7e47250>"
            ]
          },
          "execution_count": 12,
          "metadata": {},
          "output_type": "execute_result"
        },
        {
          "data": {
            "image/png": "[encoded data removed]",
            "text/plain": [
              "<Figure size 720x576 with 1 Axes>"
            ]
          },
          "metadata": {
            "needs_background": "light"
          },
          "output_type": "display_data"
        }
      ],
      "source": [
        "plt.figure(figsize = (10, 8))\n",
        "plt.title('Length of sentence Distribution', fontsize=15)\n",
        "plt.xlabel(\"Length\", fontsize=12)\n",
        "plt.ylabel(\"The Number of Sentence\", fontsize=12)\n",
        "\n",
        "sns.histplot(df, x='WordCount',\n",
        "             kde = True, \n",
        "             bins = 80\n",
        "             )"
      ]
    },
    {
      "cell_type": "code",
      "execution_count": null,
      "metadata": {
        "colab": {
          "base_uri": "https://localhost:8080/",
          "height": 542
        },
        "id": "1X3CXvLThV11",
        "outputId": "015faf40-9b57-430c-c3c0-1ebe917aee24"
      },
      "outputs": [
        {
          "data": {
            "text/html": [
              "<html>\n",
              "<head><meta charset=\"utf-8\" /></head>\n",
              "<body>\n",
              "    <div>            <script src=\"https://cdnjs.cloudflare.com/ajax/libs/mathjax/2.7.5/MathJax.js?config=TeX-AMS-MML_SVG\"></script><script type=\"text/javascript\">if (window.MathJax) {MathJax.Hub.Config({SVG: {font: \"STIX-Web\"}});}</script>                <script type=\"text/javascript\">window.PlotlyConfig = {MathJaxConfig: 'local'};</script>\n",
              "        <script src=\"https://cdn.plot.ly/plotly-2.8.3.min.js\"></script>                <div id=\"8bfa13d2-712a-456d-ab6b-bdb536190712\" class=\"plotly-graph-div\" style=\"height:525px; width:100%;\"></div>            <script type=\"text/javascript\">                                    window.PLOTLYENV=window.PLOTLYENV || {};                                    if (document.getElementById(\"8bfa13d2-712a-456d-ab6b-bdb536190712\")) {                    Plotly.newPlot(                        \"8bfa13d2-712a-456d-ab6b-bdb536190712\",                        [{\"alignmentgroup\":\"True\",\"bingroup\":\"x\",\"hovertemplate\":\"is_sarcastic=1<br>WordCount=%{x}<br>count=%{y}<extra></extra>\",\"legendgroup\":\"1\",\"marker\":{\"color\":\"gray\",\"pattern\":{\"shape\":\"\"},\"line\":{\"color\":\"#000000\",\"width\":2}},\"name\":\"1\",\"offsetgroup\":\"1\",\"orientation\":\"v\",\"showlegend\":true,\"x\":[8,8,9,13,12,9,5,9,14,12,14,8,18,7,11,10,8,8,12,4,13,6,8,12,12,6,11,10,12,10,12,5,11,13,5,15,19,8,12,13,6,9,7,7,7,8,11,6,4,10,17,10,17,13,5,17,9,11,18,16,11,12,7,14,12,7,6,10,18,11,6,7,6,8,11,7,14,15,20,10,14,3,8,13,13,14,16,11,14,7,18,15,7,9,10,5,3,5,7,11,12,10,19,10,6,11,12,11,13,11,10,10,8,5,6,9,13,10,8,9,17,10,10,14,19,8,7,14,8,5,7,5,11,12,14,6,8,7,16,10,6,12,10,7,8,11,11,6,7,12,15,9,12,5,10,7,9,5,9,11,8,9,9,11,10,14,10,7,12,17,17,14,9,13,13,4,10,13,8,7,11,14,10,11,10,13,10,11,6,18,8,9,7,15,7,6,6,11,13,10,6,15,7,11,8,13,10,14,7,14,11,8,10,10,15,10,13,9,9,7,5,8,7,8,4,10,8,6,8,4,12,11,9,10,6,8,9,6,4,12,19,11,7,12,9,10,17,9,18,14,15,12,7,8,9,9,9,6,5,10,5,12,11,16,14,20,5,5,15,11,14,9,5,10,7,11,9,8,20,10,7,16,12,10,14,5,8,14,12,7,5,13,12,8,8,12,6,10,10,13,14,10,10,10,5,6,4,11,7,6,4,14,10,12,7,14,10,7,11,7,8,5,8,6,7,7,9,12,12,8,10,14,9,12,14,14,10,8,17,3,9,7,17,6,10,9,6,12,16,15,13,16,8,16,5,13,9,7,8,14,10,11,6,13,7,13,5,12,10,9,11,10,3,13,7,11,6,10,14,7,17,6,7,10,13,2,8,4,13,14,17,12,7,13,12,9,12,11,13,5,9,7,6,12,11,10,6,11,10,13,10,7,5,9,11,11,9,6,9,10,13,9,12,7,15,6,11,6,3,9,8,8,9,16,4,12,5,8,5,7,10,6,3,5,7,4,9,14,10,12,14,18,11,10,5,6,10,10,9,11,7,11,8,12,13,4,8,5,12,7,17,8,17,8,16,9,15,11,6,13,11,7,9,7,11,10,15,11,5,10,6,9,3,8,13,5,9,6,7,15,9,6,8,5,9,12,16,10,9,9,15,6,8,3,10,13,12,9,16,10,14,8,11,12,9,14,15,11,19,4,17,10,9,8,13,15,6,10,13,9,8,9,2,12,11,15,9,9,11,13,9,11,15,11,8,18,10,15,8,3,12,9,5,6,9,9,13,12,9,12,7,15,13,7,7,15,5,11,13,15,23,18,9,9,9,7,14,13,9,12,12,14,13,9,7,8,9,13,15,10,8,10,7,9,6,11,10,10,14,10,9,3,8,12,9,8,7,10,18,10,4,14,8,7,4,11,11,12,9,6,7,14,13,10,9,6,6,12,4,11,5,9,7,10,12,8,6,6,12,8,13,9,12,7,13,7,10,10,5,6,4,11,7,9,6,9,8,12,6,6,10,11,10,13,11,12,8,7,7,17,15,10,24,11,8,8,11,10,10,2,8,9,14,7,12,17,7,8,12,10,10,14,15,5,7,19,13,15,13,15,3,15,7,16,7,13,8,11,6,7,7,9,11,6,13,14,5,12,11,9,9,7,8,12,16,9,7,9,9,10,2,12,9,12,8,5,10,5,15,15,13,4,6,9,11,14,10,7,11,6,10,11,6,7,9,9,7,17,11,8,15,9,6,11,10,14,12,13,12,12,7,10,7,9,6,10,12,9,15,15,9,7,7,10,13,7,17,7,14,12,14,5,15,15,8,11,4,14,9,12,13,14,14,13,10,7,16,14,14,16,12,4,15,5,15,10,8,11,12,5,16,6,14,6,14,7,9,13,9,12,7,8,13,4,8,2,9,10,9,10,8,11,17,9,12,16,18,3,8,15,4,9,7,12,12,6,11,9,9,6,16,5,9,11,7,12,6,11,10,12,5,14,8,12,9,10,10,6,12,18,13,10,6,16,12,11,5,7,9,11,6,10,8,8,11,7,13,8,14,9,7,10,7,14,15,7,10,11,12,13,17,11,8,11,7,17,9,8,11,9,12,13,8,6,12,18,12,6,14,13,9,19,11,11,13,6,9,7,5,10,10,9,8,7,6,8,11,10,7,10,7,12,7,7,9,13,14,10,12,13,11,2,6,7,10,9,13,16,9,14,6,10,11,10,15,10,4,9,9,11,16,14,9,12,15,10,11,7,11,12,17,14,6,15,11,12,10,12,13,7,10,9,7,10,11,11,12,9,12,14,6,13,13,7,9,8,12,10,6,16,11,12,16,8,7,7,14,8,28,14,12,9,11,14,7,16,12,8,10,6,12,10,11,9,5,13,12,14,8,12,8,8,3,10,12,10,16,7,12,8,9,6,11,13,10,8,7,11,15,15,10,16,16,12,11,9,6,3,7,10,14,11,11,13,11,13,11,11,5,4,11,17,4,14,6,7,15,5,14,10,18,17,5,12,11,5,12,8,8,7,5,18,9,11,17,14,7,7,10,16,10,11,17,8,11,19,11,12,12,8,8,15,21,11,10,9,10,6,7,8,5,11,10,13,10,8,10,4,13,14,9,10,12,14,5,13,9,21,12,14,10,11,7,7,10,10,9,24,10,12,10,10,7,10,7,11,8,11,17,6,7,6,11,6,7,15,7,12,3,11,9,9,12,12,18,10,6,9,10,14,9,20,18,10,10,7,8,15,6,6,14,5,13,11,16,10,11,8,9,17,18,7,6,9,8,7,12,8,14,11,17,10,8,11,15,14,6,11,19,7,10,8,11,9,10,15,8,9,8,13,7,9,18,12,9,13,6,10,8,12,5,7,16,18,10,7,8,6,7,10,7,12,19,7,5,5,18,12,9,13,11,6,11,17,8,11,10,8,10,14,7,12,13,18,5,5,6,8,8,5,17,6,11,6,16,6,8,12,13,10,15,10,9,6,13,14,15,13,13,8,4,12,10,8,9,13,8,6,15,9,11,9,8,14,16,9,9,10,12,5,7,10,13,10,8,11,8,18,5,10,17,6,6,6,5,11,8,17,14,11,7,9,13,22,5,7,7,13,16,6,7,6,11,10,10,7,14,7,8,8,9,9,18,8,13,8,11,6,13,11,17,10,9,11,4,14,11,13,14,10,8,5,16,11,15,10,15,10,7,8,5,7,11,5,18,11,9,7,4,2,5,9,11,14,9,10,15,10,9,9,6,11,6,9,15,11,7,11,17,7,11,13,11,8,9,16,6,12,11,10,13,8,7,9,9,16,10,7,15,12,5,15,10,7,8,14,8,14,8,14,5,14,13,8,15,7,11,15,12,13,7,8,8,6,10,8,13,5,14,8,15,14,15,8,14,9,14,11,15,13,14,11,6,12,11,13,9,11,19,10,13,14,3,6,9,6,12,8,7,11,19,7,7,10,7,9,7,8,16,13,11,9,9,9,3,6,8,16,10,20,15,10,6,5,8,14,12,11,13,7,7,7,4,8,6,15,13,7,6,12,10,13,15,9,12,11,8,3,10,8,8,15,7,15,7,12,9,9,10,9,13,8,11,7,14,13,4,9,15,11,6,14,8,10,13,8,12,8,12,17,25,10,3,10,11,14,11,11,13,5,17,14,6,7,23,12,14,14,12,11,16,9,9,8,8,11,11,12,14,5,13,9,8,11,13,16,8,9,11,8,13,12,12,12,8,13,5,9,22,8,7,11,8,12,4,7,8,8,11,8,10,11,12,11,11,8,4,5,9,12,16,6,14,10,10,7,9,13,13,7,3,5,16,9,7,10,9,9,8,9,8,3,9,7,6,5,11,6,10,7,6,13,7,2,6,10,12,9,10,11,7,11,11,11,5,10,14,16,10,9,10,8,10,9,11,11,13,13,11,8,6,9,12,7,15,9,15,19,6,15,9,10,9,11,7,9,15,13,10,12,6,10,8,7,11,12,12,6,9,17,6,11,18,9,11,13,9,9,8,15,14,10,6,11,7,10,10,11,8,8,10,11,10,9,5,12,15,10,14,6,11,14,3,4,9,10,15,8,12,11,20,14,5,7,5,4,9,13,21,7,8,13,8,5,11,17,9,8,7,8,14,11,5,6,11,15,6,8,8,10,11,13,10,15,8,15,7,12,4,19,8,5,8,5,8,8,5,15,11,6,5,8,6,10,8,6,13,6,9,10,10,6,10,11,11,10,14,11,9,8,11,14,10,14,5,6,7,8,8,12,15,18,4,9,10,14,14,9,7,11,15,11,12,4,19,7,6,12,14,6,9,10,8,7,13,11,11,6,8,11,12,7,9,17,7,12,17,13,9,9,8,4,12,15,13,13,10,6,10,15,9,10,15,16,7,16,19,8,13,14,9,6,18,15,8,11,11,6,6,8,16,9,10,5,5,10,9,12,18,13,8,9,12,8,15,10,11,18,13,13,19,12,7,7,6,13,10,14,9,5,15,6,11,8,11,14,10,10,13,8,6,12,13,9,9,12,12,10,6,6,13,10,5,13,8,11,14,13,9,11,9,11,12,5,14,6,6,8,11,8,15,7,24,9,6,12,11,10,12,8,7,11,11,16,12,7,12,13,7,11,8,13,11,13,8,17,14,4,8,14,7,5,11,13,11,16,14,6,7,11,14,12,9,14,7,11,14,8,8,13,19,9,7,8,13,16,8,8,10,8,10,6,9,10,14,5,8,8,8,12,13,7,12,6,6,10,11,10,13,14,14,12,5,10,9,10,7,6,8,6,8,10,8,5,15,16,12,10,8,15,10,14,14,8,5,10,5,12,11,4,8,11,15,11,4,12,8,11,7,17,15,10,12,15,10,12,9,6,9,19,9,7,7,8,14,10,8,11,7,11,15,11,8,10,10,12,8,9,7,17,14,10,16,10,10,5,13,13,10,5,7,6,7,8,9,8,13,5,12,11,7,11,15,10,13,11,14,12,15,13,10,11,8,4,8,16,11,8,14,10,14,13,5,13,8,17,20,9,11,8,10,16,14,6,10,4,13,9,9,12,9,12,9,11,9,7,17,10,8,9,8,6,9,10,6,12,9,14,13,10,14,11,7,12,12,12,13,14,9,12,15,12,16,11,11,10,8,7,6,17,27,7,6,11,18,9,4,10,11,9,7,12,12,14,8,8,7,12,7,6,11,8,11,5,10,11,5,15,10,10,16,5,11,7,4,22,17,10,11,7,20,13,12,13,14,11,14,10,10,8,7,10,6,5,8,8,12,10,4,8,18,4,17,10,11,9,7,7,7,12,18,7,9,12,9,9,14,14,8,12,5,6,15,14,13,18,21,17,9,4,10,12,6,4,10,8,11,14,9,14,12,10,14,7,9,8,17,8,7,11,13,5,12,14,6,7,13,6,15,10,11,12,16,5,6,14,9,13,8,7,5,12,17,10,14,9,11,8,7,12,12,11,10,13,10,16,10,16,19,4,14,18,11,16,10,8,12,8,11,7,7,6,7,8,19,13,9,7,12,9,14,12,7,15,15,10,8,12,7,10,14,7,14,5,14,5,11,14,16,4,6,15,19,8,20,7,6,12,12,11,12,16,9,14,7,9,11,10,4,8,14,12,10,13,15,7,9,7,9,6,9,6,14,10,10,7,6,7,17,6,12,10,10,13,11,13,15,7,15,14,8,11,11,17,12,4,10,10,8,8,14,9,13,10,7,11,5,12,12,16,12,10,10,14,6,12,6,7,13,9,8,11,12,11,8,9,11,9,15,7,10,18,11,9,10,10,16,7,13,5,10,6,12,9,9,9,9,7,7,15,4,8,8,13,8,8,12,11,9,9,16,13,6,9,13,12,16,7,10,13,10,10,9,11,9,22,5,10,6,7,11,10,9,11,12,4,18,17,8,6,20,12,13,17,10,8,12,9,10,14,14,6,9,17,10,2,7,10,14,16,5,9,16,8,8,13,15,13,8,7,11,14,7,8,4,9,10,11,12,14,8,12,10,11,9,12,14,10,7,5,5,5,7,6,8,10,10,10,8,13,13,9,13,8,9,11,12,8,12,14,7,8,10,10,6,5,3,6,8,12,7,18,9,15,9,7,8,11,8,7,9,10,7,7,11,12,9,13,6,7,10,7,14,6,6,8,16,7,7,5,11,12,17,11,10,16,10,15,11,5,3,9,7,10,5,13,15,7,12,15,10,5,8,15,18,7,8,12,8,6,9,3,6,11,5,11,7,9,12,9,3,16,9,18,22,9,14,7,10,9,12,5,12,9,13,16,6,11,15,14,14,11,9,7,8,13,14,9,14,10,13,10,13,16,7,6,14,10,6,12,13,15,8,12,2,7,13,9,11,12,13,15,9,16,12,11,9,20,12,7,6,12,5,9,10,9,12,8,12,5,7,10,11,9,11,6,6,7,13,11,12,13,8,6,8,7,9,9,8,6,7,12,13,5,12,12,13,7,9,14,12,9,11,11,13,11,10,6,9,12,7,6,8,8,9,10,13,13,7,8,5,10,8,15,8,11,6,11,6,12,8,18,16,8,14,19,8,10,5,15,15,7,5,18,15,8,11,7,12,8,8,13,7,7,8,3,8,10,12,5,19,5,3,6,14,18,8,7,6,7,15,8,12,11,14,16,13,8,10,12,12,15,10,7,6,9,17,18,8,7,6,14,12,9,12,7,5,8,14,7,9,12,6,5,8,7,8,10,9,17,7,7,9,8,11,15,16,6,12,9,9,5,15,10,14,10,5,10,16,15,10,6,13,7,13,9,14,9,10,8,10,8,15,11,8,13,8,12,10,10,7,14,12,5,15,6,8,8,8,7,14,13,9,7,14,13,7,14,13,6,8,11,14,7,7,12,6,6,10,12,7,9,8,8,8,7,13,14,10,14,9,6,9,7,2,11,10,10,11,8,5,7,9,8,13,11,5,14,6,11,3,11,15,7,10,9,11,10,10,7,10,21,7,12,15,13,7,14,10,9,12,7,13,5,13,6,6,7,9,12,8,11,15,9,9,9,10,16,8,15,11,12,21,9,12,9,11,4,11,2,10,8,11,11,3,10,13,10,17,8,9,14,9,7,10,6,6,14,3,13,10,12,15,13,10,8,3,9,5,10,6,14,18,13,13,6,5,11,7,12,12,12,20,10,8,12,17,7,8,13,4,10,12,13,3,10,21,15,17,15,8,17,11,8,8,10,15,8,8,9,9,11,8,5,14,8,19,5,14,12,4,11,8,12,7,8,13,19,11,13,9,12,18,8,9,12,7,20,9,8,15,10,9,3,12,10,10,6,15,15,11,12,5,11,18,8,4,8,18,8,8,8,6,13,13,9,6,13,16,10,11,8,10,11,17,9,10,6,7,8,8,11,14,14,10,12,4,15,12,14,9,14,8,13,10,5,6,8,14,5,6,5,10,11,8,6,14,18,16,16,6,11,11,8,13,8,11,9,9,7,9,4,12,18,11,14,10,15,8,3,10,6,10,11,17,8,14,5,10,13,9,11,6,5,6,8,17,9,5,9,8,6,12,18,7,7,18,10,12,6,15,16,14,11,9,11,15,6,10,13,11,11,8,12,7,11,6,12,5,9,15,15,13,7,9,9,11,11,5,12,13,7,15,14,7,11,13,10,5,13,5,8,9,8,13,11,8,14,9,14,10,13,12,5,9,8,9,7,14,9,9,8,13,9,12,8,12,8,7,6,8,12,13,8,15,11,13,6,12,7,11,15,6,8,17,17,15,11,9,10,14,12,10,9,12,7,12,7,11,7,15,15,5,6,9,13,8,12,7,19,8,11,12,12,13,7,12,8,6,9,9,12,11,8,6,11,6,8,10,12,6,11,8,6,11,9,12,18,6,7,7,9,8,6,18,5,12,18,14,8,19,5,16,9,14,15,9,11,6,8,10,12,7,12,18,9,13,7,7,15,151,9,15,6,7,11,4,7,16,11,4,15,5,14,13,10,12,12,10,14,9,9,5,4,12,18,11,10,5,4,11,9,8,8,12,5,5,12,16,9,16,15,8,13,9,13,22,10,12,6,7,7,12,13,9,14,5,8,8,8,9,14,14,6,4,6,13,10,10,9,9,8,10,9,13,13,12,5,15,13,5,9,13,9,8,8,4,10,18,6,8,9,10,10,10,10,11,7,10,7,8,9,14,13,11,13,13,7,9,11,11,11,9,11,14,15,8,13,8,12,16,8,11,5,10,10,12,16,12,6,11,12,14,8,11,9,8,12,3,14,14,17,6,9,8,13,19,6,15,14,7,10,12,10,4,8,5,12,11,8,18,5,7,5,18,8,13,12,14,9,8,8,5,10,7,12,6,11,9,12,9,7,4,3,9,5,4,7,11,7,9,11,14,15,15,18,6,6,7,13,10,12,5,10,8,12,9,9,14,10,11,8,7,17,12,10,8,10,8,12,11,8,8,14,7,8,6,9,11,9,4,14,9,6,9,9,11,9,13,10,12,8,9,10,8,11,17,16,10,9,11,10,13,12,15,13,11,9,8,10,10,13,15,6,9,7,11,19,9,7,13,8,12,17,12,6,14,11,12,12,6,10,8,10,17,11,11,5,7,11,11,10,5,9,10,5,12,8,6,5,10,7,10,7,4,11,6,6,2,15,11,10,14,15,17,12,9,14,16,12,14,8,10,9,9,8,9,5,12,10,14,3,10,16,10,14,6,13,12,5,12,8,15,7,5,13,9,17,8,5,10,10,6,19,7,10,10,7,7,7,9,15,8,6,14,10,15,10,9,4,11,17,9,10,14,7,10,7,16,5,6,13,9,6,13,16,8,14,17,7,15,14,14,7,12,6,13,10,13,14,10,9,10,10,8,12,5,8,7,10,5,6,19,16,14,5,7,10,10,9,12,7,11,8,9,14,4,14,12,5,13,10,13,10,15,12,12,8,8,8,13,8,11,12,12,14,10,15,7,9,15,14,10,4,9,5,7,19,7,12,10,4,4,13,11,10,9,5,15,12,10,14,9,9,16,5,12,6,13,10,3,9,11,9,7,11,8,10,8,12,12,14,8,13,10,3,16,10,14,18,13,5,12,10,13,10,10,9,10,12,9,6,17,11,8,14,6,5,8,12,6,5,12,8,14,7,6,14,12,10,16,12,11,6,4,8,6,8,12,12,17,10,8,13,9,8,12,18,9,16,15,11,12,16,9,15,6,11,11,14,14,9,20,3,10,13,11,16,15,12,8,7,4,13,5,9,13,12,8,12,9,9,6,9,8,8,15,12,9,8,11,18,7,9,10,10,13,13,12,5,20,10,8,6,3,10,11,12,11,12,11,11,16,10,17,6,6,17,10,12,9,13,12,8,6,11,10,16,7,10,6,8,15,11,10,13,8,7,12,8,13,7,7,12,9,4,9,15,8,18,10,7,7,14,6,12,13,10,6,10,20,9,13,12,14,9,13,8,16,9,9,8,9,10,8,14,5,7,7,8,9,7,9,14,12,11,14,8,8,14,9,9,6,7,16,7,13,11,14,8,7,5,15,6,20,14,6,7,11,11,11,11,9,9,7,11,16,15,15,6,9,18,5,8,12,19,14,13,7,13,9,13,10,9,9,10,6,7,8,9,6,14,16,18,10,16,8,7,16,9,14,8,7,13,12,10,9,11,7,14,14,7,16,15,11,13,11,15,6,11,5,11,11,10,14,3,11,8,11,5,12,12,5,6,16,6,11,15,7,3,7,10,13,7,13,7,15,10,8,12,9,12,6,9,8,17,11,8,7,2,7,12,9,6,8,11,6,7,17,7,10,10,10,14,10,5,17,9,7,17,11,11,5,11,6,5,8,7,10,7,15,19,10,9,12,12,10,6,11,6,13,9,14,10,6,9,14,9,6,9,14,10,7,14,11,11,6,6,8,9,12,6,16,11,7,19,11,8,12,9,7,7,6,6,9,9,19,8,11,18,6,11,9,12,10,7,19,10,14,9,15,13,9,14,9,8,10,6,7,9,14,7,15,3,9,2,12,9,9,13,10,16,11,9,13,11,9,9,7,18,6,16,9,7,9,5,13,7,12,6,12,11,13,14,18,6,8,7,16,9,10,14,8,15,5,12,15,8,7,7,9,7,20,8,9,17,5,15,14,7,15,19,11,15,5,11,12,7,7,11,14,16,8,17,7,13,10,15,10,11,5,14,12,9,7,7,9,11,14,4,13,12,2,12,15,5,14,10,11,14,8,7,10,7,5,11,7,17,7,8,13,13,11,15,7,11,11,13,12,8,7,15,8,15,11,16,10,8,4,6,11,5,7,13,19,10,9,11,12,10,15,9,8,8,8,7,16,13,10,8,9,10,9,13,14,7,7,9,10,9,10,10,7,9,9,8,7,12,6,8,10,6,17,10,7,13,8,7,8,18,9,8,14,13,8,21,2,15,7,7,4,17,12,12,11,14,17,9,7,10,12,13,5,13,5,11,12,12,10,9,8,17,8,5,9,14,9,6,5,13,5,5,3,12,10,6,12,8,6,13,11,12,12,11,11,15,7,13,16,10,8,12,7,9,10,18,3,13,11,13,5,6,7,7,11,7,13,16,10,6,18,13,8,9,9,12,7,12,7,7,13,9,5,7,17,8,16,15,11,13,12,7,9,12,9,10,8,8,5,7,9,19,14,9,6,10,10,10,13,11,8,10,16,13,6,5,13,8,11,18,6,10,14,15,9,10,7,12,4,15,10,13,5,11,10,8,10,12,12,6,9,15,17,7,7,8,9,7,10,17,9,10,18,12,11,10,11,7,12,7,7,12,14,17,17,16,2,9,10,10,9,12,12,11,13,10,15,11,6,16,13,9,12,7,10,7,16,6,11,14,9,6,12,8,12,14,12,12,8,7,7,4,13,14,18,19,15,9,9,12,10,6,11,8,5,5,11,21,12,13,12,7,12,11,7,9,9,5,10,8,6,5,4,8,8,14,10,7,9,11,7,17,11,11,8,10,12,7,9,21,19,17,6,11,15,12,8,8,6,8,8,9,2,13,12,8,12,9,7,8,12,8,9,13,6,6,17,9,12,11,6,12,12,18,6,12,15,9,11,5,5,12,6,6,13,8,7,8,17,10,8,13,14,11,13,9,8,10,8,7,13,15,13,12,7,15,6,7,9,5,14,11,14,7,8,15,9,5,10,7,11,9,12,15,15,13,13,9,8,18,10,13,5,8,7,7,10,7,11,11,7,9,9,10,7,14,8,15,16,11,8,10,12,16,7,12,7,6,13,19,11,5,5,8,13,9,8,7,5,3,6,8,12,12,6,17,8,6,10,14,12,12,5,15,6,11,13,8,6,14,9,13,16,6,13,16,9,13,7,12,6,9,10,2,11,11,8,6,8,7,13,6,8,11,12,17,15,9,10,12,6,7,8,7,6,9,9,7,18,6,6,5,9,14,9,13,5,6,10,7,12,13,17,13,11,10,10,11,9,7,14,5,9,14,10,13,8,14,7,13,8,12,12,5,9,8,10,8,11,9,19,12,6,6,14,10,9,5,13,12,7,6,12,12,10,8,13,8,8,10,10,14,10,5,8,8,7,4,11,7,10,13,9,8,4,12,11,8,8,8,5,11,11,10,7,6,7,9,4,7,13,7,14,11,6,14,13,5,11,6,5,9,11,18,10,16,13,8,10,4,9,10,20,16,11,8,4,5,5,11,6,17,7,8,8,9,5,15,15,6,14,11,10,12,17,8,6,6,9,11,6,4,10,16,11,11,6,7,19,12,8,6,9,4,10,18,9,10,5,12,7,15,5,14,8,5,8,5,11,10,8,20,5,6,15,13,8,15,7,12,9,10,15,5,4,11,12,6,3,19,8,20,6,10,16,17,9,12,11,3,9,8,9,10,12,9,9,5,8,8,7,8,9,19,10,4,4,6,10,10,6,9,9,8,13,10,8,13,11,4,9,10,11,7,11,16,7,10,6,11,14,9,12,9,15,15,8,5,7,15,7,19,8,10,11,5,11,16,12,5,15,15,10,9,12,8,12,10,7,12,7,13,14,5,7,14,14,9,5,10,12,11,9,12,8,11,6,6,6,5,9,9,8,8,5,6,13,10,7,12,12,5,19,6,8,8,9,4,11,14,7,20,12,10,7,12,14,10,12,16,9,15,11,7,11,8,9,5,8,7,9,10,9,10,14,10,7,6,7,5,9,12,8,10,5,8,10,5,7,6,11,8,6,11,6,11,10,9,14,10,7,11,14,7,4,18,8,9,17,11,13,5,20,12,7,9,6,17,6,10,11,7,9,10,9,13,12,7,12,12,6,9,13,12,6,13,16,9,9,15,12,11,3,6,8,16,6,9,9,11,11,8,7,7,12,15,8,6,9,12,8,6,17,13,12,8,9,4,8,9,5,5,12,9,15,14,18,9,10,6,7,5,9,7,8,16,8,12,16,6,14,11,4,8,4,12,7,9,8,17,6,5,8,7,4,9,11,8,7,7,13,12,8,14,14,11,8,9,13,12,11,7,8,9,11,9,7,13,17,18,7,11,11,14,4,7,13,12,17,15,15,14,11,13,7,6,18,8,5,13,14,11,10,10,12,13,12,10,16,13,9,8,8,9,6,14,5,8,12,7,13,10,6,13,10,11,8,8,10,4,11,11,12,11,11,12,12,13,19,15,16,9,13,5,8,21,10,11,12,10,7,14,9,9,18,6,4,6,7,6,10,11,12,13,15,9,7,17,12,8,8,8,5,6,12,8,15,13,8,10,13,13,15,7,6,6,9,11,8,18,10,18,22,8,6,6,7,18,6,15,9,7,7,17,6,15,14,4,6,15,5,8,12,9,12,16,13,10,8,8,15,16,7,9,10,14,22,9,12,14,15,5,7,22,11,11,4,4,3,8,16,13,6,12,9,11,8,6,9,6,11,11,6,13,7,12,10,11,14,7,7,20,14,18,16,12,5,14,8,6,10,15,11,10,10,8,9,6,13,5,8,14,6,12,15,10,6,13,9,9,11,8,5,11,12,10,8,7,12,13,7,8,11,8,12,12,14,6,16,13,7,9,4,18,8,16,9,11,11,9,15,8,11,3,9,13,7,6,11,12,5,10,6,9,7,11,7,7,10,8,7,11,9,12,11,14,12,12,10,19,10,7,12,9,9,9,11,16,4,12,8,7,5,8,8,8,13,9,8,6,7,15,10,6,12,11,12,9,8,7,9,12,13,5,12,7,17,15,10,11,9,8,8,7,10,9,8,17,8,11,15,14,10,10,10,10,15,9,5,12,4,8,9,16,13,10,10,13,9,10,8,6,12,12,3,9,15,7,10,9,7,8,8,11,10,8,15,7,14,11,8,19,15,8,2,7,7,12,9,10,5,12,7,7,4,9,8,9,8,17,9,10,8,5,21,17,16,3,11,9,10,5,5,7,11,9,14,5,16,5,6,9,11,12,9,9,6,12,8,11,10,19,7,5,9,11,12,17,12,5,4,16,10,5,9,15,7,7,6,2,6,5,12,7,9,6,9,13,8,11,6,7,9,8,8,9,4,5,8,11,15,7,12,13,20,11,13,14,5,6,5,9,17,5,10,6,8,10,12,19,13,9,7,8,12,7,13,9,12,12,13,17,7,18,7,5,6,7,10,8,17,10,6,16,12,11,17,16,17,7,10,10,6,11,11,9,10,8,13,17,13,9,9,15,9,12,16,13,5,6,11,13,9,8,21,8,12,7,10,9,9,16,9,12,8,8,12,9,10,8,9,8,6,5,6,17,6,7,9,10,15,16,6,12,7,14,5,8,16,4,11,12,11,14,9,7,11,9,14,10,19,11,15,10,9,16,17,6,13,11,11,10,7,8,10,7,6,15,17,13,8,12,10,11,15,6,12,14,13,6,6,6,15,14,14,8,10,5,16,10,7,5,5,19,15,12,8,5,11,9,8,11,11,11,7,7,6,9,12,13,20,14,10,5,16,17,14,8,15,13,14,12,8,11,13,19,12,9,8,10,8,21,6,6,12,5,8,14,7,11,10,9,7,5,7,16,6,15,6,6,9,12,10,8,6,8,17,10,12,9,15,11,12,12,12,12,5,12,15,12,5,11,7,5,4,11,11,16,10,8,11,9,12,7,13,13,6,9,6,13,9,21,10,11,9,9,5,14,14,13,10,14,8,5,10,14,13,17,10,11,14,17,7,12,14,5,14,4,15,15,5,12,8,17,6,23,18,13,9,4,14,8,10,8,12,8,7,11,7,11,10,15,8,11,9,6,11,6,12,14,8,15,14,2,7,15,8,4,10,13,8,14,13,11,7,7,19,9,7,14,7,6,10,11,6,11,12,7,7,10,7,9,11,11,12,12,14,6,9,8,11,8,8,17,11,11,8,10,8,11,9,5,12,8,4,9,8,7,8,8,11,6,10,9,6,4,9,11,5,7,7,8,8,12,9,6,15,13,7,13,16,11,13,13,17,9,12,21,15,15,7,13,5,3,3,7,5,7,11,13,9,8,7,9,14,6,12,11,13,8,9,11,13,13,8,11,12,17,6,9,12,8,16,10,10,8,11,3,15,8,12,14,15,8,7,17,10,10,12,14,14,6,8,13,9,17,8,5,10,12,13,17,11,11,11,10,14,14,5,7,12,10,17,8,13,16,5,12,12,5,10,13,13,12,13,6,8,10,14,11,4,15,9,10,8,20,8,8,12,8,8,8,9,9,12,10,13,14,11,11,11,9,12,15,7,4,10,9,15,16,11,7,16,8,17,8,12,5,11,13,8,12,12,12,9,5,15,12,7,10,13,7,11,7,9,14,13,9,13,10,6,13,13,9,10,5,20,4,7,7,13,7,15,12,18,8,7,15,10,12,10,9,11,8,5,13,11,4,6,10,5,18,9,7,10,17,11,9,7,5,15,7,12,10,7,12,11,5,12,7,7,7,8,7,16,11,13,8,9,14,10,12,10,9,7,12,11,11,6,17,6,9,14,8,7,7,12,10,10,6,13,14,4,9,7,6,10,8,12,16,7,10,8,14,13,12,8,10,8,11,13,4,11,16,6,17,14,9,14,7,7,9,9,17,7,11,8,9,14,9,5,11,10,13,17,13,11,14,10,7,5,10,10,11,10,9,5,4,9,7,13,20,6,5,8,18,10,7,4,7,14,15,9,18,7,4,16,14,12,5,3,17,9,13,15,9,10,7,7,11,10,9,7,13,12,14,11,7,8,12,5,13,13,8,9,8,16,12,12,4,11,11,16,6,11,11,12,8,11,17,11,13,14,10,13,10,13,7,11,11,3,10,11,13,12,8,11,13,14,14,9,8,8,5,9,10,7,6,17,8,15,4,13,5,8,21,8,8,8,9,10,12,10,11,11,13,16,5,10,12,7,8,14,10,9,12,16,10,8,8,14,6,8,11,7,9,9,8,9,5,8,15,13,23,8,14,5,10,13,5,12,12,10,10,7,11,9,12,9,11,14,4,5,18,9,10,10,7,22,11,11,12,8,13,13,4,10,11,13,6,13,7,5,14,12,9,10,9,12,5,8,11,8,10,3,3,14,16,13,15,16,4,6,4,6,13,13,8,19,7,7,6,6,9,9,6,11,18,5,8,7,11,19,11,6,10,7,11,9,14,6,12,8,9,9,8,6,13,7,16,10,10,16,10,11,11,2,4,19,12,8,7,5,3,13,6,15,11,13,6,16,8,9,11,13,14,14,14,5,7,14,7,6,15,15,4,5,7,11,12,13,6,14,9,6,8,4,6,5,6,6,16,13,8,12,10,4,14,10,9,7,6,4,5,12,8,6,11,7,10,10,8,15,9,14,11,12,14,8,9,12,6,4,9,10,20,17,8,11,9,3,13,12,8,11,20,5,9,14,9,9,6,17,6,13,16,9,10,13,6,10,11,16,10,6,9,8,11,13,8,12,11,11,11,12,7,11,14,13,4,9,8,8,8,7,7,8,10,15,9,12,7,10,11,4,7,7,14,17,7,12,9,15,6,12,14,11,8,11,17,12,6,12,6,14,13,6,11,8,12,12,18,14,10,10,6,8,16,6,9,16,4,9,11,10,18,14,13,10,7,14,14,22,9,14,11,11,9,7,11,11,11,13,10,11,10,15,18,13,8,6,14,10,11,5,8,4,11,10,7,8,18,9,14,9,8,10,13,8,8,16,5,14,15,13,13,8,6,6,9,9,7,14,9,11,8,6,12,18,7,14,17,11,13,11,8,15,18,9,14,11,5,9,14,9,5,7,15,11,15,6,11,8,9,15,9,6,4,6,9,13,9,7,11,8,8,6,5,10,9,15,13,13,11,17,14,12,8,13,5,6,5,8,8,13,17,11,13,15,11,9,6,11,4,10,13,10,9,5,5,8,9,7,8,4,13,9,10,8,8,7,18,7,12,7,10,16,6,14,9,18,15,16,16,10,11,13,14,8,14,6,9,12,10,14,7,7,7,11,9,13,11,9,6,12,8,13,5,9,10,12,4,17,9,3,7,10,9,11,17,11,12,9,7,7,7,11,11,11,4,9,9,7,12,9,8,11,9,18,13,9,11,11,15,17,10,7,17,12,6,14,6,14,16,9,17,6,8,10,10,12,9,14,13,9,11,19,13,10,7,10,10,10,10,8,15,13,10,9,9,8,8,11,11,11,9,12,11,9,10,9,8,10,9,9,14,17,7,4,13,7,10,5,12,4,7,9,15,13,5,17,10,6,15,21,9,2,16,12,10,3,9,3,8,13,9,6,9,6,16,11,12,5,8,7,12,14,9,9,7,8,13,15,8,16,14,11,5,12,7,12,15,14,10,14,12,11,7,10,10,10,15,16,6,16,10,8,4,15,13,17,15,9,4,14,8,12,10,13,11,12,7,7,4,6,11,7,2,9,19,13,9,5,11,3,13,14,6,10,6,14,11,9,12,10,12,9,12,13,8,6,3,10,14,11,9,6,12,16,12,7,6,15,12,11,16,14,9,11,14,5,7,14,9,12,8,7,8,9,10,14,14,3,5,11,14,5,11,12,11,8,11,5,10,17,7,15,13,8,11,8,5,5,5,10,15,13,15,6,9,6,13,10,12,11,12,10,7,22,9,10,11,13,7,12,5,17,7,10,14,8,7,4,17,12,13,10,13,10,20,9,13,5,4,10,11,16,12,14,8,10,5,9,16,8,16,8,13,10,2,10,4,17,5,16,12,10,14,11,8,10,7,9,10,14,15,6,9,5,8,8,10,12,6,5,18,11,12,13,6,10,7,15,8,7,6,12,10,15,8,14,15,10,4,5,13,7,18,9,12,10,14,11,4,11,6,14,5,16,7,2,6,11,10,8,10,12,9,19,13,9,6,6,9,6,15,14,9,11,11,14,12,6,16,9,9,6,3,6,15,15,11,6,12,13,12,7,8,13,9,9,6,10,8,6,15,7,20,6,21,9,13,9,6,18,6,10,11,9,6,6,9,12,12,9,5,11,10,9,11,8,8,11,11,17,8,7,6,12,15,14,12,15,17,7,18,9,12,10,10,7,11,7,8,16,13,18,12,2,5,9,8,10,11,9,15,14,13,7,10,9,7,8,6,13,13,12,7,13,12,12,18,11,15,7,13,11,18,12,7,8,12,11,12,15,11,10,6,17,8,12,5,9,6,10,10,14,10,6,7,10,8,6,8,11,6,15,14,12,13,12,14,7,13,5,12,18,9,9,12,20,13,8,15,15,11,9,4,9,7,17,13,9,14,10,11,14,14,16,19,11,10,2,13,10,8,12,6,18,5,11,17,6,12,15,7,11,14,8,5,15,15,8,7,5,12,16,10,13,8,11,8,12,13,10,8,10,11,5,7,13,9,11,18,9,13,10,10,9,5,13,15,13,30,9,7,4,14,13,12,8,11,12,12,6,11,6,8,13,5,8,5,13,11,11,10,9,10,10,5,8,10,4,7,4,12,9,10,5,6,7,5,11,13,15,9,12,17,16,16,12,18,7,12,11,11,7,14,5,9,14,7,15,8,14,13,14,13,13,8,16,18,17,3,11,14,6,6,10,8,7,5,12,11,8,9,13,5,8,8,18,12,5,19,18,4,12,7,14,8,4,14,5,4,9,8,6,18,13,10,9,12,8,16,7,17,6,8,12,7,8,11,14,12,15,18,8,8,13,15,11,3,13,11,13,7,9,8,11,15,5,9,10,15,11,9,7,7,10,10,15,9,3,5,16,9,8,11,8,8,5,7,6,10,12,11,11,13,11,13,12,12,7,9,6,12,26,7,18,10,16,14,8,12,7,17,17,6,10,16,16,4,10,10,6,6,8,11,9,19,10,13,7,10,10,9,11,8,7,7,3,5,13,8,12,6,11,7,17,12,6,15,12,13,10,9,10,13,10,12,7,14,8,13,9,8,14,10,19,11,11,4,8,7,8,11,8,6,10,14,11,18,10,7,4,9,14,11,4,14,5,15,12,13,9,5,7,11,11,12,4,8,19,8,10,10,6,15,8,16,10,10,17,11,11,4,9,12,17,14,4,7,14,11,13,8,10,9,13,19,9,2,9,5,11,5,18,10,11,7,7,3,2,14,10,12,14,5,10,7,8,11,7,5,8,10,14,9,10,8,15,5,11,6,12,13,10,8,5,12,7,12,6,9,13,13,9,13,16,13,10,7,9,22,17,8,14,11,6,9,13,14,8,11,9,8,9,4,10,7,10,8,8,9,10,12,8,12,11,12,13,12,7,9,15,13,6,4,7,20,14,10,2,12,6,13,9,18,10,16,8,9,7,10,5,22,9,13,6,8,5,11,10,15,10,10,15,9,8,7,12,10,10,17,13,7,8,17,6,14,12,4,11,7,11,11,8,3,15,12,13,4,8,11,9,14,9,11,9,6,12,13,12,3,11,16,11,11,13,3,12,7,8,11,10,9,13,10,10,12,18,19,7,11,14,11,17,17,9,4,5,19,10,8,7,8,9,8,6,9,9,7,7,9,14,10,7,14,10,14,11,16,11,13,7,12,10,3,13,9,15,5,6,15,13,9,12,7,8,9,14,6,10,9,8,16,8,6,9,4,7,13,14,10,9,11,11,10,15,7,11,4,8,11,6,16,13,18,8,5,9,6,12,12,11,15,9,13,15,9,9,16,8,15,8,10,9,9,9,11,7,9,13,12,7,9,6,8,13,16,10,6,10,17,9,12,10,11,9,10,9,5,11,5,8,12,8,9,18,9,10,7,18,7,7,5,10,14,12,9,17,8,17,19,13,14,7,20,7,18,11,10,11,5,13,6,6,4,11,6,9,6,11,7,12,8,13,8,8,15,12,7,17,10,9,9,8,8,13,9,12,13,11,7,12,5,9,12,17,6,19,6,11,12,18,10,14,9,8,8,9,7,14,11,10,4,8,9,16,10,8,12,8,10,6,14,7,8,10,9,6,9,7,15,11,6,9,11,7,9,18,11,13,15,11,9,7,15,10,8,13,15,7,11,13,9,14,2,14,14,7,14,6,14,15,15,10,8,10,7,9,11,9,8,15,9,13,10,9,12,7,9,7,16,11,10,5,15,12,13,14,9,10,7,12,4,7,11,13,12,11,9,16,8,14,12,13,8,5,11,11,9,8,3,15,8,10,9,9,6,8,11,15,8,13,10,18,12,12,14,11,8,10,8,7,8,9,11,12,10,7,8,14,6,16,11,14,9,3,8,14,12,10,10,12,9,6,9,7,8,8,11,10,8,10,9,15,3,11,15,13,7,18,6,5,16,8,9,13,12,16,12,8,9,13,5,9,15,19,10,8,12,13,11,6,14,14,9,12,14,15,11,12,11,4,10,17,9,13,12,7,12,11,7,6,12,12,9,18,13,11,12,8,11,12,10,14,12,10,11,10,10,7,16,11,9,2,13,15,7,12,20,9,13,8,16,13,13,15,12,9,9,17,14,4,14,9,13,17,7,11,8,10,15,5,11,8,9,10,10,6,11,10,21,8,6,11,16,15,7,8,7,9,11,7,7,10,7,6,12,8,10,9,17,5,10,7,15,14,6,12,16,7,14,7,17,10,9,11,6,9,9,6,9,5,11,9,7,11,8,6,11,14,10,14,5,15,6,14,12,5,13,7,11,18,16,14,4,7,9,9,10,6,12,8,5,8,13,14,9,7,7,11,10,8,6,13,9,6,10,13,6,10,20,7,9,9,7,12,9,10,12,12,8,11,11,11,18,11,12,14,12,11,11,11,11,8,13,9,11,5,7,17,7,15,8,11,8,8,12,12,10,9,10,10,9,15,11,7,12,12,8,6,14,7,15,9,8,15,9,5,10,7,14,8,10,16,7,9,8,7,9,7,17,10,11,7,6,9,10,9,14,19,16,8,8,14,8,14,12,9,8,8,8,8,11,13,10,15,4,9,5,14,7,14,16,9,11,6,6,10,8,10,16,14,7,15,14,17,10,15,8,9,6,13,10,7,18,8,13,11,10,14,14,16,3,10,11,7,8,12,6,9,8,6,8,10,7,12,13,11,12,4,8,17,5,12,6,11,4,17,13,7,6,10,11,7,13,12,8,10,11,15,17,10,17,13,16,16,13,8,16,10,16,8,6,13,14,4,9,13,8,16,14,6,11,17,6,11,12,14,15,10,13,14,9,11,13,13,16,11,9,11,11,13,13,8,14,6,15,16,10,7,8,9,10,15,4,7,6,10,10,16,15,11,4,9,10,5,16,12,9,13,10,11,7,14,13,6,16,8,11,12,14,13,5,11,8,12,12,7,15,11,7,10,15,10,13,19,3,12,6,8,3,13,13,8,11,13,14,4,9,14,6,8,12,5,13,11,17,5,12,11,8,15,2,9,11,7,8,6,13,13,15,14,6,8,11,10,6,7,14,11,12,11,13,15,11,6,10,5,12,17,12,17,5,10,9,12,7,8,9,10,21,10,9,8,8,7,8,16,10,9,15,11,5,11,11,11,7,4,8,14,9,10,7,6,5,12,17,11,5,11,12,8,6,11,10,5,9,5,9,8,14,11,8,15,10,7,6,10,9,12,17,15,7,13,13,8,16,7,8,13,16,6,11,3,12,14,6,17,14,12,8,6,6,8,7,10,4,16,17,15,8,10,7,9,9,6,7,8,9,6,12,12,8,13,9,17,11,13,7,13,12,15,12,8,20,14,3,12,11,10,15,11,13,10,11,11,9,8,8,10,10,19,6,5,10,5,6,6,5,14,8,12,13,7,9,5,10,14,12,7,12,9,14,13,12,5,10,12,11,6,8,9,12,14,3,7,10,17,7,5,12,9,6,10,9,6,10,8,7,6,14,12,10,13,8,17,12,14,10,6,12,12,6,15,12,14,13,9,10,12,13,5,11,14,5,7,3,12,19,4,11,6,8,10,7,16,14,12,7,5,10,9,7,4,5,9,16,11,7,9,7,8,7,7,6,11,12,14,13,14,6,8,10,6,7,5,10,12,14,12,18,11,8,7,16,6,11,6,14,10,5,15,11,8,14,11,16,11,7,6,8,13,8,8,15,16,12,6,9,15,9,9,9,14,6,14,11,16,10,11,6,8,10,8,10,6,13,14,12,15,9,22,13,6,10,13,14,11,8,10,5,7,8,5,12,15,8,12,6,6,9,10,8,11,10,10,13,15,10,10,15,2,8,11,7,4,14,14,10,8,21,8,9,5,9,12,16,17,15,17,9,11,13,15,6,17,14,14,5,7,8,14,16,7,13,9,10,14,13,4,10,12,11,15,14,12,10,12,8,10,8,10,10,6,9,7,13,7,4,15,6,5,14,10,11,10,12,6,14,8,9,13,6,7,10,6,9,14,7,11,4,14,8,8,8,11,15,5,10,11,8,10,12,11,8,11,8,9,6,9,11,5,10,10,10,7,8,13,12,9,7,9,9,11,14,12,8,9,8,11,18,11,10,11,16,10,13,10,18,14,8,6,9,6,7,15,7,12,8,11,15,12,6,4,7,9,7,10,7,5,12,15,7,6,14,6,7,12,10,13,7,10,4,8,9,4,10,11,7,5,6,8,5,15,12,9,10,18,8,15,17,14,9,9,10,8,12,10,9,6,6,7,10,10,7,8,9,11,11,8,7,8,19,12,12,12,5,13,11,9,5,17,12,11,11,12,5,6,4,11,4,11,15,12,16,19,13,9,6,11,8,10,10,12,13,10,10,9,9,19,9,10,9,10,7,3,7,4,12,9,17,10,5,5,9,8,15,14,11,7,12,14,11,13,7,17,10,9,8,12,16,12,14,15,9,10,6,11,10,13,7,15,11,12,10,11,14,6,9,11,8,7,8,14,10,12,16,16,3,12,12,7,9,10,6,11,5,5,11,8,9,5,11,16,14,14,12,7,6,10,13,8,14,11,16,11,12,12,17,8,16,13,8,11,5,9,7,9,13,6,4,5,9,13,17,6,11,5,13,15,10,3,9,11,8,12,14,16,10,7,11,12,10,16,9,2,6,8,12,9,10,15,17,7,10,11,10,11,6,15,8,14,6,9,13,8,15,8,7,8,8,9,9,7,13,14,7,16,6,7,10,6,6,13,12,10,3,5,9,6,15,8,6,14,4,7,12,10,8,10,5,13,13,14,7,11,4,9,3,6,18,8,8,11,11,15,7,8,10,6,8,8,8,14,12,10,8,10,5,11,6,11,9,12,18,10,7,7,4,12,14,8,14,15,6,7,9,4,16,7,16,10,12,9,5,5,15,12,5,7,9,7,5,6,11,15,9,7,12,6,14,4,8,8,5,5,6,13,4,11,15,15,9,9,13,15,14,10,15,9,15,16,6,16,10,5,14,5,6,9,9,18,9,7,6,9,14,7,11,21,7,12,8,11,4,10,12,4,9,7,7,14,8,11,5,8,12,14,6,8,10,5,17,10,11,9,10,4,7,6,13,12,3,7,7,9,7,5,18,10,4,15,17,5,8,7,16,9,8,10,5,12,7,8,12,9,20,10,12,4,7,11,14,11,7,15,12,10,17,15,14,12,9,7,8,8,9,7,6,5,16,14,12,9,15,18,16,9,11,11,12,11,10,8,9,7,7,7,10,8,15,7,10,8,13,15,10,13,21,6,7,9,12,10,10,8,10,2,6,10,9,4,7,10,15,18,9,7,14,6,8,11,14,8,14,13,9,9,8,11,7,15,7,9,7,4,8,17,9,4,9,7,11,9,5,5,3,9,14,14,12,6,9,11,16,6,8,9,11,6,9,10,16,13,6,11,11,11,16,14,7,17,11,15,14,11,11,10,11,2,9,10,12,6,7,6,6,10,11,8,6,13,10,19,7,15,13,11,3,13,15,5,7,14,15,12,11,9,8,6,16,9,12,12,3,15,17,13,8,12,11,9,8,13,13,7,9,8,8,10,7,11,14,13,13,11,8,13,9,11,4,7,7,12,7,14,16,13,5,7,7,11,9,14,8,5,9,5,16,10,4,6,15,6,16,11,14,12,20,10,15,13,7,8,8,7,6,6,7,7,8,8,11,9,7,6,10,10,5,8,6,7,16,7,5,9,9,7,7,16,9,13,11,14,12,7,6,8,14,10,9,4,8,12,9,19,11,7,11,14,7,15,8,5,6,16,5,8,17,14,7,14,7,11,8,11,5,6,5,11,7,8,9,6,8,11,14,10,18,22,9,8,10,12,4,15,8,7,13,10,8,9,7,8,11,16,9,7,8,8,5,17,14,9,10,7,16,10,20,9,9,10,5,12,12,9,8,6,13,11,6,8,6,13,7,11,9,12,12,14,8,10,21,9,9,15,7,15,8,9,17,7,12,13,6,9,9,9,18,8,13,11,10,16,6,6,12,8,9,13,9,10,6,10,4,18,8,14,6,9,7,6,7,7,5,11,12,20,6,12,12,19,9,11,7,9,6,6,12,8,8,14,14,11,7,13,12,7,5,11,12,7,8,15,9,11,8,14,7,8,10,12,7,9,17,11,6,7,13,14,12,12,4,14,13,8,11,15,9,12,7,8,9,19,8,5,8,15,11,10,11,10,7,10,11,3,11,17,12,4,9,12,8,12,10,14,9,16,10,7,18,7,10,16,12,14,15,16,8,11,12,12,16,13,8,12,4,9,7,5,14,11,9,13,8,6,7,13,17,4,14,13,17,12,10,13,14,8,5,14,12,5,9,10,16,7,16,13,13,17,14,7,8,6,12,10,11,14,8,8,7,4,4,9,7,11,11,12,11,8,11,8,8,15,4,9,11,3,7,14,10,11,13,15,9,15,13,11,2,12,5,11,11,13,9,11,12,10,15,14,13,13,6,12,11,9,18,8,11,6,10,13,11,12,7,15,9,11,12,12,8,8,8,13,12,17,9,5,14,12,12,15,10,9,4,18,9,8,13,9,8,12,13,14,12,20,11,19,11,6,6,8,12,16,12,13,13,12,7,13,8,16,5,8,8,18,5,12,16,14,9,7,7,4,3,12,7,13,18,14,14,7,7,6,6,8,8,11,9,11,12,11,5,6,7,11,8,7,16,8,14,15,12,10,11,16,19,12,8,3,10,8,9,11,14,10,5,5,11,14,8,10,10,6,12,14,8,8,7,5,11,10,8,12,8,9,10,8,7,9,7,8,13,9,17,11,4,10,11,12,15,11,8,13,9,13,8,13,7,11,14,9,12,6,4,12,7,5,5,9,6,6,8,4,15,10,10,15,7,7,6,9,6,2,9,10,10,15,12,8,9,9,9,9,11,6,6,13,14,11,13,14,8,8,11,11,15,4,8,7,19,14,13,7,7,13,4,11,7,16,10,3,8,11,8,7,11,11,12,12,5,9,6,9,13,12,8,10,14,10,12,14,11,13,11,7,6,8,8,10,15,14,14,5,11,7,13,4,11,10,8,11,8,17,13,9,9,6,6,9,13,7,12,6,9,8,11,7,17,14,8,6,11,10,13,9,11,4,16,11,15,9,16,10,14,12,11,8,6,16,11,13,7,9,9,5,9,7,9,7,7,13,7,12,16,9,5,17,14,3,15,13,5,10,10,9,6,5,4,6,4,17,13,8,14,13,10,10,8,6,13,6,7,7,7,11,6,10,9,11,12,8,10,12,10,6,6,6,9,6,12,23,4,12,6,5,10,11,13,12,9,11,15,13,5,15,11,13,15,11,7,13,22,9,9,7,13,16,15,12,13,11,17,11,9,10,7,10,14,3,8,15,9,15,13,7,15,10,6,7,21,12,4,9,9,13,8,4,15,10,11,3,9,8,10,15,13,13,16,7,12,9,13,9,5,11,8,12,12,6,10,9,18,10,13,8,12,10,11,7,11,11,8,10,13,11,15,7,5,7,17,8,11,16,19,10,8,9,14,8,13,10,7,7,5,13,12,6,11,6,10,15,7,6,8,7,4,9,10,4,13,3,11,7,7,14,17,9,19,6,12,9,9,15,14,7,15,15,14,5,14,9,8,13,14,11,8,7,14,5,7,5,13,15,6,9,9,8,13,7,6,5,10,13,8,15,7,9,6,9,9,8,10,9,11,10,11,7,12,9,10,7,6,13,4,10,8,9,14,13,6,11,16,14,10,8,11,14,14,9,9,14,8,9,11,10,14,14,18,10,11,7,7,19,10,5,9,7,11,15,11,14,10,8,8,12,10,14,13,8,12,16,8,9,12,8,15,15,10,5,4,6,6,11,12,19,7,15,10,13,7,7,12,8,11,9,16,8,10,4,15,8,7,5,8,8,7,9,9,7,13,8,13,12,6,8,13,11,12,16,10,6,14,15,11,4,8,5,6,14,8,14,7,8,11,6,2,3,21,12,4,14,10,5,15,15,10,7,11,4,12,7,14,11,9,5,16,6,6,5,8,14,7,7,11,6,8,10,15,16,7,5,8,13,8,11,6,5,11,12,11,14,10,10,8,14,10,16,12,10,15,7,11,12,9,13,12,17,7,7,8,8,11,10,13,6,7,15,8,17,16,7,14,13,8,14,7,16,9,14,6,13,13,14,7,10,10,5,9,7,7,12,9,18,15,3,8,7,10,16,11,8,13,7,16,6,11,10,12,11,12,14,9,4,11,9,8,14,9,9,9,14,10,9,10,5,7,9,9,14,15,6,11,11,7,14,14,13,13,11,11,14,10,7,16,7,8,9,15,9,12,11,11,11,6,11,7,12,7,11,7,11,10,19,11,17,12,13,15,12,9,5,5,9,11,16,14,6,15,14,6,14,7,16,9,10,16,10,8,3,11,12,4,8,14,16,7,12,5,9,10,9,5,12,13,8,6,10,11,9,9,8,8,6,19,10,11,14,8,18,8,14,8,5,5,14,6,10,7,12,7,11,7,15,11,7,10,10,17,9,7,13,7,17,10,10,15,16,10,11,9,12,7,11,14,8,5,10,13,10,10,10,9,9,9,8,8,8,17,5,7,7,8,9,12,10,6,6,7,18,5,7,14,12,12,11,8,11,9,11,12,13,7,16,5,16,5,11,10,7,8,13,6,10,8,9,14,15,10,18,7,4,13,6,11,13,12,5,13,12,12,8,10,13,9,11,4,7,7,4,6,6,11,9,13,13,6,11,5,7,10,11,8,2,16,7,4,12,12,8,7,9,15,15,13,11,17,11,8,11,7,13,9,6,13,11,15,6,10,20,20,17,13,9,7,7,7,5,14,15,18,9,19,14,6,14,7,14,7,6,8,13,7,16,10,11,5,12,5,11,9,7,5,5,16,6,10,14,17,13,12,10,7,13,11,38,7,8,8,9,9,3,12,15,6,11,7,8,13,11,9,11,3,11,5,21,6,14,6,9,5,16,14,8,7,17,13,13,4,14,10,9,12,4,10,13,7,12,12,15,9,5,9,9,7,13,6,8,6,5,11,16,4,10,9,16,5,9,8,10,5,11,11,8,6,6,12,18,13,17,9,8,8,11,9,4,7,11,8,17,9,7,10,20,11,8,13,10,15,8,5,9,11,6,13,6,19,7,8,12,3,10,12,12,9,11,9,4,9,9,6,6,17,9,16,17,9,12,19,7,7,12,9,8,7,9,12,4,11,21,7,11,11,21,12,12,15,19,6,8,10,13,8,13,7,8,17,11,8,6,14,15,12,8,8,11,6,12,14,12,7,10,12,9,4,7,11,8,5,7,11,10,7,13,5,7,10,6,7,7,5,7,6,8,9,17,7,9,6,12,5,10,8,6,9,4,15,13,5,9,15,10,18,13,10,11,14,13,8,12,5,11,17,5,5,16,9,14,8,8,14,16,5,16,9,10,7,8,7,10,12,14,10,16,6,8,13,15,13,8,10,9,8,12,14,14,7,8,9,13,11,9,8,10,12,17,4,11,7,15,14,15,14,13,5,6,9,9,9,15,14,7,11,8,9,4,11,9,11,6,17,8,4,4,6,7,9,12,9,7,15,17,12,8,7,14,5,11,5,9,14,12,10,12,10,13,12,9,4,10,16,6,13,9,9,9,11,12,12,6,12,6,8,9,4,10,12,13,8,11,11,7,13,11,7,6,11,9,13,5,9,17,9,15,9,10,13,11,10,13,11,6,9,9,10,9,7,5,7,8,12,11,8,13,12,10,10,5,11,8,10,15,15,6,7,14,7,12,9,5,10,15,8,6,9,9,8,7,10,6,9,8,17,13,12,7,8,14,9,6,9,7,19,6,13,7,14,8,15,9,12,6,6,12,11,14,18,8,17,7,6,10,4,10,16,11,20,11,10,11,11,11,12,9,12,13,8,9,7,8,12,10,16,11,6,6,5,15,8,6,13,6,10,4,10,11,13,10,11,5,8,8,8,7,6,12,15,12,9,10,5,7,15,6,2,11,10,16,5,6,7,9,8,22,13,7,15,9,17,7,11,6,12,7,6,6,9,11,19,8,15,10,9,16,14,14,6,12,14,4,8,12,20,14,5,11,9,4,15,4,4,5,9,9,10,10,12,10,11,11,15,6,4,13,12,5,8,12,15,14,8,13,9,14,7,5,4,6,17,8,8,12,14,13,6,20,23,9,6,3,8,7,17,14,14,11,4,6,17,5,4,15,10,18,12,9,6,13,6,15,8,8,12,8,10,14,13,8,13,8,9,7,8,10,13,6,8,9,6,15,12,7,9,13,5,6,7,7,7,10,9,12,5,11,14,20,16,11,9,15,14,13,12,6,11,10,16,13,9,10,9,14,9,10,6,13,3,9,12,14,11,15,6,10,16,12,9,11,8,9,9,13,12,8,11,8,15,5,7,7,11,7,15,13,11,8,6,5,11,9,12,9,13,8,10,13,14,11,13,10,6,5,8,15,6,9,9,12,15,11,5,10,11,5,10,6,9,12,10,19,13,10,12,12,10,7,10,7,12,16,10,13,10,4,4,6,8,11,9,11,6,11,15,10,10,12,13,6,10,14,9,9,17,3,5,16,12,9,13,8,11,8,5,5,17,13,9,15,14,7,16,10,12,13,5,7,8,13,12,11,7,11,13,17,13,10,6,10,20,8,10,12,9,21,14,13,14,6,8,11,10,6,6,11,11,10,7,9,7,12,6,12,13,7,8,7,7,8,11,6,13,13,7,11,11,10,12,13,12,11,11,12,7,14,6,12,6,7,10,12,10,19,13,8,13,12,7,28,17,7,11,14,9,5,14,9,13,12,9,10,10,14,10,19,9,12,11,12,11,8,9,8,7,3,5,12,11,8,9,7,14,12,11,10,12,7,5,10,7,11,10,12,14,6,9,6,9,12,5,8,10,7,9,7,17,7,18,10,7,8,8,13,9,10,10,10,8,12,9,7,13,12,6,9,8,14,12,13,16,12,10,15,7,9,7,11,11,17,10,9,16,8,7,9,6,13,3,10,10,8,13,11,9,8,8,5,15,15,6,6,8,5,14,11,6,11,12,7,9,5,13,8,4,12,11,8,8,7,18,7,9,12,11,8,15,10,16,13,3,12,10,3,17,9,7,13,12,18,8,10,14,14,7,9,12,7,8,8,8,9,9,16,11,11,14,13,17,10,19,13,11,10,6,15,13,14,10,14,12,10,13,13,13,13,10,13,6,12,14,8,12,9,15,11,9,8,19,18,22,18,12,8,11,10,7,6,6,15,7,13,12,9,6,11,7,15,16,10,9,11,15,8,7,7,16,10,9,15,6,11,12,10,3,11,7,10,9,8,7,12,9,14,14,10,13,9,14,12,6,9,14,7,13,11,6,6,8,7,7,14,9,7,7,12,10,12,11,10,9,11,10,10,10,12,7,6,13,14,11,8,9,9,13,13,9,3,8,8,14,10,7,14,9,8,11,20,16,8,5,12,12,11,9,14,9,10,12,6,7,5,11,5,15,12,15,12,13,12,8,9,15,6,17,9,9,16,10,11,5,12,6,12,11,8,20,5,10,5,7,20,15,14,5,12,6,12,11,7,8,14,15,10,7,23,7,16,6,10,9,17,5,8,18,12,13,6,21,16,5,6,7,13,5,7,11,9,10,8,16,15,11,8,15,7,5,16,6,8,9,17,7,7,13,11,2,10,12,9,4,5,13,8,8,10,14,11,14,14,6,5,11,2,8,12,9,7,4,12,24,12,14,10,15,10,12,6,5,10,7,13,12,14,7,5,11,9,6,4,9,9,13,15,10,7,11,16,10,8,6,10,10,9,15,13,11,10,5,8,15,12,6,12,8,14,10,11,9,12,14,14,11,14,8,10,10,10,15,12,8,10,9,13,10,9,12,12,7,6,8,14,9,10,16,12,11,7,17,10,3,8,6,8,5,5,7,7,12,16,15,10,6,7,12,5,9,10,9,15,9,16,9,13,12,11,3,16,15,12,14,10,9,9,17,13,16,16,9,11,12,9,6,14,9,10,7,10,13,10,12,6,14,16,13,13,14,15,4,10,6,15,12,8,6,12,10,16,11,13,9,14,13,9,7,12,7,11,10,8,22,7,14,17,11,10,9,3,11,5,11,7,10,14,14,9,18,8,6,8,14,9,6,7,10,5,7,10,10,12,10,6,9,8,14,11,8,10,13,8,15,10,5,7,11,6,7,17,8,11,13,7,14,13,6,11,15,7,14,9,14,9,9,10,15,30,13,13,11,5,11,17,14,8,15,14,11,8,15,13,8,7,11,8,7,7,11,8,9,14,16,10,9,10,7,14,12,15,9,12,7,16,10,5,7,10,14,12,9,15,6,13,10,9,8,13,10,16,7,7,11,10,11,5,6,10,8,5,11,2,10,5,9,20,9,10,8,10,9,11,8,14,12,16,11,11,5,10,12,11,9,8,11,8,17,5,7,9,18,10,10,13,10,6,8,12,7,10,12,10,11,6,6,6,14,5,8,7,12,5,16,10,12,14,7,11,6,9,10,12,15,15,16,8,11,11,7,9,11,8,7,6,10,8,6,14,11,8,5,12,7,13,10,11,11,12,9,9,12,9,13,7,14,11,16,8,17,5,7,8,7,11,8,12,3,9,6,10,7,9,9,5,11,8,12,11,8,5,9,14,11,9,7,10,11,13,12,14,9,16,15,6,11,9,14,7,12,11,14,10,14,10,7,13,9,15,12,6,13,10,11,7,11,5,8,7,11,11,8,11,10,11,13,12,10,13,10,18,11,12,17,16,11,5,13,15,7,8,9,12,4,15,10,15,16,17,7,10,5,12,9,11,7,7,6,14,8,10,14,12,15,16,9,10,11,5,16,9,8,5,10,13,18,9,13,10,6,15,12,11,10,15,9,5,8,14,7,13,8,7,7,6,8,10,5,7,11,6,14,14,11,10,14,11,11,6,8,6,10,7,13,8,7],\"xaxis\":\"x\",\"yaxis\":\"y\",\"type\":\"histogram\"},{\"alignmentgroup\":\"True\",\"hovertemplate\":\"is_sarcastic=1<br>WordCount=%{x}<extra></extra>\",\"legendgroup\":\"1\",\"marker\":{\"color\":\"gray\",\"line\":{\"color\":\"#000000\",\"width\":2}},\"name\":\"1\",\"notched\":true,\"offsetgroup\":\"1\",\"showlegend\":false,\"x\":[8,8,9,13,12,9,5,9,14,12,14,8,18,7,11,10,8,8,12,4,13,6,8,12,12,6,11,10,12,10,12,5,11,13,5,15,19,8,12,13,6,9,7,7,7,8,11,6,4,10,17,10,17,13,5,17,9,11,18,16,11,12,7,14,12,7,6,10,18,11,6,7,6,8,11,7,14,15,20,10,14,3,8,13,13,14,16,11,14,7,18,15,7,9,10,5,3,5,7,11,12,10,19,10,6,11,12,11,13,11,10,10,8,5,6,9,13,10,8,9,17,10,10,14,19,8,7,14,8,5,7,5,11,12,14,6,8,7,16,10,6,12,10,7,8,11,11,6,7,12,15,9,12,5,10,7,9,5,9,11,8,9,9,11,10,14,10,7,12,17,17,14,9,13,13,4,10,13,8,7,11,14,10,11,10,13,10,11,6,18,8,9,7,15,7,6,6,11,13,10,6,15,7,11,8,13,10,14,7,14,11,8,10,10,15,10,13,9,9,7,5,8,7,8,4,10,8,6,8,4,12,11,9,10,6,8,9,6,4,12,19,11,7,12,9,10,17,9,18,14,15,12,7,8,9,9,9,6,5,10,5,12,11,16,14,20,5,5,15,11,14,9,5,10,7,11,9,8,20,10,7,16,12,10,14,5,8,14,12,7,5,13,12,8,8,12,6,10,10,13,14,10,10,10,5,6,4,11,7,6,4,14,10,12,7,14,10,7,11,7,8,5,8,6,7,7,9,12,12,8,10,14,9,12,14,14,10,8,17,3,9,7,17,6,10,9,6,12,16,15,13,16,8,16,5,13,9,7,8,14,10,11,6,13,7,13,5,12,10,9,11,10,3,13,7,11,6,10,14,7,17,6,7,10,13,2,8,4,13,14,17,12,7,13,12,9,12,11,13,5,9,7,6,12,11,10,6,11,10,13,10,7,5,9,11,11,9,6,9,10,13,9,12,7,15,6,11,6,3,9,8,8,9,16,4,12,5,8,5,7,10,6,3,5,7,4,9,14,10,12,14,18,11,10,5,6,10,10,9,11,7,11,8,12,13,4,8,5,12,7,17,8,17,8,16,9,15,11,6,13,11,7,9,7,11,10,15,11,5,10,6,9,3,8,13,5,9,6,7,15,9,6,8,5,9,12,16,10,9,9,15,6,8,3,10,13,12,9,16,10,14,8,11,12,9,14,15,11,19,4,17,10,9,8,13,15,6,10,13,9,8,9,2,12,11,15,9,9,11,13,9,11,15,11,8,18,10,15,8,3,12,9,5,6,9,9,13,12,9,12,7,15,13,7,7,15,5,11,13,15,23,18,9,9,9,7,14,13,9,12,12,14,13,9,7,8,9,13,15,10,8,10,7,9,6,11,10,10,14,10,9,3,8,12,9,8,7,10,18,10,4,14,8,7,4,11,11,12,9,6,7,14,13,10,9,6,6,12,4,11,5,9,7,10,12,8,6,6,12,8,13,9,12,7,13,7,10,10,5,6,4,11,7,9,6,9,8,12,6,6,10,11,10,13,11,12,8,7,7,17,15,10,24,11,8,8,11,10,10,2,8,9,14,7,12,17,7,8,12,10,10,14,15,5,7,19,13,15,13,15,3,15,7,16,7,13,8,11,6,7,7,9,11,6,13,14,5,12,11,9,9,7,8,12,16,9,7,9,9,10,2,12,9,12,8,5,10,5,15,15,13,4,6,9,11,14,10,7,11,6,10,11,6,7,9,9,7,17,11,8,15,9,6,11,10,14,12,13,12,12,7,10,7,9,6,10,12,9,15,15,9,7,7,10,13,7,17,7,14,12,14,5,15,15,8,11,4,14,9,12,13,14,14,13,10,7,16,14,14,16,12,4,15,5,15,10,8,11,12,5,16,6,14,6,14,7,9,13,9,12,7,8,13,4,8,2,9,10,9,10,8,11,17,9,12,16,18,3,8,15,4,9,7,12,12,6,11,9,9,6,16,5,9,11,7,12,6,11,10,12,5,14,8,12,9,10,10,6,12,18,13,10,6,16,12,11,5,7,9,11,6,10,8,8,11,7,13,8,14,9,7,10,7,14,15,7,10,11,12,13,17,11,8,11,7,17,9,8,11,9,12,13,8,6,12,18,12,6,14,13,9,19,11,11,13,6,9,7,5,10,10,9,8,7,6,8,11,10,7,10,7,12,7,7,9,13,14,10,12,13,11,2,6,7,10,9,13,16,9,14,6,10,11,10,15,10,4,9,9,11,16,14,9,12,15,10,11,7,11,12,17,14,6,15,11,12,10,12,13,7,10,9,7,10,11,11,12,9,12,14,6,13,13,7,9,8,12,10,6,16,11,12,16,8,7,7,14,8,28,14,12,9,11,14,7,16,12,8,10,6,12,10,11,9,5,13,12,14,8,12,8,8,3,10,12,10,16,7,12,8,9,6,11,13,10,8,7,11,15,15,10,16,16,12,11,9,6,3,7,10,14,11,11,13,11,13,11,11,5,4,11,17,4,14,6,7,15,5,14,10,18,17,5,12,11,5,12,8,8,7,5,18,9,11,17,14,7,7,10,16,10,11,17,8,11,19,11,12,12,8,8,15,21,11,10,9,10,6,7,8,5,11,10,13,10,8,10,4,13,14,9,10,12,14,5,13,9,21,12,14,10,11,7,7,10,10,9,24,10,12,10,10,7,10,7,11,8,11,17,6,7,6,11,6,7,15,7,12,3,11,9,9,12,12,18,10,6,9,10,14,9,20,18,10,10,7,8,15,6,6,14,5,13,11,16,10,11,8,9,17,18,7,6,9,8,7,12,8,14,11,17,10,8,11,15,14,6,11,19,7,10,8,11,9,10,15,8,9,8,13,7,9,18,12,9,13,6,10,8,12,5,7,16,18,10,7,8,6,7,10,7,12,19,7,5,5,18,12,9,13,11,6,11,17,8,11,10,8,10,14,7,12,13,18,5,5,6,8,8,5,17,6,11,6,16,6,8,12,13,10,15,10,9,6,13,14,15,13,13,8,4,12,10,8,9,13,8,6,15,9,11,9,8,14,16,9,9,10,12,5,7,10,13,10,8,11,8,18,5,10,17,6,6,6,5,11,8,17,14,11,7,9,13,22,5,7,7,13,16,6,7,6,11,10,10,7,14,7,8,8,9,9,18,8,13,8,11,6,13,11,17,10,9,11,4,14,11,13,14,10,8,5,16,11,15,10,15,10,7,8,5,7,11,5,18,11,9,7,4,2,5,9,11,14,9,10,15,10,9,9,6,11,6,9,15,11,7,11,17,7,11,13,11,8,9,16,6,12,11,10,13,8,7,9,9,16,10,7,15,12,5,15,10,7,8,14,8,14,8,14,5,14,13,8,15,7,11,15,12,13,7,8,8,6,10,8,13,5,14,8,15,14,15,8,14,9,14,11,15,13,14,11,6,12,11,13,9,11,19,10,13,14,3,6,9,6,12,8,7,11,19,7,7,10,7,9,7,8,16,13,11,9,9,9,3,6,8,16,10,20,15,10,6,5,8,14,12,11,13,7,7,7,4,8,6,15,13,7,6,12,10,13,15,9,12,11,8,3,10,8,8,15,7,15,7,12,9,9,10,9,13,8,11,7,14,13,4,9,15,11,6,14,8,10,13,8,12,8,12,17,25,10,3,10,11,14,11,11,13,5,17,14,6,7,23,12,14,14,12,11,16,9,9,8,8,11,11,12,14,5,13,9,8,11,13,16,8,9,11,8,13,12,12,12,8,13,5,9,22,8,7,11,8,12,4,7,8,8,11,8,10,11,12,11,11,8,4,5,9,12,16,6,14,10,10,7,9,13,13,7,3,5,16,9,7,10,9,9,8,9,8,3,9,7,6,5,11,6,10,7,6,13,7,2,6,10,12,9,10,11,7,11,11,11,5,10,14,16,10,9,10,8,10,9,11,11,13,13,11,8,6,9,12,7,15,9,15,19,6,15,9,10,9,11,7,9,15,13,10,12,6,10,8,7,11,12,12,6,9,17,6,11,18,9,11,13,9,9,8,15,14,10,6,11,7,10,10,11,8,8,10,11,10,9,5,12,15,10,14,6,11,14,3,4,9,10,15,8,12,11,20,14,5,7,5,4,9,13,21,7,8,13,8,5,11,17,9,8,7,8,14,11,5,6,11,15,6,8,8,10,11,13,10,15,8,15,7,12,4,19,8,5,8,5,8,8,5,15,11,6,5,8,6,10,8,6,13,6,9,10,10,6,10,11,11,10,14,11,9,8,11,14,10,14,5,6,7,8,8,12,15,18,4,9,10,14,14,9,7,11,15,11,12,4,19,7,6,12,14,6,9,10,8,7,13,11,11,6,8,11,12,7,9,17,7,12,17,13,9,9,8,4,12,15,13,13,10,6,10,15,9,10,15,16,7,16,19,8,13,14,9,6,18,15,8,11,11,6,6,8,16,9,10,5,5,10,9,12,18,13,8,9,12,8,15,10,11,18,13,13,19,12,7,7,6,13,10,14,9,5,15,6,11,8,11,14,10,10,13,8,6,12,13,9,9,12,12,10,6,6,13,10,5,13,8,11,14,13,9,11,9,11,12,5,14,6,6,8,11,8,15,7,24,9,6,12,11,10,12,8,7,11,11,16,12,7,12,13,7,11,8,13,11,13,8,17,14,4,8,14,7,5,11,13,11,16,14,6,7,11,14,12,9,14,7,11,14,8,8,13,19,9,7,8,13,16,8,8,10,8,10,6,9,10,14,5,8,8,8,12,13,7,12,6,6,10,11,10,13,14,14,12,5,10,9,10,7,6,8,6,8,10,8,5,15,16,12,10,8,15,10,14,14,8,5,10,5,12,11,4,8,11,15,11,4,12,8,11,7,17,15,10,12,15,10,12,9,6,9,19,9,7,7,8,14,10,8,11,7,11,15,11,8,10,10,12,8,9,7,17,14,10,16,10,10,5,13,13,10,5,7,6,7,8,9,8,13,5,12,11,7,11,15,10,13,11,14,12,15,13,10,11,8,4,8,16,11,8,14,10,14,13,5,13,8,17,20,9,11,8,10,16,14,6,10,4,13,9,9,12,9,12,9,11,9,7,17,10,8,9,8,6,9,10,6,12,9,14,13,10,14,11,7,12,12,12,13,14,9,12,15,12,16,11,11,10,8,7,6,17,27,7,6,11,18,9,4,10,11,9,7,12,12,14,8,8,7,12,7,6,11,8,11,5,10,11,5,15,10,10,16,5,11,7,4,22,17,10,11,7,20,13,12,13,14,11,14,10,10,8,7,10,6,5,8,8,12,10,4,8,18,4,17,10,11,9,7,7,7,12,18,7,9,12,9,9,14,14,8,12,5,6,15,14,13,18,21,17,9,4,10,12,6,4,10,8,11,14,9,14,12,10,14,7,9,8,17,8,7,11,13,5,12,14,6,7,13,6,15,10,11,12,16,5,6,14,9,13,8,7,5,12,17,10,14,9,11,8,7,12,12,11,10,13,10,16,10,16,19,4,14,18,11,16,10,8,12,8,11,7,7,6,7,8,19,13,9,7,12,9,14,12,7,15,15,10,8,12,7,10,14,7,14,5,14,5,11,14,16,4,6,15,19,8,20,7,6,12,12,11,12,16,9,14,7,9,11,10,4,8,14,12,10,13,15,7,9,7,9,6,9,6,14,10,10,7,6,7,17,6,12,10,10,13,11,13,15,7,15,14,8,11,11,17,12,4,10,10,8,8,14,9,13,10,7,11,5,12,12,16,12,10,10,14,6,12,6,7,13,9,8,11,12,11,8,9,11,9,15,7,10,18,11,9,10,10,16,7,13,5,10,6,12,9,9,9,9,7,7,15,4,8,8,13,8,8,12,11,9,9,16,13,6,9,13,12,16,7,10,13,10,10,9,11,9,22,5,10,6,7,11,10,9,11,12,4,18,17,8,6,20,12,13,17,10,8,12,9,10,14,14,6,9,17,10,2,7,10,14,16,5,9,16,8,8,13,15,13,8,7,11,14,7,8,4,9,10,11,12,14,8,12,10,11,9,12,14,10,7,5,5,5,7,6,8,10,10,10,8,13,13,9,13,8,9,11,12,8,12,14,7,8,10,10,6,5,3,6,8,12,7,18,9,15,9,7,8,11,8,7,9,10,7,7,11,12,9,13,6,7,10,7,14,6,6,8,16,7,7,5,11,12,17,11,10,16,10,15,11,5,3,9,7,10,5,13,15,7,12,15,10,5,8,15,18,7,8,12,8,6,9,3,6,11,5,11,7,9,12,9,3,16,9,18,22,9,14,7,10,9,12,5,12,9,13,16,6,11,15,14,14,11,9,7,8,13,14,9,14,10,13,10,13,16,7,6,14,10,6,12,13,15,8,12,2,7,13,9,11,12,13,15,9,16,12,11,9,20,12,7,6,12,5,9,10,9,12,8,12,5,7,10,11,9,11,6,6,7,13,11,12,13,8,6,8,7,9,9,8,6,7,12,13,5,12,12,13,7,9,14,12,9,11,11,13,11,10,6,9,12,7,6,8,8,9,10,13,13,7,8,5,10,8,15,8,11,6,11,6,12,8,18,16,8,14,19,8,10,5,15,15,7,5,18,15,8,11,7,12,8,8,13,7,7,8,3,8,10,12,5,19,5,3,6,14,18,8,7,6,7,15,8,12,11,14,16,13,8,10,12,12,15,10,7,6,9,17,18,8,7,6,14,12,9,12,7,5,8,14,7,9,12,6,5,8,7,8,10,9,17,7,7,9,8,11,15,16,6,12,9,9,5,15,10,14,10,5,10,16,15,10,6,13,7,13,9,14,9,10,8,10,8,15,11,8,13,8,12,10,10,7,14,12,5,15,6,8,8,8,7,14,13,9,7,14,13,7,14,13,6,8,11,14,7,7,12,6,6,10,12,7,9,8,8,8,7,13,14,10,14,9,6,9,7,2,11,10,10,11,8,5,7,9,8,13,11,5,14,6,11,3,11,15,7,10,9,11,10,10,7,10,21,7,12,15,13,7,14,10,9,12,7,13,5,13,6,6,7,9,12,8,11,15,9,9,9,10,16,8,15,11,12,21,9,12,9,11,4,11,2,10,8,11,11,3,10,13,10,17,8,9,14,9,7,10,6,6,14,3,13,10,12,15,13,10,8,3,9,5,10,6,14,18,13,13,6,5,11,7,12,12,12,20,10,8,12,17,7,8,13,4,10,12,13,3,10,21,15,17,15,8,17,11,8,8,10,15,8,8,9,9,11,8,5,14,8,19,5,14,12,4,11,8,12,7,8,13,19,11,13,9,12,18,8,9,12,7,20,9,8,15,10,9,3,12,10,10,6,15,15,11,12,5,11,18,8,4,8,18,8,8,8,6,13,13,9,6,13,16,10,11,8,10,11,17,9,10,6,7,8,8,11,14,14,10,12,4,15,12,14,9,14,8,13,10,5,6,8,14,5,6,5,10,11,8,6,14,18,16,16,6,11,11,8,13,8,11,9,9,7,9,4,12,18,11,14,10,15,8,3,10,6,10,11,17,8,14,5,10,13,9,11,6,5,6,8,17,9,5,9,8,6,12,18,7,7,18,10,12,6,15,16,14,11,9,11,15,6,10,13,11,11,8,12,7,11,6,12,5,9,15,15,13,7,9,9,11,11,5,12,13,7,15,14,7,11,13,10,5,13,5,8,9,8,13,11,8,14,9,14,10,13,12,5,9,8,9,7,14,9,9,8,13,9,12,8,12,8,7,6,8,12,13,8,15,11,13,6,12,7,11,15,6,8,17,17,15,11,9,10,14,12,10,9,12,7,12,7,11,7,15,15,5,6,9,13,8,12,7,19,8,11,12,12,13,7,12,8,6,9,9,12,11,8,6,11,6,8,10,12,6,11,8,6,11,9,12,18,6,7,7,9,8,6,18,5,12,18,14,8,19,5,16,9,14,15,9,11,6,8,10,12,7,12,18,9,13,7,7,15,151,9,15,6,7,11,4,7,16,11,4,15,5,14,13,10,12,12,10,14,9,9,5,4,12,18,11,10,5,4,11,9,8,8,12,5,5,12,16,9,16,15,8,13,9,13,22,10,12,6,7,7,12,13,9,14,5,8,8,8,9,14,14,6,4,6,13,10,10,9,9,8,10,9,13,13,12,5,15,13,5,9,13,9,8,8,4,10,18,6,8,9,10,10,10,10,11,7,10,7,8,9,14,13,11,13,13,7,9,11,11,11,9,11,14,15,8,13,8,12,16,8,11,5,10,10,12,16,12,6,11,12,14,8,11,9,8,12,3,14,14,17,6,9,8,13,19,6,15,14,7,10,12,10,4,8,5,12,11,8,18,5,7,5,18,8,13,12,14,9,8,8,5,10,7,12,6,11,9,12,9,7,4,3,9,5,4,7,11,7,9,11,14,15,15,18,6,6,7,13,10,12,5,10,8,12,9,9,14,10,11,8,7,17,12,10,8,10,8,12,11,8,8,14,7,8,6,9,11,9,4,14,9,6,9,9,11,9,13,10,12,8,9,10,8,11,17,16,10,9,11,10,13,12,15,13,11,9,8,10,10,13,15,6,9,7,11,19,9,7,13,8,12,17,12,6,14,11,12,12,6,10,8,10,17,11,11,5,7,11,11,10,5,9,10,5,12,8,6,5,10,7,10,7,4,11,6,6,2,15,11,10,14,15,17,12,9,14,16,12,14,8,10,9,9,8,9,5,12,10,14,3,10,16,10,14,6,13,12,5,12,8,15,7,5,13,9,17,8,5,10,10,6,19,7,10,10,7,7,7,9,15,8,6,14,10,15,10,9,4,11,17,9,10,14,7,10,7,16,5,6,13,9,6,13,16,8,14,17,7,15,14,14,7,12,6,13,10,13,14,10,9,10,10,8,12,5,8,7,10,5,6,19,16,14,5,7,10,10,9,12,7,11,8,9,14,4,14,12,5,13,10,13,10,15,12,12,8,8,8,13,8,11,12,12,14,10,15,7,9,15,14,10,4,9,5,7,19,7,12,10,4,4,13,11,10,9,5,15,12,10,14,9,9,16,5,12,6,13,10,3,9,11,9,7,11,8,10,8,12,12,14,8,13,10,3,16,10,14,18,13,5,12,10,13,10,10,9,10,12,9,6,17,11,8,14,6,5,8,12,6,5,12,8,14,7,6,14,12,10,16,12,11,6,4,8,6,8,12,12,17,10,8,13,9,8,12,18,9,16,15,11,12,16,9,15,6,11,11,14,14,9,20,3,10,13,11,16,15,12,8,7,4,13,5,9,13,12,8,12,9,9,6,9,8,8,15,12,9,8,11,18,7,9,10,10,13,13,12,5,20,10,8,6,3,10,11,12,11,12,11,11,16,10,17,6,6,17,10,12,9,13,12,8,6,11,10,16,7,10,6,8,15,11,10,13,8,7,12,8,13,7,7,12,9,4,9,15,8,18,10,7,7,14,6,12,13,10,6,10,20,9,13,12,14,9,13,8,16,9,9,8,9,10,8,14,5,7,7,8,9,7,9,14,12,11,14,8,8,14,9,9,6,7,16,7,13,11,14,8,7,5,15,6,20,14,6,7,11,11,11,11,9,9,7,11,16,15,15,6,9,18,5,8,12,19,14,13,7,13,9,13,10,9,9,10,6,7,8,9,6,14,16,18,10,16,8,7,16,9,14,8,7,13,12,10,9,11,7,14,14,7,16,15,11,13,11,15,6,11,5,11,11,10,14,3,11,8,11,5,12,12,5,6,16,6,11,15,7,3,7,10,13,7,13,7,15,10,8,12,9,12,6,9,8,17,11,8,7,2,7,12,9,6,8,11,6,7,17,7,10,10,10,14,10,5,17,9,7,17,11,11,5,11,6,5,8,7,10,7,15,19,10,9,12,12,10,6,11,6,13,9,14,10,6,9,14,9,6,9,14,10,7,14,11,11,6,6,8,9,12,6,16,11,7,19,11,8,12,9,7,7,6,6,9,9,19,8,11,18,6,11,9,12,10,7,19,10,14,9,15,13,9,14,9,8,10,6,7,9,14,7,15,3,9,2,12,9,9,13,10,16,11,9,13,11,9,9,7,18,6,16,9,7,9,5,13,7,12,6,12,11,13,14,18,6,8,7,16,9,10,14,8,15,5,12,15,8,7,7,9,7,20,8,9,17,5,15,14,7,15,19,11,15,5,11,12,7,7,11,14,16,8,17,7,13,10,15,10,11,5,14,12,9,7,7,9,11,14,4,13,12,2,12,15,5,14,10,11,14,8,7,10,7,5,11,7,17,7,8,13,13,11,15,7,11,11,13,12,8,7,15,8,15,11,16,10,8,4,6,11,5,7,13,19,10,9,11,12,10,15,9,8,8,8,7,16,13,10,8,9,10,9,13,14,7,7,9,10,9,10,10,7,9,9,8,7,12,6,8,10,6,17,10,7,13,8,7,8,18,9,8,14,13,8,21,2,15,7,7,4,17,12,12,11,14,17,9,7,10,12,13,5,13,5,11,12,12,10,9,8,17,8,5,9,14,9,6,5,13,5,5,3,12,10,6,12,8,6,13,11,12,12,11,11,15,7,13,16,10,8,12,7,9,10,18,3,13,11,13,5,6,7,7,11,7,13,16,10,6,18,13,8,9,9,12,7,12,7,7,13,9,5,7,17,8,16,15,11,13,12,7,9,12,9,10,8,8,5,7,9,19,14,9,6,10,10,10,13,11,8,10,16,13,6,5,13,8,11,18,6,10,14,15,9,10,7,12,4,15,10,13,5,11,10,8,10,12,12,6,9,15,17,7,7,8,9,7,10,17,9,10,18,12,11,10,11,7,12,7,7,12,14,17,17,16,2,9,10,10,9,12,12,11,13,10,15,11,6,16,13,9,12,7,10,7,16,6,11,14,9,6,12,8,12,14,12,12,8,7,7,4,13,14,18,19,15,9,9,12,10,6,11,8,5,5,11,21,12,13,12,7,12,11,7,9,9,5,10,8,6,5,4,8,8,14,10,7,9,11,7,17,11,11,8,10,12,7,9,21,19,17,6,11,15,12,8,8,6,8,8,9,2,13,12,8,12,9,7,8,12,8,9,13,6,6,17,9,12,11,6,12,12,18,6,12,15,9,11,5,5,12,6,6,13,8,7,8,17,10,8,13,14,11,13,9,8,10,8,7,13,15,13,12,7,15,6,7,9,5,14,11,14,7,8,15,9,5,10,7,11,9,12,15,15,13,13,9,8,18,10,13,5,8,7,7,10,7,11,11,7,9,9,10,7,14,8,15,16,11,8,10,12,16,7,12,7,6,13,19,11,5,5,8,13,9,8,7,5,3,6,8,12,12,6,17,8,6,10,14,12,12,5,15,6,11,13,8,6,14,9,13,16,6,13,16,9,13,7,12,6,9,10,2,11,11,8,6,8,7,13,6,8,11,12,17,15,9,10,12,6,7,8,7,6,9,9,7,18,6,6,5,9,14,9,13,5,6,10,7,12,13,17,13,11,10,10,11,9,7,14,5,9,14,10,13,8,14,7,13,8,12,12,5,9,8,10,8,11,9,19,12,6,6,14,10,9,5,13,12,7,6,12,12,10,8,13,8,8,10,10,14,10,5,8,8,7,4,11,7,10,13,9,8,4,12,11,8,8,8,5,11,11,10,7,6,7,9,4,7,13,7,14,11,6,14,13,5,11,6,5,9,11,18,10,16,13,8,10,4,9,10,20,16,11,8,4,5,5,11,6,17,7,8,8,9,5,15,15,6,14,11,10,12,17,8,6,6,9,11,6,4,10,16,11,11,6,7,19,12,8,6,9,4,10,18,9,10,5,12,7,15,5,14,8,5,8,5,11,10,8,20,5,6,15,13,8,15,7,12,9,10,15,5,4,11,12,6,3,19,8,20,6,10,16,17,9,12,11,3,9,8,9,10,12,9,9,5,8,8,7,8,9,19,10,4,4,6,10,10,6,9,9,8,13,10,8,13,11,4,9,10,11,7,11,16,7,10,6,11,14,9,12,9,15,15,8,5,7,15,7,19,8,10,11,5,11,16,12,5,15,15,10,9,12,8,12,10,7,12,7,13,14,5,7,14,14,9,5,10,12,11,9,12,8,11,6,6,6,5,9,9,8,8,5,6,13,10,7,12,12,5,19,6,8,8,9,4,11,14,7,20,12,10,7,12,14,10,12,16,9,15,11,7,11,8,9,5,8,7,9,10,9,10,14,10,7,6,7,5,9,12,8,10,5,8,10,5,7,6,11,8,6,11,6,11,10,9,14,10,7,11,14,7,4,18,8,9,17,11,13,5,20,12,7,9,6,17,6,10,11,7,9,10,9,13,12,7,12,12,6,9,13,12,6,13,16,9,9,15,12,11,3,6,8,16,6,9,9,11,11,8,7,7,12,15,8,6,9,12,8,6,17,13,12,8,9,4,8,9,5,5,12,9,15,14,18,9,10,6,7,5,9,7,8,16,8,12,16,6,14,11,4,8,4,12,7,9,8,17,6,5,8,7,4,9,11,8,7,7,13,12,8,14,14,11,8,9,13,12,11,7,8,9,11,9,7,13,17,18,7,11,11,14,4,7,13,12,17,15,15,14,11,13,7,6,18,8,5,13,14,11,10,10,12,13,12,10,16,13,9,8,8,9,6,14,5,8,12,7,13,10,6,13,10,11,8,8,10,4,11,11,12,11,11,12,12,13,19,15,16,9,13,5,8,21,10,11,12,10,7,14,9,9,18,6,4,6,7,6,10,11,12,13,15,9,7,17,12,8,8,8,5,6,12,8,15,13,8,10,13,13,15,7,6,6,9,11,8,18,10,18,22,8,6,6,7,18,6,15,9,7,7,17,6,15,14,4,6,15,5,8,12,9,12,16,13,10,8,8,15,16,7,9,10,14,22,9,12,14,15,5,7,22,11,11,4,4,3,8,16,13,6,12,9,11,8,6,9,6,11,11,6,13,7,12,10,11,14,7,7,20,14,18,16,12,5,14,8,6,10,15,11,10,10,8,9,6,13,5,8,14,6,12,15,10,6,13,9,9,11,8,5,11,12,10,8,7,12,13,7,8,11,8,12,12,14,6,16,13,7,9,4,18,8,16,9,11,11,9,15,8,11,3,9,13,7,6,11,12,5,10,6,9,7,11,7,7,10,8,7,11,9,12,11,14,12,12,10,19,10,7,12,9,9,9,11,16,4,12,8,7,5,8,8,8,13,9,8,6,7,15,10,6,12,11,12,9,8,7,9,12,13,5,12,7,17,15,10,11,9,8,8,7,10,9,8,17,8,11,15,14,10,10,10,10,15,9,5,12,4,8,9,16,13,10,10,13,9,10,8,6,12,12,3,9,15,7,10,9,7,8,8,11,10,8,15,7,14,11,8,19,15,8,2,7,7,12,9,10,5,12,7,7,4,9,8,9,8,17,9,10,8,5,21,17,16,3,11,9,10,5,5,7,11,9,14,5,16,5,6,9,11,12,9,9,6,12,8,11,10,19,7,5,9,11,12,17,12,5,4,16,10,5,9,15,7,7,6,2,6,5,12,7,9,6,9,13,8,11,6,7,9,8,8,9,4,5,8,11,15,7,12,13,20,11,13,14,5,6,5,9,17,5,10,6,8,10,12,19,13,9,7,8,12,7,13,9,12,12,13,17,7,18,7,5,6,7,10,8,17,10,6,16,12,11,17,16,17,7,10,10,6,11,11,9,10,8,13,17,13,9,9,15,9,12,16,13,5,6,11,13,9,8,21,8,12,7,10,9,9,16,9,12,8,8,12,9,10,8,9,8,6,5,6,17,6,7,9,10,15,16,6,12,7,14,5,8,16,4,11,12,11,14,9,7,11,9,14,10,19,11,15,10,9,16,17,6,13,11,11,10,7,8,10,7,6,15,17,13,8,12,10,11,15,6,12,14,13,6,6,6,15,14,14,8,10,5,16,10,7,5,5,19,15,12,8,5,11,9,8,11,11,11,7,7,6,9,12,13,20,14,10,5,16,17,14,8,15,13,14,12,8,11,13,19,12,9,8,10,8,21,6,6,12,5,8,14,7,11,10,9,7,5,7,16,6,15,6,6,9,12,10,8,6,8,17,10,12,9,15,11,12,12,12,12,5,12,15,12,5,11,7,5,4,11,11,16,10,8,11,9,12,7,13,13,6,9,6,13,9,21,10,11,9,9,5,14,14,13,10,14,8,5,10,14,13,17,10,11,14,17,7,12,14,5,14,4,15,15,5,12,8,17,6,23,18,13,9,4,14,8,10,8,12,8,7,11,7,11,10,15,8,11,9,6,11,6,12,14,8,15,14,2,7,15,8,4,10,13,8,14,13,11,7,7,19,9,7,14,7,6,10,11,6,11,12,7,7,10,7,9,11,11,12,12,14,6,9,8,11,8,8,17,11,11,8,10,8,11,9,5,12,8,4,9,8,7,8,8,11,6,10,9,6,4,9,11,5,7,7,8,8,12,9,6,15,13,7,13,16,11,13,13,17,9,12,21,15,15,7,13,5,3,3,7,5,7,11,13,9,8,7,9,14,6,12,11,13,8,9,11,13,13,8,11,12,17,6,9,12,8,16,10,10,8,11,3,15,8,12,14,15,8,7,17,10,10,12,14,14,6,8,13,9,17,8,5,10,12,13,17,11,11,11,10,14,14,5,7,12,10,17,8,13,16,5,12,12,5,10,13,13,12,13,6,8,10,14,11,4,15,9,10,8,20,8,8,12,8,8,8,9,9,12,10,13,14,11,11,11,9,12,15,7,4,10,9,15,16,11,7,16,8,17,8,12,5,11,13,8,12,12,12,9,5,15,12,7,10,13,7,11,7,9,14,13,9,13,10,6,13,13,9,10,5,20,4,7,7,13,7,15,12,18,8,7,15,10,12,10,9,11,8,5,13,11,4,6,10,5,18,9,7,10,17,11,9,7,5,15,7,12,10,7,12,11,5,12,7,7,7,8,7,16,11,13,8,9,14,10,12,10,9,7,12,11,11,6,17,6,9,14,8,7,7,12,10,10,6,13,14,4,9,7,6,10,8,12,16,7,10,8,14,13,12,8,10,8,11,13,4,11,16,6,17,14,9,14,7,7,9,9,17,7,11,8,9,14,9,5,11,10,13,17,13,11,14,10,7,5,10,10,11,10,9,5,4,9,7,13,20,6,5,8,18,10,7,4,7,14,15,9,18,7,4,16,14,12,5,3,17,9,13,15,9,10,7,7,11,10,9,7,13,12,14,11,7,8,12,5,13,13,8,9,8,16,12,12,4,11,11,16,6,11,11,12,8,11,17,11,13,14,10,13,10,13,7,11,11,3,10,11,13,12,8,11,13,14,14,9,8,8,5,9,10,7,6,17,8,15,4,13,5,8,21,8,8,8,9,10,12,10,11,11,13,16,5,10,12,7,8,14,10,9,12,16,10,8,8,14,6,8,11,7,9,9,8,9,5,8,15,13,23,8,14,5,10,13,5,12,12,10,10,7,11,9,12,9,11,14,4,5,18,9,10,10,7,22,11,11,12,8,13,13,4,10,11,13,6,13,7,5,14,12,9,10,9,12,5,8,11,8,10,3,3,14,16,13,15,16,4,6,4,6,13,13,8,19,7,7,6,6,9,9,6,11,18,5,8,7,11,19,11,6,10,7,11,9,14,6,12,8,9,9,8,6,13,7,16,10,10,16,10,11,11,2,4,19,12,8,7,5,3,13,6,15,11,13,6,16,8,9,11,13,14,14,14,5,7,14,7,6,15,15,4,5,7,11,12,13,6,14,9,6,8,4,6,5,6,6,16,13,8,12,10,4,14,10,9,7,6,4,5,12,8,6,11,7,10,10,8,15,9,14,11,12,14,8,9,12,6,4,9,10,20,17,8,11,9,3,13,12,8,11,20,5,9,14,9,9,6,17,6,13,16,9,10,13,6,10,11,16,10,6,9,8,11,13,8,12,11,11,11,12,7,11,14,13,4,9,8,8,8,7,7,8,10,15,9,12,7,10,11,4,7,7,14,17,7,12,9,15,6,12,14,11,8,11,17,12,6,12,6,14,13,6,11,8,12,12,18,14,10,10,6,8,16,6,9,16,4,9,11,10,18,14,13,10,7,14,14,22,9,14,11,11,9,7,11,11,11,13,10,11,10,15,18,13,8,6,14,10,11,5,8,4,11,10,7,8,18,9,14,9,8,10,13,8,8,16,5,14,15,13,13,8,6,6,9,9,7,14,9,11,8,6,12,18,7,14,17,11,13,11,8,15,18,9,14,11,5,9,14,9,5,7,15,11,15,6,11,8,9,15,9,6,4,6,9,13,9,7,11,8,8,6,5,10,9,15,13,13,11,17,14,12,8,13,5,6,5,8,8,13,17,11,13,15,11,9,6,11,4,10,13,10,9,5,5,8,9,7,8,4,13,9,10,8,8,7,18,7,12,7,10,16,6,14,9,18,15,16,16,10,11,13,14,8,14,6,9,12,10,14,7,7,7,11,9,13,11,9,6,12,8,13,5,9,10,12,4,17,9,3,7,10,9,11,17,11,12,9,7,7,7,11,11,11,4,9,9,7,12,9,8,11,9,18,13,9,11,11,15,17,10,7,17,12,6,14,6,14,16,9,17,6,8,10,10,12,9,14,13,9,11,19,13,10,7,10,10,10,10,8,15,13,10,9,9,8,8,11,11,11,9,12,11,9,10,9,8,10,9,9,14,17,7,4,13,7,10,5,12,4,7,9,15,13,5,17,10,6,15,21,9,2,16,12,10,3,9,3,8,13,9,6,9,6,16,11,12,5,8,7,12,14,9,9,7,8,13,15,8,16,14,11,5,12,7,12,15,14,10,14,12,11,7,10,10,10,15,16,6,16,10,8,4,15,13,17,15,9,4,14,8,12,10,13,11,12,7,7,4,6,11,7,2,9,19,13,9,5,11,3,13,14,6,10,6,14,11,9,12,10,12,9,12,13,8,6,3,10,14,11,9,6,12,16,12,7,6,15,12,11,16,14,9,11,14,5,7,14,9,12,8,7,8,9,10,14,14,3,5,11,14,5,11,12,11,8,11,5,10,17,7,15,13,8,11,8,5,5,5,10,15,13,15,6,9,6,13,10,12,11,12,10,7,22,9,10,11,13,7,12,5,17,7,10,14,8,7,4,17,12,13,10,13,10,20,9,13,5,4,10,11,16,12,14,8,10,5,9,16,8,16,8,13,10,2,10,4,17,5,16,12,10,14,11,8,10,7,9,10,14,15,6,9,5,8,8,10,12,6,5,18,11,12,13,6,10,7,15,8,7,6,12,10,15,8,14,15,10,4,5,13,7,18,9,12,10,14,11,4,11,6,14,5,16,7,2,6,11,10,8,10,12,9,19,13,9,6,6,9,6,15,14,9,11,11,14,12,6,16,9,9,6,3,6,15,15,11,6,12,13,12,7,8,13,9,9,6,10,8,6,15,7,20,6,21,9,13,9,6,18,6,10,11,9,6,6,9,12,12,9,5,11,10,9,11,8,8,11,11,17,8,7,6,12,15,14,12,15,17,7,18,9,12,10,10,7,11,7,8,16,13,18,12,2,5,9,8,10,11,9,15,14,13,7,10,9,7,8,6,13,13,12,7,13,12,12,18,11,15,7,13,11,18,12,7,8,12,11,12,15,11,10,6,17,8,12,5,9,6,10,10,14,10,6,7,10,8,6,8,11,6,15,14,12,13,12,14,7,13,5,12,18,9,9,12,20,13,8,15,15,11,9,4,9,7,17,13,9,14,10,11,14,14,16,19,11,10,2,13,10,8,12,6,18,5,11,17,6,12,15,7,11,14,8,5,15,15,8,7,5,12,16,10,13,8,11,8,12,13,10,8,10,11,5,7,13,9,11,18,9,13,10,10,9,5,13,15,13,30,9,7,4,14,13,12,8,11,12,12,6,11,6,8,13,5,8,5,13,11,11,10,9,10,10,5,8,10,4,7,4,12,9,10,5,6,7,5,11,13,15,9,12,17,16,16,12,18,7,12,11,11,7,14,5,9,14,7,15,8,14,13,14,13,13,8,16,18,17,3,11,14,6,6,10,8,7,5,12,11,8,9,13,5,8,8,18,12,5,19,18,4,12,7,14,8,4,14,5,4,9,8,6,18,13,10,9,12,8,16,7,17,6,8,12,7,8,11,14,12,15,18,8,8,13,15,11,3,13,11,13,7,9,8,11,15,5,9,10,15,11,9,7,7,10,10,15,9,3,5,16,9,8,11,8,8,5,7,6,10,12,11,11,13,11,13,12,12,7,9,6,12,26,7,18,10,16,14,8,12,7,17,17,6,10,16,16,4,10,10,6,6,8,11,9,19,10,13,7,10,10,9,11,8,7,7,3,5,13,8,12,6,11,7,17,12,6,15,12,13,10,9,10,13,10,12,7,14,8,13,9,8,14,10,19,11,11,4,8,7,8,11,8,6,10,14,11,18,10,7,4,9,14,11,4,14,5,15,12,13,9,5,7,11,11,12,4,8,19,8,10,10,6,15,8,16,10,10,17,11,11,4,9,12,17,14,4,7,14,11,13,8,10,9,13,19,9,2,9,5,11,5,18,10,11,7,7,3,2,14,10,12,14,5,10,7,8,11,7,5,8,10,14,9,10,8,15,5,11,6,12,13,10,8,5,12,7,12,6,9,13,13,9,13,16,13,10,7,9,22,17,8,14,11,6,9,13,14,8,11,9,8,9,4,10,7,10,8,8,9,10,12,8,12,11,12,13,12,7,9,15,13,6,4,7,20,14,10,2,12,6,13,9,18,10,16,8,9,7,10,5,22,9,13,6,8,5,11,10,15,10,10,15,9,8,7,12,10,10,17,13,7,8,17,6,14,12,4,11,7,11,11,8,3,15,12,13,4,8,11,9,14,9,11,9,6,12,13,12,3,11,16,11,11,13,3,12,7,8,11,10,9,13,10,10,12,18,19,7,11,14,11,17,17,9,4,5,19,10,8,7,8,9,8,6,9,9,7,7,9,14,10,7,14,10,14,11,16,11,13,7,12,10,3,13,9,15,5,6,15,13,9,12,7,8,9,14,6,10,9,8,16,8,6,9,4,7,13,14,10,9,11,11,10,15,7,11,4,8,11,6,16,13,18,8,5,9,6,12,12,11,15,9,13,15,9,9,16,8,15,8,10,9,9,9,11,7,9,13,12,7,9,6,8,13,16,10,6,10,17,9,12,10,11,9,10,9,5,11,5,8,12,8,9,18,9,10,7,18,7,7,5,10,14,12,9,17,8,17,19,13,14,7,20,7,18,11,10,11,5,13,6,6,4,11,6,9,6,11,7,12,8,13,8,8,15,12,7,17,10,9,9,8,8,13,9,12,13,11,7,12,5,9,12,17,6,19,6,11,12,18,10,14,9,8,8,9,7,14,11,10,4,8,9,16,10,8,12,8,10,6,14,7,8,10,9,6,9,7,15,11,6,9,11,7,9,18,11,13,15,11,9,7,15,10,8,13,15,7,11,13,9,14,2,14,14,7,14,6,14,15,15,10,8,10,7,9,11,9,8,15,9,13,10,9,12,7,9,7,16,11,10,5,15,12,13,14,9,10,7,12,4,7,11,13,12,11,9,16,8,14,12,13,8,5,11,11,9,8,3,15,8,10,9,9,6,8,11,15,8,13,10,18,12,12,14,11,8,10,8,7,8,9,11,12,10,7,8,14,6,16,11,14,9,3,8,14,12,10,10,12,9,6,9,7,8,8,11,10,8,10,9,15,3,11,15,13,7,18,6,5,16,8,9,13,12,16,12,8,9,13,5,9,15,19,10,8,12,13,11,6,14,14,9,12,14,15,11,12,11,4,10,17,9,13,12,7,12,11,7,6,12,12,9,18,13,11,12,8,11,12,10,14,12,10,11,10,10,7,16,11,9,2,13,15,7,12,20,9,13,8,16,13,13,15,12,9,9,17,14,4,14,9,13,17,7,11,8,10,15,5,11,8,9,10,10,6,11,10,21,8,6,11,16,15,7,8,7,9,11,7,7,10,7,6,12,8,10,9,17,5,10,7,15,14,6,12,16,7,14,7,17,10,9,11,6,9,9,6,9,5,11,9,7,11,8,6,11,14,10,14,5,15,6,14,12,5,13,7,11,18,16,14,4,7,9,9,10,6,12,8,5,8,13,14,9,7,7,11,10,8,6,13,9,6,10,13,6,10,20,7,9,9,7,12,9,10,12,12,8,11,11,11,18,11,12,14,12,11,11,11,11,8,13,9,11,5,7,17,7,15,8,11,8,8,12,12,10,9,10,10,9,15,11,7,12,12,8,6,14,7,15,9,8,15,9,5,10,7,14,8,10,16,7,9,8,7,9,7,17,10,11,7,6,9,10,9,14,19,16,8,8,14,8,14,12,9,8,8,8,8,11,13,10,15,4,9,5,14,7,14,16,9,11,6,6,10,8,10,16,14,7,15,14,17,10,15,8,9,6,13,10,7,18,8,13,11,10,14,14,16,3,10,11,7,8,12,6,9,8,6,8,10,7,12,13,11,12,4,8,17,5,12,6,11,4,17,13,7,6,10,11,7,13,12,8,10,11,15,17,10,17,13,16,16,13,8,16,10,16,8,6,13,14,4,9,13,8,16,14,6,11,17,6,11,12,14,15,10,13,14,9,11,13,13,16,11,9,11,11,13,13,8,14,6,15,16,10,7,8,9,10,15,4,7,6,10,10,16,15,11,4,9,10,5,16,12,9,13,10,11,7,14,13,6,16,8,11,12,14,13,5,11,8,12,12,7,15,11,7,10,15,10,13,19,3,12,6,8,3,13,13,8,11,13,14,4,9,14,6,8,12,5,13,11,17,5,12,11,8,15,2,9,11,7,8,6,13,13,15,14,6,8,11,10,6,7,14,11,12,11,13,15,11,6,10,5,12,17,12,17,5,10,9,12,7,8,9,10,21,10,9,8,8,7,8,16,10,9,15,11,5,11,11,11,7,4,8,14,9,10,7,6,5,12,17,11,5,11,12,8,6,11,10,5,9,5,9,8,14,11,8,15,10,7,6,10,9,12,17,15,7,13,13,8,16,7,8,13,16,6,11,3,12,14,6,17,14,12,8,6,6,8,7,10,4,16,17,15,8,10,7,9,9,6,7,8,9,6,12,12,8,13,9,17,11,13,7,13,12,15,12,8,20,14,3,12,11,10,15,11,13,10,11,11,9,8,8,10,10,19,6,5,10,5,6,6,5,14,8,12,13,7,9,5,10,14,12,7,12,9,14,13,12,5,10,12,11,6,8,9,12,14,3,7,10,17,7,5,12,9,6,10,9,6,10,8,7,6,14,12,10,13,8,17,12,14,10,6,12,12,6,15,12,14,13,9,10,12,13,5,11,14,5,7,3,12,19,4,11,6,8,10,7,16,14,12,7,5,10,9,7,4,5,9,16,11,7,9,7,8,7,7,6,11,12,14,13,14,6,8,10,6,7,5,10,12,14,12,18,11,8,7,16,6,11,6,14,10,5,15,11,8,14,11,16,11,7,6,8,13,8,8,15,16,12,6,9,15,9,9,9,14,6,14,11,16,10,11,6,8,10,8,10,6,13,14,12,15,9,22,13,6,10,13,14,11,8,10,5,7,8,5,12,15,8,12,6,6,9,10,8,11,10,10,13,15,10,10,15,2,8,11,7,4,14,14,10,8,21,8,9,5,9,12,16,17,15,17,9,11,13,15,6,17,14,14,5,7,8,14,16,7,13,9,10,14,13,4,10,12,11,15,14,12,10,12,8,10,8,10,10,6,9,7,13,7,4,15,6,5,14,10,11,10,12,6,14,8,9,13,6,7,10,6,9,14,7,11,4,14,8,8,8,11,15,5,10,11,8,10,12,11,8,11,8,9,6,9,11,5,10,10,10,7,8,13,12,9,7,9,9,11,14,12,8,9,8,11,18,11,10,11,16,10,13,10,18,14,8,6,9,6,7,15,7,12,8,11,15,12,6,4,7,9,7,10,7,5,12,15,7,6,14,6,7,12,10,13,7,10,4,8,9,4,10,11,7,5,6,8,5,15,12,9,10,18,8,15,17,14,9,9,10,8,12,10,9,6,6,7,10,10,7,8,9,11,11,8,7,8,19,12,12,12,5,13,11,9,5,17,12,11,11,12,5,6,4,11,4,11,15,12,16,19,13,9,6,11,8,10,10,12,13,10,10,9,9,19,9,10,9,10,7,3,7,4,12,9,17,10,5,5,9,8,15,14,11,7,12,14,11,13,7,17,10,9,8,12,16,12,14,15,9,10,6,11,10,13,7,15,11,12,10,11,14,6,9,11,8,7,8,14,10,12,16,16,3,12,12,7,9,10,6,11,5,5,11,8,9,5,11,16,14,14,12,7,6,10,13,8,14,11,16,11,12,12,17,8,16,13,8,11,5,9,7,9,13,6,4,5,9,13,17,6,11,5,13,15,10,3,9,11,8,12,14,16,10,7,11,12,10,16,9,2,6,8,12,9,10,15,17,7,10,11,10,11,6,15,8,14,6,9,13,8,15,8,7,8,8,9,9,7,13,14,7,16,6,7,10,6,6,13,12,10,3,5,9,6,15,8,6,14,4,7,12,10,8,10,5,13,13,14,7,11,4,9,3,6,18,8,8,11,11,15,7,8,10,6,8,8,8,14,12,10,8,10,5,11,6,11,9,12,18,10,7,7,4,12,14,8,14,15,6,7,9,4,16,7,16,10,12,9,5,5,15,12,5,7,9,7,5,6,11,15,9,7,12,6,14,4,8,8,5,5,6,13,4,11,15,15,9,9,13,15,14,10,15,9,15,16,6,16,10,5,14,5,6,9,9,18,9,7,6,9,14,7,11,21,7,12,8,11,4,10,12,4,9,7,7,14,8,11,5,8,12,14,6,8,10,5,17,10,11,9,10,4,7,6,13,12,3,7,7,9,7,5,18,10,4,15,17,5,8,7,16,9,8,10,5,12,7,8,12,9,20,10,12,4,7,11,14,11,7,15,12,10,17,15,14,12,9,7,8,8,9,7,6,5,16,14,12,9,15,18,16,9,11,11,12,11,10,8,9,7,7,7,10,8,15,7,10,8,13,15,10,13,21,6,7,9,12,10,10,8,10,2,6,10,9,4,7,10,15,18,9,7,14,6,8,11,14,8,14,13,9,9,8,11,7,15,7,9,7,4,8,17,9,4,9,7,11,9,5,5,3,9,14,14,12,6,9,11,16,6,8,9,11,6,9,10,16,13,6,11,11,11,16,14,7,17,11,15,14,11,11,10,11,2,9,10,12,6,7,6,6,10,11,8,6,13,10,19,7,15,13,11,3,13,15,5,7,14,15,12,11,9,8,6,16,9,12,12,3,15,17,13,8,12,11,9,8,13,13,7,9,8,8,10,7,11,14,13,13,11,8,13,9,11,4,7,7,12,7,14,16,13,5,7,7,11,9,14,8,5,9,5,16,10,4,6,15,6,16,11,14,12,20,10,15,13,7,8,8,7,6,6,7,7,8,8,11,9,7,6,10,10,5,8,6,7,16,7,5,9,9,7,7,16,9,13,11,14,12,7,6,8,14,10,9,4,8,12,9,19,11,7,11,14,7,15,8,5,6,16,5,8,17,14,7,14,7,11,8,11,5,6,5,11,7,8,9,6,8,11,14,10,18,22,9,8,10,12,4,15,8,7,13,10,8,9,7,8,11,16,9,7,8,8,5,17,14,9,10,7,16,10,20,9,9,10,5,12,12,9,8,6,13,11,6,8,6,13,7,11,9,12,12,14,8,10,21,9,9,15,7,15,8,9,17,7,12,13,6,9,9,9,18,8,13,11,10,16,6,6,12,8,9,13,9,10,6,10,4,18,8,14,6,9,7,6,7,7,5,11,12,20,6,12,12,19,9,11,7,9,6,6,12,8,8,14,14,11,7,13,12,7,5,11,12,7,8,15,9,11,8,14,7,8,10,12,7,9,17,11,6,7,13,14,12,12,4,14,13,8,11,15,9,12,7,8,9,19,8,5,8,15,11,10,11,10,7,10,11,3,11,17,12,4,9,12,8,12,10,14,9,16,10,7,18,7,10,16,12,14,15,16,8,11,12,12,16,13,8,12,4,9,7,5,14,11,9,13,8,6,7,13,17,4,14,13,17,12,10,13,14,8,5,14,12,5,9,10,16,7,16,13,13,17,14,7,8,6,12,10,11,14,8,8,7,4,4,9,7,11,11,12,11,8,11,8,8,15,4,9,11,3,7,14,10,11,13,15,9,15,13,11,2,12,5,11,11,13,9,11,12,10,15,14,13,13,6,12,11,9,18,8,11,6,10,13,11,12,7,15,9,11,12,12,8,8,8,13,12,17,9,5,14,12,12,15,10,9,4,18,9,8,13,9,8,12,13,14,12,20,11,19,11,6,6,8,12,16,12,13,13,12,7,13,8,16,5,8,8,18,5,12,16,14,9,7,7,4,3,12,7,13,18,14,14,7,7,6,6,8,8,11,9,11,12,11,5,6,7,11,8,7,16,8,14,15,12,10,11,16,19,12,8,3,10,8,9,11,14,10,5,5,11,14,8,10,10,6,12,14,8,8,7,5,11,10,8,12,8,9,10,8,7,9,7,8,13,9,17,11,4,10,11,12,15,11,8,13,9,13,8,13,7,11,14,9,12,6,4,12,7,5,5,9,6,6,8,4,15,10,10,15,7,7,6,9,6,2,9,10,10,15,12,8,9,9,9,9,11,6,6,13,14,11,13,14,8,8,11,11,15,4,8,7,19,14,13,7,7,13,4,11,7,16,10,3,8,11,8,7,11,11,12,12,5,9,6,9,13,12,8,10,14,10,12,14,11,13,11,7,6,8,8,10,15,14,14,5,11,7,13,4,11,10,8,11,8,17,13,9,9,6,6,9,13,7,12,6,9,8,11,7,17,14,8,6,11,10,13,9,11,4,16,11,15,9,16,10,14,12,11,8,6,16,11,13,7,9,9,5,9,7,9,7,7,13,7,12,16,9,5,17,14,3,15,13,5,10,10,9,6,5,4,6,4,17,13,8,14,13,10,10,8,6,13,6,7,7,7,11,6,10,9,11,12,8,10,12,10,6,6,6,9,6,12,23,4,12,6,5,10,11,13,12,9,11,15,13,5,15,11,13,15,11,7,13,22,9,9,7,13,16,15,12,13,11,17,11,9,10,7,10,14,3,8,15,9,15,13,7,15,10,6,7,21,12,4,9,9,13,8,4,15,10,11,3,9,8,10,15,13,13,16,7,12,9,13,9,5,11,8,12,12,6,10,9,18,10,13,8,12,10,11,7,11,11,8,10,13,11,15,7,5,7,17,8,11,16,19,10,8,9,14,8,13,10,7,7,5,13,12,6,11,6,10,15,7,6,8,7,4,9,10,4,13,3,11,7,7,14,17,9,19,6,12,9,9,15,14,7,15,15,14,5,14,9,8,13,14,11,8,7,14,5,7,5,13,15,6,9,9,8,13,7,6,5,10,13,8,15,7,9,6,9,9,8,10,9,11,10,11,7,12,9,10,7,6,13,4,10,8,9,14,13,6,11,16,14,10,8,11,14,14,9,9,14,8,9,11,10,14,14,18,10,11,7,7,19,10,5,9,7,11,15,11,14,10,8,8,12,10,14,13,8,12,16,8,9,12,8,15,15,10,5,4,6,6,11,12,19,7,15,10,13,7,7,12,8,11,9,16,8,10,4,15,8,7,5,8,8,7,9,9,7,13,8,13,12,6,8,13,11,12,16,10,6,14,15,11,4,8,5,6,14,8,14,7,8,11,6,2,3,21,12,4,14,10,5,15,15,10,7,11,4,12,7,14,11,9,5,16,6,6,5,8,14,7,7,11,6,8,10,15,16,7,5,8,13,8,11,6,5,11,12,11,14,10,10,8,14,10,16,12,10,15,7,11,12,9,13,12,17,7,7,8,8,11,10,13,6,7,15,8,17,16,7,14,13,8,14,7,16,9,14,6,13,13,14,7,10,10,5,9,7,7,12,9,18,15,3,8,7,10,16,11,8,13,7,16,6,11,10,12,11,12,14,9,4,11,9,8,14,9,9,9,14,10,9,10,5,7,9,9,14,15,6,11,11,7,14,14,13,13,11,11,14,10,7,16,7,8,9,15,9,12,11,11,11,6,11,7,12,7,11,7,11,10,19,11,17,12,13,15,12,9,5,5,9,11,16,14,6,15,14,6,14,7,16,9,10,16,10,8,3,11,12,4,8,14,16,7,12,5,9,10,9,5,12,13,8,6,10,11,9,9,8,8,6,19,10,11,14,8,18,8,14,8,5,5,14,6,10,7,12,7,11,7,15,11,7,10,10,17,9,7,13,7,17,10,10,15,16,10,11,9,12,7,11,14,8,5,10,13,10,10,10,9,9,9,8,8,8,17,5,7,7,8,9,12,10,6,6,7,18,5,7,14,12,12,11,8,11,9,11,12,13,7,16,5,16,5,11,10,7,8,13,6,10,8,9,14,15,10,18,7,4,13,6,11,13,12,5,13,12,12,8,10,13,9,11,4,7,7,4,6,6,11,9,13,13,6,11,5,7,10,11,8,2,16,7,4,12,12,8,7,9,15,15,13,11,17,11,8,11,7,13,9,6,13,11,15,6,10,20,20,17,13,9,7,7,7,5,14,15,18,9,19,14,6,14,7,14,7,6,8,13,7,16,10,11,5,12,5,11,9,7,5,5,16,6,10,14,17,13,12,10,7,13,11,38,7,8,8,9,9,3,12,15,6,11,7,8,13,11,9,11,3,11,5,21,6,14,6,9,5,16,14,8,7,17,13,13,4,14,10,9,12,4,10,13,7,12,12,15,9,5,9,9,7,13,6,8,6,5,11,16,4,10,9,16,5,9,8,10,5,11,11,8,6,6,12,18,13,17,9,8,8,11,9,4,7,11,8,17,9,7,10,20,11,8,13,10,15,8,5,9,11,6,13,6,19,7,8,12,3,10,12,12,9,11,9,4,9,9,6,6,17,9,16,17,9,12,19,7,7,12,9,8,7,9,12,4,11,21,7,11,11,21,12,12,15,19,6,8,10,13,8,13,7,8,17,11,8,6,14,15,12,8,8,11,6,12,14,12,7,10,12,9,4,7,11,8,5,7,11,10,7,13,5,7,10,6,7,7,5,7,6,8,9,17,7,9,6,12,5,10,8,6,9,4,15,13,5,9,15,10,18,13,10,11,14,13,8,12,5,11,17,5,5,16,9,14,8,8,14,16,5,16,9,10,7,8,7,10,12,14,10,16,6,8,13,15,13,8,10,9,8,12,14,14,7,8,9,13,11,9,8,10,12,17,4,11,7,15,14,15,14,13,5,6,9,9,9,15,14,7,11,8,9,4,11,9,11,6,17,8,4,4,6,7,9,12,9,7,15,17,12,8,7,14,5,11,5,9,14,12,10,12,10,13,12,9,4,10,16,6,13,9,9,9,11,12,12,6,12,6,8,9,4,10,12,13,8,11,11,7,13,11,7,6,11,9,13,5,9,17,9,15,9,10,13,11,10,13,11,6,9,9,10,9,7,5,7,8,12,11,8,13,12,10,10,5,11,8,10,15,15,6,7,14,7,12,9,5,10,15,8,6,9,9,8,7,10,6,9,8,17,13,12,7,8,14,9,6,9,7,19,6,13,7,14,8,15,9,12,6,6,12,11,14,18,8,17,7,6,10,4,10,16,11,20,11,10,11,11,11,12,9,12,13,8,9,7,8,12,10,16,11,6,6,5,15,8,6,13,6,10,4,10,11,13,10,11,5,8,8,8,7,6,12,15,12,9,10,5,7,15,6,2,11,10,16,5,6,7,9,8,22,13,7,15,9,17,7,11,6,12,7,6,6,9,11,19,8,15,10,9,16,14,14,6,12,14,4,8,12,20,14,5,11,9,4,15,4,4,5,9,9,10,10,12,10,11,11,15,6,4,13,12,5,8,12,15,14,8,13,9,14,7,5,4,6,17,8,8,12,14,13,6,20,23,9,6,3,8,7,17,14,14,11,4,6,17,5,4,15,10,18,12,9,6,13,6,15,8,8,12,8,10,14,13,8,13,8,9,7,8,10,13,6,8,9,6,15,12,7,9,13,5,6,7,7,7,10,9,12,5,11,14,20,16,11,9,15,14,13,12,6,11,10,16,13,9,10,9,14,9,10,6,13,3,9,12,14,11,15,6,10,16,12,9,11,8,9,9,13,12,8,11,8,15,5,7,7,11,7,15,13,11,8,6,5,11,9,12,9,13,8,10,13,14,11,13,10,6,5,8,15,6,9,9,12,15,11,5,10,11,5,10,6,9,12,10,19,13,10,12,12,10,7,10,7,12,16,10,13,10,4,4,6,8,11,9,11,6,11,15,10,10,12,13,6,10,14,9,9,17,3,5,16,12,9,13,8,11,8,5,5,17,13,9,15,14,7,16,10,12,13,5,7,8,13,12,11,7,11,13,17,13,10,6,10,20,8,10,12,9,21,14,13,14,6,8,11,10,6,6,11,11,10,7,9,7,12,6,12,13,7,8,7,7,8,11,6,13,13,7,11,11,10,12,13,12,11,11,12,7,14,6,12,6,7,10,12,10,19,13,8,13,12,7,28,17,7,11,14,9,5,14,9,13,12,9,10,10,14,10,19,9,12,11,12,11,8,9,8,7,3,5,12,11,8,9,7,14,12,11,10,12,7,5,10,7,11,10,12,14,6,9,6,9,12,5,8,10,7,9,7,17,7,18,10,7,8,8,13,9,10,10,10,8,12,9,7,13,12,6,9,8,14,12,13,16,12,10,15,7,9,7,11,11,17,10,9,16,8,7,9,6,13,3,10,10,8,13,11,9,8,8,5,15,15,6,6,8,5,14,11,6,11,12,7,9,5,13,8,4,12,11,8,8,7,18,7,9,12,11,8,15,10,16,13,3,12,10,3,17,9,7,13,12,18,8,10,14,14,7,9,12,7,8,8,8,9,9,16,11,11,14,13,17,10,19,13,11,10,6,15,13,14,10,14,12,10,13,13,13,13,10,13,6,12,14,8,12,9,15,11,9,8,19,18,22,18,12,8,11,10,7,6,6,15,7,13,12,9,6,11,7,15,16,10,9,11,15,8,7,7,16,10,9,15,6,11,12,10,3,11,7,10,9,8,7,12,9,14,14,10,13,9,14,12,6,9,14,7,13,11,6,6,8,7,7,14,9,7,7,12,10,12,11,10,9,11,10,10,10,12,7,6,13,14,11,8,9,9,13,13,9,3,8,8,14,10,7,14,9,8,11,20,16,8,5,12,12,11,9,14,9,10,12,6,7,5,11,5,15,12,15,12,13,12,8,9,15,6,17,9,9,16,10,11,5,12,6,12,11,8,20,5,10,5,7,20,15,14,5,12,6,12,11,7,8,14,15,10,7,23,7,16,6,10,9,17,5,8,18,12,13,6,21,16,5,6,7,13,5,7,11,9,10,8,16,15,11,8,15,7,5,16,6,8,9,17,7,7,13,11,2,10,12,9,4,5,13,8,8,10,14,11,14,14,6,5,11,2,8,12,9,7,4,12,24,12,14,10,15,10,12,6,5,10,7,13,12,14,7,5,11,9,6,4,9,9,13,15,10,7,11,16,10,8,6,10,10,9,15,13,11,10,5,8,15,12,6,12,8,14,10,11,9,12,14,14,11,14,8,10,10,10,15,12,8,10,9,13,10,9,12,12,7,6,8,14,9,10,16,12,11,7,17,10,3,8,6,8,5,5,7,7,12,16,15,10,6,7,12,5,9,10,9,15,9,16,9,13,12,11,3,16,15,12,14,10,9,9,17,13,16,16,9,11,12,9,6,14,9,10,7,10,13,10,12,6,14,16,13,13,14,15,4,10,6,15,12,8,6,12,10,16,11,13,9,14,13,9,7,12,7,11,10,8,22,7,14,17,11,10,9,3,11,5,11,7,10,14,14,9,18,8,6,8,14,9,6,7,10,5,7,10,10,12,10,6,9,8,14,11,8,10,13,8,15,10,5,7,11,6,7,17,8,11,13,7,14,13,6,11,15,7,14,9,14,9,9,10,15,30,13,13,11,5,11,17,14,8,15,14,11,8,15,13,8,7,11,8,7,7,11,8,9,14,16,10,9,10,7,14,12,15,9,12,7,16,10,5,7,10,14,12,9,15,6,13,10,9,8,13,10,16,7,7,11,10,11,5,6,10,8,5,11,2,10,5,9,20,9,10,8,10,9,11,8,14,12,16,11,11,5,10,12,11,9,8,11,8,17,5,7,9,18,10,10,13,10,6,8,12,7,10,12,10,11,6,6,6,14,5,8,7,12,5,16,10,12,14,7,11,6,9,10,12,15,15,16,8,11,11,7,9,11,8,7,6,10,8,6,14,11,8,5,12,7,13,10,11,11,12,9,9,12,9,13,7,14,11,16,8,17,5,7,8,7,11,8,12,3,9,6,10,7,9,9,5,11,8,12,11,8,5,9,14,11,9,7,10,11,13,12,14,9,16,15,6,11,9,14,7,12,11,14,10,14,10,7,13,9,15,12,6,13,10,11,7,11,5,8,7,11,11,8,11,10,11,13,12,10,13,10,18,11,12,17,16,11,5,13,15,7,8,9,12,4,15,10,15,16,17,7,10,5,12,9,11,7,7,6,14,8,10,14,12,15,16,9,10,11,5,16,9,8,5,10,13,18,9,13,10,6,15,12,11,10,15,9,5,8,14,7,13,8,7,7,6,8,10,5,7,11,6,14,14,11,10,14,11,11,6,8,6,10,7,13,8,7],\"xaxis\":\"x2\",\"yaxis\":\"y2\",\"type\":\"box\"},{\"alignmentgroup\":\"True\",\"bingroup\":\"x\",\"hovertemplate\":\"is_sarcastic=0<br>WordCount=%{x}<br>count=%{y}<extra></extra>\",\"legendgroup\":\"0\",\"marker\":{\"color\":\"skyblue\",\"pattern\":{\"shape\":\"\"},\"line\":{\"color\":\"#000000\",\"width\":2}},\"name\":\"0\",\"offsetgroup\":\"0\",\"orientation\":\"v\",\"showlegend\":true,\"x\":[13,6,3,8,6,14,10,8,16,11,6,12,9,5,10,9,7,10,11,15,6,4,6,7,11,17,9,13,10,9,6,6,13,14,9,9,11,4,8,7,9,14,10,8,8,9,6,6,8,15,14,14,10,12,10,13,12,8,8,9,11,6,8,9,20,11,8,11,10,10,9,15,11,10,7,11,10,12,14,10,15,7,13,9,8,9,12,12,14,8,9,12,5,6,12,8,9,5,16,4,10,12,12,7,6,9,21,8,11,4,10,11,10,15,10,11,9,11,9,14,10,11,9,9,8,6,5,12,11,13,12,8,12,11,7,8,12,8,10,9,11,11,9,8,9,12,6,10,10,9,9,2,6,12,3,10,8,8,11,9,14,11,7,5,9,11,8,9,13,9,8,12,14,6,11,11,11,7,11,10,12,10,13,12,11,10,8,12,8,9,12,13,14,12,8,13,15,8,13,17,3,7,14,9,10,9,9,11,8,12,12,5,7,10,5,12,12,7,12,10,14,10,8,9,10,10,13,10,12,11,14,11,9,8,14,14,6,7,12,9,11,6,14,8,8,11,9,14,10,10,10,10,12,13,8,3,5,14,10,5,15,10,11,11,9,11,10,2,6,8,7,3,10,8,15,12,8,8,9,7,4,5,10,13,11,9,7,7,9,12,11,11,11,14,5,17,7,8,5,5,10,9,13,9,7,9,11,10,6,7,6,18,9,11,7,10,11,8,10,7,12,11,7,12,6,8,8,14,12,11,7,10,10,10,12,7,12,15,5,10,9,11,18,8,4,11,11,10,8,9,7,11,10,9,10,9,7,15,6,4,6,11,11,14,4,13,9,8,7,12,12,9,5,9,7,7,13,12,9,9,6,11,12,9,16,11,13,9,5,8,15,11,15,8,13,9,17,10,9,8,12,8,10,10,15,10,13,12,7,7,15,14,9,13,6,15,4,11,10,7,8,10,10,7,7,12,8,11,13,9,10,13,5,7,4,11,12,7,16,15,10,9,11,10,10,10,11,9,12,12,12,13,10,11,11,8,8,5,10,12,10,14,11,9,8,10,10,13,3,9,9,10,14,10,11,5,10,9,8,13,10,7,15,14,9,10,12,15,11,8,11,6,9,10,9,12,15,13,12,9,10,10,11,7,10,10,7,9,11,10,11,5,12,12,10,13,9,8,7,7,9,9,8,8,10,12,8,12,11,9,14,3,6,6,6,4,12,16,6,8,8,17,12,6,3,5,12,14,8,9,9,10,11,10,11,11,12,12,9,6,12,9,8,8,9,14,9,7,12,8,15,10,10,8,12,9,10,11,10,21,13,11,11,9,7,11,7,8,13,7,13,8,14,9,7,6,6,10,8,5,7,10,7,9,9,13,10,12,8,6,9,5,9,6,12,5,10,11,7,13,11,15,9,13,12,14,9,8,7,11,13,11,11,9,13,11,8,15,3,10,7,3,7,9,9,12,13,10,12,9,2,11,12,13,7,17,9,8,8,10,9,15,8,13,8,3,11,8,8,11,14,12,8,4,9,10,10,13,9,8,13,10,12,10,6,12,6,12,11,11,7,13,13,9,11,8,14,8,13,7,11,11,8,12,11,10,7,9,4,11,13,7,12,8,8,10,4,7,13,8,7,9,11,4,6,8,5,12,8,13,11,11,8,7,6,7,12,7,7,8,11,15,12,10,7,9,17,13,12,9,21,9,10,9,12,10,13,11,8,11,11,7,11,10,14,13,8,10,10,13,14,7,7,5,13,12,9,12,16,10,9,11,13,10,12,10,10,11,16,8,7,9,8,8,14,8,8,9,13,12,8,8,6,11,13,8,12,12,11,5,3,13,8,9,12,10,8,6,8,14,14,9,8,10,8,10,7,12,4,10,10,11,11,9,8,10,7,10,14,11,13,12,5,5,6,11,7,14,7,11,9,9,11,5,12,10,7,10,7,13,8,10,11,12,12,8,11,15,11,9,10,11,4,7,6,9,3,3,9,9,9,11,5,10,9,4,6,11,11,9,11,8,12,11,13,12,3,12,13,18,9,9,9,11,14,10,9,9,12,9,8,12,10,3,9,5,9,8,12,8,11,14,9,9,7,7,8,7,13,7,11,8,7,10,10,9,10,10,14,11,6,8,13,5,8,8,6,8,9,9,8,11,7,9,13,11,10,10,6,8,13,15,11,9,5,10,14,2,13,8,13,8,10,7,9,9,17,11,11,7,12,13,12,8,10,13,9,9,14,10,8,15,8,7,13,6,10,7,9,11,8,7,6,8,8,10,12,10,11,10,10,8,13,8,10,5,6,5,10,11,3,10,10,10,5,9,7,11,10,12,13,6,11,9,11,9,8,13,15,14,9,12,13,7,10,6,8,5,5,3,10,10,9,10,10,15,8,11,10,9,9,13,8,8,9,9,14,12,7,13,12,10,13,11,6,7,10,7,12,11,12,6,13,13,8,7,9,7,17,11,8,11,11,7,6,12,14,8,7,10,7,9,5,9,14,13,3,9,10,10,13,12,12,7,14,10,12,11,9,7,7,7,8,9,10,13,10,10,8,14,14,4,10,12,8,10,11,8,7,21,11,11,10,11,13,9,10,13,17,4,11,18,8,13,5,10,13,11,11,4,6,9,11,8,12,10,11,18,10,14,11,5,11,10,9,8,13,11,9,12,10,3,11,6,9,14,10,9,6,10,10,10,11,12,11,9,8,5,12,10,10,11,6,7,5,12,10,12,14,10,10,7,13,7,11,12,13,9,8,5,6,15,10,3,11,13,11,12,14,9,10,7,8,8,8,11,7,13,10,8,12,12,11,12,8,8,11,10,4,11,13,12,11,8,14,14,14,11,7,8,3,6,4,11,7,8,9,10,16,12,6,13,2,9,10,5,11,8,8,9,5,11,7,11,6,11,10,10,10,10,8,14,7,8,10,8,9,10,6,12,11,13,9,12,3,11,12,10,10,7,13,10,4,8,14,11,5,16,4,9,6,6,12,10,9,14,3,11,12,3,5,6,9,10,8,8,10,7,3,8,6,9,11,4,9,7,9,13,7,11,6,4,12,9,7,14,13,8,12,9,10,3,9,8,5,15,12,12,10,7,9,6,10,5,12,13,11,7,14,11,6,7,7,10,13,12,10,5,9,11,12,8,10,11,9,12,16,10,11,7,9,13,11,6,12,7,12,8,8,8,3,11,12,10,9,10,6,8,13,14,6,9,6,10,8,12,10,11,12,6,10,8,10,8,7,6,5,3,11,10,8,4,8,5,8,12,9,11,11,7,16,12,6,13,10,7,14,10,11,9,7,7,8,10,9,5,8,5,12,10,9,10,11,12,3,6,10,11,15,16,8,7,7,11,11,6,11,12,9,9,7,9,12,8,15,9,4,11,10,15,8,13,12,8,12,8,13,8,11,7,8,7,9,12,9,12,8,9,6,10,11,15,11,14,14,12,10,12,6,13,13,9,5,7,12,11,7,11,13,7,5,10,5,9,12,12,21,8,8,7,12,10,8,10,9,11,8,9,15,10,7,9,11,15,10,12,11,8,9,7,9,5,8,13,7,15,10,14,9,14,11,11,12,9,9,9,12,9,9,6,10,12,10,3,11,8,10,5,10,8,11,8,12,11,7,10,14,13,13,3,11,5,4,10,13,9,7,13,9,14,14,11,11,5,10,10,11,9,9,9,10,8,10,13,11,12,12,11,9,8,11,11,12,19,10,13,8,10,12,12,12,14,12,13,12,9,6,14,11,13,11,6,4,10,6,12,9,10,5,6,8,10,10,14,6,10,8,14,9,10,10,3,11,15,10,15,10,17,8,9,12,6,8,8,10,8,2,10,5,12,9,14,14,14,6,10,4,10,9,9,10,4,11,10,10,11,9,4,13,7,11,10,16,10,14,9,9,8,9,4,12,7,9,13,10,10,9,10,10,12,5,12,12,5,8,10,11,9,8,11,10,10,6,7,7,4,11,11,11,10,9,8,10,12,9,8,10,11,11,1,12,12,9,11,7,3,11,6,13,8,12,11,15,13,9,8,11,10,8,15,8,10,14,13,11,12,10,11,8,8,13,14,9,6,10,10,11,9,13,9,7,9,10,16,9,12,12,7,13,10,9,6,9,8,9,11,12,9,13,12,9,16,13,15,14,11,13,7,8,7,11,12,15,9,12,4,5,13,8,10,5,10,11,9,11,10,10,4,11,2,11,11,10,9,7,13,9,9,6,10,13,15,6,11,10,10,7,7,5,10,8,17,14,10,11,9,10,12,9,9,13,6,7,12,13,10,11,8,11,11,9,10,8,3,13,5,9,6,9,11,11,7,13,14,11,9,9,13,11,13,10,7,15,11,5,8,13,9,13,12,8,3,9,12,7,8,10,4,10,14,8,15,12,9,12,9,10,8,9,8,8,7,10,12,9,13,11,14,8,10,10,8,9,8,6,6,7,4,5,11,11,7,10,5,6,10,10,12,8,9,11,12,12,13,3,11,7,9,10,11,14,9,8,8,10,7,4,10,11,12,7,5,11,10,10,15,10,12,7,11,8,9,11,12,12,11,6,6,6,10,18,10,11,3,7,13,11,11,8,6,8,6,10,10,10,9,11,7,7,9,7,10,11,4,9,11,11,12,14,11,17,13,7,4,11,9,5,13,10,10,8,17,13,3,9,9,4,3,10,12,7,15,6,13,7,11,12,11,11,13,11,12,9,7,8,9,14,8,9,11,5,9,14,6,9,9,11,9,2,10,13,10,10,10,9,8,14,8,7,10,11,4,7,10,8,10,5,13,8,11,15,11,4,9,10,10,14,5,12,14,7,9,12,7,10,11,11,11,11,10,11,5,9,10,6,10,9,6,5,10,11,12,3,6,10,10,8,15,6,13,8,13,10,7,13,6,10,8,10,10,10,10,6,8,9,12,6,5,10,10,7,9,12,5,8,10,14,10,9,13,13,7,11,9,9,7,18,10,10,14,13,9,12,15,7,12,3,14,8,12,17,8,7,9,12,7,8,9,9,10,9,19,7,7,11,15,12,5,13,8,15,10,13,10,7,8,16,9,10,12,12,8,11,10,10,8,11,10,4,10,5,7,15,11,9,12,6,8,8,14,16,15,6,10,9,9,11,11,9,14,12,2,15,8,11,7,15,7,5,3,11,11,8,10,6,9,13,10,11,10,7,9,9,11,12,11,10,12,9,11,9,12,8,12,10,13,12,10,11,7,9,14,10,15,10,13,10,8,14,3,12,10,15,13,11,10,6,8,9,12,11,13,13,8,8,7,14,8,8,8,8,11,20,9,12,11,8,4,14,14,11,12,6,13,9,7,8,10,12,12,7,20,7,14,9,9,5,11,9,11,13,8,9,11,11,11,12,6,8,10,10,11,8,11,8,15,10,14,6,9,12,9,8,14,11,17,9,11,9,9,10,10,11,7,11,12,4,4,11,12,13,12,8,8,8,9,12,8,6,8,9,11,7,7,11,11,8,14,12,14,5,8,9,13,10,10,8,11,12,9,12,9,8,7,12,6,9,12,8,6,12,2,12,13,11,8,6,8,5,12,8,13,11,9,11,9,7,13,8,11,9,11,11,7,10,13,10,11,9,14,11,9,9,10,9,7,8,14,6,14,9,16,6,9,9,15,8,9,6,11,11,6,7,8,12,5,11,11,16,18,7,11,9,8,11,12,8,7,9,8,12,10,8,9,15,9,4,9,12,14,6,6,10,12,9,10,10,10,8,11,7,10,7,6,13,9,10,10,12,5,11,9,11,4,11,11,8,9,3,7,7,10,16,11,13,8,4,10,9,14,9,9,10,4,10,7,11,13,5,13,11,12,10,12,8,13,11,8,11,8,16,12,13,10,7,8,11,12,4,12,11,11,11,11,9,8,11,13,10,10,11,4,12,8,7,8,15,7,11,10,12,10,7,5,12,12,10,5,12,13,7,5,10,10,9,12,8,13,10,9,11,6,10,8,7,9,11,7,9,11,11,9,10,12,7,9,8,6,6,10,9,12,11,11,6,11,6,13,14,11,6,12,15,8,9,6,11,11,11,13,9,11,8,14,14,10,10,14,5,11,11,14,3,10,4,15,8,8,6,13,9,7,9,10,6,5,9,13,5,11,11,5,4,10,5,8,8,6,8,10,10,9,8,10,7,9,8,8,10,7,8,6,7,13,12,10,10,13,12,6,10,8,6,7,10,3,12,9,12,13,5,9,9,9,13,11,9,11,7,10,10,4,7,10,11,8,8,11,12,8,13,14,9,7,9,10,8,7,16,11,11,6,10,10,10,12,11,10,9,6,10,10,11,13,13,11,10,5,8,9,10,12,8,11,13,7,10,15,12,8,4,5,10,11,9,14,12,9,10,12,5,11,11,10,12,9,9,11,10,7,12,8,15,7,12,12,6,7,6,8,3,13,12,7,15,11,6,10,10,11,8,8,12,11,4,9,7,7,10,13,13,9,6,9,12,7,11,12,8,9,10,11,11,7,11,9,8,10,12,11,13,7,10,14,5,7,10,8,13,7,9,4,7,13,14,12,11,12,11,7,10,7,10,7,10,9,12,6,8,6,12,11,6,16,12,7,7,15,9,10,8,14,11,4,11,11,12,9,9,9,10,10,10,9,10,12,10,4,9,12,9,9,9,9,12,13,12,10,11,13,11,12,6,9,9,10,14,10,4,12,10,9,4,10,11,13,17,11,14,10,8,9,10,3,10,7,10,10,10,9,10,9,17,8,10,8,9,12,14,14,12,4,6,15,11,14,9,11,22,9,11,10,6,12,10,12,11,9,10,12,16,10,9,10,9,12,10,11,9,10,5,7,9,12,8,11,12,5,15,9,10,12,11,13,10,7,6,4,13,5,11,10,9,7,4,9,10,5,3,9,6,10,10,10,4,10,12,11,11,12,5,16,12,9,9,5,9,13,10,10,8,6,5,6,13,10,10,7,8,11,10,8,7,8,14,14,5,13,8,9,10,8,7,10,5,13,13,7,11,6,7,11,12,11,12,10,8,11,6,10,8,10,8,9,11,12,6,12,13,7,8,10,12,9,8,6,7,14,8,18,8,12,6,7,7,8,11,13,11,9,13,13,10,11,5,7,6,10,9,9,4,5,7,14,10,4,6,12,10,14,13,13,13,10,8,8,11,11,11,12,9,10,9,11,12,2,8,6,11,15,9,10,7,5,10,9,11,9,11,12,6,8,5,13,4,12,6,6,8,7,11,9,11,9,13,12,9,8,13,10,8,5,7,10,17,13,11,9,8,12,3,8,9,8,8,4,12,10,8,13,11,10,12,14,14,11,8,9,3,9,10,15,9,9,6,13,11,11,11,10,9,8,5,9,12,9,12,11,9,9,11,4,6,13,14,8,7,8,13,7,14,8,7,5,8,3,11,13,13,11,6,11,8,9,10,10,12,13,8,9,6,9,16,7,8,13,9,11,10,14,11,10,10,10,14,7,15,10,6,9,10,12,12,10,7,12,11,8,13,9,7,7,9,12,8,10,9,11,15,15,9,12,9,7,10,10,8,12,7,13,7,12,11,10,11,8,8,9,15,9,4,10,13,10,8,6,13,8,7,10,11,11,9,10,9,4,10,11,10,9,13,10,10,11,10,11,8,10,6,9,9,5,10,6,9,11,10,5,12,12,9,12,12,2,9,12,10,8,9,7,10,8,11,14,8,10,12,13,9,9,13,3,12,10,8,6,2,7,9,11,12,7,8,10,12,9,7,11,10,9,5,10,11,10,15,8,4,12,6,15,8,10,9,8,11,13,10,8,11,13,10,10,9,3,6,3,12,8,8,10,7,10,10,10,14,12,4,13,12,11,9,6,11,6,13,10,10,8,11,11,7,19,9,9,14,12,10,12,13,15,7,9,8,12,12,9,8,7,13,8,10,8,12,3,10,11,10,10,12,6,7,13,12,11,5,10,16,10,8,9,9,12,8,12,15,9,11,10,8,9,13,9,12,6,9,7,11,12,12,10,17,8,10,8,12,12,6,11,2,11,11,12,9,9,5,10,8,7,6,14,7,8,5,11,10,3,11,8,12,15,4,15,7,8,7,4,10,7,8,12,6,10,14,12,13,6,12,11,12,13,11,9,10,9,11,10,5,5,11,10,9,7,19,4,9,9,3,13,8,13,8,4,9,9,14,10,11,4,3,13,8,8,12,11,5,10,10,13,8,10,8,6,11,10,6,13,5,9,11,7,6,5,12,8,2,12,12,9,6,11,13,4,14,10,11,12,12,18,14,10,5,10,7,11,4,10,4,13,3,9,12,13,10,10,13,12,10,10,8,8,8,11,12,9,13,5,8,15,14,14,8,8,13,12,12,10,9,12,12,11,9,9,7,7,11,14,10,9,11,7,8,11,10,13,13,7,10,9,14,10,11,11,11,2,12,9,11,10,10,9,14,11,12,9,5,13,3,13,11,8,11,9,11,15,10,10,7,9,12,13,8,6,11,6,10,11,12,9,13,9,12,10,12,6,9,5,11,16,5,9,14,6,8,6,10,14,10,16,11,16,13,9,9,13,10,5,7,9,9,3,9,9,12,8,13,11,10,8,11,11,12,10,12,9,5,10,12,6,5,12,13,14,7,12,10,3,11,8,11,11,9,5,11,10,9,8,8,2,9,10,6,2,9,12,9,5,5,6,6,11,13,10,17,11,14,7,12,10,11,10,14,9,11,14,5,5,2,10,10,9,8,8,10,12,10,5,10,15,9,12,21,9,8,7,12,9,11,7,12,5,10,4,13,19,11,11,3,12,12,17,10,11,10,9,5,2,8,11,7,10,10,7,9,10,13,15,10,11,11,8,13,4,10,11,5,6,10,5,13,11,13,7,10,13,14,11,14,7,11,7,9,15,11,3,11,11,12,8,7,7,7,10,13,7,7,11,9,10,13,8,8,8,3,10,10,8,13,11,7,10,13,10,10,6,9,14,7,12,8,10,11,9,9,12,11,14,11,11,13,11,13,8,12,8,9,11,8,12,8,9,11,9,6,6,8,6,9,9,11,13,8,14,8,12,10,12,11,7,9,9,10,4,12,9,9,10,3,9,10,5,6,11,6,11,12,12,7,10,8,6,10,10,14,12,6,12,8,6,10,16,7,12,11,12,9,7,12,10,11,6,8,12,10,10,8,11,15,10,7,13,14,10,11,11,7,11,15,11,11,12,9,13,11,9,7,6,7,8,9,12,8,12,10,15,11,11,13,11,9,12,4,11,4,10,6,13,7,10,11,9,6,9,8,18,10,10,14,10,9,9,11,8,8,5,14,5,5,5,13,7,10,11,9,10,8,12,13,12,9,9,9,3,11,10,12,12,9,8,7,11,10,11,9,8,8,10,13,10,12,6,8,10,5,15,6,10,11,11,14,15,11,8,9,10,9,11,9,11,12,5,10,6,7,10,5,5,14,12,10,7,14,8,4,6,13,11,8,11,7,9,9,13,7,15,8,11,13,8,10,5,13,10,9,9,3,7,9,13,15,7,10,5,12,10,9,9,13,9,9,5,12,9,8,11,8,10,4,7,13,13,14,10,10,14,8,12,7,5,17,8,13,8,10,12,14,12,11,11,11,6,16,11,9,11,7,10,9,12,10,10,12,13,10,12,7,4,10,13,6,5,12,13,12,10,13,12,4,9,8,6,7,11,8,13,16,10,16,6,10,14,11,10,11,5,9,6,12,9,13,9,12,15,8,6,7,10,12,12,6,7,10,8,10,8,14,8,13,8,9,16,10,12,13,10,4,8,13,9,8,11,12,12,4,11,12,13,7,9,8,7,10,12,10,12,6,11,14,9,9,6,6,4,11,12,4,12,10,11,3,12,9,9,12,9,6,13,16,15,15,7,11,10,12,5,5,5,9,3,10,8,18,13,5,10,10,13,10,12,10,11,8,7,7,8,10,4,4,12,8,9,8,14,7,12,12,16,10,11,11,10,13,10,7,10,4,9,7,11,10,8,10,14,12,12,9,11,9,10,9,11,12,8,10,13,8,9,10,15,13,5,9,5,7,8,8,6,11,9,9,10,12,10,13,6,7,10,8,9,11,11,12,5,6,12,12,4,11,8,6,10,13,12,12,12,7,9,11,10,10,10,9,9,10,13,12,7,13,9,13,14,10,10,8,9,8,7,12,11,9,8,12,9,12,7,9,18,10,9,12,5,11,2,13,13,10,11,8,7,11,14,9,8,9,10,5,9,10,6,8,9,8,12,4,7,10,7,12,7,13,5,6,20,11,14,7,11,11,12,10,11,13,9,8,9,12,8,10,8,10,5,14,13,15,10,14,14,9,13,11,5,13,8,9,11,12,11,10,4,10,14,11,6,13,8,10,8,8,13,7,11,11,13,11,8,7,9,10,15,14,9,7,11,8,10,14,12,5,9,10,9,6,12,11,10,7,6,5,11,9,8,10,6,11,8,12,8,4,10,9,8,4,12,13,11,9,15,12,10,10,10,11,12,9,11,6,11,7,10,10,10,9,11,12,13,6,10,10,10,6,11,9,14,11,9,13,7,4,9,8,10,12,10,6,14,5,9,8,12,11,12,12,11,10,10,8,6,15,11,8,6,13,8,8,8,6,11,12,9,11,14,9,9,11,10,12,12,10,15,10,15,11,10,3,7,11,11,8,12,13,10,13,10,7,7,12,7,10,11,5,15,9,11,11,15,3,10,10,9,5,8,10,9,10,12,5,12,7,9,12,11,14,9,4,13,4,11,11,12,9,11,11,4,8,8,12,11,9,12,12,9,5,10,14,5,11,11,6,10,11,9,9,7,6,7,10,12,3,13,10,6,4,12,7,10,7,4,7,12,11,14,8,11,8,9,10,8,10,8,14,6,8,12,5,10,12,6,4,8,10,14,10,9,10,16,10,12,8,11,9,9,3,9,11,12,6,13,10,11,11,5,9,8,12,3,6,12,8,7,5,8,8,8,14,12,10,12,4,9,13,13,12,14,10,3,9,11,13,10,8,4,6,9,7,11,10,9,10,6,12,7,15,8,8,11,10,10,6,9,6,6,12,10,9,6,11,6,6,14,9,10,8,12,5,7,6,9,18,14,13,6,10,13,8,15,6,2,12,14,7,9,12,4,10,15,6,7,6,14,14,11,10,11,12,4,8,11,11,9,8,7,6,8,6,10,5,5,9,5,9,10,10,7,13,10,12,7,5,12,10,11,12,9,9,10,12,12,7,8,12,9,13,14,16,7,8,7,4,10,7,13,17,11,12,8,16,15,9,9,8,10,6,8,4,13,7,9,9,11,9,7,10,10,11,10,9,9,8,8,10,9,11,13,11,10,12,7,6,5,6,6,7,7,9,5,9,7,10,9,10,11,10,8,8,11,10,14,10,14,7,13,12,13,6,11,3,9,10,8,12,9,13,11,9,8,6,6,8,12,11,10,6,12,13,11,7,17,15,6,6,12,11,14,7,11,8,15,9,8,9,9,6,10,11,10,7,5,17,9,11,9,11,8,8,13,6,13,10,10,3,7,3,14,10,5,7,16,11,7,8,7,7,8,6,9,11,11,14,10,13,8,13,10,5,8,8,8,10,14,5,8,11,12,11,8,11,8,11,8,11,12,10,7,13,9,7,8,9,10,8,11,13,13,9,13,6,6,10,7,10,8,11,10,9,7,6,10,13,11,11,11,13,12,9,11,13,12,11,7,17,7,7,9,6,11,14,9,8,7,7,8,14,12,15,4,8,9,9,14,8,7,8,7,5,11,10,11,15,12,9,5,13,13,11,11,9,13,10,12,7,7,11,10,7,6,11,11,5,15,7,10,15,12,13,12,9,11,7,14,8,10,10,11,9,8,10,12,10,7,9,10,10,12,9,14,10,10,8,15,14,10,9,10,8,7,11,12,9,8,8,7,7,16,15,11,11,12,9,14,12,13,7,6,13,12,13,7,12,3,9,10,3,12,13,7,10,8,8,11,10,5,7,5,8,13,12,13,9,20,7,11,12,11,12,8,11,7,10,13,6,10,11,5,7,10,10,9,11,12,13,12,10,10,8,7,4,4,8,14,7,10,8,12,9,9,12,9,11,7,12,10,8,10,9,7,8,7,4,13,4,10,10,10,11,7,10,8,3,12,14,6,12,7,12,7,11,9,13,9,10,3,11,14,11,9,8,9,11,10,12,12,12,8,9,15,11,13,6,6,11,10,12,11,9,10,5,10,8,8,9,12,7,9,9,12,4,14,13,6,5,10,12,12,9,8,12,8,11,14,9,7,11,8,6,11,10,5,9,7,13,4,9,12,11,14,9,8,9,9,12,9,10,9,10,15,11,9,6,13,12,11,10,5,8,11,10,9,8,11,9,9,6,12,12,9,17,6,8,9,13,10,13,9,10,11,9,9,12,7,9,13,7,8,9,7,15,10,11,11,10,4,10,10,9,10,12,11,9,6,8,4,8,10,5,7,4,9,7,7,10,9,8,15,11,11,12,2,7,8,8,8,6,14,8,12,12,5,9,8,10,15,8,12,5,13,6,8,9,10,9,4,11,9,8,9,11,9,9,7,13,11,11,6,9,9,11,11,11,12,12,3,11,9,12,11,7,9,12,11,8,14,10,6,11,10,11,10,11,7,13,12,9,9,9,6,5,12,12,9,11,13,11,8,10,16,8,8,13,12,12,7,9,8,8,11,6,7,8,17,8,12,6,6,9,8,5,9,9,8,8,9,10,8,9,10,15,11,12,9,13,10,11,8,5,10,6,7,10,17,10,12,11,10,8,11,9,13,9,10,8,11,7,10,6,14,3,13,12,11,6,12,9,10,8,12,10,6,14,14,7,6,9,9,5,8,14,7,10,14,14,6,7,11,12,5,6,10,6,9,10,11,11,14,8,6,12,8,11,7,10,15,10,13,11,14,11,7,13,7,11,7,11,11,14,10,13,8,7,10,11,9,8,11,15,13,9,16,11,4,16,9,7,11,9,9,11,11,10,12,8,7,10,6,7,12,9,13,5,5,11,9,12,8,7,9,5,5,9,8,10,8,2,14,9,13,9,9,16,5,11,14,10,12,6,13,8,8,8,7,9,10,10,8,9,9,12,14,10,6,8,14,9,11,6,8,9,7,11,8,14,14,10,8,13,10,10,9,5,8,10,8,9,15,7,12,13,14,4,11,6,12,8,13,9,16,9,8,7,16,11,9,7,10,7,10,16,8,12,12,10,13,9,6,11,11,13,12,11,14,9,11,11,11,5,7,4,6,9,11,6,6,5,10,7,15,17,14,11,14,12,9,9,8,10,4,9,12,9,12,14,10,6,9,11,10,11,7,12,10,5,12,8,8,8,10,7,11,12,13,10,7,13,8,11,10,9,9,7,10,7,9,14,11,6,14,10,9,8,8,11,7,8,8,5,13,14,10,9,7,10,8,15,7,13,11,13,12,11,11,12,13,11,7,10,12,13,6,13,5,11,9,12,7,9,8,12,11,13,17,10,10,10,13,7,10,6,8,12,14,3,5,10,16,16,6,10,11,8,13,14,6,9,14,5,12,7,12,10,9,9,11,10,12,14,12,9,10,6,10,4,7,10,10,9,5,8,10,11,8,9,12,9,6,11,14,11,8,11,11,9,8,9,10,6,8,6,11,11,5,16,12,6,15,9,10,12,4,9,11,7,13,13,11,11,9,10,12,8,8,7,12,13,6,9,7,11,10,10,17,8,8,8,16,7,5,11,9,10,8,8,11,8,6,8,10,15,11,13,12,7,5,3,12,11,13,7,9,10,10,12,9,8,12,9,10,12,10,7,15,7,7,7,7,13,10,5,7,12,12,4,8,13,9,8,10,7,4,7,12,12,9,11,5,13,6,12,11,6,10,9,11,10,3,9,10,13,9,13,13,9,11,7,10,12,9,7,8,8,19,12,6,6,6,11,9,14,6,15,12,9,10,9,11,10,11,13,8,8,11,12,11,11,11,8,13,9,12,7,13,11,9,14,2,4,9,13,5,11,11,10,9,10,8,12,5,11,8,5,9,10,8,12,11,9,9,8,10,10,3,10,6,8,6,5,14,11,9,8,4,12,13,11,5,8,7,13,10,5,12,9,11,6,13,10,10,11,8,10,9,11,12,7,10,8,11,9,3,10,12,11,12,10,10,12,8,6,9,8,11,10,7,6,6,9,13,6,9,12,9,6,13,10,12,8,12,11,11,5,10,9,11,11,10,9,11,7,11,12,10,10,11,10,9,14,10,11,12,11,6,6,5,10,9,7,9,6,9,8,13,9,8,14,12,14,8,9,8,11,11,11,8,11,10,6,8,8,7,10,9,4,6,7,10,7,16,5,13,9,9,12,9,12,7,9,5,7,9,7,11,9,9,11,11,4,8,13,8,9,12,7,12,14,6,9,12,13,11,17,6,13,12,9,7,9,5,12,11,16,8,14,13,9,2,7,11,11,9,12,10,15,10,10,12,11,6,12,8,9,10,5,10,8,12,13,11,9,14,6,9,12,7,11,5,10,7,12,10,12,8,9,11,13,9,11,9,5,8,12,11,9,8,10,12,9,11,9,9,10,5,4,8,9,7,6,5,9,8,5,10,6,9,12,9,11,10,8,11,9,7,8,8,15,13,7,7,9,8,6,10,11,13,12,8,7,11,10,12,10,5,8,11,11,8,6,10,3,11,11,2,6,14,9,8,13,8,11,10,10,7,9,13,8,10,9,12,10,11,13,3,9,2,7,4,5,5,14,10,14,6,10,6,11,8,4,9,13,5,11,13,10,8,11,6,7,11,4,7,14,10,6,6,14,12,8,11,10,11,5,8,10,5,12,11,5,11,11,9,8,10,12,10,16,12,10,7,12,4,10,12,7,10,13,6,7,8,8,12,9,8,2,9,7,10,9,14,9,10,7,14,10,12,16,10,10,11,8,9,5,11,16,9,7,10,9,12,13,10,11,5,11,13,10,12,8,8,12,3,13,8,9,5,11,13,10,18,9,8,12,14,16,11,14,8,12,6,8,12,7,7,10,7,11,9,6,9,5,9,10,8,8,11,8,9,12,12,2,11,10,13,12,6,9,9,11,11,11,9,6,9,7,12,13,12,12,7,4,8,11,5,10,11,9,14,5,11,6,6,14,10,4,13,14,8,8,11,4,12,16,3,7,7,11,11,5,15,7,8,8,7,10,14,5,13,9,9,6,14,10,10,8,9,9,7,13,11,11,13,4,8,6,9,7,12,10,9,12,9,12,15,12,6,9,13,8,10,9,12,7,13,10,8,13,5,6,11,8,12,9,10,11,12,14,13,8,7,15,14,13,9,8,13,6,10,13,12,12,9,12,11,14,8,13,9,8,9,12,9,11,10,8,10,8,10,14,11,7,19,11,15,6,11,12,8,6,9,8,9,11,12,6,5,6,7,9,10,11,10,6,6,12,10,13,7,7,6,12,3,8,13,10,6,9,7,11,10,6,2,9,8,10,12,11,13,8,7,10,11,3,7,14,12,12,12,6,2,15,13,7,10,11,7,8,10,13,8,12,5,8,7,9,11,11,17,12,11,11,13,12,10,12,8,7,8,10,7,9,7,5,10,12,9,13,12,12,6,9,10,4,7,10,11,10,10,13,11,9,7,10,9,6,10,5,6,7,10,7,10,4,10,9,10,14,7,10,10,13,11,8,6,6,11,7,6,8,11,11,9,11,9,9,12,9,14,11,15,6,17,6,9,11,9,12,10,4,15,10,5,9,10,8,9,10,7,16,8,10,8,16,13,10,13,14,13,8,13,15,10,14,6,10,14,8,8,13,14,11,13,9,11,11,10,7,13,14,9,13,14,7,7,13,11,6,11,8,10,10,10,12,10,9,8,6,8,9,10,12,8,10,10,10,10,8,16,11,9,10,10,9,8,6,15,7,10,10,12,11,9,12,13,11,5,6,9,12,12,10,7,9,9,12,8,12,9,11,10,10,9,13,12,10,8,8,3,13,7,12,9,9,7,8,10,4,9,11,9,9,13,12,11,10,8,6,11,11,9,8,12,3,11,9,13,10,11,14,11,7,11,10,11,6,12,12,10,11,8,9,12,13,11,12,8,12,11,11,7,12,8,8,12,11,6,12,13,6,6,10,7,7,9,10,8,6,2,8,11,4,10,8,10,11,8,8,8,12,15,10,13,6,8,10,7,12,8,8,11,7,7,7,16,8,7,10,16,6,10,6,4,4,13,9,7,16,10,10,7,12,11,12,4,12,5,5,7,11,14,10,8,14,8,10,7,11,8,10,11,10,10,9,12,4,4,17,11,7,10,10,5,14,11,12,10,4,11,11,5,10,8,14,13,11,10,9,6,9,4,12,9,12,3,10,12,9,9,9,13,9,12,7,3,9,12,14,13,12,12,7,11,8,12,4,4,16,11,9,7,12,3,11,9,4,12,15,7,12,12,12,12,12,9,12,7,3,5,11,9,13,8,7,6,11,16,7,11,7,10,12,9,8,12,10,13,14,7,10,10,11,10,8,9,9,12,7,8,7,10,9,10,9,10,13,8,9,8,9,6,2,11,9,12,9,5,10,5,7,11,9,4,9,8,9,12,10,9,11,7,6,12,3,9,6,12,11,11,12,7,6,6,14,10,8,10,13,11,12,16,13,11,9,13,11,9,8,12,16,10,9,10,10,3,9,10,16,12,12,9,12,13,7,11,13,7,10,11,8,15,10,11,5,5,14,10,11,9,13,13,7,11,11,6,7,11,10,10,13,8,12,9,8,15,15,13,12,9,7,8,10,7,10,6,7,7,11,12,9,8,6,3,10,10,10,9,8,7,13,14,6,11,8,12,7,11,8,9,7,11,9,10,9,7,13,8,8,6,12,10,8,8,9,10,15,9,7,7,11,8,7,11,8,12,5,6,12,8,8,9,12,10,7,9,6,8,4,6,5,11,12,10,12,16,4,12,9,12,6,6,11,6,8,13,8,12,17,11,13,4,13,7,12,14,6,10,12,11,12,11,11,11,10,6,9,9,6,6,10,12,10,12,14,14,14,9,6,11,11,8,3,15,4,11,11,8,8,10,7,8,10,12,10,12,8,10,9,7,9,10,14,13,12,9,11,4,5,12,10,10,10,11,10,10,7,12,10,13,8,6,6,7,10,14,7,15,11,2,12,10,10,6,11,5,15,6,9,10,12,6,12,6,15,16,10,8,12,11,10,9,12,11,11,13,14,7,3,13,11,11,13,7,10,8,8,8,15,14,7,14,7,9,9,14,14,8,12,9,11,11,7,9,12,10,11,10,12,7,14,13,8,10,9,6,9,10,10,8,9,12,10,5,8,9,4,12,8,9,3,10,9,9,14,13,9,12,13,13,10,6,11,9,6,16,9,12,11,5,10,6,13,9,7,10,9,13,9,11,10,14,12,7,8,10,6,8,9,8,4,8,8,6,9,10,10,14,4,6,8,7,8,4,10,7,8,10,7,11,9,13,10,6,5,12,9,7,7,10,5,10,7,10,14,11,13,6,8,8,3,10,10,9,5,11,9,7,10,11,12,19,12,10,7,9,11,9,8,12,8,12,10,4,17,9,12,9,10,10,10,13,9,11,10,8,6,12,12,8,9,6,10,8,2,4,11,6,10,3,12,8,13,7,10,10,6,13,13,7,10,4,10,13,7,13,8,5,10,14,3,10,9,10,17,13,13,13,6,9,11,10,7,16,6,10,8,9,7,10,12,8,14,13,14,8,9,11,2,11,9,12,12,2,13,10,9,8,6,7,9,7,10,11,15,16,5,11,12,9,13,4,9,10,9,9,8,10,5,8,6,10,9,12,12,12,13,12,15,10,8,8,9,10,11,10,11,8,8,7,6,11,6,9,13,8,10,10,8,8,10,10,7,13,6,8,10,3,6,7,11,14,8,12,7,8,9,14,6,9,12,9,11,9,9,6,7,9,10,9,12,10,9,12,11,14,10,10,15,8,11,10,12,15,9,11,11,9,13,15,9,13,13,11,13,6,10,6,10,8,10,13,9,10,11,6,10,8,12,10,10,7,6,13,5,4,5,14,5,12,8,9,6,15,7,12,11,10,19,6,10,9,10,13,4,9,6,9,6,6,11,13,12,8,8,13,10,15,15,3,7,12,7,13,13,9,10,6,13,13,15,11,14,3,4,6,11,12,11,4,6,7,12,5,14,9,11,11,13,7,8,10,12,9,8,9,6,9,10,10,13,6,14,14,11,9,12,8,13,3,9,9,6,9,8,11,10,11,10,12,9,5,11,9,5,5,11,12,5,9,3,13,6,12,13,10,13,9,10,11,5,12,9,10,9,8,10,12,11,13,6,11,12,8,13,13,9,3,12,10,10,7,12,10,12,9,3,9,14,7,16,10,12,8,10,13,11,8,7,11,10,11,13,10,10,12,13,7,4,5,7,7,8,12,14,8,10,10,9,7,9,12,9,9,12,14,12,5,9,6,11,11,11,15,15,10,6,8,6,12,13,7,11,4,12,12,13,6,9,13,10,10,13,10,8,12,10,2,10,7,10,6,11,10,7,8,10,9,13,12,7,8,8,10,8,2,12,12,10,7,6,8,15,9,7,12,11,4,11,4,5,8,7,8,12,10,11,7,7,8,15,10,13,9,13,9,7,11,9,14,9,10,16,9,11,12,8,5,9,15,4,5,6,13,10,7,13,10,13,10,13,6,7,8,9,10,12,14,11,8,6,11,8,12,9,8,8,12,8,4,9,11,14,14,3,11,14,6,7,9,16,11,9,6,9,12,12,13,10,6,10,4,12,10,12,14,11,8,6,7,12,10,8,11,8,12,13,9,7,10,10,7,10,10,12,10,8,9,9,10,7,7,14,9,12,12,8,5,9,9,9,13,8,14,4,9,8,9,14,8,6,11,10,7,9,12,12,12,11,15,14,9,9,11,12,10,11,11,12,12,14,6,9,6,11,9,19,6,15,8,8,8,3,3,11,10,7,10,11,16,12,9,7,8,11,8,14,7,10,8,12,10,11,12,12,10,16,12,3,4,10,7,11,11,8,4,10,12,6,13,9,15,12,12,7,13,7,9,10,10,9,9,8,5,6,3,11,10,9,7,7,5,6,8,13,8,11,6,8,8,10,9,12,4,11,8,9,6,5,5,9,10,12,5,11,7,12,10,16,8,5,8,9,11,9,11,9,5,10,12,10,13,10,6,14,10,10,9,8,13,12,10,8,15,16,9,8,5,9,8,3,12,11,10,8,9,7,11,11,11,9,6,12,10,4,10,10,9,6,11,14,17,11,7,8,12,12,9,6,9,11,4,8,11,10,11,6,10,11,7,4,10,12,4,9,9,11,5,11,10,7,10,5,10,11,5,4,12,5,3,10,7,9,12,8,15,8,9,7,6,12,17,6,9,8,11,8,9,11,14,12,4,11,6,8,11,8,9,6,11,9,13,13,9,8,13,8,8,11,7,7,11,12,13,8,11,12,10,10,6,14,7,9,10,11,12,10,10,8,9,12,11,11,6,11,8,8,12,3,10,9,5,10,13,8,9,14,17,10,13,12,10,5,10,6,16,12,8,16,9,13,8,13,7,12,12,12,11,9,9,11,8,9,8,12,14,8,9,11,13,13,10,5,10,13,9,11,10,10,11,8,7,12,11,12,10,10,10,8,7,7,7,9,10,9,11,9,9,10,14,4,9,10,10,9,6,9,11,11,9,12,9,9,12,10,13,8,9,7,9,9,12,8,11,12,5,8,13,6,12,10,14,10,6,11,3,12,18,9,3,9,11,8,10,12,11,6,8,14,6,13,12,8,12,11,11,7,11,10,13,8,10,3,12,12,5,10,11,7,16,11,15,2,13,14,11,16,8,9,11,12,9,12,6,10,13,8,10,12,10,12,13,9,11,14,15,7,12,13,13,10,7,10,8,13,14,10,7,13,10,10,16,6,12,8,8,6,8,7,11,15,6,11,11,8,11,9,12,11,10,8,13,5,7,7,12,8,9,12,10,9,13,13,14,8,13,9,6,7,13,7,5,15,10,11,10,8,6,7,5,12,8,10,7,10,4,6,11,10,8,10,7,11,13,10,9,8,11,10,8,11,10,8,12,7,11,11,10,5,9,8,13,6,8,10,13,9,14,10,6,14,10,10,7,12,12,9,10,11,7,8,16,15,10,7,10,8,5,7,9,7,10,9,12,10,12,11,7,8,13,4,6,11,11,7,10,9,11,9,12,11,12,8,12,9,13,13,10,8,11,7,7,10,9,8,8,11,16,3,8,11,12,12,11,12,12,5,15,9,8,11,7,9,11,14,8,9,17,11,13,7,4,8,11,11,11,8,9,8,10,10,14,10,12,7,8,16,7,10,9,11,11,11,11,13,9,10,9,12,9,6,9,12,8,10,12,11,9,4,12,7,10,10,10,10,10,11,6,10,16,11,4,8,9,10,8,10,11,4,10,11,14,9,9,12,12,10,7,17,10,10,11,11,9,13,11,5,11,9,8,9,3,4,8,12,11,12,11,11,8,10,11,13,11,10,11,10,9,7,5,9,11,8,12,12,12,5,10,9,12,10,11,16,5,4,6,12,10,13,9,10,7,10,9,4,2,8,11,14,6,12,11,10,7,12,12,14,7,11,7,12,10,3,9,8,9,11,17,8,22,11,2,8,10,10,8,9,13,10,6,8,8,11,9,9,4,13,10,10,11,10,10,11,9,5,8,4,6,10,9,9,9,9,11,12,10,9,8,15,8,9,9,12,10,14,5,8,10,10,10,10,12,13,10,10,11,12,5,12,13,10,16,12,8,4,8,18,11,6,15,11,8,9,9,12,11,7,6,11,6,8,8,9,11,10,9,13,9,10,6,10,15,17,9,14,11,10,11,14,11,6,10,12,5,15,5,14,6,6,7,7,10,10,10,5,3,11,7,9,4,11,9,3,17,14,12,9,12,18,10,9,10,15,9,7,7,8,11,14,10,12,12,10,8,10,11,12,10,14,10,6,12,9,8,11,8,8,6,7,13,4,6,11,6,14,9,8,8,8,10,12,10,12,9,7,12,14,8,8,12,15,6,8,10,8,8,10,11,9,9,9,10,10,12,9,6,14,12,10,11,13,3,7,8,14,10,12,16,11,6,12,4,11,10,12,7,9,8,12,8,6,7,4,11,5,10,10,5,12,6,4,9,10,11,12,10,12,12,11,8,8,8,9,10,7,11,11,12,4,8,9,2,6,10,7,11,9,9,11,12,12,8,10,8,13,10,11,11,8,6,6,12,11,11,3,10,10,11,14,9,5,12,10,8,13,10,13,13,14,7,8,14,8,10,16,12,9,11,10,8,13,11,7,11,9,12,10,13,6,11,5,13,13,10,15,6,12,11,5,9,13,13,10,12,8,7,10,13,5,12,14,7,9,13,8,19,8,9,12,7,13,12,9,6,10,9,8,5,12,5,12,10,13,11,13,9,12,11,7,7,14,10,15,6,9,10,10,9,11,6,14,10,6,12,8,12,13,6,6,7,10,13,10,10,7,9,5,6,8,11,11,9,14,12,6,9,7,12,8,9,13,9,11,11,9,6,4,11,11,9,7,11,12,10,11,11,6,5,6,10,7,9,7,16,11,7,9,9,11,21,13,7,10,10,11,12,11,10,10,7,12,18,12,5,14,9,5,3,12,5,10,7,10,11,5,10,12,13,6,10,9,10,13,15,16,11,14,12,9,12,12,9,6,9,8,4,13,7,10,10,11,9,7,9,7,10,14,7,16,6,13,4,3,13,5,15,9,5,11,10,10,14,11,4,12,11,16,7,12,15,8,13,9,10,13,12,12,10,9,9,10,9,8,16,8,14,15,11,7,10,5,12,10,9,5,8,12,16,9,7,9,10,8,10,8,7,11,11,9,10,12,5,11,13,12,14,15,12,4,8,9,8,7,7,10,7,15,7,10,10,15,9,11,12,9,6,10,9,9,5,7,8,9,6,6,11,10,8,8,10,12,9,10,11,8,9,4,12,6,10,10,11,9,11,9,11,5,9,8,9,6,15,13,11,11,10,10,13,12,8,9,10,10,13,11,10,11,5,13,10,12,11,11,11,13,13,9,7,10,10,8,10,14,13,11,9,5,5,12,13,13,10,12,10,16,11,9,4,11,13,14,7,10,10,13,7,7,12,7,6,10,9,14,8,11,11,12,9,8,12,12,6,14,8,10,6,10,6,7,7,10,10,12,10,13,12,10,8,13,12,13,12,10,11,13,11,8,11,13,7,7,10,7,8,10,7,13,8,10,10,14,12,12,13,10,11,13,9,10,11,5,12,12,12,10,11,10,14,12,8,13,14,10,9,7,11,7,11,13,11,6,12,7,11,8,12,13,9,10,5,13,7,10,9,11,9,13,8,8,11,10,11,8,12,10,11,4,7,13,9,9,8,10,12,6,9,5,4,9,6,9,11,11,11,14,6,8,11,10,12,9,8,7,7,7,15,13,9,6,9,3,11,10,7,9,6,6,5,12,8,11,10,10,11,11,9,5,5,13,11,12,8,14,14,8,8,8,7,13,11,12,5,11,5,10,4,10,8,5,11,8,6,13,12,9,11,10,13,12,13,5,9,12,9,6,8,13,9,9,11,11,12,9,7,12,10,7,8,11,8,10,11,13,8,15,9,12,9,15,14,9,14,12,9,3,16,10,9,11,11,19,9,5,10,9,5,11,11,9,7,5,11,10,11,13,11,12,12,8,9,4,12,9,16,15,13,12,11,10,11,7,9,8,9,8,17,9,7,11,16,8,6,12,9,9,11,8,12,9,5,5,6,9,5,13,10,6,8,9,11,11,8,10,6,13,9,13,11,7,10,6,10,9,10,16,5,7,10,10,5,6,10,9,8,9,5,10,9,10,9,10,8,12,8,10,12,11,12,10,3,14,13,9,5,6,8,4,7,6,9,3,9,14,9,13,11,12,9,13,10,10,7,13,8,10,12,10,10,7,6,9,13,13,10,15,9,8,9,11,10,6,6,11,10,12,11,9,8,11,10,13,9,10,11,11,11,9,14,10,10,12,7,6,8,7,12,6,8,9,9,11,11,13,12,10,11,4,9,11,4,7,8,4,6,8,9,13,14,11,11,3,11,10,9,12,5,10,8,9,6,15,5,13,8,14,7,12,10,10,13,9,10,11,9,11,7,10,5,7,9,7,4,12,13,9,12,6,11,10,7,10,16,14,3,10,12,9,9,9,7,7,6,8,11,10,15,9,6,9,5,8,8,9,10,12,10,12,10,10,6,6,12,12,5,7,7,10,10,14,11,8,7,12,14,9,9,11,12,8,9,6,9,9,11,4,4,3,6,8,6,9,5,9,7,3,6,10,12,10,6,13,7,6,8,14,4,10,7,9,12,10,8,16,6,10,10,12,9,10,10,12,7,8,7,15,11,16,7,11,10,9,8,13,7,12,10,9,8,8,11,11,8,13,7,11,9,7,9,12,8,10,13,13,12,7,8,14,11,12,10,9,13,10,10,14,14,6,8,11,7,6,11,11,10,7,13,11,12,3,14,14,10,10,5,13,9,10,9,5,8,7,13,9,9,8,12,6,10,13,9,6,12,12,11,9,11,8,12,12,9,13,12,13,8,13,9,8,10,14,12,10,6,13,8,11,5,8,8,5,11,4,9,12,4,11,6,11,12,10,6,9,11,10,13,12,5,11,10,5,10,13,5,4,9,11,9,11,12,11,8,10,15,13,5,12,10,10,5,8,10,11,9,6,8,10,10,9,11,8,14,11,14,13,11,8,12,8,12,6,11,13,8,8,15,13,14,13,17,11,12,10,9,8,13,13,8,8,6,8,11,13,11,4,11,10,9,10,9,4,11,11,7,10,5,10,5,9,10,10,7,13,10,4,12,11,11,8,9,5,14,4,13,10,10,10,8,2,6,9,8,15,13,10,11,11,9,13,15,5,11,9,8,11,12,14,7,8,11,4,7,13,8,6,12,9,10,10,12,14,14,10,6,4,11,7,8,14,10,10,9,14,12,8,7,5,8,9,7,12,9,6,12,7,7,7,8,13,11,7,13,9,13,6,8,11,9,11,6,13,6,11,5,7,13,13,13,11,9,11,12,11,4,11,12,7,3,14,9,10,11,13,9,10,11,11,8,12,8,9,8,15,11,9,8,7,5,7,11,9,16,8,7,8,10,8,10,13,7,12,5,8,12,7,12,12,10,9,12,11,15,10,9,10,5,9,12,9,10,10,4,12,7,12,6,11,15,16,12,9,4,7,12,6,11,10,8,12,6,6,12,7,14,5,7,8,10,11,8,12,17,11,11,11,9,10,4,12,10,15,13,8,15,7,7,9,8,7,7,13,8,13,13,13,11,13,9,19,11,9,4,7,9,6,9,7,9,12,9,8,10,6,12,8,8,10,13,5,13,10,11,11,9,10,10,11,9,10,11,11,13,14,12,4,11,12,11,4,11,9,13,9,5,11,9,9,13,12,10,7,10,16,7,13,16,9,11,13,7,7,15,9,8,3,13,14,11,11,12,8,7,10,10,8,6,7,14,11,10,8,9,10,11,8,6,5,10,8,14,9,12,16,13,4,11,16,28,12,6,9,8,8,5,7,7,12,8,10,12,11,10,12,9,6,14,14,11,10,15,4,8,9,9,11,9,18,15,10,9,11,7,8,13,9,10,10,9,13,12,11,14,10,5,12,9,10,13,8,13,8,12,3,11,13,10,5,11,9,12,12,8,11,10,9,13,9,13,8,5,8,13,12,12,11,9,12,13,8,4,9,10,11,9,10,11,17,14,8,11,9,9,12,8,12,11,3,12,8,13,7,2,11,5,10,7,18,8,13,8,14,10,11,8,13,12,14,7,11,7,14,13,9,7,9,9,10,9,2,9,8,11,4,10,9,14,14,4,13,9,5,12,12,12,11,11,11,9,10,9,7,9,13,12,8,16,9,8,13,11,7,6,10,7,10,11,6,10,10,7,10,7,9,9,12,7,9,10,10,12,7,6,7,14,10,7,7,13,9,12,9,7,7,10,9,9,11,15,9,8,12,8,9,10,13,9,12,5,12,8,5,10,7,5,8,22,10,13,11,11,12,9,17,11,10,6,11,6,2,10,8,7,10,12,12,14,13,8,10,3,8,8,12,9,13,10,12,13,10,6,14,14,7,9,9,9,9,7,14,11,8,11,7,11,16,6,5,10,8,8,8,10,11,12,10,10,8,12,8,5,10,7,8,8,11,12,13,6,12,12,11,10,11,12,8,10,8,11,11,5,11,12,13,8,5,11,4,14,12,14,5,9,10,12,8,9,13,10,13,12,12,6,6,6,10,9,13,9,5,10,8,8,15,6,11,7,13,3,13,10,12,8,9,9,7,10,7,5,6,19,11,11,10,12,11,11,10,11,13,9,7,12,10,9,13,10,11,9,5,12,10,12,9,10,9,5,8,13,13,9,7,5,11,3,13,14,8,7,7,13,9,11,12,6,12,12,9,8,13,6,12,9,14,9,7,10,9,13,9,5,11,9,7,15,12,9,10,4,9,8,9,8,9,9,9,9,9,9,11,7,5,10,17,9,14,7,7,13,6,5,9,6,10,8,6,8,11,10,13,11,15,6,8,11,12,9,13,14,11,7,13,8,16,12,10,5,13,8,14,4,7,13,10,9,13,12,11,11,9,7,10,11,9,6,9,9,10,8,5,7,10,7,11,7,10,10,6,11,10,10,11,9,10,11,10,11,9,10,9,5,9,11,10,11,13,9,13,5,12,5,12,13,12,8,10,5,8,11,12,13,14,9,5,13,12,15,10,10,7,9,12,8,7,9,7,8,9,10,11,11,9,7,7,9,9,14,8,16,13,9,8,4,14,6,8,6,10,12,9,9,12,10,10,14,10,7,9,8,6,11,10,8,9,9,9,7,11,8,10,13,10,10,12,12,4,12,9,11,14,17,3,11,9,13,9,8,12,6,9,8,8,12,6,11,10,10,13,14,9,12,13,11,11,10,6,6,15,6,9,6,7,14,5,11,10,5,10,11,9,13,9,11,5,10,10,3,10,13,9,9,4,9,6,12,9,7,5,14,10,7,5,10,7,15,11,10,6,12,6,16,10,11,13,8,12,11,8,11,8,13,11,6,11,11,9,12,10,11,10,8,8,9,10,17,12,13,10,10,11,9,9,11,11,7,12,3,6,10,12,13,15,11,6,10,9,12,8,6,10,7,5,10,12,8,12,13,10,8,12,13,10,7,11,6,10,9,14,6,9,12,10,6,12,11,9,12,8,9,8,12,11,12,10,14,9,11,10,7,10,11,10,11,12,10,8,13,7,12,4,12,11,10,10,10,9,10,9,11,8,5,8,10,8,11,9,7,6,6,8,12,10,5,10,6,6,7,15,13,12,14,15,11,6,6,8,7,5,7,11,7,6,13,11,7,9,11,6,8,9,12,9,11,9,8,8,7,10,11,11,13,10,11,10,11,9,13,12,11,9,11,10,9,7,4,11,10,8,14,11,12,9,9,7,7,14,11,9,13,10,6,12,11,14,13,8,12,10,14,6,8,10,13,11,8,12,8,15,5,4,8,11,11,9,10,3,11,5,10,9,9,7,11,8,14,12,12,11,10,10,13,5,10,7,8,10,12,10,16,7,11,12,10,5,6,8,11,6,11,13,6,9,5,8,12,9,14,11,10,10,13,9,7,10,11,5,12,7,11,10,13,16,10,11,5,12,7,13,6,10,10,5,10,10,4,10,15,10,9,9,9,11,6,10,10,11,11,10,8,10,8,16,13,10,12,11,13,6,8,7,12,2,9,17,11,10,10,11,12,5,6,16,9,10,11,8,10,7,11,13,16,11,10,5,10,9,11,12,6,13,3,12,9,8,11,9,8,6,4,6,8,9,8,11,7,13,15,10,8,12,10,11,15,15,6,13,10,5,11,5,10,4,9,14,16,9,11,12,10,12,12,15,2,9,11,8,6,3,7,8,3,12,12,9,10,10,12,12,7,10,9,9,11,6,8,8,5,8,11,9,9,11,8,11,10,11,10,7,17,10,8,13,12,10,6,11,8,14,11,8,7,10,8,13,12,6,9,10,6,12,10,11,15,10,12,9,11,15,6,10,9,8,8,11,6,7,11,8,10,13,4,9,15,8,15,7,9,13,11,10,12,6,11,13,11,7,9,10,5,5,13,11,6,11,9,4,14,9,7,11,11,9,7,12,12,11,8,10,7,9,4,11,10,3,9,12,10,11,11,5,9,7,5,14,7,9,12,2,10,6,9,13,2,11,7,11,8,12,13,10,8,6,8,5,11,3,10,9,6,10,9,15,7,9,6,13,10,14,8,5,8,13,9,9,13,13,11,11,6,11,18,10,7,10,10,3,12,11,4,8,11,9,11,12,6,8,5,5,12,8,3,7,10,10,9,10,12,9,16,4,14,10,14,14,8,7,11,11,6,8,12,12,14,9,8,12,8,6,8,8,7,14,11,8,5,9,9,10,3,6,8,7,8,9,9,12,8,11,4,8,7,11,13,9,2,11,11,12,10,7,7,12,2,5,12,13,9,9,13,9,8,8,13,12,8,10,5,14,9,10,6,15,11,12,7,6,8,13,5,12,11,12,11,11,3,5,9,6,9,10,12,10,13,8,11,8,8,10,13,8,9,8,4,13,7,5,10,9,15,9,10,11,11,3,12,10,13,9,10,12,4,8,10,13,10,8,4,13,8,8,9,16,11,10,9,8,11,10,11,9,12,11,14,12,10,14,6,9,7,9,13,11,4,3,11,10,9,8,16,6,12,7,10,7,11,11,12,16,11,3,14,10,7,6,6,6,9,8,14,37,13,7,8,8,8,10,9,14,11,15,10,5,9,4,12,8,11,9,14,7,6,7,10,9,7,5,9,12,7,10,8,11,10,15,10,12,11,10,13,10,3,10,4,9,8,7,8,7,12,11,9,8,9,10,12,12,12,13,7,9,6,11,12,12,14,7,8,11,7,8,8,3,5,9,9,10,12,7,11,12,7,7,9,6,12,11,7,7,9,12,9,10,16,9,8,7,8,10,14,11,12,11,6,10,11,5,5,13,15,10,9,14,10,10,10,13,9,9,7,9,11,7,8,10,9,8,3,18,11,8,12,2,11,14,14,12,9,8,5,11,11,8,10,10,14,14,9,14,4,10,9,10,12,9,9,10,9,11,13,5,10,6,11,11,12,16,11,3,9,11,8,11,11,13,7,11,9,10,4,6,12,10,6,12,7,13,14,7,9,8,10,8,13,11,11,10,9,8,10,7,7,5,12,6,11,10,8,12,8,7,9,13,12,13,9,16,16,14,11,10,6,11,9,9,5,12,4,9,9,6,9,9,10,5,7,7,6,9,3,12,13,10,5,8,8,11,9,14,7,8,3,9,8,11,11,9,10,10,12,13,11,11,12,8,10,6,10,11,9,13,7,7,8,3,5,11,8,9,9,6,7,11,2,12,11,11,11,14,7,3,10,5,8,8,8,8,14,13,6,8,15,13,11,14,11,14,8,11,10,14,9,13,11,7,10,11,13,12,10,16,7,6,10,7,8,11,12,7,9,10,6,10,9,10,7,10,11,8,8,15,5,12,13,8,9,10,10,9,9,6,9,11,11,5,14,7,11,8,8,14,9,12,10,7,11,9,9,8,4,7,6,13,12,10,10,6,11,13,10,12,9,13,7,4,10,8,10,9,13,16,12,7,12,9,6,9,11,6,11,7,8,11,10,6,6,12,9,7,10,12,9,11,10,10,10,9,10,2,10,5,7,14,9,11,11,11,11,6,9,14,7,10,13,5,10,11,10,8,5,13,6,10,9,9,10,5,9,9,9,7,13,13,15,8,16,7,8,7,7,15,14,11,7,14,7,8,11,8,8,10,13,10,11,13,12,6,12,9,11,6,16,19,5,7,13,8,9,8,6,9,16,8,11,10,13,6,6,14,10,13,9,13,6,8,10,9,15,6,7,10,12,9,5,11,12,14,9,8,5,6,9,7,12,13,4,11,13,8,12,12,15,5,7,6,6,13,10,11,7,8,14,11,8,9,8,10,7,11,15,9,8,11,9,4,4,12,11,11,2,11,10,13,10,13,11,13,14,10,9,6,12,14,9,9,10,9,13,8,4,10,8,14,12,11,10,4,10,10,14,8,13,10,10,17,8,5,8,13,9,12,10,9,5,11,12,9,8,8,12,9,6,14,10,9,11,11,13,9,11,7,14,8,8,12,10,8,15,9,16,10,12,4,7,8,11,9,11,10,8,9,9,14,4,8,9,7,15,9,10,10,9,11,8,10,7,8,12,13,10,10,13,11,15,10,8,11,9,8,9,14,7,12,10,10,9,9,17,4,10,12,9,11,10,5,11,4,6,13,15,11,10,10,8,12,8,12,11,11,12,9,8,7,8,11,12,12,12,12,13,10,6,8,10,10,11,10,7,11,9,7,13,9,13,12,10,11,9,11,9,10,3,2,8,4,10,10,9,11,11,13,7,13,11,14,13,12,10,8,10,11,14,10,10,7,13,7,10,12,11,10,11,10,13,11,12,3,12,12,8,9,10,12,11,10,11,14,8,10,12,13,9,3,10,9,4,13,8,11,13,12,13,4,10,9,11,14,9,8,13,3,12,9,11,7,12,5,13,8,8,8,7,13,14,13,15,12,10,8,11,11,12,11,10,7,12,4,6,11,4,7,9,8,3,15,6,10,13,11,8,8,11,10,11,13,8,9,11,13,12,11,10,7,12,5,15,10,9,4,9,16,14,8,11,13,11,7,10,9,9,10,7,11,9,6,9,13,7,8,10,9,15,11,9,6,12,7,12,11,8,9,11,16,13,11,5,9,8,12,6,12,12,13,6,11,8,10,10,11,12,8,9,11,10,7,3,12,5,10,8,10,3,6,8,10,15,12,5,5,11,8,11,2,11,15,12,7,9,9,13,12,12,12,7,11,11,6,13,10,8,13,8,12,8,9,6,9,12,10,7,11,9,9,14,7,6,10,6,11,6,12,6,7,6,7,7,7,4,7,10,10,4,10,8,10,9,12,10,12,13,6,13,11,6,11,7,7,6,13,9,16,10,16,11,10,13,9,12,12,12,13,9,7,6,8,10,8,14,10,12,7,10,10,10,9,8,5,12,11,6,9,12,7,6,4,14,10,12,7,12,10,9,12,8,6,10,13,11,11,9,6,11,13,11,9,8,9,15,13,9,12,9,11,13,10,12,4,10,13,11,6,11,9,7,9,12,5,14,10,7,11,10,11,8,8,5,12,11,10,13,14,11,13,4,8,10,12,8,14,11,11,13,8,7,6,11,22,10,13,5,13,13,12,9,7,11,14,13,9,10,10,11,10,8,11,5,13,14,6,10,11,15,15,9,14,13,9,8,5,10,12,13,15,7,15,13,10,9,9,10,12,7,9,5,7,10,6,9,13,11,10,12,2,7,12,14,10,23,8,14,10,9,5,10,12,15,12,12,10,12,10,8,12,12,8,15,4,11,10,11,3,12,10,17,8,6,10,9,9,7,9,10,12,12,7,12,10,7,12,10,7,10,9,13,9,2,15,5,15,6,8,12,12,11,11,13,7,9,9,7,12,7,10,6,9,8,10,8,12,12,11,9,10,9,4,12,11,13,10,12,7,5,10,13,7,9,10,10,11,6,10,8,11,8,11,10,9,8,11,4,12,10,8,9,6,10,6,12,8,13,15,9,11,5,11,9,10,14,12,5,6,7,2,11,7,12,9,13,11,10,8,10,9,13,3,12,10,11,10,6,5,12,8,9,10,7,12,8,10,10,12,7,5,8,7,5,12,4,2,8,9,12,7,12,11,9,12,12,8,11,9,8,9,2,11,10,12,11,6,13,7,5,5,11,9,8,10,7,12,12,10,12,12,5,10,10,9,12,6,6,11,12,11,11,4,11,7,14,9,13,13,6,7,6,11,12,5,9,9,11,9,5,11,11,13,6,11,17,13,2,6,4,12,3,9,4,11,10,14,6,15,11,12,9,8,17,8,7,5,11,16,7,2,13,6,14,7,10,3,6,7,9,7,7,11,11,15,8,9,11,10,7,10,7,5,8,5,10,7,7,7,7,13,11,8,15,3,9,12,9,4,8,9,5,12,3,12,8,10,10,12,9,14,4,5,11,12,10,6,10,4,13,7,6,14,12,9,11,10,8,9,3,11,6,8,11,9,11,16,11,12,11,5,12,13,9,10,9,12,16,11,8,8,10,13,4,11,11,11,13,10,9,9,5,11,5,15,15,4,2,10,10,13,9,8,7,9,8,11,7,11,4,4,10,9,10,10,13,11,14,14,9,9,10,10,10,8,6,10,6,9,12,11,19,13,7,5,12,9,7,9,10,12,10,10,8,7,8,10,9,13,4,4,7,8,13,9,11,4,12,14,10,7,8,9,12,11,12,14,10,11,11,10,5,11,7,6,3,6,14,6,9,7,6,4,11,11,11,14,6,16,9,7,9,11,12,13,14,8,4,8,11,11,13,13,6,11,8,9,10,10,11,11,2,5,5,13,12,16,10,12,8,9,14,7,10,8,12,6,5,9,11,11,8,11,11,12,11,5,10,13,10,12,15,8,11,14,14,10,10,6,13,3,10,11,10,8,9,7,11,13,8,4,12,9,16,13,9,6,6,13,13,12,9,7,13,12,12,6,11,12,11,11,10,7,4,12,14,4,10,15,8,8,11,9,13,10,9,11,7,12,11,11,10,9,9,4,15,8,8,15,9,14,13,8,5,9,9,12,11,10,11,11,10,4,3,10,11,10,13,5,8,12,10,10,14,13,9,9,10,9,7,27,7,11,14,8,8,11,9,11,9,7,8,8,9,12,8,10,11,9,11,10,9,6,11,13,8,11,6,9,11,11,11,20,8,5,14,10,9,7,11,10,11,4,11,10,10,8,7,14,7,8,5,11,13,11,12,14,17,14,11,10,10,9,5,11,8,3,6,12,12,13,9,9,13,10,10,12,14,9,13,5,11,7,13,6,8,8,8,8,9,9,12,9,11,12,10,11,11,11,9,12,13,7,10,15,6,2,11,13,7,12,7,10,15,11,12,11,10,3,7,10,10,14,8,9,12,5,9,7,10,8,11,7,8,10,9,9,11,7,11,10,12,12,12,9,9,10,13,9,7,12,13,12,9,12,12,12,7,8,9,11,6,5,13,8,10,10,9,16,9,11,6,6,10,14,14,13,8,7,9,9,9,9,10,12,8,2,11,7,11,8,10,11,12,11,7,7,11,12,10,12,12,8,12,11,11,5,9,13,11,8,9,6,6,4,5,9,12,5,13,9,6,17,9,11,6,13,9,10,12,13,11,5,13,8,10,7,9,5,11,12,12,11,6,13,14,8,5,13,14,12,12,4,14,2,9,9,9,5,11,10,5,15,13,13,12,8,5,10,6,10,13,10,8,12,12,8,12,14,9,11,7,10,9,10,11,6,10,13,10,10,10,6,8,11,7,9,12,12,11,5,9,11,10,11,8,10,10,9,12,7,11,4,14,12,14,11,9,10,9,10,8,12,13,6,8,8,10,10,7,10,5,4,12,4,13,7,13,12,10,2,15,10,5,12,17,11,15,6,11,14,7,8,5,11,14,14,6,10,7,8,7,11,11,10,10,9,11,7,12,18,10,5,9,10,9,8,7,7,11,10,4,8,5,7,7,8,8,10,12,9,6,11,8,9,10,10,8,5,10,12,12,13,8,6,12,12,4,8,10,10,12,7,10,10,10,6,8,11,9,9,11,7,8,14,8,10,11,8,14,21,4,11,5,11,15,12,5,9,11,14,10,17,9,12,12,8,15,5,12,11,11,9,7,12,15,14,15,5,9,8,10,7,10,7,12,10,13,12,14,13,10,10,7,7,8,14,8,12,8,11,11,9,13,8,11,8,9,4,6,8,8,9,12,15,9,5,8,4,13,11,11,9,10,4,10,15,9,9,12,8,10,14,13,7,9,7,13,13,11,11,6,7,10,11,7,8,9,7,12,11,8,13,10,9,13,9,8,8,10,2,7,12,14,4,11,6,5,12,8,9,7,15,7,11,9,10,11,4,7,3,15,6,9,10,8,7,9,20,11,12,11,9,4,13,10,6,14,11,6,10,10,11,7,10,7,9,17,12,11,7,9,13,5,5,9,6,6,10,10,8,10,6,7,12,10,6,11,26,5,13,11,8,13,4,12,3,13,10,9,12,10,10,9,13,15,13,11,9,10,11,8,11,10,12,9,12,10,8,11,7,8,6,12,10,11,14,4,7,10,10,8,15,10,7,7,10,14,11,7,9,11,10,4,9,7,5,15,12,19,11,13,10,8,11,16,12,8,8,7,9,9,10,13,9,12,11,8,9,5,8,11,8,11,9,10,11,12,7,11,10,4,8,8,10,6,10,17,9,10,10,6,13,11,13,8,10,12,8,11,10,6,14,12,7,12,10,8,8,9,15,8,6,10,9,8,13,6,11,10,11,5,14,7,9,10,11,6,11,13,15,13,8,9,3,10,4,7,13,12,4,9,8,11,11,2,10,10,11,11,13,11,7,11,13,9,11,10,9,4,12,8,11,12,8,9,13,4,9,4,11,10,12,5,10,12,13,11,11,6,9,11,9,20,5,8,7,11,12,6,6,9,11,12,13,9,10,7,13,11,5,8,12,9,10,11,13,6,15,10,12,11,12,8,15,9,9,13,13,10,14,8,6,7,8,7,10,9,15,13,13,10,13,10,6,11,2,7,9,13,11,6,13,8,11,9,8,11,8,14,5,10,11,9,7,15,13,9,12,13,11,12,13,9,12],\"xaxis\":\"x\",\"yaxis\":\"y\",\"type\":\"histogram\"},{\"alignmentgroup\":\"True\",\"hovertemplate\":\"is_sarcastic=0<br>WordCount=%{x}<extra></extra>\",\"legendgroup\":\"0\",\"marker\":{\"color\":\"skyblue\",\"line\":{\"color\":\"#000000\",\"width\":2}},\"name\":\"0\",\"notched\":true,\"offsetgroup\":\"0\",\"showlegend\":false,\"x\":[13,6,3,8,6,14,10,8,16,11,6,12,9,5,10,9,7,10,11,15,6,4,6,7,11,17,9,13,10,9,6,6,13,14,9,9,11,4,8,7,9,14,10,8,8,9,6,6,8,15,14,14,10,12,10,13,12,8,8,9,11,6,8,9,20,11,8,11,10,10,9,15,11,10,7,11,10,12,14,10,15,7,13,9,8,9,12,12,14,8,9,12,5,6,12,8,9,5,16,4,10,12,12,7,6,9,21,8,11,4,10,11,10,15,10,11,9,11,9,14,10,11,9,9,8,6,5,12,11,13,12,8,12,11,7,8,12,8,10,9,11,11,9,8,9,12,6,10,10,9,9,2,6,12,3,10,8,8,11,9,14,11,7,5,9,11,8,9,13,9,8,12,14,6,11,11,11,7,11,10,12,10,13,12,11,10,8,12,8,9,12,13,14,12,8,13,15,8,13,17,3,7,14,9,10,9,9,11,8,12,12,5,7,10,5,12,12,7,12,10,14,10,8,9,10,10,13,10,12,11,14,11,9,8,14,14,6,7,12,9,11,6,14,8,8,11,9,14,10,10,10,10,12,13,8,3,5,14,10,5,15,10,11,11,9,11,10,2,6,8,7,3,10,8,15,12,8,8,9,7,4,5,10,13,11,9,7,7,9,12,11,11,11,14,5,17,7,8,5,5,10,9,13,9,7,9,11,10,6,7,6,18,9,11,7,10,11,8,10,7,12,11,7,12,6,8,8,14,12,11,7,10,10,10,12,7,12,15,5,10,9,11,18,8,4,11,11,10,8,9,7,11,10,9,10,9,7,15,6,4,6,11,11,14,4,13,9,8,7,12,12,9,5,9,7,7,13,12,9,9,6,11,12,9,16,11,13,9,5,8,15,11,15,8,13,9,17,10,9,8,12,8,10,10,15,10,13,12,7,7,15,14,9,13,6,15,4,11,10,7,8,10,10,7,7,12,8,11,13,9,10,13,5,7,4,11,12,7,16,15,10,9,11,10,10,10,11,9,12,12,12,13,10,11,11,8,8,5,10,12,10,14,11,9,8,10,10,13,3,9,9,10,14,10,11,5,10,9,8,13,10,7,15,14,9,10,12,15,11,8,11,6,9,10,9,12,15,13,12,9,10,10,11,7,10,10,7,9,11,10,11,5,12,12,10,13,9,8,7,7,9,9,8,8,10,12,8,12,11,9,14,3,6,6,6,4,12,16,6,8,8,17,12,6,3,5,12,14,8,9,9,10,11,10,11,11,12,12,9,6,12,9,8,8,9,14,9,7,12,8,15,10,10,8,12,9,10,11,10,21,13,11,11,9,7,11,7,8,13,7,13,8,14,9,7,6,6,10,8,5,7,10,7,9,9,13,10,12,8,6,9,5,9,6,12,5,10,11,7,13,11,15,9,13,12,14,9,8,7,11,13,11,11,9,13,11,8,15,3,10,7,3,7,9,9,12,13,10,12,9,2,11,12,13,7,17,9,8,8,10,9,15,8,13,8,3,11,8,8,11,14,12,8,4,9,10,10,13,9,8,13,10,12,10,6,12,6,12,11,11,7,13,13,9,11,8,14,8,13,7,11,11,8,12,11,10,7,9,4,11,13,7,12,8,8,10,4,7,13,8,7,9,11,4,6,8,5,12,8,13,11,11,8,7,6,7,12,7,7,8,11,15,12,10,7,9,17,13,12,9,21,9,10,9,12,10,13,11,8,11,11,7,11,10,14,13,8,10,10,13,14,7,7,5,13,12,9,12,16,10,9,11,13,10,12,10,10,11,16,8,7,9,8,8,14,8,8,9,13,12,8,8,6,11,13,8,12,12,11,5,3,13,8,9,12,10,8,6,8,14,14,9,8,10,8,10,7,12,4,10,10,11,11,9,8,10,7,10,14,11,13,12,5,5,6,11,7,14,7,11,9,9,11,5,12,10,7,10,7,13,8,10,11,12,12,8,11,15,11,9,10,11,4,7,6,9,3,3,9,9,9,11,5,10,9,4,6,11,11,9,11,8,12,11,13,12,3,12,13,18,9,9,9,11,14,10,9,9,12,9,8,12,10,3,9,5,9,8,12,8,11,14,9,9,7,7,8,7,13,7,11,8,7,10,10,9,10,10,14,11,6,8,13,5,8,8,6,8,9,9,8,11,7,9,13,11,10,10,6,8,13,15,11,9,5,10,14,2,13,8,13,8,10,7,9,9,17,11,11,7,12,13,12,8,10,13,9,9,14,10,8,15,8,7,13,6,10,7,9,11,8,7,6,8,8,10,12,10,11,10,10,8,13,8,10,5,6,5,10,11,3,10,10,10,5,9,7,11,10,12,13,6,11,9,11,9,8,13,15,14,9,12,13,7,10,6,8,5,5,3,10,10,9,10,10,15,8,11,10,9,9,13,8,8,9,9,14,12,7,13,12,10,13,11,6,7,10,7,12,11,12,6,13,13,8,7,9,7,17,11,8,11,11,7,6,12,14,8,7,10,7,9,5,9,14,13,3,9,10,10,13,12,12,7,14,10,12,11,9,7,7,7,8,9,10,13,10,10,8,14,14,4,10,12,8,10,11,8,7,21,11,11,10,11,13,9,10,13,17,4,11,18,8,13,5,10,13,11,11,4,6,9,11,8,12,10,11,18,10,14,11,5,11,10,9,8,13,11,9,12,10,3,11,6,9,14,10,9,6,10,10,10,11,12,11,9,8,5,12,10,10,11,6,7,5,12,10,12,14,10,10,7,13,7,11,12,13,9,8,5,6,15,10,3,11,13,11,12,14,9,10,7,8,8,8,11,7,13,10,8,12,12,11,12,8,8,11,10,4,11,13,12,11,8,14,14,14,11,7,8,3,6,4,11,7,8,9,10,16,12,6,13,2,9,10,5,11,8,8,9,5,11,7,11,6,11,10,10,10,10,8,14,7,8,10,8,9,10,6,12,11,13,9,12,3,11,12,10,10,7,13,10,4,8,14,11,5,16,4,9,6,6,12,10,9,14,3,11,12,3,5,6,9,10,8,8,10,7,3,8,6,9,11,4,9,7,9,13,7,11,6,4,12,9,7,14,13,8,12,9,10,3,9,8,5,15,12,12,10,7,9,6,10,5,12,13,11,7,14,11,6,7,7,10,13,12,10,5,9,11,12,8,10,11,9,12,16,10,11,7,9,13,11,6,12,7,12,8,8,8,3,11,12,10,9,10,6,8,13,14,6,9,6,10,8,12,10,11,12,6,10,8,10,8,7,6,5,3,11,10,8,4,8,5,8,12,9,11,11,7,16,12,6,13,10,7,14,10,11,9,7,7,8,10,9,5,8,5,12,10,9,10,11,12,3,6,10,11,15,16,8,7,7,11,11,6,11,12,9,9,7,9,12,8,15,9,4,11,10,15,8,13,12,8,12,8,13,8,11,7,8,7,9,12,9,12,8,9,6,10,11,15,11,14,14,12,10,12,6,13,13,9,5,7,12,11,7,11,13,7,5,10,5,9,12,12,21,8,8,7,12,10,8,10,9,11,8,9,15,10,7,9,11,15,10,12,11,8,9,7,9,5,8,13,7,15,10,14,9,14,11,11,12,9,9,9,12,9,9,6,10,12,10,3,11,8,10,5,10,8,11,8,12,11,7,10,14,13,13,3,11,5,4,10,13,9,7,13,9,14,14,11,11,5,10,10,11,9,9,9,10,8,10,13,11,12,12,11,9,8,11,11,12,19,10,13,8,10,12,12,12,14,12,13,12,9,6,14,11,13,11,6,4,10,6,12,9,10,5,6,8,10,10,14,6,10,8,14,9,10,10,3,11,15,10,15,10,17,8,9,12,6,8,8,10,8,2,10,5,12,9,14,14,14,6,10,4,10,9,9,10,4,11,10,10,11,9,4,13,7,11,10,16,10,14,9,9,8,9,4,12,7,9,13,10,10,9,10,10,12,5,12,12,5,8,10,11,9,8,11,10,10,6,7,7,4,11,11,11,10,9,8,10,12,9,8,10,11,11,1,12,12,9,11,7,3,11,6,13,8,12,11,15,13,9,8,11,10,8,15,8,10,14,13,11,12,10,11,8,8,13,14,9,6,10,10,11,9,13,9,7,9,10,16,9,12,12,7,13,10,9,6,9,8,9,11,12,9,13,12,9,16,13,15,14,11,13,7,8,7,11,12,15,9,12,4,5,13,8,10,5,10,11,9,11,10,10,4,11,2,11,11,10,9,7,13,9,9,6,10,13,15,6,11,10,10,7,7,5,10,8,17,14,10,11,9,10,12,9,9,13,6,7,12,13,10,11,8,11,11,9,10,8,3,13,5,9,6,9,11,11,7,13,14,11,9,9,13,11,13,10,7,15,11,5,8,13,9,13,12,8,3,9,12,7,8,10,4,10,14,8,15,12,9,12,9,10,8,9,8,8,7,10,12,9,13,11,14,8,10,10,8,9,8,6,6,7,4,5,11,11,7,10,5,6,10,10,12,8,9,11,12,12,13,3,11,7,9,10,11,14,9,8,8,10,7,4,10,11,12,7,5,11,10,10,15,10,12,7,11,8,9,11,12,12,11,6,6,6,10,18,10,11,3,7,13,11,11,8,6,8,6,10,10,10,9,11,7,7,9,7,10,11,4,9,11,11,12,14,11,17,13,7,4,11,9,5,13,10,10,8,17,13,3,9,9,4,3,10,12,7,15,6,13,7,11,12,11,11,13,11,12,9,7,8,9,14,8,9,11,5,9,14,6,9,9,11,9,2,10,13,10,10,10,9,8,14,8,7,10,11,4,7,10,8,10,5,13,8,11,15,11,4,9,10,10,14,5,12,14,7,9,12,7,10,11,11,11,11,10,11,5,9,10,6,10,9,6,5,10,11,12,3,6,10,10,8,15,6,13,8,13,10,7,13,6,10,8,10,10,10,10,6,8,9,12,6,5,10,10,7,9,12,5,8,10,14,10,9,13,13,7,11,9,9,7,18,10,10,14,13,9,12,15,7,12,3,14,8,12,17,8,7,9,12,7,8,9,9,10,9,19,7,7,11,15,12,5,13,8,15,10,13,10,7,8,16,9,10,12,12,8,11,10,10,8,11,10,4,10,5,7,15,11,9,12,6,8,8,14,16,15,6,10,9,9,11,11,9,14,12,2,15,8,11,7,15,7,5,3,11,11,8,10,6,9,13,10,11,10,7,9,9,11,12,11,10,12,9,11,9,12,8,12,10,13,12,10,11,7,9,14,10,15,10,13,10,8,14,3,12,10,15,13,11,10,6,8,9,12,11,13,13,8,8,7,14,8,8,8,8,11,20,9,12,11,8,4,14,14,11,12,6,13,9,7,8,10,12,12,7,20,7,14,9,9,5,11,9,11,13,8,9,11,11,11,12,6,8,10,10,11,8,11,8,15,10,14,6,9,12,9,8,14,11,17,9,11,9,9,10,10,11,7,11,12,4,4,11,12,13,12,8,8,8,9,12,8,6,8,9,11,7,7,11,11,8,14,12,14,5,8,9,13,10,10,8,11,12,9,12,9,8,7,12,6,9,12,8,6,12,2,12,13,11,8,6,8,5,12,8,13,11,9,11,9,7,13,8,11,9,11,11,7,10,13,10,11,9,14,11,9,9,10,9,7,8,14,6,14,9,16,6,9,9,15,8,9,6,11,11,6,7,8,12,5,11,11,16,18,7,11,9,8,11,12,8,7,9,8,12,10,8,9,15,9,4,9,12,14,6,6,10,12,9,10,10,10,8,11,7,10,7,6,13,9,10,10,12,5,11,9,11,4,11,11,8,9,3,7,7,10,16,11,13,8,4,10,9,14,9,9,10,4,10,7,11,13,5,13,11,12,10,12,8,13,11,8,11,8,16,12,13,10,7,8,11,12,4,12,11,11,11,11,9,8,11,13,10,10,11,4,12,8,7,8,15,7,11,10,12,10,7,5,12,12,10,5,12,13,7,5,10,10,9,12,8,13,10,9,11,6,10,8,7,9,11,7,9,11,11,9,10,12,7,9,8,6,6,10,9,12,11,11,6,11,6,13,14,11,6,12,15,8,9,6,11,11,11,13,9,11,8,14,14,10,10,14,5,11,11,14,3,10,4,15,8,8,6,13,9,7,9,10,6,5,9,13,5,11,11,5,4,10,5,8,8,6,8,10,10,9,8,10,7,9,8,8,10,7,8,6,7,13,12,10,10,13,12,6,10,8,6,7,10,3,12,9,12,13,5,9,9,9,13,11,9,11,7,10,10,4,7,10,11,8,8,11,12,8,13,14,9,7,9,10,8,7,16,11,11,6,10,10,10,12,11,10,9,6,10,10,11,13,13,11,10,5,8,9,10,12,8,11,13,7,10,15,12,8,4,5,10,11,9,14,12,9,10,12,5,11,11,10,12,9,9,11,10,7,12,8,15,7,12,12,6,7,6,8,3,13,12,7,15,11,6,10,10,11,8,8,12,11,4,9,7,7,10,13,13,9,6,9,12,7,11,12,8,9,10,11,11,7,11,9,8,10,12,11,13,7,10,14,5,7,10,8,13,7,9,4,7,13,14,12,11,12,11,7,10,7,10,7,10,9,12,6,8,6,12,11,6,16,12,7,7,15,9,10,8,14,11,4,11,11,12,9,9,9,10,10,10,9,10,12,10,4,9,12,9,9,9,9,12,13,12,10,11,13,11,12,6,9,9,10,14,10,4,12,10,9,4,10,11,13,17,11,14,10,8,9,10,3,10,7,10,10,10,9,10,9,17,8,10,8,9,12,14,14,12,4,6,15,11,14,9,11,22,9,11,10,6,12,10,12,11,9,10,12,16,10,9,10,9,12,10,11,9,10,5,7,9,12,8,11,12,5,15,9,10,12,11,13,10,7,6,4,13,5,11,10,9,7,4,9,10,5,3,9,6,10,10,10,4,10,12,11,11,12,5,16,12,9,9,5,9,13,10,10,8,6,5,6,13,10,10,7,8,11,10,8,7,8,14,14,5,13,8,9,10,8,7,10,5,13,13,7,11,6,7,11,12,11,12,10,8,11,6,10,8,10,8,9,11,12,6,12,13,7,8,10,12,9,8,6,7,14,8,18,8,12,6,7,7,8,11,13,11,9,13,13,10,11,5,7,6,10,9,9,4,5,7,14,10,4,6,12,10,14,13,13,13,10,8,8,11,11,11,12,9,10,9,11,12,2,8,6,11,15,9,10,7,5,10,9,11,9,11,12,6,8,5,13,4,12,6,6,8,7,11,9,11,9,13,12,9,8,13,10,8,5,7,10,17,13,11,9,8,12,3,8,9,8,8,4,12,10,8,13,11,10,12,14,14,11,8,9,3,9,10,15,9,9,6,13,11,11,11,10,9,8,5,9,12,9,12,11,9,9,11,4,6,13,14,8,7,8,13,7,14,8,7,5,8,3,11,13,13,11,6,11,8,9,10,10,12,13,8,9,6,9,16,7,8,13,9,11,10,14,11,10,10,10,14,7,15,10,6,9,10,12,12,10,7,12,11,8,13,9,7,7,9,12,8,10,9,11,15,15,9,12,9,7,10,10,8,12,7,13,7,12,11,10,11,8,8,9,15,9,4,10,13,10,8,6,13,8,7,10,11,11,9,10,9,4,10,11,10,9,13,10,10,11,10,11,8,10,6,9,9,5,10,6,9,11,10,5,12,12,9,12,12,2,9,12,10,8,9,7,10,8,11,14,8,10,12,13,9,9,13,3,12,10,8,6,2,7,9,11,12,7,8,10,12,9,7,11,10,9,5,10,11,10,15,8,4,12,6,15,8,10,9,8,11,13,10,8,11,13,10,10,9,3,6,3,12,8,8,10,7,10,10,10,14,12,4,13,12,11,9,6,11,6,13,10,10,8,11,11,7,19,9,9,14,12,10,12,13,15,7,9,8,12,12,9,8,7,13,8,10,8,12,3,10,11,10,10,12,6,7,13,12,11,5,10,16,10,8,9,9,12,8,12,15,9,11,10,8,9,13,9,12,6,9,7,11,12,12,10,17,8,10,8,12,12,6,11,2,11,11,12,9,9,5,10,8,7,6,14,7,8,5,11,10,3,11,8,12,15,4,15,7,8,7,4,10,7,8,12,6,10,14,12,13,6,12,11,12,13,11,9,10,9,11,10,5,5,11,10,9,7,19,4,9,9,3,13,8,13,8,4,9,9,14,10,11,4,3,13,8,8,12,11,5,10,10,13,8,10,8,6,11,10,6,13,5,9,11,7,6,5,12,8,2,12,12,9,6,11,13,4,14,10,11,12,12,18,14,10,5,10,7,11,4,10,4,13,3,9,12,13,10,10,13,12,10,10,8,8,8,11,12,9,13,5,8,15,14,14,8,8,13,12,12,10,9,12,12,11,9,9,7,7,11,14,10,9,11,7,8,11,10,13,13,7,10,9,14,10,11,11,11,2,12,9,11,10,10,9,14,11,12,9,5,13,3,13,11,8,11,9,11,15,10,10,7,9,12,13,8,6,11,6,10,11,12,9,13,9,12,10,12,6,9,5,11,16,5,9,14,6,8,6,10,14,10,16,11,16,13,9,9,13,10,5,7,9,9,3,9,9,12,8,13,11,10,8,11,11,12,10,12,9,5,10,12,6,5,12,13,14,7,12,10,3,11,8,11,11,9,5,11,10,9,8,8,2,9,10,6,2,9,12,9,5,5,6,6,11,13,10,17,11,14,7,12,10,11,10,14,9,11,14,5,5,2,10,10,9,8,8,10,12,10,5,10,15,9,12,21,9,8,7,12,9,11,7,12,5,10,4,13,19,11,11,3,12,12,17,10,11,10,9,5,2,8,11,7,10,10,7,9,10,13,15,10,11,11,8,13,4,10,11,5,6,10,5,13,11,13,7,10,13,14,11,14,7,11,7,9,15,11,3,11,11,12,8,7,7,7,10,13,7,7,11,9,10,13,8,8,8,3,10,10,8,13,11,7,10,13,10,10,6,9,14,7,12,8,10,11,9,9,12,11,14,11,11,13,11,13,8,12,8,9,11,8,12,8,9,11,9,6,6,8,6,9,9,11,13,8,14,8,12,10,12,11,7,9,9,10,4,12,9,9,10,3,9,10,5,6,11,6,11,12,12,7,10,8,6,10,10,14,12,6,12,8,6,10,16,7,12,11,12,9,7,12,10,11,6,8,12,10,10,8,11,15,10,7,13,14,10,11,11,7,11,15,11,11,12,9,13,11,9,7,6,7,8,9,12,8,12,10,15,11,11,13,11,9,12,4,11,4,10,6,13,7,10,11,9,6,9,8,18,10,10,14,10,9,9,11,8,8,5,14,5,5,5,13,7,10,11,9,10,8,12,13,12,9,9,9,3,11,10,12,12,9,8,7,11,10,11,9,8,8,10,13,10,12,6,8,10,5,15,6,10,11,11,14,15,11,8,9,10,9,11,9,11,12,5,10,6,7,10,5,5,14,12,10,7,14,8,4,6,13,11,8,11,7,9,9,13,7,15,8,11,13,8,10,5,13,10,9,9,3,7,9,13,15,7,10,5,12,10,9,9,13,9,9,5,12,9,8,11,8,10,4,7,13,13,14,10,10,14,8,12,7,5,17,8,13,8,10,12,14,12,11,11,11,6,16,11,9,11,7,10,9,12,10,10,12,13,10,12,7,4,10,13,6,5,12,13,12,10,13,12,4,9,8,6,7,11,8,13,16,10,16,6,10,14,11,10,11,5,9,6,12,9,13,9,12,15,8,6,7,10,12,12,6,7,10,8,10,8,14,8,13,8,9,16,10,12,13,10,4,8,13,9,8,11,12,12,4,11,12,13,7,9,8,7,10,12,10,12,6,11,14,9,9,6,6,4,11,12,4,12,10,11,3,12,9,9,12,9,6,13,16,15,15,7,11,10,12,5,5,5,9,3,10,8,18,13,5,10,10,13,10,12,10,11,8,7,7,8,10,4,4,12,8,9,8,14,7,12,12,16,10,11,11,10,13,10,7,10,4,9,7,11,10,8,10,14,12,12,9,11,9,10,9,11,12,8,10,13,8,9,10,15,13,5,9,5,7,8,8,6,11,9,9,10,12,10,13,6,7,10,8,9,11,11,12,5,6,12,12,4,11,8,6,10,13,12,12,12,7,9,11,10,10,10,9,9,10,13,12,7,13,9,13,14,10,10,8,9,8,7,12,11,9,8,12,9,12,7,9,18,10,9,12,5,11,2,13,13,10,11,8,7,11,14,9,8,9,10,5,9,10,6,8,9,8,12,4,7,10,7,12,7,13,5,6,20,11,14,7,11,11,12,10,11,13,9,8,9,12,8,10,8,10,5,14,13,15,10,14,14,9,13,11,5,13,8,9,11,12,11,10,4,10,14,11,6,13,8,10,8,8,13,7,11,11,13,11,8,7,9,10,15,14,9,7,11,8,10,14,12,5,9,10,9,6,12,11,10,7,6,5,11,9,8,10,6,11,8,12,8,4,10,9,8,4,12,13,11,9,15,12,10,10,10,11,12,9,11,6,11,7,10,10,10,9,11,12,13,6,10,10,10,6,11,9,14,11,9,13,7,4,9,8,10,12,10,6,14,5,9,8,12,11,12,12,11,10,10,8,6,15,11,8,6,13,8,8,8,6,11,12,9,11,14,9,9,11,10,12,12,10,15,10,15,11,10,3,7,11,11,8,12,13,10,13,10,7,7,12,7,10,11,5,15,9,11,11,15,3,10,10,9,5,8,10,9,10,12,5,12,7,9,12,11,14,9,4,13,4,11,11,12,9,11,11,4,8,8,12,11,9,12,12,9,5,10,14,5,11,11,6,10,11,9,9,7,6,7,10,12,3,13,10,6,4,12,7,10,7,4,7,12,11,14,8,11,8,9,10,8,10,8,14,6,8,12,5,10,12,6,4,8,10,14,10,9,10,16,10,12,8,11,9,9,3,9,11,12,6,13,10,11,11,5,9,8,12,3,6,12,8,7,5,8,8,8,14,12,10,12,4,9,13,13,12,14,10,3,9,11,13,10,8,4,6,9,7,11,10,9,10,6,12,7,15,8,8,11,10,10,6,9,6,6,12,10,9,6,11,6,6,14,9,10,8,12,5,7,6,9,18,14,13,6,10,13,8,15,6,2,12,14,7,9,12,4,10,15,6,7,6,14,14,11,10,11,12,4,8,11,11,9,8,7,6,8,6,10,5,5,9,5,9,10,10,7,13,10,12,7,5,12,10,11,12,9,9,10,12,12,7,8,12,9,13,14,16,7,8,7,4,10,7,13,17,11,12,8,16,15,9,9,8,10,6,8,4,13,7,9,9,11,9,7,10,10,11,10,9,9,8,8,10,9,11,13,11,10,12,7,6,5,6,6,7,7,9,5,9,7,10,9,10,11,10,8,8,11,10,14,10,14,7,13,12,13,6,11,3,9,10,8,12,9,13,11,9,8,6,6,8,12,11,10,6,12,13,11,7,17,15,6,6,12,11,14,7,11,8,15,9,8,9,9,6,10,11,10,7,5,17,9,11,9,11,8,8,13,6,13,10,10,3,7,3,14,10,5,7,16,11,7,8,7,7,8,6,9,11,11,14,10,13,8,13,10,5,8,8,8,10,14,5,8,11,12,11,8,11,8,11,8,11,12,10,7,13,9,7,8,9,10,8,11,13,13,9,13,6,6,10,7,10,8,11,10,9,7,6,10,13,11,11,11,13,12,9,11,13,12,11,7,17,7,7,9,6,11,14,9,8,7,7,8,14,12,15,4,8,9,9,14,8,7,8,7,5,11,10,11,15,12,9,5,13,13,11,11,9,13,10,12,7,7,11,10,7,6,11,11,5,15,7,10,15,12,13,12,9,11,7,14,8,10,10,11,9,8,10,12,10,7,9,10,10,12,9,14,10,10,8,15,14,10,9,10,8,7,11,12,9,8,8,7,7,16,15,11,11,12,9,14,12,13,7,6,13,12,13,7,12,3,9,10,3,12,13,7,10,8,8,11,10,5,7,5,8,13,12,13,9,20,7,11,12,11,12,8,11,7,10,13,6,10,11,5,7,10,10,9,11,12,13,12,10,10,8,7,4,4,8,14,7,10,8,12,9,9,12,9,11,7,12,10,8,10,9,7,8,7,4,13,4,10,10,10,11,7,10,8,3,12,14,6,12,7,12,7,11,9,13,9,10,3,11,14,11,9,8,9,11,10,12,12,12,8,9,15,11,13,6,6,11,10,12,11,9,10,5,10,8,8,9,12,7,9,9,12,4,14,13,6,5,10,12,12,9,8,12,8,11,14,9,7,11,8,6,11,10,5,9,7,13,4,9,12,11,14,9,8,9,9,12,9,10,9,10,15,11,9,6,13,12,11,10,5,8,11,10,9,8,11,9,9,6,12,12,9,17,6,8,9,13,10,13,9,10,11,9,9,12,7,9,13,7,8,9,7,15,10,11,11,10,4,10,10,9,10,12,11,9,6,8,4,8,10,5,7,4,9,7,7,10,9,8,15,11,11,12,2,7,8,8,8,6,14,8,12,12,5,9,8,10,15,8,12,5,13,6,8,9,10,9,4,11,9,8,9,11,9,9,7,13,11,11,6,9,9,11,11,11,12,12,3,11,9,12,11,7,9,12,11,8,14,10,6,11,10,11,10,11,7,13,12,9,9,9,6,5,12,12,9,11,13,11,8,10,16,8,8,13,12,12,7,9,8,8,11,6,7,8,17,8,12,6,6,9,8,5,9,9,8,8,9,10,8,9,10,15,11,12,9,13,10,11,8,5,10,6,7,10,17,10,12,11,10,8,11,9,13,9,10,8,11,7,10,6,14,3,13,12,11,6,12,9,10,8,12,10,6,14,14,7,6,9,9,5,8,14,7,10,14,14,6,7,11,12,5,6,10,6,9,10,11,11,14,8,6,12,8,11,7,10,15,10,13,11,14,11,7,13,7,11,7,11,11,14,10,13,8,7,10,11,9,8,11,15,13,9,16,11,4,16,9,7,11,9,9,11,11,10,12,8,7,10,6,7,12,9,13,5,5,11,9,12,8,7,9,5,5,9,8,10,8,2,14,9,13,9,9,16,5,11,14,10,12,6,13,8,8,8,7,9,10,10,8,9,9,12,14,10,6,8,14,9,11,6,8,9,7,11,8,14,14,10,8,13,10,10,9,5,8,10,8,9,15,7,12,13,14,4,11,6,12,8,13,9,16,9,8,7,16,11,9,7,10,7,10,16,8,12,12,10,13,9,6,11,11,13,12,11,14,9,11,11,11,5,7,4,6,9,11,6,6,5,10,7,15,17,14,11,14,12,9,9,8,10,4,9,12,9,12,14,10,6,9,11,10,11,7,12,10,5,12,8,8,8,10,7,11,12,13,10,7,13,8,11,10,9,9,7,10,7,9,14,11,6,14,10,9,8,8,11,7,8,8,5,13,14,10,9,7,10,8,15,7,13,11,13,12,11,11,12,13,11,7,10,12,13,6,13,5,11,9,12,7,9,8,12,11,13,17,10,10,10,13,7,10,6,8,12,14,3,5,10,16,16,6,10,11,8,13,14,6,9,14,5,12,7,12,10,9,9,11,10,12,14,12,9,10,6,10,4,7,10,10,9,5,8,10,11,8,9,12,9,6,11,14,11,8,11,11,9,8,9,10,6,8,6,11,11,5,16,12,6,15,9,10,12,4,9,11,7,13,13,11,11,9,10,12,8,8,7,12,13,6,9,7,11,10,10,17,8,8,8,16,7,5,11,9,10,8,8,11,8,6,8,10,15,11,13,12,7,5,3,12,11,13,7,9,10,10,12,9,8,12,9,10,12,10,7,15,7,7,7,7,13,10,5,7,12,12,4,8,13,9,8,10,7,4,7,12,12,9,11,5,13,6,12,11,6,10,9,11,10,3,9,10,13,9,13,13,9,11,7,10,12,9,7,8,8,19,12,6,6,6,11,9,14,6,15,12,9,10,9,11,10,11,13,8,8,11,12,11,11,11,8,13,9,12,7,13,11,9,14,2,4,9,13,5,11,11,10,9,10,8,12,5,11,8,5,9,10,8,12,11,9,9,8,10,10,3,10,6,8,6,5,14,11,9,8,4,12,13,11,5,8,7,13,10,5,12,9,11,6,13,10,10,11,8,10,9,11,12,7,10,8,11,9,3,10,12,11,12,10,10,12,8,6,9,8,11,10,7,6,6,9,13,6,9,12,9,6,13,10,12,8,12,11,11,5,10,9,11,11,10,9,11,7,11,12,10,10,11,10,9,14,10,11,12,11,6,6,5,10,9,7,9,6,9,8,13,9,8,14,12,14,8,9,8,11,11,11,8,11,10,6,8,8,7,10,9,4,6,7,10,7,16,5,13,9,9,12,9,12,7,9,5,7,9,7,11,9,9,11,11,4,8,13,8,9,12,7,12,14,6,9,12,13,11,17,6,13,12,9,7,9,5,12,11,16,8,14,13,9,2,7,11,11,9,12,10,15,10,10,12,11,6,12,8,9,10,5,10,8,12,13,11,9,14,6,9,12,7,11,5,10,7,12,10,12,8,9,11,13,9,11,9,5,8,12,11,9,8,10,12,9,11,9,9,10,5,4,8,9,7,6,5,9,8,5,10,6,9,12,9,11,10,8,11,9,7,8,8,15,13,7,7,9,8,6,10,11,13,12,8,7,11,10,12,10,5,8,11,11,8,6,10,3,11,11,2,6,14,9,8,13,8,11,10,10,7,9,13,8,10,9,12,10,11,13,3,9,2,7,4,5,5,14,10,14,6,10,6,11,8,4,9,13,5,11,13,10,8,11,6,7,11,4,7,14,10,6,6,14,12,8,11,10,11,5,8,10,5,12,11,5,11,11,9,8,10,12,10,16,12,10,7,12,4,10,12,7,10,13,6,7,8,8,12,9,8,2,9,7,10,9,14,9,10,7,14,10,12,16,10,10,11,8,9,5,11,16,9,7,10,9,12,13,10,11,5,11,13,10,12,8,8,12,3,13,8,9,5,11,13,10,18,9,8,12,14,16,11,14,8,12,6,8,12,7,7,10,7,11,9,6,9,5,9,10,8,8,11,8,9,12,12,2,11,10,13,12,6,9,9,11,11,11,9,6,9,7,12,13,12,12,7,4,8,11,5,10,11,9,14,5,11,6,6,14,10,4,13,14,8,8,11,4,12,16,3,7,7,11,11,5,15,7,8,8,7,10,14,5,13,9,9,6,14,10,10,8,9,9,7,13,11,11,13,4,8,6,9,7,12,10,9,12,9,12,15,12,6,9,13,8,10,9,12,7,13,10,8,13,5,6,11,8,12,9,10,11,12,14,13,8,7,15,14,13,9,8,13,6,10,13,12,12,9,12,11,14,8,13,9,8,9,12,9,11,10,8,10,8,10,14,11,7,19,11,15,6,11,12,8,6,9,8,9,11,12,6,5,6,7,9,10,11,10,6,6,12,10,13,7,7,6,12,3,8,13,10,6,9,7,11,10,6,2,9,8,10,12,11,13,8,7,10,11,3,7,14,12,12,12,6,2,15,13,7,10,11,7,8,10,13,8,12,5,8,7,9,11,11,17,12,11,11,13,12,10,12,8,7,8,10,7,9,7,5,10,12,9,13,12,12,6,9,10,4,7,10,11,10,10,13,11,9,7,10,9,6,10,5,6,7,10,7,10,4,10,9,10,14,7,10,10,13,11,8,6,6,11,7,6,8,11,11,9,11,9,9,12,9,14,11,15,6,17,6,9,11,9,12,10,4,15,10,5,9,10,8,9,10,7,16,8,10,8,16,13,10,13,14,13,8,13,15,10,14,6,10,14,8,8,13,14,11,13,9,11,11,10,7,13,14,9,13,14,7,7,13,11,6,11,8,10,10,10,12,10,9,8,6,8,9,10,12,8,10,10,10,10,8,16,11,9,10,10,9,8,6,15,7,10,10,12,11,9,12,13,11,5,6,9,12,12,10,7,9,9,12,8,12,9,11,10,10,9,13,12,10,8,8,3,13,7,12,9,9,7,8,10,4,9,11,9,9,13,12,11,10,8,6,11,11,9,8,12,3,11,9,13,10,11,14,11,7,11,10,11,6,12,12,10,11,8,9,12,13,11,12,8,12,11,11,7,12,8,8,12,11,6,12,13,6,6,10,7,7,9,10,8,6,2,8,11,4,10,8,10,11,8,8,8,12,15,10,13,6,8,10,7,12,8,8,11,7,7,7,16,8,7,10,16,6,10,6,4,4,13,9,7,16,10,10,7,12,11,12,4,12,5,5,7,11,14,10,8,14,8,10,7,11,8,10,11,10,10,9,12,4,4,17,11,7,10,10,5,14,11,12,10,4,11,11,5,10,8,14,13,11,10,9,6,9,4,12,9,12,3,10,12,9,9,9,13,9,12,7,3,9,12,14,13,12,12,7,11,8,12,4,4,16,11,9,7,12,3,11,9,4,12,15,7,12,12,12,12,12,9,12,7,3,5,11,9,13,8,7,6,11,16,7,11,7,10,12,9,8,12,10,13,14,7,10,10,11,10,8,9,9,12,7,8,7,10,9,10,9,10,13,8,9,8,9,6,2,11,9,12,9,5,10,5,7,11,9,4,9,8,9,12,10,9,11,7,6,12,3,9,6,12,11,11,12,7,6,6,14,10,8,10,13,11,12,16,13,11,9,13,11,9,8,12,16,10,9,10,10,3,9,10,16,12,12,9,12,13,7,11,13,7,10,11,8,15,10,11,5,5,14,10,11,9,13,13,7,11,11,6,7,11,10,10,13,8,12,9,8,15,15,13,12,9,7,8,10,7,10,6,7,7,11,12,9,8,6,3,10,10,10,9,8,7,13,14,6,11,8,12,7,11,8,9,7,11,9,10,9,7,13,8,8,6,12,10,8,8,9,10,15,9,7,7,11,8,7,11,8,12,5,6,12,8,8,9,12,10,7,9,6,8,4,6,5,11,12,10,12,16,4,12,9,12,6,6,11,6,8,13,8,12,17,11,13,4,13,7,12,14,6,10,12,11,12,11,11,11,10,6,9,9,6,6,10,12,10,12,14,14,14,9,6,11,11,8,3,15,4,11,11,8,8,10,7,8,10,12,10,12,8,10,9,7,9,10,14,13,12,9,11,4,5,12,10,10,10,11,10,10,7,12,10,13,8,6,6,7,10,14,7,15,11,2,12,10,10,6,11,5,15,6,9,10,12,6,12,6,15,16,10,8,12,11,10,9,12,11,11,13,14,7,3,13,11,11,13,7,10,8,8,8,15,14,7,14,7,9,9,14,14,8,12,9,11,11,7,9,12,10,11,10,12,7,14,13,8,10,9,6,9,10,10,8,9,12,10,5,8,9,4,12,8,9,3,10,9,9,14,13,9,12,13,13,10,6,11,9,6,16,9,12,11,5,10,6,13,9,7,10,9,13,9,11,10,14,12,7,8,10,6,8,9,8,4,8,8,6,9,10,10,14,4,6,8,7,8,4,10,7,8,10,7,11,9,13,10,6,5,12,9,7,7,10,5,10,7,10,14,11,13,6,8,8,3,10,10,9,5,11,9,7,10,11,12,19,12,10,7,9,11,9,8,12,8,12,10,4,17,9,12,9,10,10,10,13,9,11,10,8,6,12,12,8,9,6,10,8,2,4,11,6,10,3,12,8,13,7,10,10,6,13,13,7,10,4,10,13,7,13,8,5,10,14,3,10,9,10,17,13,13,13,6,9,11,10,7,16,6,10,8,9,7,10,12,8,14,13,14,8,9,11,2,11,9,12,12,2,13,10,9,8,6,7,9,7,10,11,15,16,5,11,12,9,13,4,9,10,9,9,8,10,5,8,6,10,9,12,12,12,13,12,15,10,8,8,9,10,11,10,11,8,8,7,6,11,6,9,13,8,10,10,8,8,10,10,7,13,6,8,10,3,6,7,11,14,8,12,7,8,9,14,6,9,12,9,11,9,9,6,7,9,10,9,12,10,9,12,11,14,10,10,15,8,11,10,12,15,9,11,11,9,13,15,9,13,13,11,13,6,10,6,10,8,10,13,9,10,11,6,10,8,12,10,10,7,6,13,5,4,5,14,5,12,8,9,6,15,7,12,11,10,19,6,10,9,10,13,4,9,6,9,6,6,11,13,12,8,8,13,10,15,15,3,7,12,7,13,13,9,10,6,13,13,15,11,14,3,4,6,11,12,11,4,6,7,12,5,14,9,11,11,13,7,8,10,12,9,8,9,6,9,10,10,13,6,14,14,11,9,12,8,13,3,9,9,6,9,8,11,10,11,10,12,9,5,11,9,5,5,11,12,5,9,3,13,6,12,13,10,13,9,10,11,5,12,9,10,9,8,10,12,11,13,6,11,12,8,13,13,9,3,12,10,10,7,12,10,12,9,3,9,14,7,16,10,12,8,10,13,11,8,7,11,10,11,13,10,10,12,13,7,4,5,7,7,8,12,14,8,10,10,9,7,9,12,9,9,12,14,12,5,9,6,11,11,11,15,15,10,6,8,6,12,13,7,11,4,12,12,13,6,9,13,10,10,13,10,8,12,10,2,10,7,10,6,11,10,7,8,10,9,13,12,7,8,8,10,8,2,12,12,10,7,6,8,15,9,7,12,11,4,11,4,5,8,7,8,12,10,11,7,7,8,15,10,13,9,13,9,7,11,9,14,9,10,16,9,11,12,8,5,9,15,4,5,6,13,10,7,13,10,13,10,13,6,7,8,9,10,12,14,11,8,6,11,8,12,9,8,8,12,8,4,9,11,14,14,3,11,14,6,7,9,16,11,9,6,9,12,12,13,10,6,10,4,12,10,12,14,11,8,6,7,12,10,8,11,8,12,13,9,7,10,10,7,10,10,12,10,8,9,9,10,7,7,14,9,12,12,8,5,9,9,9,13,8,14,4,9,8,9,14,8,6,11,10,7,9,12,12,12,11,15,14,9,9,11,12,10,11,11,12,12,14,6,9,6,11,9,19,6,15,8,8,8,3,3,11,10,7,10,11,16,12,9,7,8,11,8,14,7,10,8,12,10,11,12,12,10,16,12,3,4,10,7,11,11,8,4,10,12,6,13,9,15,12,12,7,13,7,9,10,10,9,9,8,5,6,3,11,10,9,7,7,5,6,8,13,8,11,6,8,8,10,9,12,4,11,8,9,6,5,5,9,10,12,5,11,7,12,10,16,8,5,8,9,11,9,11,9,5,10,12,10,13,10,6,14,10,10,9,8,13,12,10,8,15,16,9,8,5,9,8,3,12,11,10,8,9,7,11,11,11,9,6,12,10,4,10,10,9,6,11,14,17,11,7,8,12,12,9,6,9,11,4,8,11,10,11,6,10,11,7,4,10,12,4,9,9,11,5,11,10,7,10,5,10,11,5,4,12,5,3,10,7,9,12,8,15,8,9,7,6,12,17,6,9,8,11,8,9,11,14,12,4,11,6,8,11,8,9,6,11,9,13,13,9,8,13,8,8,11,7,7,11,12,13,8,11,12,10,10,6,14,7,9,10,11,12,10,10,8,9,12,11,11,6,11,8,8,12,3,10,9,5,10,13,8,9,14,17,10,13,12,10,5,10,6,16,12,8,16,9,13,8,13,7,12,12,12,11,9,9,11,8,9,8,12,14,8,9,11,13,13,10,5,10,13,9,11,10,10,11,8,7,12,11,12,10,10,10,8,7,7,7,9,10,9,11,9,9,10,14,4,9,10,10,9,6,9,11,11,9,12,9,9,12,10,13,8,9,7,9,9,12,8,11,12,5,8,13,6,12,10,14,10,6,11,3,12,18,9,3,9,11,8,10,12,11,6,8,14,6,13,12,8,12,11,11,7,11,10,13,8,10,3,12,12,5,10,11,7,16,11,15,2,13,14,11,16,8,9,11,12,9,12,6,10,13,8,10,12,10,12,13,9,11,14,15,7,12,13,13,10,7,10,8,13,14,10,7,13,10,10,16,6,12,8,8,6,8,7,11,15,6,11,11,8,11,9,12,11,10,8,13,5,7,7,12,8,9,12,10,9,13,13,14,8,13,9,6,7,13,7,5,15,10,11,10,8,6,7,5,12,8,10,7,10,4,6,11,10,8,10,7,11,13,10,9,8,11,10,8,11,10,8,12,7,11,11,10,5,9,8,13,6,8,10,13,9,14,10,6,14,10,10,7,12,12,9,10,11,7,8,16,15,10,7,10,8,5,7,9,7,10,9,12,10,12,11,7,8,13,4,6,11,11,7,10,9,11,9,12,11,12,8,12,9,13,13,10,8,11,7,7,10,9,8,8,11,16,3,8,11,12,12,11,12,12,5,15,9,8,11,7,9,11,14,8,9,17,11,13,7,4,8,11,11,11,8,9,8,10,10,14,10,12,7,8,16,7,10,9,11,11,11,11,13,9,10,9,12,9,6,9,12,8,10,12,11,9,4,12,7,10,10,10,10,10,11,6,10,16,11,4,8,9,10,8,10,11,4,10,11,14,9,9,12,12,10,7,17,10,10,11,11,9,13,11,5,11,9,8,9,3,4,8,12,11,12,11,11,8,10,11,13,11,10,11,10,9,7,5,9,11,8,12,12,12,5,10,9,12,10,11,16,5,4,6,12,10,13,9,10,7,10,9,4,2,8,11,14,6,12,11,10,7,12,12,14,7,11,7,12,10,3,9,8,9,11,17,8,22,11,2,8,10,10,8,9,13,10,6,8,8,11,9,9,4,13,10,10,11,10,10,11,9,5,8,4,6,10,9,9,9,9,11,12,10,9,8,15,8,9,9,12,10,14,5,8,10,10,10,10,12,13,10,10,11,12,5,12,13,10,16,12,8,4,8,18,11,6,15,11,8,9,9,12,11,7,6,11,6,8,8,9,11,10,9,13,9,10,6,10,15,17,9,14,11,10,11,14,11,6,10,12,5,15,5,14,6,6,7,7,10,10,10,5,3,11,7,9,4,11,9,3,17,14,12,9,12,18,10,9,10,15,9,7,7,8,11,14,10,12,12,10,8,10,11,12,10,14,10,6,12,9,8,11,8,8,6,7,13,4,6,11,6,14,9,8,8,8,10,12,10,12,9,7,12,14,8,8,12,15,6,8,10,8,8,10,11,9,9,9,10,10,12,9,6,14,12,10,11,13,3,7,8,14,10,12,16,11,6,12,4,11,10,12,7,9,8,12,8,6,7,4,11,5,10,10,5,12,6,4,9,10,11,12,10,12,12,11,8,8,8,9,10,7,11,11,12,4,8,9,2,6,10,7,11,9,9,11,12,12,8,10,8,13,10,11,11,8,6,6,12,11,11,3,10,10,11,14,9,5,12,10,8,13,10,13,13,14,7,8,14,8,10,16,12,9,11,10,8,13,11,7,11,9,12,10,13,6,11,5,13,13,10,15,6,12,11,5,9,13,13,10,12,8,7,10,13,5,12,14,7,9,13,8,19,8,9,12,7,13,12,9,6,10,9,8,5,12,5,12,10,13,11,13,9,12,11,7,7,14,10,15,6,9,10,10,9,11,6,14,10,6,12,8,12,13,6,6,7,10,13,10,10,7,9,5,6,8,11,11,9,14,12,6,9,7,12,8,9,13,9,11,11,9,6,4,11,11,9,7,11,12,10,11,11,6,5,6,10,7,9,7,16,11,7,9,9,11,21,13,7,10,10,11,12,11,10,10,7,12,18,12,5,14,9,5,3,12,5,10,7,10,11,5,10,12,13,6,10,9,10,13,15,16,11,14,12,9,12,12,9,6,9,8,4,13,7,10,10,11,9,7,9,7,10,14,7,16,6,13,4,3,13,5,15,9,5,11,10,10,14,11,4,12,11,16,7,12,15,8,13,9,10,13,12,12,10,9,9,10,9,8,16,8,14,15,11,7,10,5,12,10,9,5,8,12,16,9,7,9,10,8,10,8,7,11,11,9,10,12,5,11,13,12,14,15,12,4,8,9,8,7,7,10,7,15,7,10,10,15,9,11,12,9,6,10,9,9,5,7,8,9,6,6,11,10,8,8,10,12,9,10,11,8,9,4,12,6,10,10,11,9,11,9,11,5,9,8,9,6,15,13,11,11,10,10,13,12,8,9,10,10,13,11,10,11,5,13,10,12,11,11,11,13,13,9,7,10,10,8,10,14,13,11,9,5,5,12,13,13,10,12,10,16,11,9,4,11,13,14,7,10,10,13,7,7,12,7,6,10,9,14,8,11,11,12,9,8,12,12,6,14,8,10,6,10,6,7,7,10,10,12,10,13,12,10,8,13,12,13,12,10,11,13,11,8,11,13,7,7,10,7,8,10,7,13,8,10,10,14,12,12,13,10,11,13,9,10,11,5,12,12,12,10,11,10,14,12,8,13,14,10,9,7,11,7,11,13,11,6,12,7,11,8,12,13,9,10,5,13,7,10,9,11,9,13,8,8,11,10,11,8,12,10,11,4,7,13,9,9,8,10,12,6,9,5,4,9,6,9,11,11,11,14,6,8,11,10,12,9,8,7,7,7,15,13,9,6,9,3,11,10,7,9,6,6,5,12,8,11,10,10,11,11,9,5,5,13,11,12,8,14,14,8,8,8,7,13,11,12,5,11,5,10,4,10,8,5,11,8,6,13,12,9,11,10,13,12,13,5,9,12,9,6,8,13,9,9,11,11,12,9,7,12,10,7,8,11,8,10,11,13,8,15,9,12,9,15,14,9,14,12,9,3,16,10,9,11,11,19,9,5,10,9,5,11,11,9,7,5,11,10,11,13,11,12,12,8,9,4,12,9,16,15,13,12,11,10,11,7,9,8,9,8,17,9,7,11,16,8,6,12,9,9,11,8,12,9,5,5,6,9,5,13,10,6,8,9,11,11,8,10,6,13,9,13,11,7,10,6,10,9,10,16,5,7,10,10,5,6,10,9,8,9,5,10,9,10,9,10,8,12,8,10,12,11,12,10,3,14,13,9,5,6,8,4,7,6,9,3,9,14,9,13,11,12,9,13,10,10,7,13,8,10,12,10,10,7,6,9,13,13,10,15,9,8,9,11,10,6,6,11,10,12,11,9,8,11,10,13,9,10,11,11,11,9,14,10,10,12,7,6,8,7,12,6,8,9,9,11,11,13,12,10,11,4,9,11,4,7,8,4,6,8,9,13,14,11,11,3,11,10,9,12,5,10,8,9,6,15,5,13,8,14,7,12,10,10,13,9,10,11,9,11,7,10,5,7,9,7,4,12,13,9,12,6,11,10,7,10,16,14,3,10,12,9,9,9,7,7,6,8,11,10,15,9,6,9,5,8,8,9,10,12,10,12,10,10,6,6,12,12,5,7,7,10,10,14,11,8,7,12,14,9,9,11,12,8,9,6,9,9,11,4,4,3,6,8,6,9,5,9,7,3,6,10,12,10,6,13,7,6,8,14,4,10,7,9,12,10,8,16,6,10,10,12,9,10,10,12,7,8,7,15,11,16,7,11,10,9,8,13,7,12,10,9,8,8,11,11,8,13,7,11,9,7,9,12,8,10,13,13,12,7,8,14,11,12,10,9,13,10,10,14,14,6,8,11,7,6,11,11,10,7,13,11,12,3,14,14,10,10,5,13,9,10,9,5,8,7,13,9,9,8,12,6,10,13,9,6,12,12,11,9,11,8,12,12,9,13,12,13,8,13,9,8,10,14,12,10,6,13,8,11,5,8,8,5,11,4,9,12,4,11,6,11,12,10,6,9,11,10,13,12,5,11,10,5,10,13,5,4,9,11,9,11,12,11,8,10,15,13,5,12,10,10,5,8,10,11,9,6,8,10,10,9,11,8,14,11,14,13,11,8,12,8,12,6,11,13,8,8,15,13,14,13,17,11,12,10,9,8,13,13,8,8,6,8,11,13,11,4,11,10,9,10,9,4,11,11,7,10,5,10,5,9,10,10,7,13,10,4,12,11,11,8,9,5,14,4,13,10,10,10,8,2,6,9,8,15,13,10,11,11,9,13,15,5,11,9,8,11,12,14,7,8,11,4,7,13,8,6,12,9,10,10,12,14,14,10,6,4,11,7,8,14,10,10,9,14,12,8,7,5,8,9,7,12,9,6,12,7,7,7,8,13,11,7,13,9,13,6,8,11,9,11,6,13,6,11,5,7,13,13,13,11,9,11,12,11,4,11,12,7,3,14,9,10,11,13,9,10,11,11,8,12,8,9,8,15,11,9,8,7,5,7,11,9,16,8,7,8,10,8,10,13,7,12,5,8,12,7,12,12,10,9,12,11,15,10,9,10,5,9,12,9,10,10,4,12,7,12,6,11,15,16,12,9,4,7,12,6,11,10,8,12,6,6,12,7,14,5,7,8,10,11,8,12,17,11,11,11,9,10,4,12,10,15,13,8,15,7,7,9,8,7,7,13,8,13,13,13,11,13,9,19,11,9,4,7,9,6,9,7,9,12,9,8,10,6,12,8,8,10,13,5,13,10,11,11,9,10,10,11,9,10,11,11,13,14,12,4,11,12,11,4,11,9,13,9,5,11,9,9,13,12,10,7,10,16,7,13,16,9,11,13,7,7,15,9,8,3,13,14,11,11,12,8,7,10,10,8,6,7,14,11,10,8,9,10,11,8,6,5,10,8,14,9,12,16,13,4,11,16,28,12,6,9,8,8,5,7,7,12,8,10,12,11,10,12,9,6,14,14,11,10,15,4,8,9,9,11,9,18,15,10,9,11,7,8,13,9,10,10,9,13,12,11,14,10,5,12,9,10,13,8,13,8,12,3,11,13,10,5,11,9,12,12,8,11,10,9,13,9,13,8,5,8,13,12,12,11,9,12,13,8,4,9,10,11,9,10,11,17,14,8,11,9,9,12,8,12,11,3,12,8,13,7,2,11,5,10,7,18,8,13,8,14,10,11,8,13,12,14,7,11,7,14,13,9,7,9,9,10,9,2,9,8,11,4,10,9,14,14,4,13,9,5,12,12,12,11,11,11,9,10,9,7,9,13,12,8,16,9,8,13,11,7,6,10,7,10,11,6,10,10,7,10,7,9,9,12,7,9,10,10,12,7,6,7,14,10,7,7,13,9,12,9,7,7,10,9,9,11,15,9,8,12,8,9,10,13,9,12,5,12,8,5,10,7,5,8,22,10,13,11,11,12,9,17,11,10,6,11,6,2,10,8,7,10,12,12,14,13,8,10,3,8,8,12,9,13,10,12,13,10,6,14,14,7,9,9,9,9,7,14,11,8,11,7,11,16,6,5,10,8,8,8,10,11,12,10,10,8,12,8,5,10,7,8,8,11,12,13,6,12,12,11,10,11,12,8,10,8,11,11,5,11,12,13,8,5,11,4,14,12,14,5,9,10,12,8,9,13,10,13,12,12,6,6,6,10,9,13,9,5,10,8,8,15,6,11,7,13,3,13,10,12,8,9,9,7,10,7,5,6,19,11,11,10,12,11,11,10,11,13,9,7,12,10,9,13,10,11,9,5,12,10,12,9,10,9,5,8,13,13,9,7,5,11,3,13,14,8,7,7,13,9,11,12,6,12,12,9,8,13,6,12,9,14,9,7,10,9,13,9,5,11,9,7,15,12,9,10,4,9,8,9,8,9,9,9,9,9,9,11,7,5,10,17,9,14,7,7,13,6,5,9,6,10,8,6,8,11,10,13,11,15,6,8,11,12,9,13,14,11,7,13,8,16,12,10,5,13,8,14,4,7,13,10,9,13,12,11,11,9,7,10,11,9,6,9,9,10,8,5,7,10,7,11,7,10,10,6,11,10,10,11,9,10,11,10,11,9,10,9,5,9,11,10,11,13,9,13,5,12,5,12,13,12,8,10,5,8,11,12,13,14,9,5,13,12,15,10,10,7,9,12,8,7,9,7,8,9,10,11,11,9,7,7,9,9,14,8,16,13,9,8,4,14,6,8,6,10,12,9,9,12,10,10,14,10,7,9,8,6,11,10,8,9,9,9,7,11,8,10,13,10,10,12,12,4,12,9,11,14,17,3,11,9,13,9,8,12,6,9,8,8,12,6,11,10,10,13,14,9,12,13,11,11,10,6,6,15,6,9,6,7,14,5,11,10,5,10,11,9,13,9,11,5,10,10,3,10,13,9,9,4,9,6,12,9,7,5,14,10,7,5,10,7,15,11,10,6,12,6,16,10,11,13,8,12,11,8,11,8,13,11,6,11,11,9,12,10,11,10,8,8,9,10,17,12,13,10,10,11,9,9,11,11,7,12,3,6,10,12,13,15,11,6,10,9,12,8,6,10,7,5,10,12,8,12,13,10,8,12,13,10,7,11,6,10,9,14,6,9,12,10,6,12,11,9,12,8,9,8,12,11,12,10,14,9,11,10,7,10,11,10,11,12,10,8,13,7,12,4,12,11,10,10,10,9,10,9,11,8,5,8,10,8,11,9,7,6,6,8,12,10,5,10,6,6,7,15,13,12,14,15,11,6,6,8,7,5,7,11,7,6,13,11,7,9,11,6,8,9,12,9,11,9,8,8,7,10,11,11,13,10,11,10,11,9,13,12,11,9,11,10,9,7,4,11,10,8,14,11,12,9,9,7,7,14,11,9,13,10,6,12,11,14,13,8,12,10,14,6,8,10,13,11,8,12,8,15,5,4,8,11,11,9,10,3,11,5,10,9,9,7,11,8,14,12,12,11,10,10,13,5,10,7,8,10,12,10,16,7,11,12,10,5,6,8,11,6,11,13,6,9,5,8,12,9,14,11,10,10,13,9,7,10,11,5,12,7,11,10,13,16,10,11,5,12,7,13,6,10,10,5,10,10,4,10,15,10,9,9,9,11,6,10,10,11,11,10,8,10,8,16,13,10,12,11,13,6,8,7,12,2,9,17,11,10,10,11,12,5,6,16,9,10,11,8,10,7,11,13,16,11,10,5,10,9,11,12,6,13,3,12,9,8,11,9,8,6,4,6,8,9,8,11,7,13,15,10,8,12,10,11,15,15,6,13,10,5,11,5,10,4,9,14,16,9,11,12,10,12,12,15,2,9,11,8,6,3,7,8,3,12,12,9,10,10,12,12,7,10,9,9,11,6,8,8,5,8,11,9,9,11,8,11,10,11,10,7,17,10,8,13,12,10,6,11,8,14,11,8,7,10,8,13,12,6,9,10,6,12,10,11,15,10,12,9,11,15,6,10,9,8,8,11,6,7,11,8,10,13,4,9,15,8,15,7,9,13,11,10,12,6,11,13,11,7,9,10,5,5,13,11,6,11,9,4,14,9,7,11,11,9,7,12,12,11,8,10,7,9,4,11,10,3,9,12,10,11,11,5,9,7,5,14,7,9,12,2,10,6,9,13,2,11,7,11,8,12,13,10,8,6,8,5,11,3,10,9,6,10,9,15,7,9,6,13,10,14,8,5,8,13,9,9,13,13,11,11,6,11,18,10,7,10,10,3,12,11,4,8,11,9,11,12,6,8,5,5,12,8,3,7,10,10,9,10,12,9,16,4,14,10,14,14,8,7,11,11,6,8,12,12,14,9,8,12,8,6,8,8,7,14,11,8,5,9,9,10,3,6,8,7,8,9,9,12,8,11,4,8,7,11,13,9,2,11,11,12,10,7,7,12,2,5,12,13,9,9,13,9,8,8,13,12,8,10,5,14,9,10,6,15,11,12,7,6,8,13,5,12,11,12,11,11,3,5,9,6,9,10,12,10,13,8,11,8,8,10,13,8,9,8,4,13,7,5,10,9,15,9,10,11,11,3,12,10,13,9,10,12,4,8,10,13,10,8,4,13,8,8,9,16,11,10,9,8,11,10,11,9,12,11,14,12,10,14,6,9,7,9,13,11,4,3,11,10,9,8,16,6,12,7,10,7,11,11,12,16,11,3,14,10,7,6,6,6,9,8,14,37,13,7,8,8,8,10,9,14,11,15,10,5,9,4,12,8,11,9,14,7,6,7,10,9,7,5,9,12,7,10,8,11,10,15,10,12,11,10,13,10,3,10,4,9,8,7,8,7,12,11,9,8,9,10,12,12,12,13,7,9,6,11,12,12,14,7,8,11,7,8,8,3,5,9,9,10,12,7,11,12,7,7,9,6,12,11,7,7,9,12,9,10,16,9,8,7,8,10,14,11,12,11,6,10,11,5,5,13,15,10,9,14,10,10,10,13,9,9,7,9,11,7,8,10,9,8,3,18,11,8,12,2,11,14,14,12,9,8,5,11,11,8,10,10,14,14,9,14,4,10,9,10,12,9,9,10,9,11,13,5,10,6,11,11,12,16,11,3,9,11,8,11,11,13,7,11,9,10,4,6,12,10,6,12,7,13,14,7,9,8,10,8,13,11,11,10,9,8,10,7,7,5,12,6,11,10,8,12,8,7,9,13,12,13,9,16,16,14,11,10,6,11,9,9,5,12,4,9,9,6,9,9,10,5,7,7,6,9,3,12,13,10,5,8,8,11,9,14,7,8,3,9,8,11,11,9,10,10,12,13,11,11,12,8,10,6,10,11,9,13,7,7,8,3,5,11,8,9,9,6,7,11,2,12,11,11,11,14,7,3,10,5,8,8,8,8,14,13,6,8,15,13,11,14,11,14,8,11,10,14,9,13,11,7,10,11,13,12,10,16,7,6,10,7,8,11,12,7,9,10,6,10,9,10,7,10,11,8,8,15,5,12,13,8,9,10,10,9,9,6,9,11,11,5,14,7,11,8,8,14,9,12,10,7,11,9,9,8,4,7,6,13,12,10,10,6,11,13,10,12,9,13,7,4,10,8,10,9,13,16,12,7,12,9,6,9,11,6,11,7,8,11,10,6,6,12,9,7,10,12,9,11,10,10,10,9,10,2,10,5,7,14,9,11,11,11,11,6,9,14,7,10,13,5,10,11,10,8,5,13,6,10,9,9,10,5,9,9,9,7,13,13,15,8,16,7,8,7,7,15,14,11,7,14,7,8,11,8,8,10,13,10,11,13,12,6,12,9,11,6,16,19,5,7,13,8,9,8,6,9,16,8,11,10,13,6,6,14,10,13,9,13,6,8,10,9,15,6,7,10,12,9,5,11,12,14,9,8,5,6,9,7,12,13,4,11,13,8,12,12,15,5,7,6,6,13,10,11,7,8,14,11,8,9,8,10,7,11,15,9,8,11,9,4,4,12,11,11,2,11,10,13,10,13,11,13,14,10,9,6,12,14,9,9,10,9,13,8,4,10,8,14,12,11,10,4,10,10,14,8,13,10,10,17,8,5,8,13,9,12,10,9,5,11,12,9,8,8,12,9,6,14,10,9,11,11,13,9,11,7,14,8,8,12,10,8,15,9,16,10,12,4,7,8,11,9,11,10,8,9,9,14,4,8,9,7,15,9,10,10,9,11,8,10,7,8,12,13,10,10,13,11,15,10,8,11,9,8,9,14,7,12,10,10,9,9,17,4,10,12,9,11,10,5,11,4,6,13,15,11,10,10,8,12,8,12,11,11,12,9,8,7,8,11,12,12,12,12,13,10,6,8,10,10,11,10,7,11,9,7,13,9,13,12,10,11,9,11,9,10,3,2,8,4,10,10,9,11,11,13,7,13,11,14,13,12,10,8,10,11,14,10,10,7,13,7,10,12,11,10,11,10,13,11,12,3,12,12,8,9,10,12,11,10,11,14,8,10,12,13,9,3,10,9,4,13,8,11,13,12,13,4,10,9,11,14,9,8,13,3,12,9,11,7,12,5,13,8,8,8,7,13,14,13,15,12,10,8,11,11,12,11,10,7,12,4,6,11,4,7,9,8,3,15,6,10,13,11,8,8,11,10,11,13,8,9,11,13,12,11,10,7,12,5,15,10,9,4,9,16,14,8,11,13,11,7,10,9,9,10,7,11,9,6,9,13,7,8,10,9,15,11,9,6,12,7,12,11,8,9,11,16,13,11,5,9,8,12,6,12,12,13,6,11,8,10,10,11,12,8,9,11,10,7,3,12,5,10,8,10,3,6,8,10,15,12,5,5,11,8,11,2,11,15,12,7,9,9,13,12,12,12,7,11,11,6,13,10,8,13,8,12,8,9,6,9,12,10,7,11,9,9,14,7,6,10,6,11,6,12,6,7,6,7,7,7,4,7,10,10,4,10,8,10,9,12,10,12,13,6,13,11,6,11,7,7,6,13,9,16,10,16,11,10,13,9,12,12,12,13,9,7,6,8,10,8,14,10,12,7,10,10,10,9,8,5,12,11,6,9,12,7,6,4,14,10,12,7,12,10,9,12,8,6,10,13,11,11,9,6,11,13,11,9,8,9,15,13,9,12,9,11,13,10,12,4,10,13,11,6,11,9,7,9,12,5,14,10,7,11,10,11,8,8,5,12,11,10,13,14,11,13,4,8,10,12,8,14,11,11,13,8,7,6,11,22,10,13,5,13,13,12,9,7,11,14,13,9,10,10,11,10,8,11,5,13,14,6,10,11,15,15,9,14,13,9,8,5,10,12,13,15,7,15,13,10,9,9,10,12,7,9,5,7,10,6,9,13,11,10,12,2,7,12,14,10,23,8,14,10,9,5,10,12,15,12,12,10,12,10,8,12,12,8,15,4,11,10,11,3,12,10,17,8,6,10,9,9,7,9,10,12,12,7,12,10,7,12,10,7,10,9,13,9,2,15,5,15,6,8,12,12,11,11,13,7,9,9,7,12,7,10,6,9,8,10,8,12,12,11,9,10,9,4,12,11,13,10,12,7,5,10,13,7,9,10,10,11,6,10,8,11,8,11,10,9,8,11,4,12,10,8,9,6,10,6,12,8,13,15,9,11,5,11,9,10,14,12,5,6,7,2,11,7,12,9,13,11,10,8,10,9,13,3,12,10,11,10,6,5,12,8,9,10,7,12,8,10,10,12,7,5,8,7,5,12,4,2,8,9,12,7,12,11,9,12,12,8,11,9,8,9,2,11,10,12,11,6,13,7,5,5,11,9,8,10,7,12,12,10,12,12,5,10,10,9,12,6,6,11,12,11,11,4,11,7,14,9,13,13,6,7,6,11,12,5,9,9,11,9,5,11,11,13,6,11,17,13,2,6,4,12,3,9,4,11,10,14,6,15,11,12,9,8,17,8,7,5,11,16,7,2,13,6,14,7,10,3,6,7,9,7,7,11,11,15,8,9,11,10,7,10,7,5,8,5,10,7,7,7,7,13,11,8,15,3,9,12,9,4,8,9,5,12,3,12,8,10,10,12,9,14,4,5,11,12,10,6,10,4,13,7,6,14,12,9,11,10,8,9,3,11,6,8,11,9,11,16,11,12,11,5,12,13,9,10,9,12,16,11,8,8,10,13,4,11,11,11,13,10,9,9,5,11,5,15,15,4,2,10,10,13,9,8,7,9,8,11,7,11,4,4,10,9,10,10,13,11,14,14,9,9,10,10,10,8,6,10,6,9,12,11,19,13,7,5,12,9,7,9,10,12,10,10,8,7,8,10,9,13,4,4,7,8,13,9,11,4,12,14,10,7,8,9,12,11,12,14,10,11,11,10,5,11,7,6,3,6,14,6,9,7,6,4,11,11,11,14,6,16,9,7,9,11,12,13,14,8,4,8,11,11,13,13,6,11,8,9,10,10,11,11,2,5,5,13,12,16,10,12,8,9,14,7,10,8,12,6,5,9,11,11,8,11,11,12,11,5,10,13,10,12,15,8,11,14,14,10,10,6,13,3,10,11,10,8,9,7,11,13,8,4,12,9,16,13,9,6,6,13,13,12,9,7,13,12,12,6,11,12,11,11,10,7,4,12,14,4,10,15,8,8,11,9,13,10,9,11,7,12,11,11,10,9,9,4,15,8,8,15,9,14,13,8,5,9,9,12,11,10,11,11,10,4,3,10,11,10,13,5,8,12,10,10,14,13,9,9,10,9,7,27,7,11,14,8,8,11,9,11,9,7,8,8,9,12,8,10,11,9,11,10,9,6,11,13,8,11,6,9,11,11,11,20,8,5,14,10,9,7,11,10,11,4,11,10,10,8,7,14,7,8,5,11,13,11,12,14,17,14,11,10,10,9,5,11,8,3,6,12,12,13,9,9,13,10,10,12,14,9,13,5,11,7,13,6,8,8,8,8,9,9,12,9,11,12,10,11,11,11,9,12,13,7,10,15,6,2,11,13,7,12,7,10,15,11,12,11,10,3,7,10,10,14,8,9,12,5,9,7,10,8,11,7,8,10,9,9,11,7,11,10,12,12,12,9,9,10,13,9,7,12,13,12,9,12,12,12,7,8,9,11,6,5,13,8,10,10,9,16,9,11,6,6,10,14,14,13,8,7,9,9,9,9,10,12,8,2,11,7,11,8,10,11,12,11,7,7,11,12,10,12,12,8,12,11,11,5,9,13,11,8,9,6,6,4,5,9,12,5,13,9,6,17,9,11,6,13,9,10,12,13,11,5,13,8,10,7,9,5,11,12,12,11,6,13,14,8,5,13,14,12,12,4,14,2,9,9,9,5,11,10,5,15,13,13,12,8,5,10,6,10,13,10,8,12,12,8,12,14,9,11,7,10,9,10,11,6,10,13,10,10,10,6,8,11,7,9,12,12,11,5,9,11,10,11,8,10,10,9,12,7,11,4,14,12,14,11,9,10,9,10,8,12,13,6,8,8,10,10,7,10,5,4,12,4,13,7,13,12,10,2,15,10,5,12,17,11,15,6,11,14,7,8,5,11,14,14,6,10,7,8,7,11,11,10,10,9,11,7,12,18,10,5,9,10,9,8,7,7,11,10,4,8,5,7,7,8,8,10,12,9,6,11,8,9,10,10,8,5,10,12,12,13,8,6,12,12,4,8,10,10,12,7,10,10,10,6,8,11,9,9,11,7,8,14,8,10,11,8,14,21,4,11,5,11,15,12,5,9,11,14,10,17,9,12,12,8,15,5,12,11,11,9,7,12,15,14,15,5,9,8,10,7,10,7,12,10,13,12,14,13,10,10,7,7,8,14,8,12,8,11,11,9,13,8,11,8,9,4,6,8,8,9,12,15,9,5,8,4,13,11,11,9,10,4,10,15,9,9,12,8,10,14,13,7,9,7,13,13,11,11,6,7,10,11,7,8,9,7,12,11,8,13,10,9,13,9,8,8,10,2,7,12,14,4,11,6,5,12,8,9,7,15,7,11,9,10,11,4,7,3,15,6,9,10,8,7,9,20,11,12,11,9,4,13,10,6,14,11,6,10,10,11,7,10,7,9,17,12,11,7,9,13,5,5,9,6,6,10,10,8,10,6,7,12,10,6,11,26,5,13,11,8,13,4,12,3,13,10,9,12,10,10,9,13,15,13,11,9,10,11,8,11,10,12,9,12,10,8,11,7,8,6,12,10,11,14,4,7,10,10,8,15,10,7,7,10,14,11,7,9,11,10,4,9,7,5,15,12,19,11,13,10,8,11,16,12,8,8,7,9,9,10,13,9,12,11,8,9,5,8,11,8,11,9,10,11,12,7,11,10,4,8,8,10,6,10,17,9,10,10,6,13,11,13,8,10,12,8,11,10,6,14,12,7,12,10,8,8,9,15,8,6,10,9,8,13,6,11,10,11,5,14,7,9,10,11,6,11,13,15,13,8,9,3,10,4,7,13,12,4,9,8,11,11,2,10,10,11,11,13,11,7,11,13,9,11,10,9,4,12,8,11,12,8,9,13,4,9,4,11,10,12,5,10,12,13,11,11,6,9,11,9,20,5,8,7,11,12,6,6,9,11,12,13,9,10,7,13,11,5,8,12,9,10,11,13,6,15,10,12,11,12,8,15,9,9,13,13,10,14,8,6,7,8,7,10,9,15,13,13,10,13,10,6,11,2,7,9,13,11,6,13,8,11,9,8,11,8,14,5,10,11,9,7,15,13,9,12,13,11,12,13,9,12],\"xaxis\":\"x2\",\"yaxis\":\"y2\",\"type\":\"box\"}],                        {\"template\":{\"data\":{\"bar\":[{\"error_x\":{\"color\":\"#2a3f5f\"},\"error_y\":{\"color\":\"#2a3f5f\"},\"marker\":{\"line\":{\"color\":\"#E5ECF6\",\"width\":0.5},\"pattern\":{\"fillmode\":\"overlay\",\"size\":10,\"solidity\":0.2}},\"type\":\"bar\"}],\"barpolar\":[{\"marker\":{\"line\":{\"color\":\"#E5ECF6\",\"width\":0.5},\"pattern\":{\"fillmode\":\"overlay\",\"size\":10,\"solidity\":0.2}},\"type\":\"barpolar\"}],\"carpet\":[{\"aaxis\":{\"endlinecolor\":\"#2a3f5f\",\"gridcolor\":\"white\",\"linecolor\":\"white\",\"minorgridcolor\":\"white\",\"startlinecolor\":\"#2a3f5f\"},\"baxis\":{\"endlinecolor\":\"#2a3f5f\",\"gridcolor\":\"white\",\"linecolor\":\"white\",\"minorgridcolor\":\"white\",\"startlinecolor\":\"#2a3f5f\"},\"type\":\"carpet\"}],\"choropleth\":[{\"colorbar\":{\"outlinewidth\":0,\"ticks\":\"\"},\"type\":\"choropleth\"}],\"contour\":[{\"colorbar\":{\"outlinewidth\":0,\"ticks\":\"\"},\"colorscale\":[[0.0,\"#0d0887\"],[0.1111111111111111,\"#46039f\"],[0.2222222222222222,\"#7201a8\"],[0.3333333333333333,\"#9c179e\"],[0.4444444444444444,\"#bd3786\"],[0.5555555555555556,\"#d8576b\"],[0.6666666666666666,\"#ed7953\"],[0.7777777777777778,\"#fb9f3a\"],[0.8888888888888888,\"#fdca26\"],[1.0,\"#f0f921\"]],\"type\":\"contour\"}],\"contourcarpet\":[{\"colorbar\":{\"outlinewidth\":0,\"ticks\":\"\"},\"type\":\"contourcarpet\"}],\"heatmap\":[{\"colorbar\":{\"outlinewidth\":0,\"ticks\":\"\"},\"colorscale\":[[0.0,\"#0d0887\"],[0.1111111111111111,\"#46039f\"],[0.2222222222222222,\"#7201a8\"],[0.3333333333333333,\"#9c179e\"],[0.4444444444444444,\"#bd3786\"],[0.5555555555555556,\"#d8576b\"],[0.6666666666666666,\"#ed7953\"],[0.7777777777777778,\"#fb9f3a\"],[0.8888888888888888,\"#fdca26\"],[1.0,\"#f0f921\"]],\"type\":\"heatmap\"}],\"heatmapgl\":[{\"colorbar\":{\"outlinewidth\":0,\"ticks\":\"\"},\"colorscale\":[[0.0,\"#0d0887\"],[0.1111111111111111,\"#46039f\"],[0.2222222222222222,\"#7201a8\"],[0.3333333333333333,\"#9c179e\"],[0.4444444444444444,\"#bd3786\"],[0.5555555555555556,\"#d8576b\"],[0.6666666666666666,\"#ed7953\"],[0.7777777777777778,\"#fb9f3a\"],[0.8888888888888888,\"#fdca26\"],[1.0,\"#f0f921\"]],\"type\":\"heatmapgl\"}],\"histogram\":[{\"marker\":{\"pattern\":{\"fillmode\":\"overlay\",\"size\":10,\"solidity\":0.2}},\"type\":\"histogram\"}],\"histogram2d\":[{\"colorbar\":{\"outlinewidth\":0,\"ticks\":\"\"},\"colorscale\":[[0.0,\"#0d0887\"],[0.1111111111111111,\"#46039f\"],[0.2222222222222222,\"#7201a8\"],[0.3333333333333333,\"#9c179e\"],[0.4444444444444444,\"#bd3786\"],[0.5555555555555556,\"#d8576b\"],[0.6666666666666666,\"#ed7953\"],[0.7777777777777778,\"#fb9f3a\"],[0.8888888888888888,\"#fdca26\"],[1.0,\"#f0f921\"]],\"type\":\"histogram2d\"}],\"histogram2dcontour\":[{\"colorbar\":{\"outlinewidth\":0,\"ticks\":\"\"},\"colorscale\":[[0.0,\"#0d0887\"],[0.1111111111111111,\"#46039f\"],[0.2222222222222222,\"#7201a8\"],[0.3333333333333333,\"#9c179e\"],[0.4444444444444444,\"#bd3786\"],[0.5555555555555556,\"#d8576b\"],[0.6666666666666666,\"#ed7953\"],[0.7777777777777778,\"#fb9f3a\"],[0.8888888888888888,\"#fdca26\"],[1.0,\"#f0f921\"]],\"type\":\"histogram2dcontour\"}],\"mesh3d\":[{\"colorbar\":{\"outlinewidth\":0,\"ticks\":\"\"},\"type\":\"mesh3d\"}],\"parcoords\":[{\"line\":{\"colorbar\":{\"outlinewidth\":0,\"ticks\":\"\"}},\"type\":\"parcoords\"}],\"pie\":[{\"automargin\":true,\"type\":\"pie\"}],\"scatter\":[{\"marker\":{\"colorbar\":{\"outlinewidth\":0,\"ticks\":\"\"}},\"type\":\"scatter\"}],\"scatter3d\":[{\"line\":{\"colorbar\":{\"outlinewidth\":0,\"ticks\":\"\"}},\"marker\":{\"colorbar\":{\"outlinewidth\":0,\"ticks\":\"\"}},\"type\":\"scatter3d\"}],\"scattercarpet\":[{\"marker\":{\"colorbar\":{\"outlinewidth\":0,\"ticks\":\"\"}},\"type\":\"scattercarpet\"}],\"scattergeo\":[{\"marker\":{\"colorbar\":{\"outlinewidth\":0,\"ticks\":\"\"}},\"type\":\"scattergeo\"}],\"scattergl\":[{\"marker\":{\"colorbar\":{\"outlinewidth\":0,\"ticks\":\"\"}},\"type\":\"scattergl\"}],\"scattermapbox\":[{\"marker\":{\"colorbar\":{\"outlinewidth\":0,\"ticks\":\"\"}},\"type\":\"scattermapbox\"}],\"scatterpolar\":[{\"marker\":{\"colorbar\":{\"outlinewidth\":0,\"ticks\":\"\"}},\"type\":\"scatterpolar\"}],\"scatterpolargl\":[{\"marker\":{\"colorbar\":{\"outlinewidth\":0,\"ticks\":\"\"}},\"type\":\"scatterpolargl\"}],\"scatterternary\":[{\"marker\":{\"colorbar\":{\"outlinewidth\":0,\"ticks\":\"\"}},\"type\":\"scatterternary\"}],\"surface\":[{\"colorbar\":{\"outlinewidth\":0,\"ticks\":\"\"},\"colorscale\":[[0.0,\"#0d0887\"],[0.1111111111111111,\"#46039f\"],[0.2222222222222222,\"#7201a8\"],[0.3333333333333333,\"#9c179e\"],[0.4444444444444444,\"#bd3786\"],[0.5555555555555556,\"#d8576b\"],[0.6666666666666666,\"#ed7953\"],[0.7777777777777778,\"#fb9f3a\"],[0.8888888888888888,\"#fdca26\"],[1.0,\"#f0f921\"]],\"type\":\"surface\"}],\"table\":[{\"cells\":{\"fill\":{\"color\":\"#EBF0F8\"},\"line\":{\"color\":\"white\"}},\"header\":{\"fill\":{\"color\":\"#C8D4E3\"},\"line\":{\"color\":\"white\"}},\"type\":\"table\"}]},\"layout\":{\"annotationdefaults\":{\"arrowcolor\":\"#2a3f5f\",\"arrowhead\":0,\"arrowwidth\":1},\"autotypenumbers\":\"strict\",\"coloraxis\":{\"colorbar\":{\"outlinewidth\":0,\"ticks\":\"\"}},\"colorscale\":{\"diverging\":[[0,\"#8e0152\"],[0.1,\"#c51b7d\"],[0.2,\"#de77ae\"],[0.3,\"#f1b6da\"],[0.4,\"#fde0ef\"],[0.5,\"#f7f7f7\"],[0.6,\"#e6f5d0\"],[0.7,\"#b8e186\"],[0.8,\"#7fbc41\"],[0.9,\"#4d9221\"],[1,\"#276419\"]],\"sequential\":[[0.0,\"#0d0887\"],[0.1111111111111111,\"#46039f\"],[0.2222222222222222,\"#7201a8\"],[0.3333333333333333,\"#9c179e\"],[0.4444444444444444,\"#bd3786\"],[0.5555555555555556,\"#d8576b\"],[0.6666666666666666,\"#ed7953\"],[0.7777777777777778,\"#fb9f3a\"],[0.8888888888888888,\"#fdca26\"],[1.0,\"#f0f921\"]],\"sequentialminus\":[[0.0,\"#0d0887\"],[0.1111111111111111,\"#46039f\"],[0.2222222222222222,\"#7201a8\"],[0.3333333333333333,\"#9c179e\"],[0.4444444444444444,\"#bd3786\"],[0.5555555555555556,\"#d8576b\"],[0.6666666666666666,\"#ed7953\"],[0.7777777777777778,\"#fb9f3a\"],[0.8888888888888888,\"#fdca26\"],[1.0,\"#f0f921\"]]},\"colorway\":[\"#636efa\",\"#EF553B\",\"#00cc96\",\"#ab63fa\",\"#FFA15A\",\"#19d3f3\",\"#FF6692\",\"#B6E880\",\"#FF97FF\",\"#FECB52\"],\"font\":{\"color\":\"#2a3f5f\"},\"geo\":{\"bgcolor\":\"white\",\"lakecolor\":\"white\",\"landcolor\":\"#E5ECF6\",\"showlakes\":true,\"showland\":true,\"subunitcolor\":\"white\"},\"hoverlabel\":{\"align\":\"left\"},\"hovermode\":\"closest\",\"mapbox\":{\"style\":\"light\"},\"paper_bgcolor\":\"white\",\"plot_bgcolor\":\"#E5ECF6\",\"polar\":{\"angularaxis\":{\"gridcolor\":\"white\",\"linecolor\":\"white\",\"ticks\":\"\"},\"bgcolor\":\"#E5ECF6\",\"radialaxis\":{\"gridcolor\":\"white\",\"linecolor\":\"white\",\"ticks\":\"\"}},\"scene\":{\"xaxis\":{\"backgroundcolor\":\"#E5ECF6\",\"gridcolor\":\"white\",\"gridwidth\":2,\"linecolor\":\"white\",\"showbackground\":true,\"ticks\":\"\",\"zerolinecolor\":\"white\"},\"yaxis\":{\"backgroundcolor\":\"#E5ECF6\",\"gridcolor\":\"white\",\"gridwidth\":2,\"linecolor\":\"white\",\"showbackground\":true,\"ticks\":\"\",\"zerolinecolor\":\"white\"},\"zaxis\":{\"backgroundcolor\":\"#E5ECF6\",\"gridcolor\":\"white\",\"gridwidth\":2,\"linecolor\":\"white\",\"showbackground\":true,\"ticks\":\"\",\"zerolinecolor\":\"white\"}},\"shapedefaults\":{\"line\":{\"color\":\"#2a3f5f\"}},\"ternary\":{\"aaxis\":{\"gridcolor\":\"white\",\"linecolor\":\"white\",\"ticks\":\"\"},\"baxis\":{\"gridcolor\":\"white\",\"linecolor\":\"white\",\"ticks\":\"\"},\"bgcolor\":\"#E5ECF6\",\"caxis\":{\"gridcolor\":\"white\",\"linecolor\":\"white\",\"ticks\":\"\"}},\"title\":{\"x\":0.05},\"xaxis\":{\"automargin\":true,\"gridcolor\":\"white\",\"linecolor\":\"white\",\"ticks\":\"\",\"title\":{\"standoff\":15},\"zerolinecolor\":\"white\",\"zerolinewidth\":2},\"yaxis\":{\"automargin\":true,\"gridcolor\":\"white\",\"linecolor\":\"white\",\"ticks\":\"\",\"title\":{\"standoff\":15},\"zerolinecolor\":\"white\",\"zerolinewidth\":2}}},\"xaxis\":{\"anchor\":\"y\",\"domain\":[0.0,1.0],\"title\":{\"text\":\"WordCount\"}},\"yaxis\":{\"anchor\":\"x\",\"domain\":[0.0,0.7326],\"title\":{\"text\":\"count\"}},\"xaxis2\":{\"anchor\":\"y2\",\"domain\":[0.0,1.0],\"matches\":\"x\",\"showticklabels\":false,\"showgrid\":true},\"yaxis2\":{\"anchor\":\"x2\",\"domain\":[0.7426,1.0],\"matches\":\"y2\",\"showticklabels\":false,\"showline\":false,\"ticks\":\"\",\"showgrid\":false},\"legend\":{\"title\":{\"text\":\"is_sarcastic\"},\"tracegroupgap\":0},\"margin\":{\"t\":60},\"barmode\":\"overlay\",\"title\":{\"font\":{\"size\":20},\"text\":\"Distribution of the sentence length and sarcastic\\t\",\"x\":0.5}},                        {\"responsive\": true}                    ).then(function(){\n",
              "                            \n",
              "var gd = document.getElementById('8bfa13d2-712a-456d-ab6b-bdb536190712');\n",
              "var x = new MutationObserver(function (mutations, observer) {{\n",
              "        var display = window.getComputedStyle(gd).display;\n",
              "        if (!display || display === 'none') {{\n",
              "            console.log([gd, 'removed!']);\n",
              "            Plotly.purge(gd);\n",
              "            observer.disconnect();\n",
              "        }}\n",
              "}});\n",
              "\n",
              "// Listen for the removal of the full notebook cells\n",
              "var notebookContainer = gd.closest('#notebook-container');\n",
              "if (notebookContainer) {{\n",
              "    x.observe(notebookContainer, {childList: true});\n",
              "}}\n",
              "\n",
              "// Listen for the clearing of the current output cell\n",
              "var outputEl = gd.closest('.output');\n",
              "if (outputEl) {{\n",
              "    x.observe(outputEl, {childList: true});\n",
              "}}\n",
              "\n",
              "                        })                };                            </script>        </div>\n",
              "</body>\n",
              "</html>"
            ]
          },
          "metadata": {},
          "output_type": "display_data"
        }
      ],
      "source": [
        "fig = px.histogram(df['WordCount'], color=df['is_sarcastic'],\n",
        "                   labels={'value': 'WordCount', 'color': 'is_sarcastic'}, \n",
        "                   color_discrete_map={0: \"skyblue\", 1: \"gray\"},\n",
        "                   marginal='box')\n",
        "fig.update_traces(marker=dict(line=dict(color='#000000', width=2)))\n",
        "fig.update_layout(title_text='Distribution of the sentence length and sarcastic\t',\n",
        "                  title_x=0.5, title_font=dict(size=20))\n",
        "fig.update_layout(barmode='overlay')\n",
        "fig.show()"
      ]
    },
    {
      "cell_type": "code",
      "execution_count": null,
      "metadata": {
        "colab": {
          "base_uri": "https://localhost:8080/",
          "height": 533
        },
        "id": "gElZEJIGiuB9",
        "outputId": "3ef47aa2-4285-48f4-ad29-8951d3ab8c48"
      },
      "outputs": [
        {
          "data": {
            "text/plain": [
              "Text(0, 0.5, 'The Number of label')"
            ]
          },
          "execution_count": 14,
          "metadata": {},
          "output_type": "execute_result"
        },
        {
          "data": {
            "image/png": "[encoded data removed]",
            "text/plain": [
              "<Figure size 720x576 with 1 Axes>"
            ]
          },
          "metadata": {
            "needs_background": "light"
          },
          "output_type": "display_data"
        }
      ],
      "source": [
        "plt.figure(figsize = (10, 8))\n",
        "sns.countplot(x = df.is_sarcastic, data = df, saturation=0.5)\n",
        "plt.title('Sarcastism Distribution', fontsize=12)\n",
        "plt.xlabel(\"Label\", fontsize=12)\n",
        "plt.ylabel(\"The Number of label\", fontsize=12)\n"
      ]
    },
    {
      "cell_type": "markdown",
      "metadata": {
        "id": "JNKtghO5-f1X"
      },
      "source": [
        "From the above figure, we can observe that\n",
        "* The dataset is quiet balance\n",
        "* The distribution of sarcastic sentences and not sarcastic sentences is quite similar."
      ]
    },
    {
      "cell_type": "code",
      "execution_count": null,
      "metadata": {
        "colab": {
          "base_uri": "https://localhost:8080/",
          "height": 533
        },
        "id": "pQ44W22NsqZ6",
        "outputId": "af74a233-1e26-472b-a906-57b987e0b641"
      },
      "outputs": [
        {
          "data": {
            "text/plain": [
              "Text(0, 0.5, 'Count')"
            ]
          },
          "execution_count": 15,
          "metadata": {},
          "output_type": "execute_result"
        },
        {
          "data": {
            "image/png": "[encoded data removed]",
            "text/plain": [
              "<Figure size 720x576 with 1 Axes>"
            ]
          },
          "metadata": {
            "needs_background": "light"
          },
          "output_type": "display_data"
        }
      ],
      "source": [
        "plt.figure(figsize = (10, 8))\n",
        "sns.countplot(x = df.source, data = df, saturation=0.65)\n",
        "plt.title('Source data Distribution', fontsize=12)\n",
        "plt.xlabel(\"Source\", fontsize=12)\n",
        "plt.ylabel(\"Count\", fontsize=12)\n"
      ]
    },
    {
      "cell_type": "code",
      "execution_count": null,
      "metadata": {
        "id": "-73wT4SKlFR1"
      },
      "outputs": [],
      "source": [
        "def get_top_nwords(x, n, i):\n",
        "    vec = CountVectorizer(ngram_range=(i,i)).fit(x)\n",
        "    bow = vec.transform(x)\n",
        "    sum_words = bow.sum(axis=0)\n",
        "    words_freq = [(word, sum_words[0, idx]) for word, idx in vec.vocabulary_.items()]\n",
        "    words_freq = sorted(words_freq, key=lambda x:x[1], reverse=True)\n",
        "    return words_freq[:n]"
      ]
    },
    {
      "cell_type": "code",
      "execution_count": null,
      "metadata": {
        "colab": {
          "base_uri": "https://localhost:8080/",
          "height": 206
        },
        "id": "4SmNK3n2lerJ",
        "outputId": "55a54ea9-d92b-4a8a-fe86-95da3db17470"
      },
      "outputs": [
        {
          "data": {
            "text/html": [
              "\n",
              "  <div id=\"df-3e452437-d1cf-485c-af78-ffbcfb05c914\">\n",
              "    <div class=\"colab-df-container\">\n",
              "      <div>\n",
              "<style scoped>\n",
              "    .dataframe tbody tr th:only-of-type {\n",
              "        vertical-align: middle;\n",
              "    }\n",
              "\n",
              "    .dataframe tbody tr th {\n",
              "        vertical-align: top;\n",
              "    }\n",
              "\n",
              "    .dataframe thead th {\n",
              "        text-align: right;\n",
              "    }\n",
              "</style>\n",
              "<table border=\"1\" class=\"dataframe\">\n",
              "  <thead>\n",
              "    <tr style=\"text-align: right;\">\n",
              "      <th></th>\n",
              "      <th>Bigram</th>\n",
              "      <th>Frequency</th>\n",
              "    </tr>\n",
              "  </thead>\n",
              "  <tbody>\n",
              "    <tr>\n",
              "      <th>0</th>\n",
              "      <td>donald trump</td>\n",
              "      <td>366</td>\n",
              "    </tr>\n",
              "    <tr>\n",
              "      <th>1</th>\n",
              "      <td>of the</td>\n",
              "      <td>365</td>\n",
              "    </tr>\n",
              "    <tr>\n",
              "      <th>2</th>\n",
              "      <td>in the</td>\n",
              "      <td>360</td>\n",
              "    </tr>\n",
              "    <tr>\n",
              "      <th>3</th>\n",
              "      <td>to be</td>\n",
              "      <td>355</td>\n",
              "    </tr>\n",
              "    <tr>\n",
              "      <th>4</th>\n",
              "      <td>out of</td>\n",
              "      <td>268</td>\n",
              "    </tr>\n",
              "  </tbody>\n",
              "</table>\n",
              "</div>\n",
              "      <button class=\"colab-df-convert\" onclick=\"convertToInteractive('df-3e452437-d1cf-485c-af78-ffbcfb05c914')\"\n",
              "              title=\"Convert this dataframe to an interactive table.\"\n",
              "              style=\"display:none;\">\n",
              "        \n",
              "  <svg xmlns=\"http://www.w3.org/2000/svg\" height=\"24px\"viewBox=\"0 0 24 24\"\n",
              "       width=\"24px\">\n",
              "    <path d=\"M0 0h24v24H0V0z\" fill=\"none\"/>\n",
              "    <path d=\"M18.56 5.44l.94 2.06.94-2.06 2.06-.94-2.06-.94-.94-2.06-.94 2.06-2.06.94zm-11 1L8.5 8.5l.94-2.06 2.06-.94-2.06-.94L8.5 2.5l-.94 2.06-2.06.94zm10 10l.94 2.06.94-2.06 2.06-.94-2.06-.94-.94-2.06-.94 2.06-2.06.94z\"/><path d=\"M17.41 7.96l-1.37-1.37c-.4-.4-.92-.59-1.43-.59-.52 0-1.04.2-1.43.59L10.3 9.45l-7.72 7.72c-.78.78-.78 2.05 0 2.83L4 21.41c.39.39.9.59 1.41.59.51 0 1.02-.2 1.41-.59l7.78-7.78 2.81-2.81c.8-.78.8-2.07 0-2.86zM5.41 20L4 18.59l7.72-7.72 1.47 1.35L5.41 20z\"/>\n",
              "  </svg>\n",
              "      </button>\n",
              "      \n",
              "  <style>\n",
              "    .colab-df-container {\n",
              "      display:flex;\n",
              "      flex-wrap:wrap;\n",
              "      gap: 12px;\n",
              "    }\n",
              "\n",
              "    .colab-df-convert {\n",
              "      background-color: #E8F0FE;\n",
              "      border: none;\n",
              "      border-radius: 50%;\n",
              "      cursor: pointer;\n",
              "      display: none;\n",
              "      fill: #1967D2;\n",
              "      height: 32px;\n",
              "      padding: 0 0 0 0;\n",
              "      width: 32px;\n",
              "    }\n",
              "\n",
              "    .colab-df-convert:hover {\n",
              "      background-color: #E2EBFA;\n",
              "      box-shadow: 0px 1px 2px rgba(60, 64, 67, 0.3), 0px 1px 3px 1px rgba(60, 64, 67, 0.15);\n",
              "      fill: #174EA6;\n",
              "    }\n",
              "\n",
              "    [theme=dark] .colab-df-convert {\n",
              "      background-color: #3B4455;\n",
              "      fill: #D2E3FC;\n",
              "    }\n",
              "\n",
              "    [theme=dark] .colab-df-convert:hover {\n",
              "      background-color: #434B5C;\n",
              "      box-shadow: 0px 1px 3px 1px rgba(0, 0, 0, 0.15);\n",
              "      filter: drop-shadow(0px 1px 2px rgba(0, 0, 0, 0.3));\n",
              "      fill: #FFFFFF;\n",
              "    }\n",
              "  </style>\n",
              "\n",
              "      <script>\n",
              "        const buttonEl =\n",
              "          document.querySelector('#df-3e452437-d1cf-485c-af78-ffbcfb05c914 button.colab-df-convert');\n",
              "        buttonEl.style.display =\n",
              "          google.colab.kernel.accessAllowed ? 'block' : 'none';\n",
              "\n",
              "        async function convertToInteractive(key) {\n",
              "          const element = document.querySelector('#df-3e452437-d1cf-485c-af78-ffbcfb05c914');\n",
              "          const dataTable =\n",
              "            await google.colab.kernel.invokeFunction('convertToInteractive',\n",
              "                                                     [key], {});\n",
              "          if (!dataTable) return;\n",
              "\n",
              "          const docLinkHtml = 'Like what you see? Visit the ' +\n",
              "            '<a target=\"_blank\" href=https://colab.research.google.com/notebooks/data_table.ipynb>data table notebook</a>'\n",
              "            + ' to learn more about interactive tables.';\n",
              "          element.innerHTML = '';\n",
              "          dataTable['output_type'] = 'display_data';\n",
              "          await google.colab.output.renderOutput(dataTable, element);\n",
              "          const docLink = document.createElement('div');\n",
              "          docLink.innerHTML = docLinkHtml;\n",
              "          element.appendChild(docLink);\n",
              "        }\n",
              "      </script>\n",
              "    </div>\n",
              "  </div>\n",
              "  "
            ],
            "text/plain": [
              "         Bigram  Frequency\n",
              "0  donald trump        366\n",
              "1        of the        365\n",
              "2        in the        360\n",
              "3         to be        355\n",
              "4        out of        268"
            ]
          },
          "execution_count": 17,
          "metadata": {},
          "output_type": "execute_result"
        }
      ],
      "source": [
        "# Bigram\n",
        "words = get_top_nwords(df.headline, 20, 2) \n",
        "df_bi = pd.DataFrame(words, columns=['Bigram', 'Frequency'])\n",
        "df_bi.head()"
      ]
    },
    {
      "cell_type": "code",
      "execution_count": null,
      "metadata": {
        "colab": {
          "base_uri": "https://localhost:8080/",
          "height": 378
        },
        "id": "aYDS76pxmdZb",
        "outputId": "51be16e6-326b-4974-a5d0-ffbc7ac414ba"
      },
      "outputs": [
        {
          "data": {
            "image/png": "[encoded data removed]",
            "text/plain": [
              "<Figure size 1080x576 with 1 Axes>"
            ]
          },
          "metadata": {
            "needs_background": "light"
          },
          "output_type": "display_data"
        }
      ],
      "source": [
        "plt.figure(figsize = (15, 8))\n",
        "sns.set_theme(style=\"whitegrid\")\n",
        "ax = sns.barplot(y='Bigram', x='Frequency', orient = \"h\", data=df_bi)"
      ]
    },
    {
      "cell_type": "markdown",
      "metadata": {
        "id": "DFC1okCln77c"
      },
      "source": [
        "### Generating WordClouds\n",
        "\n",
        "We use Word Cloud, which is a data visualization technique, to represent text data in different size of each word corresponding to its frequency or importance. In this project, we use the library wordcloud For generating word cloud in Python."
      ]
    },
    {
      "cell_type": "code",
      "execution_count": null,
      "metadata": {
        "id": "R7xkp-hepbRg"
      },
      "outputs": [],
      "source": [
        "from wordcloud import WordCloud, STOPWORDS, ImageColorGenerator"
      ]
    },
    {
      "cell_type": "code",
      "execution_count": null,
      "metadata": {
        "colab": {
          "base_uri": "https://localhost:8080/",
          "height": 345
        },
        "id": "hlA_999-nwtT",
        "outputId": "9492a0b2-21ad-4381-8dd4-d17d135de64b"
      },
      "outputs": [
        {
          "name": "stdout",
          "output_type": "stream",
          "text": [
            "There are 1769716 words in the combination of headlines.\n"
          ]
        },
        {
          "data": {
            "image/png": "[encoded data removed]",
            "text/plain": [
              "<Figure size 720x576 with 1 Axes>"
            ]
          },
          "metadata": {},
          "output_type": "display_data"
        },
        {
          "data": {
            "text/plain": [
              "<wordcloud.wordcloud.WordCloud at 0x7f39d039ad90>"
            ]
          },
          "execution_count": 20,
          "metadata": {},
          "output_type": "execute_result"
        }
      ],
      "source": [
        "# Wordcloud \n",
        "# Create stopword list:\n",
        "stopwords = set(STOPWORDS)\n",
        "stopwords.update([\"one\", \"first\", \"will\", \"want\", \"give\"])\n",
        "\n",
        "\n",
        "texts = \" \".join(text for text in df.headline)\n",
        "print (\"There are {} words in the combination of headlines.\".format(len(texts)))\n",
        "# Create and generate a word cloud image:\n",
        "wordcloud = WordCloud(max_font_size=50, max_words=100,\n",
        "                      stopwords=stopwords,\n",
        "                      background_color=\"white\").generate(texts)\n",
        "\n",
        "# Display the generated image:\n",
        "plt.figure(figsize = (10, 8))\n",
        "plt.imshow(wordcloud, interpolation='bilinear')\n",
        "plt.axis(\"off\")\n",
        "plt.show()\n",
        "\n",
        "# Save the image in the img folder:\n",
        "wordcloud.to_file(\"first_review.png\")"
      ]
    },
    {
      "cell_type": "markdown",
      "metadata": {
        "id": "XB5PMQ2v-upp"
      },
      "source": [
        "As you can see, the most frequent words in this dataset are about Donald Trump, nation, American, report...So we can guess that people tends to make sarastic sentences about politics (Donald Trump, nation, American)"
      ]
    },
    {
      "cell_type": "markdown",
      "metadata": {
        "id": "MCFKXa10cZFN"
      },
      "source": [
        "## Machine Learning Algorithm"
      ]
    },
    {
      "cell_type": "markdown",
      "metadata": {
        "id": "afN-THd1bu6g"
      },
      "source": [
        "### Tokenizer\n"
      ]
    },
    {
      "cell_type": "code",
      "execution_count": null,
      "metadata": {
        "id": "BlW6QxnLbyXp"
      },
      "outputs": [],
      "source": [
        "def tokenize(text):\n",
        "    # Remove punctuation characters\n",
        "    text = re.sub(r\"[^a-zA-Z0-9]\", \" \", text) \n",
        "    tokens = word_tokenize(text)\n",
        "    lemmatizer = WordNetLemmatizer()\n",
        "\n",
        "    clean_tokens = []\n",
        "    for tok in tokens:\n",
        "        clean_tok = lemmatizer.lemmatize(tok).lower().strip()\n",
        "        clean_tokens.append(clean_tok)\n",
        "\n",
        "    return clean_tokens"
      ]
    },
    {
      "cell_type": "code",
      "execution_count": null,
      "metadata": {
        "id": "S1qq33t-b3Mq"
      },
      "outputs": [],
      "source": [
        "X = df.headline\n",
        "Y = df.is_sarcastic\n",
        "# perform train test split\n",
        "X_train, X_test, y_train, y_test = train_test_split(X, Y, test_size=0.33, random_state=42)"
      ]
    },
    {
      "cell_type": "code",
      "execution_count": null,
      "metadata": {
        "colab": {
          "base_uri": "https://localhost:8080/"
        },
        "id": "RE9FPbbSdmqc",
        "outputId": "1345a525-4211-44f2-9f79-537cbd090f64"
      },
      "outputs": [
        {
          "name": "stdout",
          "output_type": "stream",
          "text": [
            "[nltk_data] Downloading package punkt to /root/nltk_data...\n",
            "[nltk_data]   Unzipping tokenizers/punkt.zip.\n",
            "[nltk_data] Downloading package wordnet to /root/nltk_data...\n",
            "[nltk_data]   Unzipping corpora/wordnet.zip.\n"
          ]
        },
        {
          "data": {
            "text/plain": [
              "True"
            ]
          },
          "execution_count": 15,
          "metadata": {},
          "output_type": "execute_result"
        }
      ],
      "source": [
        "import nltk\n",
        "nltk.download(['punkt', 'wordnet'])"
      ]
    },
    {
      "cell_type": "markdown",
      "metadata": {
        "id": "aqB1XSb9tXkZ"
      },
      "source": [
        "### RandomForest"
      ]
    },
    {
      "cell_type": "code",
      "execution_count": null,
      "metadata": {
        "colab": {
          "base_uri": "https://localhost:8080/"
        },
        "id": "vBvjYQNucFN8",
        "outputId": "f3ec7804-b138-4328-e8fd-58cdf5afeaf7"
      },
      "outputs": [
        {
          "data": {
            "text/plain": [
              "RandomForestClassifier()"
            ]
          },
          "execution_count": 66,
          "metadata": {},
          "output_type": "execute_result"
        }
      ],
      "source": [
        "# Instantiate transformers and classifier\n",
        "vect = CountVectorizer(tokenizer=tokenize)\n",
        "tfidf = TfidfTransformer()\n",
        "clf = RandomForestClassifier()\n",
        "\n",
        "\n",
        "# Fit and/or transform each to the training data\n",
        "# Hint: you can use the fit_transform method\n",
        "X_train_counts = vect.fit_transform(X_train)\n",
        "X_train_tfidf = tfidf.fit_transform(X_train_counts)\n",
        "\n",
        "# Fit or train the classifier\n",
        "clf.fit(X_train_tfidf, y_train)"
      ]
    },
    {
      "cell_type": "code",
      "execution_count": null,
      "metadata": {
        "id": "qq7VWCQVcNDc"
      },
      "outputs": [],
      "source": [
        "# Transform test data\n",
        "X_test_counts = vect.transform(X_test)\n",
        "X_test_tfidf = tfidf.transform(X_test_counts)\n",
        "\n",
        "# Predict test labels\n",
        "y_pred = clf.predict(X_test_tfidf)"
      ]
    },
    {
      "cell_type": "code",
      "execution_count": null,
      "metadata": {
        "colab": {
          "base_uri": "https://localhost:8080/"
        },
        "id": "RC2kUL0pcQeM",
        "outputId": "c1223849-50ec-48da-8dac-bd9128beac2e"
      },
      "outputs": [
        {
          "name": "stdout",
          "output_type": "stream",
          "text": [
            "              precision    recall  f1-score   support\n",
            "\n",
            "           0       0.81      0.82      0.81      4916\n",
            "           1       0.80      0.79      0.80      4529\n",
            "\n",
            "    accuracy                           0.81      9445\n",
            "   macro avg       0.81      0.81      0.81      9445\n",
            "weighted avg       0.81      0.81      0.81      9445\n",
            "\n"
          ]
        }
      ],
      "source": [
        "print(classification_report(y_test.values, y_pred))"
      ]
    },
    {
      "cell_type": "code",
      "execution_count": null,
      "metadata": {
        "colab": {
          "base_uri": "https://localhost:8080/"
        },
        "id": "gutwfIepgDfV",
        "outputId": "5da229b8-aff9-49bd-8311-1454e2f75515"
      },
      "outputs": [
        {
          "data": {
            "text/plain": [
              "0.8050759493875559"
            ]
          },
          "execution_count": 69,
          "metadata": {},
          "output_type": "execute_result"
        }
      ],
      "source": [
        "from sklearn.metrics import roc_auc_score\n",
        "roc_auc_score(y_test, y_pred)"
      ]
    },
    {
      "cell_type": "markdown",
      "metadata": {
        "id": "sLOQem2jtceu"
      },
      "source": [
        "###  Gaussian Naive Bayes model"
      ]
    },
    {
      "cell_type": "code",
      "execution_count": null,
      "metadata": {
        "colab": {
          "base_uri": "https://localhost:8080/"
        },
        "id": "9HZ9Iu__tbtR",
        "outputId": "7e47e13c-096c-42c4-fec2-eb712c046d32"
      },
      "outputs": [
        {
          "name": "stdout",
          "output_type": "stream",
          "text": [
            "              precision    recall  f1-score   support\n",
            "\n",
            "           0       0.63      0.85      0.73      4916\n",
            "           1       0.74      0.46      0.57      4529\n",
            "\n",
            "    accuracy                           0.67      9445\n",
            "   macro avg       0.69      0.66      0.65      9445\n",
            "weighted avg       0.69      0.67      0.65      9445\n",
            "\n"
          ]
        }
      ],
      "source": [
        "#Import Gaussian Naive Bayes model\n",
        "from sklearn.naive_bayes import GaussianNB\n",
        "\n",
        "#Create a Gaussian Classifier\n",
        "model = GaussianNB()\n",
        "\n",
        "# Train the model using the training sets\n",
        "model.fit(X_train_tfidf.toarray(), y_train)\n",
        "\n",
        "\n",
        "# Predict test labels\n",
        "y_pred = model.predict(X_test_tfidf.toarray())\n",
        "\n",
        "print(classification_report(y_test.values, y_pred))"
      ]
    },
    {
      "cell_type": "code",
      "execution_count": null,
      "metadata": {
        "colab": {
          "base_uri": "https://localhost:8080/"
        },
        "id": "l7qoJU9jvEH-",
        "outputId": "6fc0c050-5a4c-4573-dae4-82998ba7ad02"
      },
      "outputs": [
        {
          "data": {
            "text/plain": [
              "0.6590592791307299"
            ]
          },
          "execution_count": 29,
          "metadata": {},
          "output_type": "execute_result"
        }
      ],
      "source": [
        "roc_auc_score(y_test, y_pred)"
      ]
    },
    {
      "cell_type": "markdown",
      "metadata": {
        "id": "dQhbMTLTvUuw"
      },
      "source": [
        "### SVM"
      ]
    },
    {
      "cell_type": "code",
      "execution_count": null,
      "metadata": {
        "id": "pNC3ORBTvXVS"
      },
      "outputs": [],
      "source": [
        "from sklearn import svm"
      ]
    },
    {
      "cell_type": "code",
      "execution_count": null,
      "metadata": {
        "colab": {
          "base_uri": "https://localhost:8080/"
        },
        "id": "lAPlEDbBveYM",
        "outputId": "cabce869-0f71-43b3-bf01-7ff28f58ec63"
      },
      "outputs": [
        {
          "name": "stdout",
          "output_type": "stream",
          "text": [
            "              precision    recall  f1-score   support\n",
            "\n",
            "           0       0.82      0.84      0.83      4916\n",
            "           1       0.82      0.80      0.81      4529\n",
            "\n",
            "    accuracy                           0.82      9445\n",
            "   macro avg       0.82      0.82      0.82      9445\n",
            "weighted avg       0.82      0.82      0.82      9445\n",
            "\n"
          ]
        }
      ],
      "source": [
        "model = svm.SVC(kernel='linear', gamma=1) \n",
        "\n",
        "# Train the model using the training sets\n",
        "model.fit(X_train_counts, y_train)\n",
        "\n",
        "# Predict test labels\n",
        "y_pred = model.predict(X_test_counts.toarray())\n",
        "\n",
        "print(classification_report(y_test.values, y_pred))"
      ]
    },
    {
      "cell_type": "code",
      "execution_count": null,
      "metadata": {
        "colab": {
          "base_uri": "https://localhost:8080/"
        },
        "id": "nun9V8HRvhrD",
        "outputId": "4d3e1d0b-a4c5-42df-8882-9d15d38c4675"
      },
      "outputs": [
        {
          "data": {
            "text/plain": [
              "0.8213223263657892"
            ]
          },
          "execution_count": 32,
          "metadata": {},
          "output_type": "execute_result"
        }
      ],
      "source": [
        "roc_auc_score(y_test, y_pred)"
      ]
    },
    {
      "cell_type": "markdown",
      "metadata": {
        "id": "DmLyN1yYxtH-"
      },
      "source": [
        "### KNN"
      ]
    },
    {
      "cell_type": "code",
      "execution_count": null,
      "metadata": {
        "colab": {
          "base_uri": "https://localhost:8080/"
        },
        "id": "o8dWW3s7xup2",
        "outputId": "1da9e88c-603b-4746-f316-5377a3bf47de"
      },
      "outputs": [
        {
          "name": "stdout",
          "output_type": "stream",
          "text": [
            "              precision    recall  f1-score   support\n",
            "\n",
            "           0       0.68      0.78      0.73      4916\n",
            "           1       0.72      0.61      0.66      4529\n",
            "\n",
            "    accuracy                           0.70      9445\n",
            "   macro avg       0.70      0.70      0.69      9445\n",
            "weighted avg       0.70      0.70      0.70      9445\n",
            "\n"
          ]
        }
      ],
      "source": [
        "from sklearn.neighbors import KNeighborsClassifier\n",
        "\n",
        "knn = KNeighborsClassifier(n_neighbors = 1)\n",
        "\n",
        "# Train the model using the training sets\n",
        "knn.fit(X_train_tfidf.toarray(), y_train)\n",
        "\n",
        "# Predict test labels\n",
        "y_pred = knn.predict(X_test_tfidf.toarray())\n",
        "\n",
        "print(classification_report(y_test.values, y_pred))"
      ]
    },
    {
      "cell_type": "code",
      "execution_count": null,
      "metadata": {
        "colab": {
          "base_uri": "https://localhost:8080/"
        },
        "id": "JRuNOsd8DZrz",
        "outputId": "a5377204-21ac-440a-e9fb-d690bdd6f6da"
      },
      "outputs": [
        {
          "data": {
            "text/plain": [
              "0.6952731479493602"
            ]
          },
          "execution_count": 76,
          "metadata": {},
          "output_type": "execute_result"
        }
      ],
      "source": [
        "roc_auc_score(y_test, y_pred)"
      ]
    },
    {
      "cell_type": "markdown",
      "metadata": {
        "id": "s6Erg2TlyZPu"
      },
      "source": [
        "### BERT\n",
        "Bidirectional Encoder Representations from Transformers (BERT) is a state of the art model based on transformers developed by google. It can be pre-trained and later fine-tuned for a specific task. We will fine-tune bert on a classification task. \n",
        "\n",
        "Bert was trained on two tasks simultaneously\n",
        "* Masked language modelling (MLM) — 15% of the tokens were masked and was trained to predict the masked word\n",
        "* Next Sentence Prediction(NSP) — Given two sentences A and B, predict whether B follows A\n",
        "\n",
        "The framework [HugggingFace](https://huggingface.co/docs/transformers/index) provides us a shortcut to easily download and train state-of-the-art pretrained models. Using pretrained models can reduce your compute costs, carbon footprint, and save you time from training a model from scratch. In this project, we choose to fine-tune the TinyBert due to the limited hardware GPU for a classification task\n",
        "\n",
        "Now, let's use it on the Sacratic Dataset."
      ]
    },
    {
      "cell_type": "code",
      "execution_count": null,
      "metadata": {
        "colab": {
          "base_uri": "https://localhost:8080/",
          "height": 783
        },
        "id": "rTv8XHIq3XwU",
        "outputId": "30d0c7db-43e5-4535-c77e-b4db1b68f81e"
      },
      "outputs": [
        {
          "name": "stdout",
          "output_type": "stream",
          "text": [
            "Collecting transformers==4.12\n",
            "  Downloading transformers-4.12.0-py3-none-any.whl (3.1 MB)\n",
            "\u001b[K     |████████████████████████████████| 3.1 MB 5.2 MB/s \n",
            "\u001b[?25hRequirement already satisfied: numpy>=1.17 in /usr/local/lib/python3.7/dist-packages (from transformers==4.12) (1.21.5)\n",
            "Requirement already satisfied: tqdm>=4.27 in /usr/local/lib/python3.7/dist-packages (from transformers==4.12) (4.63.0)\n",
            "Collecting tokenizers<0.11,>=0.10.1\n",
            "  Downloading tokenizers-0.10.3-cp37-cp37m-manylinux_2_5_x86_64.manylinux1_x86_64.manylinux_2_12_x86_64.manylinux2010_x86_64.whl (3.3 MB)\n",
            "\u001b[K     |████████████████████████████████| 3.3 MB 32.2 MB/s \n",
            "\u001b[?25hRequirement already satisfied: importlib-metadata in /usr/local/lib/python3.7/dist-packages (from transformers==4.12) (4.11.2)\n",
            "Collecting huggingface-hub>=0.0.17\n",
            "  Downloading huggingface_hub-0.4.0-py3-none-any.whl (67 kB)\n",
            "\u001b[K     |████████████████████████████████| 67 kB 5.3 MB/s \n",
            "\u001b[?25hCollecting sacremoses\n",
            "  Downloading sacremoses-0.0.49-py3-none-any.whl (895 kB)\n",
            "\u001b[K     |████████████████████████████████| 895 kB 42.8 MB/s \n",
            "\u001b[?25hRequirement already satisfied: packaging>=20.0 in /usr/local/lib/python3.7/dist-packages (from transformers==4.12) (21.3)\n",
            "Requirement already satisfied: regex!=2019.12.17 in /usr/local/lib/python3.7/dist-packages (from transformers==4.12) (2019.12.20)\n",
            "Requirement already satisfied: requests in /usr/local/lib/python3.7/dist-packages (from transformers==4.12) (2.23.0)\n",
            "Collecting pyyaml>=5.1\n",
            "  Downloading PyYAML-6.0-cp37-cp37m-manylinux_2_5_x86_64.manylinux1_x86_64.manylinux_2_12_x86_64.manylinux2010_x86_64.whl (596 kB)\n",
            "\u001b[K     |████████████████████████████████| 596 kB 42.4 MB/s \n",
            "\u001b[?25hRequirement already satisfied: filelock in /usr/local/lib/python3.7/dist-packages (from transformers==4.12) (3.6.0)\n",
            "Requirement already satisfied: typing-extensions>=3.7.4.3 in /usr/local/lib/python3.7/dist-packages (from huggingface-hub>=0.0.17->transformers==4.12) (3.10.0.2)\n",
            "Requirement already satisfied: pyparsing!=3.0.5,>=2.0.2 in /usr/local/lib/python3.7/dist-packages (from packaging>=20.0->transformers==4.12) (3.0.7)\n",
            "Requirement already satisfied: zipp>=0.5 in /usr/local/lib/python3.7/dist-packages (from importlib-metadata->transformers==4.12) (3.7.0)\n",
            "Requirement already satisfied: idna<3,>=2.5 in /usr/local/lib/python3.7/dist-packages (from requests->transformers==4.12) (2.10)\n",
            "Requirement already satisfied: urllib3!=1.25.0,!=1.25.1,<1.26,>=1.21.1 in /usr/local/lib/python3.7/dist-packages (from requests->transformers==4.12) (1.24.3)\n",
            "Requirement already satisfied: chardet<4,>=3.0.2 in /usr/local/lib/python3.7/dist-packages (from requests->transformers==4.12) (3.0.4)\n",
            "Requirement already satisfied: certifi>=2017.4.17 in /usr/local/lib/python3.7/dist-packages (from requests->transformers==4.12) (2021.10.8)\n",
            "Requirement already satisfied: click in /usr/local/lib/python3.7/dist-packages (from sacremoses->transformers==4.12) (7.1.2)\n",
            "Requirement already satisfied: joblib in /usr/local/lib/python3.7/dist-packages (from sacremoses->transformers==4.12) (1.1.0)\n",
            "Requirement already satisfied: six in /usr/local/lib/python3.7/dist-packages (from sacremoses->transformers==4.12) (1.15.0)\n",
            "Installing collected packages: pyyaml, tokenizers, sacremoses, huggingface-hub, transformers\n",
            "  Attempting uninstall: pyyaml\n",
            "    Found existing installation: PyYAML 3.13\n",
            "    Uninstalling PyYAML-3.13:\n",
            "      Successfully uninstalled PyYAML-3.13\n",
            "Successfully installed huggingface-hub-0.4.0 pyyaml-6.0 sacremoses-0.0.49 tokenizers-0.10.3 transformers-4.12.0\n"
          ]
        },
        {
          "data": {
            "application/vnd.colab-display-data+json": {
              "pip_warning": {
                "packages": [
                  "yaml"
                ]
              }
            }
          },
          "metadata": {},
          "output_type": "display_data"
        }
      ],
      "source": [
        "!pip install transformers==4.12"
      ]
    },
    {
      "cell_type": "code",
      "execution_count": null,
      "metadata": {
        "id": "sOphCvElyfuX"
      },
      "outputs": [],
      "source": [
        "from transformers import BertTokenizer, BertModel\n",
        "import torch\n",
        "from torch import nn\n",
        "from torch.optim import Adam\n",
        "from tqdm import tqdm"
      ]
    },
    {
      "cell_type": "code",
      "execution_count": null,
      "metadata": {
        "colab": {
          "base_uri": "https://localhost:8080/",
          "height": 81,
          "referenced_widgets": [
            "d5208376857948caab258da1f110a764",
            "735749fe96d74df28373a7cc0bf594c6",
            "0a40ff38c4c14811a2baec1a3e1faba8",
            "1bca359eed9f45d1bead112c10731936",
            "dc098fe6fc314296bcc0cda8cd0f2fa2",
            "45e20ec6faf44d0c8345b00a2eed3c81",
            "8ca9ceaa0ba24f47a7d004f0f61e824b",
            "ced6f914a8fa4adc8722f969eca51ffa",
            "68859d8178804022a81a99a4c08409d0",
            "fa8aef4e50fe4ceca62c1a0faf5ab8da",
            "1ca515904515486fbd91fdc70e620527",
            "846bf63feef346b6a2dacd8982ed2097",
            "5d383866ab524089896b311e92236daf",
            "01e17961d9644cf487fe45eaada26ad2",
            "445b5246a4e5451bbee76013c2dd3ad2",
            "263c504df3ee4afbb78a3d23e0ee2951",
            "9cd81ba83db1492ca8198f3204cf8887",
            "119ae07f16d5472ebe15691c40cbbd93",
            "d8a82209d649490f9b7c5698d2580f90",
            "8dac9a148d6a4672954d04766901efcf",
            "7aaadb298017489999e56084917ad482",
            "62951043b7b140b4aced1a4176ad2744"
          ]
        },
        "id": "IogWBjb3ygOu",
        "outputId": "ac2bff80-d27e-4bd2-f17b-f034c5a47956"
      },
      "outputs": [
        {
          "data": {
            "application/vnd.jupyter.widget-view+json": {
              "model_id": "d5208376857948caab258da1f110a764",
              "version_major": 2,
              "version_minor": 0
            },
            "text/plain": [
              "Downloading:   0%|          | 0.00/226k [00:00<?, ?B/s]"
            ]
          },
          "metadata": {},
          "output_type": "display_data"
        },
        {
          "data": {
            "application/vnd.jupyter.widget-view+json": {
              "model_id": "846bf63feef346b6a2dacd8982ed2097",
              "version_major": 2,
              "version_minor": 0
            },
            "text/plain": [
              "Downloading:   0%|          | 0.00/285 [00:00<?, ?B/s]"
            ]
          },
          "metadata": {},
          "output_type": "display_data"
        }
      ],
      "source": [
        "tokenizer = BertTokenizer.from_pretrained('prajjwal1/bert-tiny')"
      ]
    },
    {
      "cell_type": "code",
      "execution_count": null,
      "metadata": {
        "id": "_FUUZvhB2WEV"
      },
      "outputs": [],
      "source": [
        "class Dataset(torch.utils.data.Dataset):\n",
        "\n",
        "    def __init__(self, X, Y):\n",
        "\n",
        "        self.labels = np.array(Y)\n",
        "        self.texts = [tokenizer(text, \n",
        "                               padding='max_length', max_length = 512,\n",
        "                                # truncation=True,\n",
        "                                return_tensors=\"pt\") for text in X]\n",
        "\n",
        "    def classes(self):\n",
        "        return self.labels\n",
        "\n",
        "    def __len__(self):\n",
        "        return len(self.labels)\n",
        "\n",
        "    def get_batch_labels(self, idx):\n",
        "        # Fetch a batch of labels\n",
        "        return np.array(self.labels[idx])\n",
        "\n",
        "    def get_batch_texts(self, idx):\n",
        "        # Fetch a batch of inputs\n",
        "        return self.texts[idx]\n",
        "\n",
        "    def __getitem__(self, idx):\n",
        "\n",
        "        batch_texts = self.get_batch_texts(idx)\n",
        "        batch_y = self.get_batch_labels(idx)\n",
        "\n",
        "        return batch_texts, batch_y\n"
      ]
    },
    {
      "cell_type": "code",
      "execution_count": null,
      "metadata": {
        "id": "16WXd7DN2c1p"
      },
      "outputs": [],
      "source": [
        "class BertClassifier(nn.Module):\n",
        "\n",
        "    def __init__(self, dropout=0.5):\n",
        "\n",
        "        super(BertClassifier, self).__init__()\n",
        "\n",
        "        self.bert = BertModel.from_pretrained('prajjwal1/bert-tiny')\n",
        "        self.dropout = nn.Dropout(dropout)\n",
        "        self.linear = nn.Linear(128, 2)\n",
        "        self.relu = nn.ReLU()\n",
        "\n",
        "    def forward(self, input_id, mask):\n",
        "\n",
        "        _, pooled_output = self.bert(input_ids= input_id, attention_mask=mask,return_dict=False)\n",
        "        dropout_output = self.dropout(pooled_output)\n",
        "        linear_output = self.linear(dropout_output)\n",
        "        final_layer = self.relu(linear_output)\n",
        "\n",
        "        return final_layer"
      ]
    },
    {
      "cell_type": "code",
      "execution_count": null,
      "metadata": {
        "id": "HdYYT3sZ2f_6"
      },
      "outputs": [],
      "source": [
        "def train(model, X,Y, learning_rate, epochs, batch_size):\n",
        "\n",
        "    train = Dataset(X,Y)\n",
        "    # , Dataset(val_data)\n",
        "\n",
        "    train_dataloader = torch.utils.data.DataLoader(train, batch_size, shuffle=True)\n",
        "    # val_dataloader = torch.utils.data.DataLoader(val, batch_size=2)\n",
        "\n",
        "    use_cuda = torch.cuda.is_available()\n",
        "    device = torch.device(\"cuda\" if use_cuda else \"cpu\")\n",
        "\n",
        "    criterion = nn.CrossEntropyLoss()\n",
        "    optimizer = Adam(model.parameters(), lr= learning_rate)\n",
        "\n",
        "    if use_cuda:\n",
        "\n",
        "            model = model.cuda()\n",
        "            criterion = criterion.cuda()\n",
        "\n",
        "    for epoch_num in range(epochs):\n",
        "\n",
        "            total_acc_train = 0\n",
        "            total_loss_train = 0\n",
        "\n",
        "            for train_input, train_label in tqdm(train_dataloader):\n",
        "\n",
        "                train_label = train_label.to(device)\n",
        "                mask = train_input['attention_mask'].to(device)\n",
        "                input_id = train_input['input_ids'].squeeze(1).to(device)\n",
        "\n",
        "                output = model(input_id, mask)\n",
        "                \n",
        "                batch_loss = criterion(output, train_label)\n",
        "                total_loss_train += batch_loss.item()\n",
        "                \n",
        "                acc = (output.argmax(dim=1) == train_label).sum().item()\n",
        "                total_acc_train += acc\n",
        "\n",
        "                model.zero_grad()\n",
        "                batch_loss.backward()\n",
        "                optimizer.step()\n",
        "            \n",
        "           \n",
        "            print(\n",
        "                f'Epochs: {epoch_num + 1} | Train Loss: {total_loss_train / len(X): .3f} | Train Accuracy: {total_acc_train / len(X): .3f}')\n",
        "                  "
      ]
    },
    {
      "cell_type": "code",
      "execution_count": null,
      "metadata": {
        "id": "Lp_Xn8hP2kQT"
      },
      "outputs": [],
      "source": [
        "def evaluate(model, X,Y, batch_size):\n",
        "\n",
        "    test = Dataset(X, Y)\n",
        "\n",
        "    test_dataloader = torch.utils.data.DataLoader(test, batch_size,shuffle=False)\n",
        "\n",
        "    use_cuda = torch.cuda.is_available()\n",
        "    device = torch.device(\"cuda\" if use_cuda else \"cpu\")\n",
        "\n",
        "    if use_cuda:\n",
        "\n",
        "        model = model.cuda()\n",
        "\n",
        "    total_acc_test = 0\n",
        "    y_pred = []\n",
        "    with torch.no_grad():\n",
        "\n",
        "        for test_input, test_label in test_dataloader:\n",
        "\n",
        "            test_label = test_label.to(device)\n",
        "            mask = test_input['attention_mask'].to(device)\n",
        "            input_id = test_input['input_ids'].squeeze(1).to(device)\n",
        "\n",
        "            output = model(input_id, mask)\n",
        "            y_pred.append(output.argmax(dim=1))\n",
        "\n",
        "    return y_pred\n"
      ]
    },
    {
      "cell_type": "code",
      "execution_count": null,
      "metadata": {
        "colab": {
          "base_uri": "https://localhost:8080/"
        },
        "id": "5TaXlBGr3Lrb",
        "outputId": "43097bd8-3471-44a3-8f57-b7bb601aa1f4"
      },
      "outputs": [
        {
          "name": "stderr",
          "output_type": "stream",
          "text": [
            "Some weights of the model checkpoint at prajjwal1/bert-tiny were not used when initializing BertModel: ['cls.predictions.transform.LayerNorm.weight', 'cls.seq_relationship.bias', 'cls.predictions.transform.dense.bias', 'cls.predictions.decoder.weight', 'cls.predictions.decoder.bias', 'cls.predictions.bias', 'cls.predictions.transform.dense.weight', 'cls.predictions.transform.LayerNorm.bias', 'cls.seq_relationship.weight']\n",
            "- This IS expected if you are initializing BertModel from the checkpoint of a model trained on another task or with another architecture (e.g. initializing a BertForSequenceClassification model from a BertForPreTraining model).\n",
            "- This IS NOT expected if you are initializing BertModel from the checkpoint of a model that you expect to be exactly identical (initializing a BertForSequenceClassification model from a BertForSequenceClassification model).\n",
            "100%|██████████| 600/600 [01:06<00:00,  8.99it/s]\n"
          ]
        },
        {
          "name": "stdout",
          "output_type": "stream",
          "text": [
            "Epochs: 1 | Train Loss:  0.013 | Train Accuracy:  0.803\n"
          ]
        },
        {
          "name": "stderr",
          "output_type": "stream",
          "text": [
            "100%|██████████| 600/600 [01:02<00:00,  9.57it/s]\n"
          ]
        },
        {
          "name": "stdout",
          "output_type": "stream",
          "text": [
            "Epochs: 2 | Train Loss:  0.008 | Train Accuracy:  0.906\n"
          ]
        },
        {
          "name": "stderr",
          "output_type": "stream",
          "text": [
            "100%|██████████| 600/600 [01:09<00:00,  8.62it/s]\n"
          ]
        },
        {
          "name": "stdout",
          "output_type": "stream",
          "text": [
            "Epochs: 3 | Train Loss:  0.004 | Train Accuracy:  0.958\n"
          ]
        },
        {
          "name": "stderr",
          "output_type": "stream",
          "text": [
            "100%|██████████| 600/600 [01:08<00:00,  8.79it/s]\n"
          ]
        },
        {
          "name": "stdout",
          "output_type": "stream",
          "text": [
            "Epochs: 4 | Train Loss:  0.002 | Train Accuracy:  0.982\n"
          ]
        },
        {
          "name": "stderr",
          "output_type": "stream",
          "text": [
            "100%|██████████| 600/600 [01:03<00:00,  9.49it/s]\n"
          ]
        },
        {
          "name": "stdout",
          "output_type": "stream",
          "text": [
            "Epochs: 5 | Train Loss:  0.001 | Train Accuracy:  0.991\n"
          ]
        }
      ],
      "source": [
        "EPOCHS = 5\n",
        "batch_size = 32\n",
        "model = BertClassifier()\n",
        "LR = 1e-4\n",
        "              \n",
        "train(model, X_train, y_train, LR, EPOCHS, batch_size)"
      ]
    },
    {
      "cell_type": "code",
      "execution_count": null,
      "metadata": {
        "id": "QihGhYSA8aCt"
      },
      "outputs": [],
      "source": [
        "y_pred = evaluate(model, X_test,y_test, batch_size)"
      ]
    },
    {
      "cell_type": "code",
      "execution_count": null,
      "metadata": {
        "id": "8QahRapPBe2E"
      },
      "outputs": [],
      "source": [
        "y_pred_ = torch.cat(y_pred, dim=0)"
      ]
    },
    {
      "cell_type": "code",
      "execution_count": null,
      "metadata": {
        "id": "3YNEEqa-CBB-"
      },
      "outputs": [],
      "source": [
        "y_pred_=y_pred_.cpu().detach().numpy()"
      ]
    },
    {
      "cell_type": "code",
      "execution_count": null,
      "metadata": {
        "colab": {
          "base_uri": "https://localhost:8080/"
        },
        "id": "vrMcvffQx8EV",
        "outputId": "f99bfbd8-4285-4811-b8c2-3abc4ac8a0f7"
      },
      "outputs": [
        {
          "name": "stdout",
          "output_type": "stream",
          "text": [
            "              precision    recall  f1-score   support\n",
            "\n",
            "           0       0.86      0.89      0.87      4916\n",
            "           1       0.88      0.84      0.86      4529\n",
            "\n",
            "    accuracy                           0.87      9445\n",
            "   macro avg       0.87      0.86      0.87      9445\n",
            "weighted avg       0.87      0.87      0.87      9445\n",
            "\n",
            "0.8645351195738663\n"
          ]
        }
      ],
      "source": [
        "print(classification_report(y_test.values, y_pred_))\n",
        "print(roc_auc_score(y_test, y_pred_))"
      ]
    },
    {
      "cell_type": "markdown",
      "metadata": {
        "id": "m9U7QmljxenB"
      },
      "source": [
        "## Mdel Performance Comparaison\n",
        "\n",
        "We recap the performance of these machine learning models on the following table.\n",
        "\n",
        "| **Model** | **Precision** | **Recall** | **Accuracy** | **F1 Score** | **AUC** |\n",
        "|---|---|---|---|---|---|\n",
        "| Random Forest | 0.810 | 0.810 | 0.810 | 0.810 | 0.805 |\n",
        "| Gaussian Naive   Bayes | 0.690 | 0.660 | 0.670 | 0.650 | 0.659 |\n",
        "| SVM | 0.820 | 0.820 | 0.820 | 0.820 | 0.821 |\n",
        "| KNN | 0.700 | 0.700 | 0.700 | 0.690 | 0.695 |\n",
        "| TinyBert | _0.870_ | _0.860_ | _0.870_ | _0.870_ | _0.864_ |\n",
        "\n",
        "As you can see, TinyBert has the better performance in comparaison with other techniques such as Random Forest, Gaussian Naive Bayes, SVm, KNN."
      ]
    },
    {
      "cell_type": "markdown",
      "metadata": {
        "id": "dee50-GblDh8"
      },
      "source": [
        "## Summary\n",
        "\n",
        "* The dataset is quiet balance\n",
        "* The distribution of sarcatic sentences and not sarcatic sentences is quite similar.\n",
        "* The most frequent words in this dataset are about Donald Trump, nation, American, report\n",
        "* TinyBert has the better performance in comparaison with other techniques such as Random Forest, Gaussian Naive Bayes, SVm, KNN."
      ]
    },
    {
      "cell_type": "markdown",
      "metadata": {
        "id": "kbd0ibFilFin"
      },
      "source": [
        "## Acknowledgment \n",
        "Thanks Udacity for great project.\n",
        "\n",
        "Thanks to [Rishabhmisra](https://github.com/rishabhmisra/News-Headlines-Dataset-For-Sarcasm-Detection) for this dataset as well as his below research.\n",
        "\n",
        "* Misra, R., & Grover, J. (2021). Sculpting Data for ML: The first act of Machine Learning.\n",
        "\n",
        "* Misra, R., & Arora, P. (2019). Sarcasm detection using hybrid neural network. arXiv preprint arXiv:1908.07414.\n",
        "\n"
      ]
    }
  ],
  "metadata": {
    "accelerator": "GPU",
    "colab": {
      "collapsed_sections": [],
      "name": "Sarcasm_Detection.ipynb",
      "provenance": [],
      "toc_visible": true
    },
    "kernelspec": {
      "display_name": "Python 3",
      "name": "python3"
    },
    "language_info": {
      "name": "python"
    },
    "widgets": {
      "application/vnd.jupyter.widget-state+json": {
        "01e17961d9644cf487fe45eaada26ad2": {
          "model_module": "@jupyter-widgets/controls",
          "model_module_version": "1.5.0",
          "model_name": "FloatProgressModel",
          "state": {
            "_dom_classes": [],
            "_model_module": "@jupyter-widgets/controls",
            "_model_module_version": "1.5.0",
            "_model_name": "FloatProgressModel",
            "_view_count": null,
            "_view_module": "@jupyter-widgets/controls",
            "_view_module_version": "1.5.0",
            "_view_name": "ProgressView",
            "bar_style": "success",
            "description": "",
            "description_tooltip": null,
            "layout": "IPY_MODEL_d8a82209d649490f9b7c5698d2580f90",
            "max": 285,
            "min": 0,
            "orientation": "horizontal",
            "style": "IPY_MODEL_8dac9a148d6a4672954d04766901efcf",
            "value": 285
          }
        },
        "0a40ff38c4c14811a2baec1a3e1faba8": {
          "model_module": "@jupyter-widgets/controls",
          "model_module_version": "1.5.0",
          "model_name": "FloatProgressModel",
          "state": {
            "_dom_classes": [],
            "_model_module": "@jupyter-widgets/controls",
            "_model_module_version": "1.5.0",
            "_model_name": "FloatProgressModel",
            "_view_count": null,
            "_view_module": "@jupyter-widgets/controls",
            "_view_module_version": "1.5.0",
            "_view_name": "ProgressView",
            "bar_style": "success",
            "description": "",
            "description_tooltip": null,
            "layout": "IPY_MODEL_ced6f914a8fa4adc8722f969eca51ffa",
            "max": 231508,
            "min": 0,
            "orientation": "horizontal",
            "style": "IPY_MODEL_68859d8178804022a81a99a4c08409d0",
            "value": 231508
          }
        },
        "119ae07f16d5472ebe15691c40cbbd93": {
          "model_module": "@jupyter-widgets/controls",
          "model_module_version": "1.5.0",
          "model_name": "DescriptionStyleModel",
          "state": {
            "_model_module": "@jupyter-widgets/controls",
            "_model_module_version": "1.5.0",
            "_model_name": "DescriptionStyleModel",
            "_view_count": null,
            "_view_module": "@jupyter-widgets/base",
            "_view_module_version": "1.2.0",
            "_view_name": "StyleView",
            "description_width": ""
          }
        },
        "1bca359eed9f45d1bead112c10731936": {
          "model_module": "@jupyter-widgets/controls",
          "model_module_version": "1.5.0",
          "model_name": "HTMLModel",
          "state": {
            "_dom_classes": [],
            "_model_module": "@jupyter-widgets/controls",
            "_model_module_version": "1.5.0",
            "_model_name": "HTMLModel",
            "_view_count": null,
            "_view_module": "@jupyter-widgets/controls",
            "_view_module_version": "1.5.0",
            "_view_name": "HTMLView",
            "description": "",
            "description_tooltip": null,
            "layout": "IPY_MODEL_fa8aef4e50fe4ceca62c1a0faf5ab8da",
            "placeholder": "​",
            "style": "IPY_MODEL_1ca515904515486fbd91fdc70e620527",
            "value": " 226k/226k [00:00&lt;00:00, 7.76kB/s]"
          }
        },
        "1ca515904515486fbd91fdc70e620527": {
          "model_module": "@jupyter-widgets/controls",
          "model_module_version": "1.5.0",
          "model_name": "DescriptionStyleModel",
          "state": {
            "_model_module": "@jupyter-widgets/controls",
            "_model_module_version": "1.5.0",
            "_model_name": "DescriptionStyleModel",
            "_view_count": null,
            "_view_module": "@jupyter-widgets/base",
            "_view_module_version": "1.2.0",
            "_view_name": "StyleView",
            "description_width": ""
          }
        },
        "263c504df3ee4afbb78a3d23e0ee2951": {
          "model_module": "@jupyter-widgets/base",
          "model_module_version": "1.2.0",
          "model_name": "LayoutModel",
          "state": {
            "_model_module": "@jupyter-widgets/base",
            "_model_module_version": "1.2.0",
            "_model_name": "LayoutModel",
            "_view_count": null,
            "_view_module": "@jupyter-widgets/base",
            "_view_module_version": "1.2.0",
            "_view_name": "LayoutView",
            "align_content": null,
            "align_items": null,
            "align_self": null,
            "border": null,
            "bottom": null,
            "display": null,
            "flex": null,
            "flex_flow": null,
            "grid_area": null,
            "grid_auto_columns": null,
            "grid_auto_flow": null,
            "grid_auto_rows": null,
            "grid_column": null,
            "grid_gap": null,
            "grid_row": null,
            "grid_template_areas": null,
            "grid_template_columns": null,
            "grid_template_rows": null,
            "height": null,
            "justify_content": null,
            "justify_items": null,
            "left": null,
            "margin": null,
            "max_height": null,
            "max_width": null,
            "min_height": null,
            "min_width": null,
            "object_fit": null,
            "object_position": null,
            "order": null,
            "overflow": null,
            "overflow_x": null,
            "overflow_y": null,
            "padding": null,
            "right": null,
            "top": null,
            "visibility": null,
            "width": null
          }
        },
        "445b5246a4e5451bbee76013c2dd3ad2": {
          "model_module": "@jupyter-widgets/controls",
          "model_module_version": "1.5.0",
          "model_name": "HTMLModel",
          "state": {
            "_dom_classes": [],
            "_model_module": "@jupyter-widgets/controls",
            "_model_module_version": "1.5.0",
            "_model_name": "HTMLModel",
            "_view_count": null,
            "_view_module": "@jupyter-widgets/controls",
            "_view_module_version": "1.5.0",
            "_view_name": "HTMLView",
            "description": "",
            "description_tooltip": null,
            "layout": "IPY_MODEL_7aaadb298017489999e56084917ad482",
            "placeholder": "​",
            "style": "IPY_MODEL_62951043b7b140b4aced1a4176ad2744",
            "value": " 285/285 [00:00&lt;00:00, 2.75kB/s]"
          }
        },
        "45e20ec6faf44d0c8345b00a2eed3c81": {
          "model_module": "@jupyter-widgets/base",
          "model_module_version": "1.2.0",
          "model_name": "LayoutModel",
          "state": {
            "_model_module": "@jupyter-widgets/base",
            "_model_module_version": "1.2.0",
            "_model_name": "LayoutModel",
            "_view_count": null,
            "_view_module": "@jupyter-widgets/base",
            "_view_module_version": "1.2.0",
            "_view_name": "LayoutView",
            "align_content": null,
            "align_items": null,
            "align_self": null,
            "border": null,
            "bottom": null,
            "display": null,
            "flex": null,
            "flex_flow": null,
            "grid_area": null,
            "grid_auto_columns": null,
            "grid_auto_flow": null,
            "grid_auto_rows": null,
            "grid_column": null,
            "grid_gap": null,
            "grid_row": null,
            "grid_template_areas": null,
            "grid_template_columns": null,
            "grid_template_rows": null,
            "height": null,
            "justify_content": null,
            "justify_items": null,
            "left": null,
            "margin": null,
            "max_height": null,
            "max_width": null,
            "min_height": null,
            "min_width": null,
            "object_fit": null,
            "object_position": null,
            "order": null,
            "overflow": null,
            "overflow_x": null,
            "overflow_y": null,
            "padding": null,
            "right": null,
            "top": null,
            "visibility": null,
            "width": null
          }
        },
        "5d383866ab524089896b311e92236daf": {
          "model_module": "@jupyter-widgets/controls",
          "model_module_version": "1.5.0",
          "model_name": "HTMLModel",
          "state": {
            "_dom_classes": [],
            "_model_module": "@jupyter-widgets/controls",
            "_model_module_version": "1.5.0",
            "_model_name": "HTMLModel",
            "_view_count": null,
            "_view_module": "@jupyter-widgets/controls",
            "_view_module_version": "1.5.0",
            "_view_name": "HTMLView",
            "description": "",
            "description_tooltip": null,
            "layout": "IPY_MODEL_9cd81ba83db1492ca8198f3204cf8887",
            "placeholder": "​",
            "style": "IPY_MODEL_119ae07f16d5472ebe15691c40cbbd93",
            "value": "Downloading: 100%"
          }
        },
        "62951043b7b140b4aced1a4176ad2744": {
          "model_module": "@jupyter-widgets/controls",
          "model_module_version": "1.5.0",
          "model_name": "DescriptionStyleModel",
          "state": {
            "_model_module": "@jupyter-widgets/controls",
            "_model_module_version": "1.5.0",
            "_model_name": "DescriptionStyleModel",
            "_view_count": null,
            "_view_module": "@jupyter-widgets/base",
            "_view_module_version": "1.2.0",
            "_view_name": "StyleView",
            "description_width": ""
          }
        },
        "68859d8178804022a81a99a4c08409d0": {
          "model_module": "@jupyter-widgets/controls",
          "model_module_version": "1.5.0",
          "model_name": "ProgressStyleModel",
          "state": {
            "_model_module": "@jupyter-widgets/controls",
            "_model_module_version": "1.5.0",
            "_model_name": "ProgressStyleModel",
            "_view_count": null,
            "_view_module": "@jupyter-widgets/base",
            "_view_module_version": "1.2.0",
            "_view_name": "StyleView",
            "bar_color": null,
            "description_width": ""
          }
        },
        "735749fe96d74df28373a7cc0bf594c6": {
          "model_module": "@jupyter-widgets/controls",
          "model_module_version": "1.5.0",
          "model_name": "HTMLModel",
          "state": {
            "_dom_classes": [],
            "_model_module": "@jupyter-widgets/controls",
            "_model_module_version": "1.5.0",
            "_model_name": "HTMLModel",
            "_view_count": null,
            "_view_module": "@jupyter-widgets/controls",
            "_view_module_version": "1.5.0",
            "_view_name": "HTMLView",
            "description": "",
            "description_tooltip": null,
            "layout": "IPY_MODEL_45e20ec6faf44d0c8345b00a2eed3c81",
            "placeholder": "​",
            "style": "IPY_MODEL_8ca9ceaa0ba24f47a7d004f0f61e824b",
            "value": "Downloading: 100%"
          }
        },
        "7aaadb298017489999e56084917ad482": {
          "model_module": "@jupyter-widgets/base",
          "model_module_version": "1.2.0",
          "model_name": "LayoutModel",
          "state": {
            "_model_module": "@jupyter-widgets/base",
            "_model_module_version": "1.2.0",
            "_model_name": "LayoutModel",
            "_view_count": null,
            "_view_module": "@jupyter-widgets/base",
            "_view_module_version": "1.2.0",
            "_view_name": "LayoutView",
            "align_content": null,
            "align_items": null,
            "align_self": null,
            "border": null,
            "bottom": null,
            "display": null,
            "flex": null,
            "flex_flow": null,
            "grid_area": null,
            "grid_auto_columns": null,
            "grid_auto_flow": null,
            "grid_auto_rows": null,
            "grid_column": null,
            "grid_gap": null,
            "grid_row": null,
            "grid_template_areas": null,
            "grid_template_columns": null,
            "grid_template_rows": null,
            "height": null,
            "justify_content": null,
            "justify_items": null,
            "left": null,
            "margin": null,
            "max_height": null,
            "max_width": null,
            "min_height": null,
            "min_width": null,
            "object_fit": null,
            "object_position": null,
            "order": null,
            "overflow": null,
            "overflow_x": null,
            "overflow_y": null,
            "padding": null,
            "right": null,
            "top": null,
            "visibility": null,
            "width": null
          }
        },
        "846bf63feef346b6a2dacd8982ed2097": {
          "model_module": "@jupyter-widgets/controls",
          "model_module_version": "1.5.0",
          "model_name": "HBoxModel",
          "state": {
            "_dom_classes": [],
            "_model_module": "@jupyter-widgets/controls",
            "_model_module_version": "1.5.0",
            "_model_name": "HBoxModel",
            "_view_count": null,
            "_view_module": "@jupyter-widgets/controls",
            "_view_module_version": "1.5.0",
            "_view_name": "HBoxView",
            "box_style": "",
            "children": [
              "IPY_MODEL_5d383866ab524089896b311e92236daf",
              "IPY_MODEL_01e17961d9644cf487fe45eaada26ad2",
              "IPY_MODEL_445b5246a4e5451bbee76013c2dd3ad2"
            ],
            "layout": "IPY_MODEL_263c504df3ee4afbb78a3d23e0ee2951"
          }
        },
        "8ca9ceaa0ba24f47a7d004f0f61e824b": {
          "model_module": "@jupyter-widgets/controls",
          "model_module_version": "1.5.0",
          "model_name": "DescriptionStyleModel",
          "state": {
            "_model_module": "@jupyter-widgets/controls",
            "_model_module_version": "1.5.0",
            "_model_name": "DescriptionStyleModel",
            "_view_count": null,
            "_view_module": "@jupyter-widgets/base",
            "_view_module_version": "1.2.0",
            "_view_name": "StyleView",
            "description_width": ""
          }
        },
        "8dac9a148d6a4672954d04766901efcf": {
          "model_module": "@jupyter-widgets/controls",
          "model_module_version": "1.5.0",
          "model_name": "ProgressStyleModel",
          "state": {
            "_model_module": "@jupyter-widgets/controls",
            "_model_module_version": "1.5.0",
            "_model_name": "ProgressStyleModel",
            "_view_count": null,
            "_view_module": "@jupyter-widgets/base",
            "_view_module_version": "1.2.0",
            "_view_name": "StyleView",
            "bar_color": null,
            "description_width": ""
          }
        },
        "9cd81ba83db1492ca8198f3204cf8887": {
          "model_module": "@jupyter-widgets/base",
          "model_module_version": "1.2.0",
          "model_name": "LayoutModel",
          "state": {
            "_model_module": "@jupyter-widgets/base",
            "_model_module_version": "1.2.0",
            "_model_name": "LayoutModel",
            "_view_count": null,
            "_view_module": "@jupyter-widgets/base",
            "_view_module_version": "1.2.0",
            "_view_name": "LayoutView",
            "align_content": null,
            "align_items": null,
            "align_self": null,
            "border": null,
            "bottom": null,
            "display": null,
            "flex": null,
            "flex_flow": null,
            "grid_area": null,
            "grid_auto_columns": null,
            "grid_auto_flow": null,
            "grid_auto_rows": null,
            "grid_column": null,
            "grid_gap": null,
            "grid_row": null,
            "grid_template_areas": null,
            "grid_template_columns": null,
            "grid_template_rows": null,
            "height": null,
            "justify_content": null,
            "justify_items": null,
            "left": null,
            "margin": null,
            "max_height": null,
            "max_width": null,
            "min_height": null,
            "min_width": null,
            "object_fit": null,
            "object_position": null,
            "order": null,
            "overflow": null,
            "overflow_x": null,
            "overflow_y": null,
            "padding": null,
            "right": null,
            "top": null,
            "visibility": null,
            "width": null
          }
        },
        "ced6f914a8fa4adc8722f969eca51ffa": {
          "model_module": "@jupyter-widgets/base",
          "model_module_version": "1.2.0",
          "model_name": "LayoutModel",
          "state": {
            "_model_module": "@jupyter-widgets/base",
            "_model_module_version": "1.2.0",
            "_model_name": "LayoutModel",
            "_view_count": null,
            "_view_module": "@jupyter-widgets/base",
            "_view_module_version": "1.2.0",
            "_view_name": "LayoutView",
            "align_content": null,
            "align_items": null,
            "align_self": null,
            "border": null,
            "bottom": null,
            "display": null,
            "flex": null,
            "flex_flow": null,
            "grid_area": null,
            "grid_auto_columns": null,
            "grid_auto_flow": null,
            "grid_auto_rows": null,
            "grid_column": null,
            "grid_gap": null,
            "grid_row": null,
            "grid_template_areas": null,
            "grid_template_columns": null,
            "grid_template_rows": null,
            "height": null,
            "justify_content": null,
            "justify_items": null,
            "left": null,
            "margin": null,
            "max_height": null,
            "max_width": null,
            "min_height": null,
            "min_width": null,
            "object_fit": null,
            "object_position": null,
            "order": null,
            "overflow": null,
            "overflow_x": null,
            "overflow_y": null,
            "padding": null,
            "right": null,
            "top": null,
            "visibility": null,
            "width": null
          }
        },
        "d5208376857948caab258da1f110a764": {
          "model_module": "@jupyter-widgets/controls",
          "model_module_version": "1.5.0",
          "model_name": "HBoxModel",
          "state": {
            "_dom_classes": [],
            "_model_module": "@jupyter-widgets/controls",
            "_model_module_version": "1.5.0",
            "_model_name": "HBoxModel",
            "_view_count": null,
            "_view_module": "@jupyter-widgets/controls",
            "_view_module_version": "1.5.0",
            "_view_name": "HBoxView",
            "box_style": "",
            "children": [
              "IPY_MODEL_735749fe96d74df28373a7cc0bf594c6",
              "IPY_MODEL_0a40ff38c4c14811a2baec1a3e1faba8",
              "IPY_MODEL_1bca359eed9f45d1bead112c10731936"
            ],
            "layout": "IPY_MODEL_dc098fe6fc314296bcc0cda8cd0f2fa2"
          }
        },
        "d8a82209d649490f9b7c5698d2580f90": {
          "model_module": "@jupyter-widgets/base",
          "model_module_version": "1.2.0",
          "model_name": "LayoutModel",
          "state": {
            "_model_module": "@jupyter-widgets/base",
            "_model_module_version": "1.2.0",
            "_model_name": "LayoutModel",
            "_view_count": null,
            "_view_module": "@jupyter-widgets/base",
            "_view_module_version": "1.2.0",
            "_view_name": "LayoutView",
            "align_content": null,
            "align_items": null,
            "align_self": null,
            "border": null,
            "bottom": null,
            "display": null,
            "flex": null,
            "flex_flow": null,
            "grid_area": null,
            "grid_auto_columns": null,
            "grid_auto_flow": null,
            "grid_auto_rows": null,
            "grid_column": null,
            "grid_gap": null,
            "grid_row": null,
            "grid_template_areas": null,
            "grid_template_columns": null,
            "grid_template_rows": null,
            "height": null,
            "justify_content": null,
            "justify_items": null,
            "left": null,
            "margin": null,
            "max_height": null,
            "max_width": null,
            "min_height": null,
            "min_width": null,
            "object_fit": null,
            "object_position": null,
            "order": null,
            "overflow": null,
            "overflow_x": null,
            "overflow_y": null,
            "padding": null,
            "right": null,
            "top": null,
            "visibility": null,
            "width": null
          }
        },
        "dc098fe6fc314296bcc0cda8cd0f2fa2": {
          "model_module": "@jupyter-widgets/base",
          "model_module_version": "1.2.0",
          "model_name": "LayoutModel",
          "state": {
            "_model_module": "@jupyter-widgets/base",
            "_model_module_version": "1.2.0",
            "_model_name": "LayoutModel",
            "_view_count": null,
            "_view_module": "@jupyter-widgets/base",
            "_view_module_version": "1.2.0",
            "_view_name": "LayoutView",
            "align_content": null,
            "align_items": null,
            "align_self": null,
            "border": null,
            "bottom": null,
            "display": null,
            "flex": null,
            "flex_flow": null,
            "grid_area": null,
            "grid_auto_columns": null,
            "grid_auto_flow": null,
            "grid_auto_rows": null,
            "grid_column": null,
            "grid_gap": null,
            "grid_row": null,
            "grid_template_areas": null,
            "grid_template_columns": null,
            "grid_template_rows": null,
            "height": null,
            "justify_content": null,
            "justify_items": null,
            "left": null,
            "margin": null,
            "max_height": null,
            "max_width": null,
            "min_height": null,
            "min_width": null,
            "object_fit": null,
            "object_position": null,
            "order": null,
            "overflow": null,
            "overflow_x": null,
            "overflow_y": null,
            "padding": null,
            "right": null,
            "top": null,
            "visibility": null,
            "width": null
          }
        },
        "fa8aef4e50fe4ceca62c1a0faf5ab8da": {
          "model_module": "@jupyter-widgets/base",
          "model_module_version": "1.2.0",
          "model_name": "LayoutModel",
          "state": {
            "_model_module": "@jupyter-widgets/base",
            "_model_module_version": "1.2.0",
            "_model_name": "LayoutModel",
            "_view_count": null,
            "_view_module": "@jupyter-widgets/base",
            "_view_module_version": "1.2.0",
            "_view_name": "LayoutView",
            "align_content": null,
            "align_items": null,
            "align_self": null,
            "border": null,
            "bottom": null,
            "display": null,
            "flex": null,
            "flex_flow": null,
            "grid_area": null,
            "grid_auto_columns": null,
            "grid_auto_flow": null,
            "grid_auto_rows": null,
            "grid_column": null,
            "grid_gap": null,
            "grid_row": null,
            "grid_template_areas": null,
            "grid_template_columns": null,
            "grid_template_rows": null,
            "height": null,
            "justify_content": null,
            "justify_items": null,
            "left": null,
            "margin": null,
            "max_height": null,
            "max_width": null,
            "min_height": null,
            "min_width": null,
            "object_fit": null,
            "object_position": null,
            "order": null,
            "overflow": null,
            "overflow_x": null,
            "overflow_y": null,
            "padding": null,
            "right": null,
            "top": null,
            "visibility": null,
            "width": null
          }
        }
      }
    }
  },
  "nbformat": 4,
  "nbformat_minor": 0
}
